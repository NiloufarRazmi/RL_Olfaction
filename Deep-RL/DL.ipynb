{
 "cells": [
  {
   "cell_type": "markdown",
   "metadata": {},
   "source": [
    "# Deep Learning"
   ]
  },
  {
   "cell_type": "markdown",
   "metadata": {},
   "source": [
    "1. inputs need to reflect position in arena and odor (NOT CONJUNCTIONS)\n",
    "2. outputs need to reflect action values\n",
    "3. actions are selected via softmax on output neuron activity. \n",
    "4. RPE requires knowing value of new state\n",
    "   -- so this will require a forward pass using \"new state\" inputs."
   ]
  },
  {
   "cell_type": "code",
   "execution_count": 1,
   "metadata": {},
   "outputs": [],
   "source": [
    "# Import packages\n",
    "import numpy as np\n",
    "# %matplotlib ipympl\n",
    "import matplotlib.pyplot as plt\n",
    "import matplotlib as mpl\n",
    "import seaborn as sns"
   ]
  },
  {
   "cell_type": "code",
   "execution_count": 2,
   "metadata": {},
   "outputs": [],
   "source": [
    "# Load custom functions\n",
    "from utils import Params\n",
    "from deep_learning import Network"
   ]
  },
  {
   "cell_type": "code",
   "execution_count": 3,
   "metadata": {},
   "outputs": [],
   "source": [
    "# Formatting & autoreload stuff\n",
    "%load_ext lab_black\n",
    "%load_ext autoreload\n",
    "%autoreload 2\n",
    "sns.set_theme(font_scale=1.5)\n",
    "mpl.rcParams[\"font.family\"] = [\"Fira Sans\", \"sans-serif\"]"
   ]
  },
  {
   "cell_type": "markdown",
   "metadata": {},
   "source": [
    "## Main options"
   ]
  },
  {
   "cell_type": "code",
   "execution_count": 4,
   "metadata": {},
   "outputs": [],
   "source": [
    "nTrain = 1000000\n",
    "nTest = 100"
   ]
  },
  {
   "cell_type": "code",
   "execution_count": 5,
   "metadata": {},
   "outputs": [
    {
     "data": {
      "text/plain": [
       "(1000100, 2)"
      ]
     },
     "execution_count": 5,
     "metadata": {},
     "output_type": "execute_result"
    }
   ],
   "source": [
    "nTot = nTrain + nTest\n",
    "# create two normal input channels\n",
    "X = np.random.multivariate_normal([0, 0], 10 * np.eye(2), size=nTot)\n",
    "# X = pd.read_csv(\"X.csv\", header=None).to_numpy()\n",
    "# Y is positive if X(1) & X(2) are positive, OR if X(1) and X(2) are negative.\n",
    "X.shape"
   ]
  },
  {
   "cell_type": "code",
   "execution_count": 6,
   "metadata": {},
   "outputs": [
    {
     "data": {
      "text/plain": [
       "array([0., 0., 1., ..., 0., 0., 1.])"
      ]
     },
     "execution_count": 6,
     "metadata": {},
     "output_type": "execute_result"
    }
   ],
   "source": [
    "Y = np.sign(X[:, 0] * X[:, 1]) / 2.0 + 0.5\n",
    "Y"
   ]
  },
  {
   "cell_type": "markdown",
   "metadata": {},
   "source": [
    "## Choose the task parameters"
   ]
  },
  {
   "cell_type": "code",
   "execution_count": 7,
   "metadata": {},
   "outputs": [
    {
     "data": {
      "text/plain": [
       "Params(seed=None, rng=None, n_runs=10, total_episodes=100, epsilon=0.1, gamma=0.8, alpha=0.05, jointRep=True, learning_rate=0.001, nLayers=5, nHiddenUnits=20, action_size=None, state_size=None)"
      ]
     },
     "execution_count": 7,
     "metadata": {},
     "output_type": "execute_result"
    }
   ],
   "source": [
    "# Choose the parameters for the task\n",
    "p = Params(learning_rate=0.001, nLayers=5, nHiddenUnits=20)\n",
    "p"
   ]
  },
  {
   "cell_type": "markdown",
   "metadata": {},
   "source": [
    "## Step 2: Build network"
   ]
  },
  {
   "cell_type": "code",
   "execution_count": 8,
   "metadata": {},
   "outputs": [],
   "source": [
    "nn = Network(\n",
    "    nInputUnits=X.shape[1],\n",
    "    nLayers=p.nLayers,\n",
    "    nOutputUnits=1,\n",
    "    nHiddenUnits=p.nHiddenUnits,\n",
    "    initVar=1,\n",
    ")"
   ]
  },
  {
   "cell_type": "markdown",
   "metadata": {},
   "source": [
    "## Step 3: Train network"
   ]
  },
  {
   "cell_type": "code",
   "execution_count": 9,
   "metadata": {},
   "outputs": [],
   "source": [
    "# allError = np.nan * np.ones(nTot)\n",
    "# catPredict = np.nan * np.ones(nTot)\n",
    "\n",
    "# for i in tqdm(range(nTrain)):\n",
    "#     activity = nn.forward_pass(nLayers=p.nLayers, X=X, i=i)\n",
    "\n",
    "#     # Take an action! softmax over actions or similar\n",
    "\n",
    "#     # incorporate your model of the task, to determine where agent actually goes.\n",
    "\n",
    "#     # Now you need to do another forward pass, to see how good the new\n",
    "#     # state is so that you can compute the RPE below.\n",
    "\n",
    "#     # your cost function will differ from the one below,\n",
    "#     # should look something like this:\n",
    "#     # C =  R - X(S)*W+ DISCOUNT*max(X(S')*W)\n",
    "\n",
    "#     delta = nn.backward_pass(nLayers=p.nLayers, Y=Y, activity=activity, i=i)\n",
    "\n",
    "#     # Update weight matrices according to gradients and activities:\n",
    "#     for j in range(len(nn.wtMatrix) - 1):\n",
    "#         # nn.wtMatrix[j] = (\n",
    "#         #     nn.wtMatrix[j]\n",
    "#         #     + p.learning_rate * np.expand_dims(activity[j], axis=1) * delta[j + 1].T\n",
    "#         # )\n",
    "#         nn.wtMatrix[j] = nn.gradient_descent(\n",
    "#             weight=nn.wtMatrix[j],\n",
    "#             learning_rate=p.learning_rate,\n",
    "#             activity=activity[j],\n",
    "#             delta=delta[j + 1],\n",
    "#         )\n",
    "\n",
    "#     # store error:\n",
    "#     allError[i] = delta[-1]\n",
    "#     catPredict[i] = activity[-1] > 0.5"
   ]
  },
  {
   "cell_type": "code",
   "execution_count": 10,
   "metadata": {},
   "outputs": [
    {
     "name": "stderr",
     "output_type": "stream",
     "text": [
      "100%|████████████████████████████████████████████████████| 1000100/1000100 [01:23<00:00, 11949.30it/s]\n"
     ]
    }
   ],
   "source": [
    "allError, catPredict, delta, activity = nn.backprop(\n",
    "    n_obs=nTot, X=X, Y=Y, nLayers=p.nLayers, learning_rate=p.learning_rate\n",
    ")"
   ]
  },
  {
   "cell_type": "code",
   "execution_count": 11,
   "metadata": {},
   "outputs": [
    {
     "data": {
      "text/plain": [
       "[array([1.96352652, 0.29437882]),\n",
       " array([0.98586005, 0.9067379 , 0.25188045, 0.0070341 , 0.26743203,\n",
       "        0.39332893, 0.9576086 , 0.04547358, 0.30539012, 0.03481418,\n",
       "        0.97985387, 0.0520981 , 0.03942426, 0.34440159, 0.07643211,\n",
       "        0.42985639, 0.56977835, 0.27583289, 0.66047652, 0.29221554]),\n",
       " array([0.00809471, 0.05401334, 0.09499068, 0.42434489, 0.92057968,\n",
       "        0.64081342, 0.99139451, 0.63474287, 0.74972681, 0.98371267,\n",
       "        0.80680772, 0.74402149, 0.0068374 , 0.51066543, 0.32609186,\n",
       "        0.01765703, 0.33087925, 0.32088465, 0.16050387, 0.03819994]),\n",
       " array([0.4666274 , 0.1903131 , 0.4623333 , 0.69221983, 0.3974326 ,\n",
       "        0.43758597, 0.0510417 , 0.01617717, 0.76238756, 0.22652226,\n",
       "        0.96633523, 0.63180524, 0.97981264, 0.62926428, 0.00741507,\n",
       "        0.98774727, 0.98340586, 0.01400394, 0.25909005, 0.94276745]),\n",
       " array([0.90532807])]"
      ]
     },
     "execution_count": 11,
     "metadata": {},
     "output_type": "execute_result"
    }
   ],
   "source": [
    "activity"
   ]
  },
  {
   "cell_type": "code",
   "execution_count": 12,
   "metadata": {},
   "outputs": [
    {
     "data": {
      "text/plain": [
       "[array([-0.01027679,  0.0239133 ]),\n",
       " array([ 2.66180660e-04,  1.13056049e-03, -1.68012744e-03, -1.33556565e-04,\n",
       "        -2.10036410e-03, -1.01309148e-02,  6.24384262e-05, -1.33821304e-04,\n",
       "        -8.13583696e-03, -1.07260278e-03,  2.54600441e-04, -7.20169048e-04,\n",
       "         1.07484590e-04, -3.51023290e-03, -1.29601301e-04,  6.69630444e-03,\n",
       "         2.85018445e-03, -8.37613703e-03,  3.49429963e-03, -7.19964951e-03]),\n",
       " array([-1.76205501e-04, -3.00406263e-04,  6.23606433e-06, -5.39550149e-03,\n",
       "        -1.43015116e-04, -5.97109888e-03,  1.37666927e-04, -7.49500201e-03,\n",
       "         7.38607909e-03,  1.79250452e-04, -1.53028909e-03,  7.04003546e-04,\n",
       "         1.55351107e-04,  6.10244975e-03,  5.67086844e-03,  3.28750804e-04,\n",
       "         2.24135135e-03, -9.71844881e-03, -3.71599548e-03, -4.88749099e-04]),\n",
       " array([ 0.00125394, -0.00373791, -0.00464881,  0.00523609,  0.00430071,\n",
       "         0.00174919,  0.00101011, -0.00021213,  0.00466022,  0.004819  ,\n",
       "         0.00011374, -0.0035983 ,  0.0004953 ,  0.00518164,  0.00024114,\n",
       "        -0.00047843,  0.00018417, -0.00037007, -0.00078684, -0.00012513]),\n",
       " array([0.01941131])]"
      ]
     },
     "execution_count": 12,
     "metadata": {},
     "output_type": "execute_result"
    }
   ],
   "source": [
    "delta"
   ]
  },
  {
   "cell_type": "code",
   "execution_count": 13,
   "metadata": {},
   "outputs": [
    {
     "data": {
      "text/plain": [
       "array([-0.18663053, -0.18940317,  0.00916099, ..., -0.01297034,\n",
       "       -0.02177161,  0.01941131])"
      ]
     },
     "execution_count": 13,
     "metadata": {},
     "output_type": "execute_result"
    }
   ],
   "source": [
    "allError"
   ]
  },
  {
   "cell_type": "code",
   "execution_count": 14,
   "metadata": {},
   "outputs": [
    {
     "data": {
      "text/plain": [
       "array([1., 1., 1., ..., 0., 0., 1.])"
      ]
     },
     "execution_count": 14,
     "metadata": {},
     "output_type": "execute_result"
    }
   ],
   "source": [
    "catPredict"
   ]
  },
  {
   "cell_type": "code",
   "execution_count": 15,
   "metadata": {},
   "outputs": [
    {
     "data": {
      "text/plain": [
       "array([0.10808095, 0.10780634, 0.10236666, 0.0969851 , 0.0911049 ,\n",
       "       0.0864809 , 0.08213325, 0.0788934 , 0.07444194, 0.07134721,\n",
       "       0.0684492 , 0.06554671, 0.06299178, 0.06126929, 0.05878136,\n",
       "       0.05691521, 0.05510024, 0.05382535, 0.05226907, 0.05090264,\n",
       "       0.04920551, 0.04790722, 0.04767232, 0.04581379, 0.04501476,\n",
       "       0.04427706, 0.04309475, 0.04253703, 0.0419114 , 0.04066577,\n",
       "       0.04006327, 0.03962305, 0.03830622, 0.0383358 , 0.03761344,\n",
       "       0.03689357, 0.03658752, 0.0358064 , 0.03549238, 0.0346475 ,\n",
       "       0.03491705, 0.03438318, 0.03356782, 0.03342108, 0.03300241,\n",
       "       0.03224206, 0.0318278 , 0.0319185 , 0.03156442, 0.03064472,\n",
       "       0.03053591, 0.03014916, 0.03010052, 0.02968947, 0.03023165,\n",
       "       0.02940332, 0.02857088, 0.02847443, 0.02796718, 0.02765724,\n",
       "       0.02737655, 0.02713469, 0.02702504, 0.02676568, 0.02672965,\n",
       "       0.02635397, 0.02650125, 0.02553463, 0.02559678, 0.02606115,\n",
       "       0.02527736, 0.02524538, 0.02453763, 0.02490242, 0.02474186,\n",
       "       0.02438406, 0.023894  , 0.02387052, 0.02348138, 0.02386581,\n",
       "       0.02323951, 0.02333464, 0.02293147, 0.02345293, 0.02294778,\n",
       "       0.0228298 , 0.02222026, 0.02234487, 0.02204032, 0.02177735,\n",
       "       0.0216651 , 0.02130316, 0.02165089, 0.02171175, 0.02144787,\n",
       "       0.02086028, 0.02085671, 0.02093303, 0.02033056,        nan])"
      ]
     },
     "execution_count": 15,
     "metadata": {},
     "output_type": "execute_result"
    }
   ],
   "source": [
    "Bins = np.round(np.linspace(0, len(allError), num=100)).astype(int)\n",
    "\n",
    "meanError = np.zeros_like(Bins) * np.nan\n",
    "for i in range(len(Bins) - 1):\n",
    "    meanError[i] = np.nanmean(abs(allError[Bins[i] : Bins[i + 1]]))\n",
    "meanError"
   ]
  },
  {
   "cell_type": "code",
   "execution_count": 16,
   "metadata": {},
   "outputs": [
    {
     "data": {
      "image/png": "[encoded data removed]",
      "text/plain": [
       "<Figure size 576x432 with 1 Axes>"
      ]
     },
     "metadata": {
      "needs_background": "light"
     },
     "output_type": "display_data"
    }
   ],
   "source": [
    "fig, ax = plt.subplots(figsize=(8, 6))\n",
    "chart = sns.lineplot(meanError, ax=ax)\n",
    "ax.set_ylabel(\"Error\")\n",
    "ax.set_xlabel(\"Batches\")\n",
    "plt.show()"
   ]
  },
  {
   "cell_type": "markdown",
   "metadata": {},
   "source": [
    "## Step 4: Test Network"
   ]
  },
  {
   "cell_type": "code",
   "execution_count": 17,
   "metadata": {},
   "outputs": [],
   "source": [
    "for i in range((nTrain + 1), nTot):\n",
    "    activity = nn.forward_pass(nLayers=p.nLayers, X=X, i=i)\n",
    "\n",
    "    # store error\n",
    "    allError[i] = delta[-1]\n",
    "    catPredict[i] = activity[-1] > 0.5\n",
    "\n",
    "isTest = np.zeros(nTot, dtype=bool)\n",
    "isTest[nTrain + 1 :] = True"
   ]
  },
  {
   "cell_type": "code",
   "execution_count": 18,
   "metadata": {},
   "outputs": [
    {
     "data": {
      "text/plain": [
       "[array([1.96352652, 0.29437882]),\n",
       " array([0.98586007, 0.90673828, 0.2518792 , 0.0070341 , 0.26743041,\n",
       "        0.3933194 , 0.95760861, 0.04547356, 0.30538332, 0.03481403,\n",
       "        0.97985389, 0.05209796, 0.03942427, 0.34439847, 0.07643208,\n",
       "        0.42986286, 0.56978111, 0.2758263 , 0.66047961, 0.29220967]),\n",
       " array([0.00809502, 0.05401426, 0.09499213, 0.4243296 , 0.92057869,\n",
       "        0.64080434, 0.9913943 , 0.63472544, 0.7497401 , 0.98371241,\n",
       "        0.80680712, 0.74401453, 0.00683734, 0.51067711, 0.32610448,\n",
       "        0.01765689, 0.33087878, 0.32086495, 0.16049213, 0.03820156]),\n",
       " array([0.46664812, 0.19028606, 0.46230865, 0.69225345, 0.39746282,\n",
       "        0.43760879, 0.05104211, 0.01617921, 0.76241261, 0.22653153,\n",
       "        0.96633544, 0.63178512, 0.97981169, 0.62928788, 0.00741525,\n",
       "        0.98774691, 0.98340503, 0.01400454, 0.25908171, 0.94276623]),\n",
       " array([0.90534784])]"
      ]
     },
     "execution_count": 18,
     "metadata": {},
     "output_type": "execute_result"
    }
   ],
   "source": [
    "activity"
   ]
  },
  {
   "cell_type": "code",
   "execution_count": 19,
   "metadata": {},
   "outputs": [
    {
     "data": {
      "text/plain": [
       "array([-0.18663053, -0.18940317,  0.00916099, ...,  0.01941131,\n",
       "        0.01941131,  0.01941131])"
      ]
     },
     "execution_count": 19,
     "metadata": {},
     "output_type": "execute_result"
    }
   ],
   "source": [
    "allError"
   ]
  },
  {
   "cell_type": "code",
   "execution_count": 20,
   "metadata": {},
   "outputs": [
    {
     "data": {
      "image/png": "[encoded data removed]",
      "text/plain": [
       "<Figure size 864x432 with 2 Axes>"
      ]
     },
     "metadata": {
      "needs_background": "light"
     },
     "output_type": "display_data"
    }
   ],
   "source": [
    "fig, ax = plt.subplots(1, 2, figsize=(12, 6))\n",
    "ax[0].set_title(\"Ground Truth\")\n",
    "sns.scatterplot(\n",
    "    x=X[(Y == 1) & isTest, 0],\n",
    "    y=X[(Y == 1) & isTest, 1],\n",
    "    s=200,\n",
    "    ax=ax[0],\n",
    ")\n",
    "sns.scatterplot(\n",
    "    x=X[(Y == 0) & isTest, 0],\n",
    "    y=X[(Y == 0) & isTest, 1],\n",
    "    s=200,\n",
    "    ax=ax[0],\n",
    ")\n",
    "ax[0].set_xlabel(\"Feature 1\")\n",
    "ax[0].set_ylabel(\"Feature 2\")\n",
    "\n",
    "\n",
    "ax[1].set_title(\"Model Classification\")\n",
    "sns.scatterplot(\n",
    "    x=X[(catPredict == 1) & isTest, 0],\n",
    "    y=X[(catPredict == 1) & isTest, 1],\n",
    "    s=200,\n",
    "    ax=ax[1],\n",
    ")\n",
    "sns.scatterplot(\n",
    "    x=X[(catPredict == 0) & isTest, 0],\n",
    "    y=X[(catPredict == 0) & isTest, 1],\n",
    "    s=200,\n",
    "    ax=ax[1],\n",
    ")\n",
    "ax[1].set_xlabel(\"Feature 1\")\n",
    "ax[1].set_ylabel(\"Feature 2\")\n",
    "\n",
    "fig.tight_layout()\n",
    "plt.show()"
   ]
  },
  {
   "cell_type": "code",
   "execution_count": null,
   "metadata": {},
   "outputs": [],
   "source": []
  }
 ],
 "metadata": {
  "kernelspec": {
   "display_name": "Python 3 (ipykernel)",
   "language": "python",
   "name": "python3"
  },
  "language_info": {
   "codemirror_mode": {
    "name": "ipython",
    "version": 3
   },
   "file_extension": ".py",
   "mimetype": "text/x-python",
   "name": "python",
   "nbconvert_exporter": "python",
   "pygments_lexer": "ipython3",
   "version": "3.11.2"
  }
 },
 "nbformat": 4,
 "nbformat_minor": 4
}
