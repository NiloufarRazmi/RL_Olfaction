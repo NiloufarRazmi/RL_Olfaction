{
 "cells": [
  {
   "cell_type": "markdown",
   "metadata": {},
   "source": [
    "# Deep Learning"
   ]
  },
  {
   "cell_type": "markdown",
   "metadata": {},
   "source": [
    "1. inputs need to reflect position in arena and odor (NOT CONJUNCTIONS)\n",
    "2. outputs need to reflect action values\n",
    "3. actions are selected via softmax on output neuron activity. \n",
    "4. RPE requires knowing value of new state\n",
    "   -- so this will require a forward pass using \"new state\" inputs."
   ]
  },
  {
   "cell_type": "code",
   "execution_count": 66,
   "metadata": {},
   "outputs": [],
   "source": [
    "# Import packages\n",
    "import numpy as np\n",
    "\n",
    "# %matplotlib ipympl\n",
    "import matplotlib.pyplot as plt\n",
    "import matplotlib as mpl\n",
    "import seaborn as sns\n",
    "import pandas as pd"
   ]
  },
  {
   "cell_type": "code",
   "execution_count": 2,
   "metadata": {},
   "outputs": [],
   "source": [
    "# Load custom functions\n",
    "from utils import Params\n",
    "from deep_learning import Network"
   ]
  },
  {
   "cell_type": "code",
   "execution_count": 3,
   "metadata": {},
   "outputs": [],
   "source": [
    "# Formatting & autoreload stuff\n",
    "%load_ext lab_black\n",
    "%load_ext autoreload\n",
    "%autoreload 2\n",
    "sns.set_theme(font_scale=1.5)\n",
    "mpl.rcParams[\"font.family\"] = [\"Fira Sans\", \"sans-serif\"]"
   ]
  },
  {
   "cell_type": "markdown",
   "metadata": {},
   "source": [
    "## Main options"
   ]
  },
  {
   "cell_type": "code",
   "execution_count": 4,
   "metadata": {},
   "outputs": [],
   "source": [
    "nTrain = 1000000\n",
    "nTest = 100"
   ]
  },
  {
   "cell_type": "code",
   "execution_count": 5,
   "metadata": {},
   "outputs": [
    {
     "data": {
      "text/plain": [
       "(100100, 2)"
      ]
     },
     "execution_count": 5,
     "metadata": {},
     "output_type": "execute_result"
    }
   ],
   "source": [
    "nTot = nTrain + nTest\n",
    "# create two normal input channels\n",
    "X = np.random.multivariate_normal([0, 0], 10 * np.eye(2), size=nTot)\n",
    "# X = pd.read_csv(\"X.csv\", header=None).to_numpy()\n",
    "# y is positive if X(1) & X(2) are positive, OR if X(1) and X(2) are negative.\n",
    "X.shape"
   ]
  },
  {
   "cell_type": "code",
   "execution_count": 6,
   "metadata": {},
   "outputs": [
    {
     "data": {
      "text/plain": [
       "(100100,)"
      ]
     },
     "execution_count": 6,
     "metadata": {},
     "output_type": "execute_result"
    }
   ],
   "source": [
    "y = np.sign(X[:, 0] * X[:, 1]) / 2.0 + 0.5\n",
    "y.shape"
   ]
  },
  {
   "cell_type": "markdown",
   "metadata": {},
   "source": [
    "## Choose the task parameters"
   ]
  },
  {
   "cell_type": "code",
   "execution_count": 7,
   "metadata": {},
   "outputs": [
    {
     "data": {
      "text/plain": [
       "Params(seed=None, rng=None, n_runs=10, total_episodes=100, epsilon=0.1, gamma=0.8, alpha=0.05, jointRep=True, learning_rate=0.001, nLayers=6, nHiddenUnits=20, action_size=None, state_size=None)"
      ]
     },
     "execution_count": 7,
     "metadata": {},
     "output_type": "execute_result"
    }
   ],
   "source": [
    "# Choose the parameters for the task\n",
    "p = Params(learning_rate=0.001, nLayers=6, nHiddenUnits=20)\n",
    "p"
   ]
  },
  {
   "cell_type": "markdown",
   "metadata": {},
   "source": [
    "## Step 2: Build network"
   ]
  },
  {
   "cell_type": "code",
   "execution_count": 8,
   "metadata": {},
   "outputs": [],
   "source": [
    "net = Network(\n",
    "    nInputUnits=X.shape[1],\n",
    "    nLayers=p.nLayers,\n",
    "    nOutputUnits=1,\n",
    "    nHiddenUnits=p.nHiddenUnits,\n",
    "    initVar=1,\n",
    ")"
   ]
  },
  {
   "cell_type": "code",
   "execution_count": 9,
   "metadata": {
    "tags": []
   },
   "outputs": [
    {
     "data": {
      "text/plain": [
       "[(2, 20), (20, 20), (20, 20), (20, 20), (20, 1)]"
      ]
     },
     "execution_count": 9,
     "metadata": {},
     "output_type": "execute_result"
    }
   ],
   "source": [
    "# Weights matrices shapes\n",
    "[layer.shape for layer in net.wtMatrix]"
   ]
  },
  {
   "cell_type": "markdown",
   "metadata": {},
   "source": [
    "## Step 3: Train network"
   ]
  },
  {
   "cell_type": "code",
   "execution_count": 10,
   "metadata": {},
   "outputs": [],
   "source": [
    "# allError = np.nan * np.ones(nTot)\n",
    "# y_hat = np.nan * np.ones(nTot)\n",
    "\n",
    "# for i in tqdm(range(nTrain)):\n",
    "#     activity = net.forward_pass(nLayers=p.nLayers, X=X, obs=i)\n",
    "\n",
    "#     # Take an action! softmax over actions or similar\n",
    "\n",
    "#     # incorporate your model of the task, to determine where agent actually goes.\n",
    "\n",
    "#     # Now you need to do another forward pass, to see how good the new\n",
    "#     # state is so that you can compute the RPE below.\n",
    "\n",
    "#     # your cost function will differ from the one below,\n",
    "#     # should look something like this:\n",
    "#     # C =  R - X(S)*W+ DISCOUNT*max(X(S')*W)\n",
    "\n",
    "#     delta = net.backward_pass(nLayers=p.nLayers, y=y, activity=activity, obs=i)\n",
    "\n",
    "#     # Update weight matrices according to gradients and activities:\n",
    "#     for j in range(len(net.wtMatrix) - 1):\n",
    "#         # net.wtMatrix[j] = (\n",
    "#         #     net.wtMatrix[j]\n",
    "#         #     + p.learning_rate * np.expand_dims(activity[j], axis=1) * delta[j + 1].T\n",
    "#         # )\n",
    "#         net.wtMatrix[j] = net.gradient_descent(\n",
    "#             weight=net.wtMatrix[j],\n",
    "#             learning_rate=p.learning_rate,\n",
    "#             activity=activity[j],\n",
    "#             delta=delta[j + 1],\n",
    "#         )\n",
    "\n",
    "#     # store error:\n",
    "#     allError[i] = delta[-1]\n",
    "#     y_hat[i] = activity[-1] > 0.5"
   ]
  },
  {
   "cell_type": "code",
   "execution_count": 11,
   "metadata": {},
   "outputs": [],
   "source": [
    "allError, y_hat, delta, activity = net.backprop(\n",
    "    X=X, y=y, nLayers=p.nLayers, learning_rate=p.learning_rate\n",
    ")"
   ]
  },
  {
   "cell_type": "code",
   "execution_count": 12,
   "metadata": {},
   "outputs": [
    {
     "data": {
      "text/plain": [
       "array([False, False, False, ...,  True, False,  True])"
      ]
     },
     "execution_count": 12,
     "metadata": {},
     "output_type": "execute_result"
    }
   ],
   "source": [
    "y_hat = y_hat > 0.5\n",
    "y_hat"
   ]
  },
  {
   "cell_type": "code",
   "execution_count": 13,
   "metadata": {},
   "outputs": [
    {
     "data": {
      "text/plain": [
       "[array([ 5.50118503, -0.14253241]),\n",
       " array([6.57978668e-04, 1.59443639e-01, 3.86816931e-02, 9.34388460e-01,\n",
       "        4.72130778e-01, 2.35254726e-01, 4.58834739e-07, 9.99261957e-01,\n",
       "        4.58873946e-01, 7.73409648e-01, 2.12009594e-02, 9.60949836e-01,\n",
       "        2.24800269e-01, 1.09557210e-01, 2.87696521e-03, 2.43242793e-02,\n",
       "        1.02317134e-01, 7.49838228e-08, 9.55583858e-01, 9.99937496e-01]),\n",
       " array([0.04490859, 0.87747108, 0.22711569, 0.73967734, 0.9596833 ,\n",
       "        0.08524534, 0.34488945, 0.33701243, 0.14154752, 0.64460213,\n",
       "        0.94784106, 0.34092235, 0.98799635, 0.83774185, 0.91996204,\n",
       "        0.92603568, 0.99410309, 0.07567116, 0.91299727, 0.27350692]),\n",
       " array([0.39136971, 0.02827077, 0.59808251, 0.65497511, 0.02590991,\n",
       "        0.91034705, 0.27685983, 0.91136833, 0.17799569, 0.92770286,\n",
       "        0.41758717, 0.71279814, 0.78961421, 0.01005639, 0.10129178,\n",
       "        0.94659696, 0.01766059, 0.7783847 , 0.00561515, 0.06038902]),\n",
       " array([0.45071369, 0.89427339, 0.19575408, 0.71291152, 0.82700733,\n",
       "        0.00174749, 0.83859465, 0.21950554, 0.97210009, 0.81725822,\n",
       "        0.5055761 , 0.09687731, 0.50313413, 0.70846906, 0.99622294,\n",
       "        0.53058832, 0.07042993, 0.59139105, 0.57881951, 0.05455627]),\n",
       " array([0.54102084])]"
      ]
     },
     "execution_count": 13,
     "metadata": {},
     "output_type": "execute_result"
    }
   ],
   "source": [
    "activity"
   ]
  },
  {
   "cell_type": "code",
   "execution_count": 14,
   "metadata": {},
   "outputs": [
    {
     "data": {
      "text/plain": [
       "[array([-0.02905474,  0.00265981]),\n",
       " array([ 3.97583271e-06, -5.31140487e-03, -5.41863076e-05,  2.23878606e-03,\n",
       "        -1.83946852e-03, -1.30560187e-03, -6.28846277e-09,  1.22679789e-05,\n",
       "         5.59926064e-03, -1.06146829e-02, -5.03645339e-04, -3.10682093e-04,\n",
       "         3.17368604e-03, -3.26353347e-03, -1.88414018e-06, -2.36315417e-04,\n",
       "         4.22145553e-04, -7.64262250e-10,  7.10424382e-04, -7.84425348e-07]),\n",
       " array([ 1.16454443e-03, -2.83398395e-03, -4.04766770e-03, -2.04559662e-03,\n",
       "         1.08523003e-03, -4.44800797e-03, -1.52707353e-02, -1.05963882e-02,\n",
       "         5.86154299e-03,  6.13639722e-03, -5.02150198e-03,  1.19166197e-02,\n",
       "        -8.77001038e-04,  1.34652941e-03,  8.70169672e-03,  6.84115518e-04,\n",
       "         9.95781372e-05,  7.20467351e-03,  1.90856244e-03,  5.41382106e-03]),\n",
       " array([ 1.08706724e-02, -3.08271535e-04,  3.39583409e-02, -2.24172076e-03,\n",
       "        -1.14509467e-03, -9.38075926e-04,  1.29453025e-02, -7.16434929e-05,\n",
       "        -2.89270409e-02, -3.41309655e-03,  1.35589028e-02, -7.65664944e-03,\n",
       "        -4.79879471e-03, -1.02707194e-03, -8.07895787e-04, -1.05066773e-03,\n",
       "        -7.92635890e-05, -1.28250675e-02, -2.75008862e-04,  1.31751491e-03]),\n",
       " array([-0.0146406 , -0.02661697,  0.02653843,  0.02511678,  0.02012566,\n",
       "         0.00039169, -0.00874621, -0.01309823, -0.00164351, -0.00679922,\n",
       "         0.00789323,  0.00592193, -0.01439626, -0.01281725,  0.00014516,\n",
       "         0.02073896,  0.01474314,  0.02803155,  0.03088483, -0.00227289]),\n",
       " array([-0.12582134])]"
      ]
     },
     "execution_count": 14,
     "metadata": {},
     "output_type": "execute_result"
    }
   ],
   "source": [
    "delta"
   ]
  },
  {
   "cell_type": "code",
   "execution_count": 15,
   "metadata": {},
   "outputs": [
    {
     "data": {
      "text/plain": [
       "array([-0.06583009,  0.17733424, -0.0416492 , ...,  0.11439812,\n",
       "       -0.1063287 , -0.12582134])"
      ]
     },
     "execution_count": 15,
     "metadata": {},
     "output_type": "execute_result"
    }
   ],
   "source": [
    "allError"
   ]
  },
  {
   "cell_type": "code",
   "execution_count": 16,
   "metadata": {},
   "outputs": [
    {
     "data": {
      "text/plain": [
       "array([False, False, False, ...,  True, False,  True])"
      ]
     },
     "execution_count": 16,
     "metadata": {},
     "output_type": "execute_result"
    }
   ],
   "source": [
    "y_hat"
   ]
  },
  {
   "cell_type": "code",
   "execution_count": 17,
   "metadata": {},
   "outputs": [
    {
     "data": {
      "text/plain": [
       "array([0.12232517, 0.11901713, 0.11740998, 0.11742677, 0.11739367,\n",
       "       0.11659747, 0.11510995, 0.11545045, 0.11526753, 0.11423979,\n",
       "       0.11426303, 0.11342693, 0.11309967, 0.11292351, 0.11302217,\n",
       "       0.11236003, 0.11202353, 0.11147131, 0.11214573, 0.1110543 ,\n",
       "       0.11141511, 0.11081684, 0.1112093 , 0.11040939, 0.11028963,\n",
       "       0.11062975, 0.11031335, 0.10987898, 0.10958899, 0.10910854,\n",
       "       0.10902904, 0.10938977, 0.10954097, 0.10913566, 0.10811271,\n",
       "       0.1083031 , 0.10785406, 0.10774096, 0.10745622, 0.10737798,\n",
       "       0.1067707 , 0.10676224, 0.10633076, 0.1063721 , 0.10589164,\n",
       "       0.10593846, 0.10621606, 0.10548717, 0.10543477, 0.10545056,\n",
       "       0.10472134, 0.10491422, 0.10510945, 0.10457529, 0.10405716,\n",
       "       0.10369216, 0.10445041, 0.10397024, 0.10303828, 0.10234253,\n",
       "       0.10259841, 0.10295893, 0.10254023, 0.10280937, 0.10291167,\n",
       "       0.102558  , 0.10185044, 0.10170714, 0.10136313, 0.10092775,\n",
       "       0.1008518 , 0.10085318, 0.09985507, 0.10050941, 0.10034207,\n",
       "       0.0995822 , 0.09901327, 0.09936202, 0.09923816, 0.09864689,\n",
       "       0.09827928, 0.09911257, 0.09837578, 0.09776166, 0.09791044,\n",
       "       0.09687295, 0.09667009, 0.09676208, 0.09687815, 0.09660097,\n",
       "       0.09543281, 0.09517429, 0.09440671, 0.09519804, 0.09445319,\n",
       "       0.09435124, 0.09408374, 0.09415193, 0.09318822,        nan])"
      ]
     },
     "execution_count": 17,
     "metadata": {},
     "output_type": "execute_result"
    }
   ],
   "source": [
    "Bins = np.round(np.linspace(0, len(allError), num=100)).astype(int)\n",
    "\n",
    "meanError = np.zeros_like(Bins) * np.nan\n",
    "for i in range(len(Bins) - 1):\n",
    "    meanError[i] = np.nanmean(abs(allError[Bins[i] : Bins[i + 1]]))\n",
    "meanError"
   ]
  },
  {
   "cell_type": "code",
   "execution_count": 18,
   "metadata": {},
   "outputs": [
    {
     "data": {
      "image/png": "[encoded data removed]",
      "text/plain": [
       "<Figure size 576x432 with 1 Axes>"
      ]
     },
     "metadata": {
      "needs_background": "light"
     },
     "output_type": "display_data"
    }
   ],
   "source": [
    "fig, ax = plt.subplots(figsize=(8, 6))\n",
    "chart = sns.lineplot(meanError, ax=ax)\n",
    "ax.set_ylabel(\"Error\")\n",
    "ax.set_xlabel(\"Batches\")\n",
    "plt.show()"
   ]
  },
  {
   "cell_type": "code",
   "execution_count": 63,
   "metadata": {},
   "outputs": [],
   "source": [
    "weights_avg = np.nan * np.empty((1, len(net.wtMatrix)))\n",
    "weights_std = np.nan * np.empty((1, len(net.wtMatrix)))\n",
    "for w_id, w_val in enumerate(net.wtMatrix):\n",
    "    weights_avg[0, w_id] = w_val.mean()\n",
    "    weights_std[0, w_id] = w_val.std()\n",
    "weights_metrics_avg = pd.DataFrame(weights_avg)\n",
    "weights_metrics_std = pd.DataFrame(weights_std)"
   ]
  },
  {
   "cell_type": "code",
   "execution_count": 64,
   "metadata": {},
   "outputs": [
    {
     "data": {
      "text/html": [
       "<div>\n",
       "<style scoped>\n",
       "    .dataframe tbody tr th:only-of-type {\n",
       "        vertical-align: middle;\n",
       "    }\n",
       "\n",
       "    .dataframe tbody tr th {\n",
       "        vertical-align: top;\n",
       "    }\n",
       "\n",
       "    .dataframe thead th {\n",
       "        text-align: right;\n",
       "    }\n",
       "</style>\n",
       "<table border=\"1\" class=\"dataframe\">\n",
       "  <thead>\n",
       "    <tr style=\"text-align: right;\">\n",
       "      <th></th>\n",
       "      <th>0</th>\n",
       "      <th>1</th>\n",
       "      <th>2</th>\n",
       "      <th>3</th>\n",
       "      <th>4</th>\n",
       "    </tr>\n",
       "  </thead>\n",
       "  <tbody>\n",
       "    <tr>\n",
       "      <th>0</th>\n",
       "      <td>-0.177754</td>\n",
       "      <td>0.117523</td>\n",
       "      <td>-0.052383</td>\n",
       "      <td>-0.069865</td>\n",
       "      <td>0.187039</td>\n",
       "    </tr>\n",
       "  </tbody>\n",
       "</table>\n",
       "</div>"
      ],
      "text/plain": [
       "          0         1         2         3         4\n",
       "0 -0.177754  0.117523 -0.052383 -0.069865  0.187039"
      ]
     },
     "execution_count": 64,
     "metadata": {},
     "output_type": "execute_result"
    }
   ],
   "source": [
    "weights_metrics_avg"
   ]
  },
  {
   "cell_type": "code",
   "execution_count": 65,
   "metadata": {},
   "outputs": [
    {
     "data": {
      "text/html": [
       "<div>\n",
       "<style scoped>\n",
       "    .dataframe tbody tr th:only-of-type {\n",
       "        vertical-align: middle;\n",
       "    }\n",
       "\n",
       "    .dataframe tbody tr th {\n",
       "        vertical-align: top;\n",
       "    }\n",
       "\n",
       "    .dataframe thead th {\n",
       "        text-align: right;\n",
       "    }\n",
       "</style>\n",
       "<table border=\"1\" class=\"dataframe\">\n",
       "  <thead>\n",
       "    <tr style=\"text-align: right;\">\n",
       "      <th></th>\n",
       "      <th>0</th>\n",
       "      <th>1</th>\n",
       "      <th>2</th>\n",
       "      <th>3</th>\n",
       "      <th>4</th>\n",
       "    </tr>\n",
       "  </thead>\n",
       "  <tbody>\n",
       "    <tr>\n",
       "      <th>0</th>\n",
       "      <td>1.290328</td>\n",
       "      <td>1.049904</td>\n",
       "      <td>1.045384</td>\n",
       "      <td>1.037623</td>\n",
       "      <td>0.889373</td>\n",
       "    </tr>\n",
       "  </tbody>\n",
       "</table>\n",
       "</div>"
      ],
      "text/plain": [
       "          0         1         2         3         4\n",
       "0  1.290328  1.049904  1.045384  1.037623  0.889373"
      ]
     },
     "execution_count": 65,
     "metadata": {},
     "output_type": "execute_result"
    }
   ],
   "source": [
    "weights_metrics_std"
   ]
  },
  {
   "cell_type": "code",
   "execution_count": 67,
   "metadata": {},
   "outputs": [],
   "source": [
    "grads_avg = np.nan * np.empty((1, len(delta)))\n",
    "grads_std = np.nan * np.empty((1, len(delta)))\n",
    "for d_id, d_val in enumerate(delta):\n",
    "    grads_avg[0, d_id] = d_val.mean()\n",
    "    grads_std[0, d_id] = d_val.std()\n",
    "grads_metrics_avg = pd.DataFrame(grads_avg)\n",
    "grads_metrics_std = pd.DataFrame(grads_std)"
   ]
  },
  {
   "cell_type": "code",
   "execution_count": 68,
   "metadata": {},
   "outputs": [
    {
     "data": {
      "text/html": [
       "<div>\n",
       "<style scoped>\n",
       "    .dataframe tbody tr th:only-of-type {\n",
       "        vertical-align: middle;\n",
       "    }\n",
       "\n",
       "    .dataframe tbody tr th {\n",
       "        vertical-align: top;\n",
       "    }\n",
       "\n",
       "    .dataframe thead th {\n",
       "        text-align: right;\n",
       "    }\n",
       "</style>\n",
       "<table border=\"1\" class=\"dataframe\">\n",
       "  <thead>\n",
       "    <tr style=\"text-align: right;\">\n",
       "      <th></th>\n",
       "      <th>0</th>\n",
       "      <th>1</th>\n",
       "      <th>2</th>\n",
       "      <th>3</th>\n",
       "      <th>4</th>\n",
       "      <th>5</th>\n",
       "    </tr>\n",
       "  </thead>\n",
       "  <tbody>\n",
       "    <tr>\n",
       "      <th>0</th>\n",
       "      <td>0.039571</td>\n",
       "      <td>0.001234</td>\n",
       "      <td>0.000517</td>\n",
       "      <td>0.001661</td>\n",
       "      <td>0.002889</td>\n",
       "      <td>0.042018</td>\n",
       "    </tr>\n",
       "  </tbody>\n",
       "</table>\n",
       "</div>"
      ],
      "text/plain": [
       "          0         1         2         3         4         5\n",
       "0  0.039571  0.001234  0.000517  0.001661  0.002889  0.042018"
      ]
     },
     "execution_count": 68,
     "metadata": {},
     "output_type": "execute_result"
    }
   ],
   "source": [
    "grads_metrics_avg"
   ]
  },
  {
   "cell_type": "code",
   "execution_count": 69,
   "metadata": {},
   "outputs": [
    {
     "data": {
      "text/html": [
       "<div>\n",
       "<style scoped>\n",
       "    .dataframe tbody tr th:only-of-type {\n",
       "        vertical-align: middle;\n",
       "    }\n",
       "\n",
       "    .dataframe tbody tr th {\n",
       "        vertical-align: top;\n",
       "    }\n",
       "\n",
       "    .dataframe thead th {\n",
       "        text-align: right;\n",
       "    }\n",
       "</style>\n",
       "<table border=\"1\" class=\"dataframe\">\n",
       "  <thead>\n",
       "    <tr style=\"text-align: right;\">\n",
       "      <th></th>\n",
       "      <th>0</th>\n",
       "      <th>1</th>\n",
       "      <th>2</th>\n",
       "      <th>3</th>\n",
       "      <th>4</th>\n",
       "      <th>5</th>\n",
       "    </tr>\n",
       "  </thead>\n",
       "  <tbody>\n",
       "    <tr>\n",
       "      <th>0</th>\n",
       "      <td>0.025908</td>\n",
       "      <td>0.016294</td>\n",
       "      <td>0.011689</td>\n",
       "      <td>0.010419</td>\n",
       "      <td>0.004933</td>\n",
       "      <td>0.0</td>\n",
       "    </tr>\n",
       "  </tbody>\n",
       "</table>\n",
       "</div>"
      ],
      "text/plain": [
       "          0         1         2         3         4    5\n",
       "0  0.025908  0.016294  0.011689  0.010419  0.004933  0.0"
      ]
     },
     "execution_count": 69,
     "metadata": {},
     "output_type": "execute_result"
    }
   ],
   "source": [
    "grads_metrics_std"
   ]
  },
  {
   "cell_type": "markdown",
   "metadata": {},
   "source": [
    "## Step 4: Test Network"
   ]
  },
  {
   "cell_type": "code",
   "execution_count": 19,
   "metadata": {},
   "outputs": [],
   "source": [
    "for obs in range((nTrain + 1), nTot):\n",
    "    activity = net.forward_pass(x_obs=X[obs, :])\n",
    "\n",
    "    # store error\n",
    "    allError[obs] = delta[-1]\n",
    "    y_hat[obs] = activity[-1] > 0.5\n",
    "\n",
    "isTest = np.zeros(nTot, dtype=bool)\n",
    "isTest[nTrain + 1 :] = True"
   ]
  },
  {
   "cell_type": "code",
   "execution_count": 20,
   "metadata": {},
   "outputs": [
    {
     "data": {
      "text/plain": [
       "[array([ 5.50118503, -0.14253241]),\n",
       " array([6.57978747e-04, 1.59422083e-01, 3.86816321e-02, 9.34392617e-01,\n",
       "        4.72116894e-01, 2.35247612e-01, 4.58834739e-07, 9.99261957e-01,\n",
       "        4.58916051e-01, 7.73353310e-01, 2.12006429e-02, 9.60949483e-01,\n",
       "        2.24817018e-01, 1.09547569e-01, 2.87696505e-03, 2.43241095e-02,\n",
       "        1.02318309e-01, 7.49838228e-08, 9.55584772e-01, 9.99937496e-01]),\n",
       " array([0.04490658, 0.87747674, 0.22713693, 0.7396403 , 0.95968399,\n",
       "        0.08524011, 0.34483889, 0.33698056, 0.1415651 , 0.64460552,\n",
       "        0.94783729, 0.34097653, 0.98799518, 0.83773465, 0.91997402,\n",
       "        0.92604183, 0.99410333, 0.07567427, 0.91299224, 0.27350903]),\n",
       " array([0.39141562, 0.02827672, 0.59817419, 0.65495723, 0.02590713,\n",
       "        0.91034269, 0.27691873, 0.91136998, 0.17794358, 0.92770081,\n",
       "        0.41764672, 0.71278076, 0.78959694, 0.01005684, 0.10128856,\n",
       "        0.94659944, 0.0176592 , 0.77835451, 0.00561528, 0.06038858]),\n",
       " array([0.45070672, 0.8942674 , 0.19582227, 0.71297868, 0.82705919,\n",
       "        0.00174737, 0.83859435, 0.21948149, 0.97210457, 0.81722211,\n",
       "        0.50562747, 0.09687203, 0.50309149, 0.70848592, 0.99622413,\n",
       "        0.53069042, 0.0704384 , 0.59153042, 0.57891135, 0.05455346]),\n",
       " array([0.540876])]"
      ]
     },
     "execution_count": 20,
     "metadata": {},
     "output_type": "execute_result"
    }
   ],
   "source": [
    "activity"
   ]
  },
  {
   "cell_type": "code",
   "execution_count": 21,
   "metadata": {},
   "outputs": [
    {
     "data": {
      "text/plain": [
       "array([-0.06583009,  0.17733424, -0.0416492 , ..., -0.12582134,\n",
       "       -0.12582134, -0.12582134])"
      ]
     },
     "execution_count": 21,
     "metadata": {},
     "output_type": "execute_result"
    }
   ],
   "source": [
    "allError"
   ]
  },
  {
   "cell_type": "code",
   "execution_count": 22,
   "metadata": {},
   "outputs": [
    {
     "data": {
      "image/png": "[encoded data removed]",
      "text/plain": [
       "<Figure size 864x432 with 2 Axes>"
      ]
     },
     "metadata": {
      "needs_background": "light"
     },
     "output_type": "display_data"
    }
   ],
   "source": [
    "fig, ax = plt.subplots(1, 2, figsize=(12, 6))\n",
    "ax[0].set_title(\"Ground Truth\")\n",
    "sns.scatterplot(\n",
    "    x=X[(y == 1) & isTest, 0],\n",
    "    y=X[(y == 1) & isTest, 1],\n",
    "    s=200,\n",
    "    ax=ax[0],\n",
    ")\n",
    "sns.scatterplot(\n",
    "    x=X[(y == 0) & isTest, 0],\n",
    "    y=X[(y == 0) & isTest, 1],\n",
    "    s=200,\n",
    "    ax=ax[0],\n",
    ")\n",
    "ax[0].set_xlabel(\"Feature 1\")\n",
    "ax[0].set_ylabel(\"Feature 2\")\n",
    "\n",
    "\n",
    "ax[1].set_title(\"Model Classification\")\n",
    "sns.scatterplot(\n",
    "    x=X[(y_hat == 1) & isTest, 0],\n",
    "    y=X[(y_hat == 1) & isTest, 1],\n",
    "    s=200,\n",
    "    ax=ax[1],\n",
    ")\n",
    "sns.scatterplot(\n",
    "    x=X[(y_hat == 0) & isTest, 0],\n",
    "    y=X[(y_hat == 0) & isTest, 1],\n",
    "    s=200,\n",
    "    ax=ax[1],\n",
    ")\n",
    "ax[1].set_xlabel(\"Feature 1\")\n",
    "ax[1].set_ylabel(\"Feature 2\")\n",
    "\n",
    "fig.tight_layout()\n",
    "plt.show()"
   ]
  }
 ],
 "metadata": {
  "kernelspec": {
   "display_name": "Python 3 (ipykernel)",
   "language": "python",
   "name": "python3"
  },
  "language_info": {
   "codemirror_mode": {
    "name": "ipython",
    "version": 3
   },
   "file_extension": ".py",
   "mimetype": "text/x-python",
   "name": "python",
   "nbconvert_exporter": "python",
   "pygments_lexer": "ipython3",
   "version": "3.11.3"
  }
 },
 "nbformat": 4,
 "nbformat_minor": 4
}
