{
 "cells": [
  {
   "cell_type": "markdown",
   "metadata": {},
   "source": [
    "# Deep RL"
   ]
  },
  {
   "cell_type": "markdown",
   "metadata": {},
   "source": [
    "1. inputs need to reflect position in arena and odor (NOT CONJUNCTIONS)\n",
    "2. outputs need to reflect action values\n",
    "3. actions are selected via softmax on output neuron activity. \n",
    "4. RPE requires knowing value of new state\n",
    "   -- so this will require a forward pass using \"new state\" inputs."
   ]
  },
  {
   "cell_type": "markdown",
   "metadata": {
    "id": "54AIvDov_7aa"
   },
   "source": [
    "## Dependencies"
   ]
  },
  {
   "cell_type": "code",
   "execution_count": 1,
   "metadata": {
    "colab": {
     "base_uri": "https://localhost:8080/"
    },
    "id": "gxxpHDIs_lvg",
    "outputId": "412c65c1-7c24-4b9a-f5cf-8f98dd648fe4",
    "tags": []
   },
   "outputs": [],
   "source": [
    "import numpy as np\n",
    "# from numpy.random import default_rng\n",
    "from tqdm import tqdm\n",
    "import matplotlib.pyplot as plt\n",
    "import matplotlib as mpl\n",
    "import matplotlib.patches as mpatches\n",
    "import pandas as pd\n",
    "import seaborn as sns"
   ]
  },
  {
   "cell_type": "code",
   "execution_count": 2,
   "metadata": {
    "tags": []
   },
   "outputs": [],
   "source": [
    "from utils import Params\n",
    "from env.RandomWalk1D import RandomWalk1D, Actions\n",
    "from agent import DQN, EpsilonGreedy\n",
    "from deep_learning import Network"
   ]
  },
  {
   "cell_type": "code",
   "execution_count": 3,
   "metadata": {
    "colab": {
     "base_uri": "https://localhost:8080/"
    },
    "id": "gxxpHDIs_lvg",
    "outputId": "412c65c1-7c24-4b9a-f5cf-8f98dd648fe4",
    "tags": []
   },
   "outputs": [],
   "source": [
    "# Formatting & autoreload stuff\n",
    "%load_ext lab_black\n",
    "%load_ext autoreload\n",
    "%autoreload 2"
   ]
  },
  {
   "cell_type": "code",
   "execution_count": 4,
   "metadata": {
    "colab": {
     "base_uri": "https://localhost:8080/"
    },
    "id": "gxxpHDIs_lvg",
    "outputId": "412c65c1-7c24-4b9a-f5cf-8f98dd648fe4",
    "tags": []
   },
   "outputs": [],
   "source": [
    "sns.set_theme(font_scale=1.5)\n",
    "mpl.rcParams[\"font.family\"] = [\"Fira Sans\", \"sans-serif\"]"
   ]
  },
  {
   "cell_type": "markdown",
   "metadata": {},
   "source": [
    "## Parameters"
   ]
  },
  {
   "cell_type": "code",
   "execution_count": 5,
   "metadata": {
    "id": "NP28hCqLiVSy"
   },
   "outputs": [
    {
     "data": {
      "text/plain": [
       "Params(seed=42, rng=None, n_runs=3, total_episodes=200, epsilon=0.1, gamma=0.95, alpha=0.3, jointRep=True, learning_rate=0.001, nLayers=3, nHiddenUnits=5, action_size=None, state_size=None)"
      ]
     },
     "execution_count": 5,
     "metadata": {},
     "output_type": "execute_result"
    }
   ],
   "source": [
    "p = Params(\n",
    "    seed=42,\n",
    "    n_runs=3,\n",
    "    total_episodes=200,\n",
    "    epsilon=0.1,\n",
    "    alpha=0.3,\n",
    "    gamma=0.95,\n",
    "    learning_rate=0.001,\n",
    "    nLayers=3,\n",
    "    nHiddenUnits=5,\n",
    ")\n",
    "p"
   ]
  },
  {
   "cell_type": "code",
   "execution_count": 6,
   "metadata": {
    "id": "NP28hCqLiVSy"
   },
   "outputs": [],
   "source": [
    "# # Set the seed\n",
    "# p.rng = np.random.default_rng(p.seed)"
   ]
  },
  {
   "cell_type": "markdown",
   "metadata": {
    "id": "0fz-X3HTQueX"
   },
   "source": [
    "## The environment"
   ]
  },
  {
   "cell_type": "code",
   "execution_count": 7,
   "metadata": {
    "tags": []
   },
   "outputs": [],
   "source": [
    "env = RandomWalk1D()"
   ]
  },
  {
   "cell_type": "code",
   "execution_count": 8,
   "metadata": {
    "colab": {
     "base_uri": "https://localhost:8080/"
    },
    "id": "Uc0xDVd_Q-C8",
    "outputId": "927b86ea-5a41-401a-d81a-99dd183cea55"
   },
   "outputs": [
    {
     "name": "stdout",
     "output_type": "stream",
     "text": [
      "Action size: 2\n",
      "State size: 7\n"
     ]
    }
   ],
   "source": [
    "p.action_size = len(env.action_space)\n",
    "p.state_size = len(env.observation_space)\n",
    "print(f\"Action size: {p.action_size}\")\n",
    "print(f\"State size: {p.state_size}\")"
   ]
  },
  {
   "cell_type": "markdown",
   "metadata": {},
   "source": [
    "## Running the environment"
   ]
  },
  {
   "cell_type": "code",
   "execution_count": 9,
   "metadata": {
    "tags": []
   },
   "outputs": [],
   "source": [
    "net = Network(\n",
    "    nInputUnits=1,\n",
    "    nLayers=p.nLayers,\n",
    "    nOutputUnits=p.action_size,\n",
    "    nHiddenUnits=p.nHiddenUnits,\n",
    ")"
   ]
  },
  {
   "cell_type": "code",
   "execution_count": 10,
   "metadata": {
    "tags": []
   },
   "outputs": [
    {
     "data": {
      "text/plain": [
       "[(1, 5), (5, 2)]"
      ]
     },
     "execution_count": 10,
     "metadata": {},
     "output_type": "execute_result"
    }
   ],
   "source": [
    "[layer.shape for layer in net.wtMatrix]"
   ]
  },
  {
   "cell_type": "code",
   "execution_count": 11,
   "metadata": {
    "colab": {
     "base_uri": "https://localhost:8080/"
    },
    "id": "uyEdi0gGiV1z",
    "outputId": "b644224d-13ff-4806-d751-0088efc24f85"
   },
   "outputs": [],
   "source": [
    "learner = DQN(\n",
    "    learning_rate=p.alpha,\n",
    "    gamma=p.gamma,\n",
    "    state_size=p.state_size,\n",
    "    action_size=p.action_size,\n",
    ")"
   ]
  },
  {
   "cell_type": "code",
   "execution_count": 12,
   "metadata": {
    "colab": {
     "base_uri": "https://localhost:8080/"
    },
    "id": "uyEdi0gGiV1z",
    "outputId": "b644224d-13ff-4806-d751-0088efc24f85"
   },
   "outputs": [],
   "source": [
    "explorer = EpsilonGreedy(epsilon=p.epsilon, rng=p.rng)"
   ]
  },
  {
   "cell_type": "markdown",
   "metadata": {},
   "source": [
    "### Main loop"
   ]
  },
  {
   "cell_type": "code",
   "execution_count": 13,
   "metadata": {
    "colab": {
     "base_uri": "https://localhost:8080/"
    },
    "id": "uyEdi0gGiV1z",
    "outputId": "b644224d-13ff-4806-d751-0088efc24f85"
   },
   "outputs": [
    {
     "name": "stderr",
     "output_type": "stream",
     "text": [
      "                                                                                                     \r"
     ]
    }
   ],
   "source": [
    "rewards = np.zeros((p.total_episodes, p.n_runs))\n",
    "steps = np.zeros((p.total_episodes, p.n_runs))\n",
    "episodes = np.arange(p.total_episodes)\n",
    "all_states = []\n",
    "all_actions = []\n",
    "X = np.array([])\n",
    "y = np.array([])\n",
    "\n",
    "for run in range(p.n_runs):  # Run several times to account for stochasticity\n",
    "    learner.reset(\n",
    "        action_size=env.numActions\n",
    "    )  # Reset the Q-table and the weights between runs\n",
    "\n",
    "    for episode in tqdm(episodes, desc=f\"Run {run}/{p.n_runs} - Episodes\", leave=False):\n",
    "        state = env.reset()  # Reset the environment\n",
    "        step = 0\n",
    "        done = False\n",
    "        total_rewards = 0\n",
    "\n",
    "        while not done:\n",
    "            # Obtain Q-values from network\n",
    "            q_values = net.forward_pass(x_obs=[state])[-1]\n",
    "\n",
    "            action = explorer.choose_action(\n",
    "                action_space=env.action_space, state=state, q_values=q_values\n",
    "            )\n",
    "\n",
    "            # Take the action (a) and observe the outcome state(s') and reward (r)\n",
    "            new_state, reward, done = env.step(action)\n",
    "\n",
    "            # Obtain Q-value for selected action\n",
    "            q_value = q_values[action]\n",
    "\n",
    "            # Select next action with highest Q-value\n",
    "            if new_state == done:\n",
    "                new_q_value = 0  # No Q-value for terminal\n",
    "            else:\n",
    "                new_q_values = net.forward_pass(x_obs=[new_state])[\n",
    "                    -1\n",
    "                ]  # No gradient computation\n",
    "                # TODO: Take a random action in case of\n",
    "                new_action = np.argmax(new_q_values)\n",
    "                new_q_value = new_q_values[new_action]\n",
    "\n",
    "            # Compute observed Q-value\n",
    "            q_update = reward + (learner.gamma * new_q_value)\n",
    "\n",
    "            # # Compute loss value\n",
    "            # loss = (q_update-q_value)**2\n",
    "\n",
    "            # Update X and y for supervised learning\n",
    "            if X.size == 0:\n",
    "                X = np.array([state])[np.newaxis, :]\n",
    "            else:\n",
    "                X = np.append(X, np.array([state])[np.newaxis, :], axis=0)\n",
    "            if y.size == 0:\n",
    "                y = np.array([q_update])[np.newaxis, :]\n",
    "            else:\n",
    "                y = np.append(y, np.array([q_update])[np.newaxis, :])\n",
    "\n",
    "            # Compute gradients and apply gradients to update network weights\n",
    "            allError, y_hat, delta, activity = net.backprop(\n",
    "                X=X, y=y, nLayers=p.nLayers, learning_rate=p.learning_rate\n",
    "            )\n",
    "\n",
    "            # Log all states and actions\n",
    "            all_states.append(state)\n",
    "            all_actions.append(action)\n",
    "\n",
    "            total_rewards += reward\n",
    "            step += 1\n",
    "\n",
    "            # Update the state\n",
    "            state = new_state\n",
    "\n",
    "        # Log all rewards and steps\n",
    "        rewards[episode, run] = total_rewards\n",
    "        steps[episode, run] = step"
   ]
  },
  {
   "cell_type": "markdown",
   "metadata": {
    "colab": {
     "base_uri": "https://localhost:8080/"
    },
    "id": "uyEdi0gGiV1z",
    "outputId": "b644224d-13ff-4806-d751-0088efc24f85",
    "tags": []
   },
   "source": [
    "## Visualization"
   ]
  },
  {
   "cell_type": "code",
   "execution_count": 14,
   "metadata": {},
   "outputs": [],
   "source": [
    "def postprocess(episodes, p, rewards, steps):\n",
    "    \"\"\"Convert the results of the simulation in dataframes.\"\"\"\n",
    "    res = pd.DataFrame(\n",
    "        data={\n",
    "            \"Episodes\": np.tile(episodes, reps=p.n_runs),\n",
    "            \"Rewards\": rewards.flatten(order=\"F\"),\n",
    "            \"Steps\": steps.flatten(order=\"F\"),\n",
    "        }\n",
    "    )\n",
    "    # res[\"cum_rewards\"] = rewards.cumsum(axis=0).flatten(order=\"F\")\n",
    "    return res"
   ]
  },
  {
   "cell_type": "code",
   "execution_count": 15,
   "metadata": {
    "tags": []
   },
   "outputs": [
    {
     "data": {
      "text/html": [
       "<div>\n",
       "<style scoped>\n",
       "    .dataframe tbody tr th:only-of-type {\n",
       "        vertical-align: middle;\n",
       "    }\n",
       "\n",
       "    .dataframe tbody tr th {\n",
       "        vertical-align: top;\n",
       "    }\n",
       "\n",
       "    .dataframe thead th {\n",
       "        text-align: right;\n",
       "    }\n",
       "</style>\n",
       "<table border=\"1\" class=\"dataframe\">\n",
       "  <thead>\n",
       "    <tr style=\"text-align: right;\">\n",
       "      <th></th>\n",
       "      <th>Episodes</th>\n",
       "      <th>Rewards</th>\n",
       "      <th>Steps</th>\n",
       "    </tr>\n",
       "  </thead>\n",
       "  <tbody>\n",
       "    <tr>\n",
       "      <th>0</th>\n",
       "      <td>0</td>\n",
       "      <td>-1.0</td>\n",
       "      <td>5.0</td>\n",
       "    </tr>\n",
       "    <tr>\n",
       "      <th>1</th>\n",
       "      <td>1</td>\n",
       "      <td>-1.0</td>\n",
       "      <td>3.0</td>\n",
       "    </tr>\n",
       "    <tr>\n",
       "      <th>2</th>\n",
       "      <td>2</td>\n",
       "      <td>-1.0</td>\n",
       "      <td>3.0</td>\n",
       "    </tr>\n",
       "    <tr>\n",
       "      <th>3</th>\n",
       "      <td>3</td>\n",
       "      <td>-1.0</td>\n",
       "      <td>3.0</td>\n",
       "    </tr>\n",
       "    <tr>\n",
       "      <th>4</th>\n",
       "      <td>4</td>\n",
       "      <td>-1.0</td>\n",
       "      <td>3.0</td>\n",
       "    </tr>\n",
       "    <tr>\n",
       "      <th>...</th>\n",
       "      <td>...</td>\n",
       "      <td>...</td>\n",
       "      <td>...</td>\n",
       "    </tr>\n",
       "    <tr>\n",
       "      <th>595</th>\n",
       "      <td>195</td>\n",
       "      <td>1.0</td>\n",
       "      <td>5.0</td>\n",
       "    </tr>\n",
       "    <tr>\n",
       "      <th>596</th>\n",
       "      <td>196</td>\n",
       "      <td>1.0</td>\n",
       "      <td>5.0</td>\n",
       "    </tr>\n",
       "    <tr>\n",
       "      <th>597</th>\n",
       "      <td>197</td>\n",
       "      <td>1.0</td>\n",
       "      <td>3.0</td>\n",
       "    </tr>\n",
       "    <tr>\n",
       "      <th>598</th>\n",
       "      <td>198</td>\n",
       "      <td>1.0</td>\n",
       "      <td>3.0</td>\n",
       "    </tr>\n",
       "    <tr>\n",
       "      <th>599</th>\n",
       "      <td>199</td>\n",
       "      <td>1.0</td>\n",
       "      <td>3.0</td>\n",
       "    </tr>\n",
       "  </tbody>\n",
       "</table>\n",
       "<p>600 rows × 3 columns</p>\n",
       "</div>"
      ],
      "text/plain": [
       "     Episodes  Rewards  Steps\n",
       "0           0     -1.0    5.0\n",
       "1           1     -1.0    3.0\n",
       "2           2     -1.0    3.0\n",
       "3           3     -1.0    3.0\n",
       "4           4     -1.0    3.0\n",
       "..        ...      ...    ...\n",
       "595       195      1.0    5.0\n",
       "596       196      1.0    5.0\n",
       "597       197      1.0    3.0\n",
       "598       198      1.0    3.0\n",
       "599       199      1.0    3.0\n",
       "\n",
       "[600 rows x 3 columns]"
      ]
     },
     "execution_count": 15,
     "metadata": {},
     "output_type": "execute_result"
    }
   ],
   "source": [
    "res = postprocess(episodes, p, rewards, steps)\n",
    "res"
   ]
  },
  {
   "cell_type": "markdown",
   "metadata": {},
   "source": [
    "As a sanity check, we will plot the distributions of states and actions\n",
    "with the following function:"
   ]
  },
  {
   "cell_type": "code",
   "execution_count": 16,
   "metadata": {},
   "outputs": [],
   "source": [
    "def plot_states_actions_distribution(states, actions):\n",
    "    \"\"\"Plot the distributions of states and actions.\"\"\"\n",
    "    fig, ax = plt.subplots(nrows=1, ncols=2, figsize=(13, 5))\n",
    "    sns.histplot(data=states, ax=ax[0])\n",
    "    ax[0].set_title(\"States\")\n",
    "    sns.histplot(data=actions, ax=ax[1])\n",
    "    ax[1].set_xticks(\n",
    "        [item.value for item in Actions], labels=[item.name for item in Actions]\n",
    "    )\n",
    "    ax[1].set_title(\"Actions\")\n",
    "    fig.tight_layout()\n",
    "    plt.show()"
   ]
  },
  {
   "cell_type": "code",
   "execution_count": 17,
   "metadata": {
    "tags": []
   },
   "outputs": [
    {
     "data": {
      "image/png": "[encoded data removed]",
      "text/plain": [
       "<Figure size 936x360 with 2 Axes>"
      ]
     },
     "metadata": {
      "needs_background": "light"
     },
     "output_type": "display_data"
    }
   ],
   "source": [
    "plot_states_actions_distribution(all_states, all_actions)"
   ]
  },
  {
   "cell_type": "code",
   "execution_count": 18,
   "metadata": {
    "colab": {
     "base_uri": "https://localhost:8080/",
     "height": 317
    },
    "id": "pk8lHOjiL7fa",
    "outputId": "0474335e-bf29-4be1-d877-e6adc5a13afc"
   },
   "outputs": [],
   "source": [
    "def plot_steps_and_rewards(df):\n",
    "    \"\"\"Plot the steps and rewards from dataframes.\"\"\"\n",
    "    fig, ax = plt.subplots(nrows=1, ncols=2, figsize=(15, 5))\n",
    "    sns.lineplot(data=df, x=\"Episodes\", y=\"Rewards\", ax=ax[0])\n",
    "    ax[0].set(ylabel=f\"Rewards\\naveraged over {p.n_runs} runs\")\n",
    "\n",
    "    sns.lineplot(data=df, x=\"Episodes\", y=\"Steps\", ax=ax[1])\n",
    "    ax[1].set(ylabel=f\"Steps number\\naveraged over {p.n_runs} runs\")\n",
    "\n",
    "    fig.tight_layout()\n",
    "    plt.show()"
   ]
  },
  {
   "cell_type": "code",
   "execution_count": 19,
   "metadata": {
    "id": "Xj1z5ob10ltw"
   },
   "outputs": [
    {
     "data": {
      "image/png": "[encoded data removed]",
      "text/plain": [
       "<Figure size 1080x360 with 2 Axes>"
      ]
     },
     "metadata": {
      "needs_background": "light"
     },
     "output_type": "display_data"
    }
   ],
   "source": [
    "plot_steps_and_rewards(res)"
   ]
  },
  {
   "cell_type": "code",
   "execution_count": 20,
   "metadata": {
    "tags": []
   },
   "outputs": [
    {
     "data": {
      "text/plain": [
       "array([[0.94739868, 0.85995905],\n",
       "       [0.71634955, 0.75232282],\n",
       "       [0.73392602, 0.78428853],\n",
       "       [0.74760196, 0.80143415],\n",
       "       [0.75269414, 0.80828505],\n",
       "       [0.75445643, 0.81089788],\n",
       "       [0.75505506, 0.81188126]])"
      ]
     },
     "execution_count": 20,
     "metadata": {},
     "output_type": "execute_result"
    }
   ],
   "source": [
    "q_values = np.nan * np.empty((p.state_size, p.action_size))\n",
    "for state_i, state_v in enumerate(np.arange(p.state_size)):\n",
    "    q_values[state_i,] = net.forward_pass(x_obs=[state_v])[-1]\n",
    "q_values"
   ]
  },
  {
   "cell_type": "code",
   "execution_count": 21,
   "metadata": {},
   "outputs": [
    {
     "data": {
      "text/plain": [
       "array([[0.94739868, 0.85995905, 0.71634955, 0.75232282, 0.73392602,\n",
       "        0.78428853, 0.74760196, 0.80143415, 0.75269414, 0.80828505,\n",
       "        0.75445643, 0.81089788, 0.75505506, 0.81188126]])"
      ]
     },
     "execution_count": 21,
     "metadata": {},
     "output_type": "execute_result"
    }
   ],
   "source": [
    "q_values.flatten()[np.newaxis, :]"
   ]
  },
  {
   "cell_type": "code",
   "execution_count": 22,
   "metadata": {
    "tags": []
   },
   "outputs": [],
   "source": [
    "def plot_q_values(q_values):\n",
    "    fig, ax = plt.subplots(figsize=(15, 1.5))\n",
    "    cmap = sns.color_palette(\"vlag\", as_cmap=True)\n",
    "    chart = sns.heatmap(\n",
    "        q_values.flatten()[np.newaxis, :],\n",
    "        annot=True,\n",
    "        ax=ax,\n",
    "        cmap=cmap,\n",
    "        yticklabels=False,  # linewidth=0.5\n",
    "        center=0,\n",
    "    )\n",
    "    states_nodes = np.arange(1, 14, 2)\n",
    "    chart.set_xticks(states_nodes)\n",
    "    chart.set_xticklabels([str(item) for item in np.arange(0, 7, 1)])\n",
    "    chart.set_title(\"Q values\")\n",
    "    ax.tick_params(bottom=True)\n",
    "\n",
    "    # Add actions arrows\n",
    "    for node in states_nodes:\n",
    "        arrows_left = {\"x_tail\": node, \"y_tail\": 1.4, \"x_head\": node - 1, \"y_head\": 1.4}\n",
    "        arrow = mpatches.FancyArrowPatch(\n",
    "            (arrows_left[\"x_tail\"], arrows_left[\"y_tail\"]),\n",
    "            (arrows_left[\"x_head\"], arrows_left[\"y_head\"]),\n",
    "            mutation_scale=10,\n",
    "            clip_on=False,\n",
    "            color=\"k\",\n",
    "        )\n",
    "        ax.add_patch(arrow)\n",
    "        arrows_right = {\n",
    "            \"x_tail\": node,\n",
    "            \"y_tail\": 1.4,\n",
    "            \"x_head\": node + 1,\n",
    "            \"y_head\": 1.4,\n",
    "        }\n",
    "        arrow = mpatches.FancyArrowPatch(\n",
    "            (arrows_right[\"x_tail\"], arrows_right[\"y_tail\"]),\n",
    "            (arrows_right[\"x_head\"], arrows_right[\"y_head\"]),\n",
    "            mutation_scale=10,\n",
    "            clip_on=False,\n",
    "            color=\"k\",\n",
    "        )\n",
    "        ax.add_patch(arrow)\n",
    "\n",
    "        # Add rectangle to separate each state pair\n",
    "        rect = mpatches.Rectangle(\n",
    "            (node - 1, 0),\n",
    "            2,\n",
    "            1,\n",
    "            linewidth=2,\n",
    "            edgecolor=\"k\",\n",
    "            facecolor=\"none\",\n",
    "            clip_on=False,\n",
    "        )\n",
    "        ax.add_patch(rect)\n",
    "\n",
    "    plt.show()"
   ]
  },
  {
   "cell_type": "code",
   "execution_count": 23,
   "metadata": {
    "tags": []
   },
   "outputs": [
    {
     "data": {
      "image/png": "[encoded data removed]",
      "text/plain": [
       "<Figure size 1080x108 with 2 Axes>"
      ]
     },
     "metadata": {
      "needs_background": "light"
     },
     "output_type": "display_data"
    }
   ],
   "source": [
    "plot_q_values(q_values)"
   ]
  },
  {
   "cell_type": "code",
   "execution_count": null,
   "metadata": {},
   "outputs": [],
   "source": []
  }
 ],
 "metadata": {
  "accelerator": "GPU",
  "colab": {
   "provenance": []
  },
  "kernelspec": {
   "display_name": "Python 3 (ipykernel)",
   "language": "python",
   "name": "python3"
  },
  "language_info": {
   "codemirror_mode": {
    "name": "ipython",
    "version": 3
   },
   "file_extension": ".py",
   "mimetype": "text/x-python",
   "name": "python",
   "nbconvert_exporter": "python",
   "pygments_lexer": "ipython3",
   "version": "3.11.3"
  }
 },
 "nbformat": 4,
 "nbformat_minor": 4
}
