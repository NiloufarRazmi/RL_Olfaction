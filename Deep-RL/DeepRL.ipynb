{
 "cells": [
  {
   "cell_type": "markdown",
   "metadata": {},
   "source": [
    "# Deep RL"
   ]
  },
  {
   "cell_type": "markdown",
   "metadata": {},
   "source": [
    "1. inputs need to reflect position in arena and odor (NOT CONJUNCTIONS)\n",
    "2. outputs need to reflect action values\n",
    "3. actions are selected via softmax on output neuron activity. \n",
    "4. RPE requires knowing value of new state\n",
    "   -- so this will require a forward pass using \"new state\" inputs."
   ]
  },
  {
   "cell_type": "markdown",
   "metadata": {
    "id": "54AIvDov_7aa"
   },
   "source": [
    "## Dependencies"
   ]
  },
  {
   "cell_type": "code",
   "execution_count": 1,
   "metadata": {
    "colab": {
     "base_uri": "https://localhost:8080/"
    },
    "id": "gxxpHDIs_lvg",
    "outputId": "412c65c1-7c24-4b9a-f5cf-8f98dd648fe4",
    "tags": []
   },
   "outputs": [],
   "source": [
    "import numpy as np\n",
    "\n",
    "# from numpy.random import default_rng\n",
    "from tqdm import tqdm\n",
    "import matplotlib.pyplot as plt\n",
    "import matplotlib as mpl\n",
    "import matplotlib.patches as mpatches\n",
    "from matplotlib.offsetbox import AnnotationBbox, OffsetImage\n",
    "import pandas as pd\n",
    "import seaborn as sns\n",
    "from imojify import imojify"
   ]
  },
  {
   "cell_type": "code",
   "execution_count": 2,
   "metadata": {
    "tags": []
   },
   "outputs": [],
   "source": [
    "from utils import Params\n",
    "from env.RandomWalk1D import RandomWalk1D, Actions\n",
    "from agent import DQN, EpsilonGreedy\n",
    "from deep_learning import Network"
   ]
  },
  {
   "cell_type": "code",
   "execution_count": 3,
   "metadata": {
    "colab": {
     "base_uri": "https://localhost:8080/"
    },
    "id": "gxxpHDIs_lvg",
    "outputId": "412c65c1-7c24-4b9a-f5cf-8f98dd648fe4",
    "tags": []
   },
   "outputs": [],
   "source": [
    "# Formatting & autoreload stuff\n",
    "%load_ext lab_black\n",
    "%load_ext autoreload\n",
    "%autoreload 2\n",
    "# %matplotlib ipympl"
   ]
  },
  {
   "cell_type": "code",
   "execution_count": 4,
   "metadata": {
    "colab": {
     "base_uri": "https://localhost:8080/"
    },
    "id": "gxxpHDIs_lvg",
    "outputId": "412c65c1-7c24-4b9a-f5cf-8f98dd648fe4",
    "tags": []
   },
   "outputs": [],
   "source": [
    "sns.set_theme(font_scale=1.5)\n",
    "mpl.rcParams[\"font.family\"] = [\"Fira Sans\", \"sans-serif\"]"
   ]
  },
  {
   "cell_type": "markdown",
   "metadata": {},
   "source": [
    "## Parameters"
   ]
  },
  {
   "cell_type": "code",
   "execution_count": 5,
   "metadata": {
    "id": "NP28hCqLiVSy"
   },
   "outputs": [
    {
     "data": {
      "text/plain": [
       "Params(seed=42, rng=None, n_runs=1, total_episodes=1000, epsilon=0.1, gamma=0.95, alpha=0.3, jointRep=True, learning_rate=0.001, nLayers=3, nHiddenUnits=5, action_size=None, state_size=None)"
      ]
     },
     "execution_count": 5,
     "metadata": {},
     "output_type": "execute_result"
    }
   ],
   "source": [
    "p = Params(\n",
    "    seed=42,\n",
    "    n_runs=1,\n",
    "    total_episodes=1000,\n",
    "    epsilon=0.1,\n",
    "    alpha=0.3,\n",
    "    gamma=0.95,\n",
    "    learning_rate=0.001,\n",
    "    nLayers=3,\n",
    "    nHiddenUnits=5,\n",
    ")\n",
    "p"
   ]
  },
  {
   "cell_type": "code",
   "execution_count": 6,
   "metadata": {
    "id": "NP28hCqLiVSy"
   },
   "outputs": [],
   "source": [
    "# # Set the seed\n",
    "# p.rng = np.random.default_rng(p.seed)"
   ]
  },
  {
   "cell_type": "markdown",
   "metadata": {
    "id": "0fz-X3HTQueX"
   },
   "source": [
    "## The environment"
   ]
  },
  {
   "cell_type": "markdown",
   "metadata": {},
   "source": [
    "![The task](https://juliareinforcementlearning.org/docs/assets/RandomWalk1D.png)"
   ]
  },
  {
   "cell_type": "code",
   "execution_count": 7,
   "metadata": {
    "tags": []
   },
   "outputs": [],
   "source": [
    "env = RandomWalk1D()"
   ]
  },
  {
   "cell_type": "code",
   "execution_count": 8,
   "metadata": {
    "colab": {
     "base_uri": "https://localhost:8080/"
    },
    "id": "Uc0xDVd_Q-C8",
    "outputId": "927b86ea-5a41-401a-d81a-99dd183cea55"
   },
   "outputs": [
    {
     "name": "stdout",
     "output_type": "stream",
     "text": [
      "Action size: 2\n",
      "State size: 7\n"
     ]
    }
   ],
   "source": [
    "p.action_size = len(env.action_space)\n",
    "p.state_size = len(env.observation_space)\n",
    "print(f\"Action size: {p.action_size}\")\n",
    "print(f\"State size: {p.state_size}\")"
   ]
  },
  {
   "cell_type": "markdown",
   "metadata": {},
   "source": [
    "## Running the environment"
   ]
  },
  {
   "cell_type": "code",
   "execution_count": 9,
   "metadata": {
    "tags": []
   },
   "outputs": [],
   "source": [
    "net = Network(\n",
    "    nInputUnits=1,\n",
    "    nLayers=p.nLayers,\n",
    "    nOutputUnits=p.action_size,\n",
    "    nHiddenUnits=p.nHiddenUnits,\n",
    ")"
   ]
  },
  {
   "cell_type": "code",
   "execution_count": 10,
   "metadata": {
    "tags": []
   },
   "outputs": [
    {
     "data": {
      "text/plain": [
       "[(1, 5), (5, 2)]"
      ]
     },
     "execution_count": 10,
     "metadata": {},
     "output_type": "execute_result"
    }
   ],
   "source": [
    "[layer.shape for layer in net.wtMatrix]"
   ]
  },
  {
   "cell_type": "code",
   "execution_count": 11,
   "metadata": {
    "colab": {
     "base_uri": "https://localhost:8080/"
    },
    "id": "uyEdi0gGiV1z",
    "outputId": "b644224d-13ff-4806-d751-0088efc24f85"
   },
   "outputs": [],
   "source": [
    "learner = DQN(\n",
    "    learning_rate=p.alpha,\n",
    "    gamma=p.gamma,\n",
    "    state_size=p.state_size,\n",
    "    action_size=p.action_size,\n",
    ")"
   ]
  },
  {
   "cell_type": "code",
   "execution_count": 12,
   "metadata": {
    "colab": {
     "base_uri": "https://localhost:8080/"
    },
    "id": "uyEdi0gGiV1z",
    "outputId": "b644224d-13ff-4806-d751-0088efc24f85"
   },
   "outputs": [],
   "source": [
    "explorer = EpsilonGreedy(epsilon=p.epsilon, rng=p.rng)"
   ]
  },
  {
   "cell_type": "markdown",
   "metadata": {},
   "source": [
    "### Main loop"
   ]
  },
  {
   "cell_type": "code",
   "execution_count": 13,
   "metadata": {
    "colab": {
     "base_uri": "https://localhost:8080/"
    },
    "id": "uyEdi0gGiV1z",
    "outputId": "b644224d-13ff-4806-d751-0088efc24f85"
   },
   "outputs": [
    {
     "name": "stderr",
     "output_type": "stream",
     "text": [
      "                                                                                                      \r"
     ]
    }
   ],
   "source": [
    "rewards = np.zeros((p.total_episodes, p.n_runs))\n",
    "steps = np.zeros((p.total_episodes, p.n_runs))\n",
    "episodes = np.arange(p.total_episodes)\n",
    "all_states = []\n",
    "all_actions = []\n",
    "steps_global = 0\n",
    "X = np.array([])\n",
    "y = np.array([])\n",
    "\n",
    "for run in range(p.n_runs):  # Run several times to account for stochasticity\n",
    "    learner.reset(\n",
    "        action_size=env.numActions\n",
    "    )  # Reset the Q-table and the weights between runs\n",
    "    meanErrors = []\n",
    "    weights_metrics = pd.DataFrame()\n",
    "    grads_metrics = pd.DataFrame()\n",
    "\n",
    "    for episode in tqdm(\n",
    "        episodes, desc=f\"Run {run+1}/{p.n_runs} - Episodes\", leave=False\n",
    "    ):\n",
    "        state = env.reset()  # Reset the environment\n",
    "        step = 0\n",
    "        done = False\n",
    "        total_rewards = 0\n",
    "\n",
    "        while not done:\n",
    "            # Obtain Q-values from network\n",
    "            q_values = net.forward_pass(x_obs=[state])[-1]\n",
    "\n",
    "            action = explorer.choose_action(\n",
    "                action_space=env.action_space, state=state, q_values=q_values\n",
    "            )\n",
    "\n",
    "            # Take the action (a) and observe the outcome state(s') and reward (r)\n",
    "            new_state, reward, done = env.step(action)\n",
    "\n",
    "            # Obtain Q-value for selected action\n",
    "            q_value = q_values[action]\n",
    "\n",
    "            # Select next action with highest Q-value\n",
    "            if new_state == done:\n",
    "                new_q_value = 0  # No Q-value for terminal\n",
    "            else:\n",
    "                new_q_values = net.forward_pass(x_obs=[new_state])[\n",
    "                    -1\n",
    "                ]  # No gradient computation\n",
    "                # TODO: Take a random action in case of\n",
    "                new_action = np.argmax(new_q_values)\n",
    "                new_q_value = new_q_values[new_action]\n",
    "\n",
    "            # Compute observed Q-value\n",
    "            q_update = reward + (learner.gamma * new_q_value)\n",
    "\n",
    "            # # Compute loss value\n",
    "            # loss = (q_update-q_value)**2\n",
    "\n",
    "            # Update X and y for supervised learning\n",
    "            if X.size == 0:\n",
    "                X = np.array([state])[np.newaxis, :]\n",
    "            else:\n",
    "                X = np.append(X, np.array([state])[np.newaxis, :], axis=0)\n",
    "            if y.size == 0:\n",
    "                y = np.array([q_update])[np.newaxis, :]\n",
    "            else:\n",
    "                y = np.append(y, np.array([q_update])[np.newaxis, :])\n",
    "\n",
    "            # Compute gradients and apply gradients to update network weights\n",
    "            allError, y_hat, delta, activity = net.backprop(\n",
    "                X=X, y=y, nLayers=p.nLayers, learning_rate=p.learning_rate\n",
    "            )\n",
    "\n",
    "            # Logging\n",
    "            all_states.append(state)\n",
    "            all_actions.append(action)\n",
    "            meanErrors.append(np.nanmean(abs(allError)))\n",
    "\n",
    "            for w_id, w_val in enumerate(net.wtMatrix):\n",
    "                weights_metrics = pd.concat(\n",
    "                    [\n",
    "                        weights_metrics,\n",
    "                        pd.DataFrame(\n",
    "                            {\n",
    "                                \"avg\": w_val.mean(),\n",
    "                                \"std\": w_val.std(),\n",
    "                                \"id\": w_id,\n",
    "                                \"step\": step,\n",
    "                                \"steps_global\": steps_global,\n",
    "                            },\n",
    "                            index=[steps_global],\n",
    "                        ),\n",
    "                    ],\n",
    "                    ignore_index=True,\n",
    "                )\n",
    "\n",
    "            for d_id, d_val in enumerate(delta):\n",
    "                grads_metrics = pd.concat(\n",
    "                    [\n",
    "                        grads_metrics,\n",
    "                        pd.DataFrame(\n",
    "                            {\n",
    "                                \"avg\": d_val.mean(),\n",
    "                                \"std\": d_val.std(),\n",
    "                                \"id\": d_id,\n",
    "                                \"step\": step,\n",
    "                                \"steps_global\": steps_global,\n",
    "                            },\n",
    "                            index=[steps_global],\n",
    "                        ),\n",
    "                    ],\n",
    "                    ignore_index=True,\n",
    "                )\n",
    "\n",
    "            total_rewards += reward\n",
    "            step += 1\n",
    "            steps_global += 1\n",
    "\n",
    "            # Update the state\n",
    "            state = new_state\n",
    "\n",
    "        # Log all rewards and steps\n",
    "        rewards[episode, run] = total_rewards\n",
    "        steps[episode, run] = step\n",
    "# weights_metrics.set_index(\"steps_global\", inplace=True)\n",
    "# grads_metrics.set_index(\"steps_global\", inplace=True)\n",
    "# grads_metrics[\"avg_rolling\"] = grads_metrics.avg.rolling(10).mean()\n",
    "# grads_metrics[\"std_rolling\"] = grads_metrics[\"std\"].rolling(10).mean()"
   ]
  },
  {
   "cell_type": "code",
   "execution_count": 14,
   "metadata": {},
   "outputs": [
    {
     "data": {
      "text/html": [
       "<div>\n",
       "<style scoped>\n",
       "    .dataframe tbody tr th:only-of-type {\n",
       "        vertical-align: middle;\n",
       "    }\n",
       "\n",
       "    .dataframe tbody tr th {\n",
       "        vertical-align: top;\n",
       "    }\n",
       "\n",
       "    .dataframe thead th {\n",
       "        text-align: right;\n",
       "    }\n",
       "</style>\n",
       "<table border=\"1\" class=\"dataframe\">\n",
       "  <thead>\n",
       "    <tr style=\"text-align: right;\">\n",
       "      <th></th>\n",
       "      <th>avg</th>\n",
       "      <th>std</th>\n",
       "      <th>id</th>\n",
       "      <th>step</th>\n",
       "      <th>steps_global</th>\n",
       "    </tr>\n",
       "  </thead>\n",
       "  <tbody>\n",
       "    <tr>\n",
       "      <th>0</th>\n",
       "      <td>0.828229</td>\n",
       "      <td>1.073756</td>\n",
       "      <td>0</td>\n",
       "      <td>0</td>\n",
       "      <td>0</td>\n",
       "    </tr>\n",
       "    <tr>\n",
       "      <th>1</th>\n",
       "      <td>-0.261247</td>\n",
       "      <td>0.929755</td>\n",
       "      <td>1</td>\n",
       "      <td>0</td>\n",
       "      <td>0</td>\n",
       "    </tr>\n",
       "    <tr>\n",
       "      <th>2</th>\n",
       "      <td>0.828165</td>\n",
       "      <td>1.073792</td>\n",
       "      <td>0</td>\n",
       "      <td>1</td>\n",
       "      <td>1</td>\n",
       "    </tr>\n",
       "    <tr>\n",
       "      <th>3</th>\n",
       "      <td>-0.261247</td>\n",
       "      <td>0.929755</td>\n",
       "      <td>1</td>\n",
       "      <td>1</td>\n",
       "      <td>1</td>\n",
       "    </tr>\n",
       "    <tr>\n",
       "      <th>4</th>\n",
       "      <td>0.828113</td>\n",
       "      <td>1.073812</td>\n",
       "      <td>0</td>\n",
       "      <td>2</td>\n",
       "      <td>2</td>\n",
       "    </tr>\n",
       "    <tr>\n",
       "      <th>...</th>\n",
       "      <td>...</td>\n",
       "      <td>...</td>\n",
       "      <td>...</td>\n",
       "      <td>...</td>\n",
       "      <td>...</td>\n",
       "    </tr>\n",
       "    <tr>\n",
       "      <th>6499</th>\n",
       "      <td>-0.261247</td>\n",
       "      <td>0.929755</td>\n",
       "      <td>1</td>\n",
       "      <td>0</td>\n",
       "      <td>3249</td>\n",
       "    </tr>\n",
       "    <tr>\n",
       "      <th>6500</th>\n",
       "      <td>-0.959438</td>\n",
       "      <td>2.158380</td>\n",
       "      <td>0</td>\n",
       "      <td>1</td>\n",
       "      <td>3250</td>\n",
       "    </tr>\n",
       "    <tr>\n",
       "      <th>6501</th>\n",
       "      <td>-0.261247</td>\n",
       "      <td>0.929755</td>\n",
       "      <td>1</td>\n",
       "      <td>1</td>\n",
       "      <td>3250</td>\n",
       "    </tr>\n",
       "    <tr>\n",
       "      <th>6502</th>\n",
       "      <td>-0.959467</td>\n",
       "      <td>2.158558</td>\n",
       "      <td>0</td>\n",
       "      <td>2</td>\n",
       "      <td>3251</td>\n",
       "    </tr>\n",
       "    <tr>\n",
       "      <th>6503</th>\n",
       "      <td>-0.261247</td>\n",
       "      <td>0.929755</td>\n",
       "      <td>1</td>\n",
       "      <td>2</td>\n",
       "      <td>3251</td>\n",
       "    </tr>\n",
       "  </tbody>\n",
       "</table>\n",
       "<p>6504 rows × 5 columns</p>\n",
       "</div>"
      ],
      "text/plain": [
       "           avg       std  id  step  steps_global\n",
       "0     0.828229  1.073756   0     0             0\n",
       "1    -0.261247  0.929755   1     0             0\n",
       "2     0.828165  1.073792   0     1             1\n",
       "3    -0.261247  0.929755   1     1             1\n",
       "4     0.828113  1.073812   0     2             2\n",
       "...        ...       ...  ..   ...           ...\n",
       "6499 -0.261247  0.929755   1     0          3249\n",
       "6500 -0.959438  2.158380   0     1          3250\n",
       "6501 -0.261247  0.929755   1     1          3250\n",
       "6502 -0.959467  2.158558   0     2          3251\n",
       "6503 -0.261247  0.929755   1     2          3251\n",
       "\n",
       "[6504 rows x 5 columns]"
      ]
     },
     "execution_count": 14,
     "metadata": {},
     "output_type": "execute_result"
    }
   ],
   "source": [
    "weights_metrics"
   ]
  },
  {
   "cell_type": "code",
   "execution_count": 15,
   "metadata": {},
   "outputs": [
    {
     "data": {
      "text/html": [
       "<div>\n",
       "<style scoped>\n",
       "    .dataframe tbody tr th:only-of-type {\n",
       "        vertical-align: middle;\n",
       "    }\n",
       "\n",
       "    .dataframe tbody tr th {\n",
       "        vertical-align: top;\n",
       "    }\n",
       "\n",
       "    .dataframe thead th {\n",
       "        text-align: right;\n",
       "    }\n",
       "</style>\n",
       "<table border=\"1\" class=\"dataframe\">\n",
       "  <thead>\n",
       "    <tr style=\"text-align: right;\">\n",
       "      <th></th>\n",
       "      <th>avg</th>\n",
       "      <th>std</th>\n",
       "      <th>id</th>\n",
       "      <th>step</th>\n",
       "      <th>steps_global</th>\n",
       "    </tr>\n",
       "  </thead>\n",
       "  <tbody>\n",
       "    <tr>\n",
       "      <th>0</th>\n",
       "      <td>0.062836</td>\n",
       "      <td>0.000000</td>\n",
       "      <td>0</td>\n",
       "      <td>0</td>\n",
       "      <td>0</td>\n",
       "    </tr>\n",
       "    <tr>\n",
       "      <th>1</th>\n",
       "      <td>-0.012332</td>\n",
       "      <td>0.014946</td>\n",
       "      <td>1</td>\n",
       "      <td>0</td>\n",
       "      <td>0</td>\n",
       "    </tr>\n",
       "    <tr>\n",
       "      <th>2</th>\n",
       "      <td>0.083097</td>\n",
       "      <td>0.095201</td>\n",
       "      <td>2</td>\n",
       "      <td>0</td>\n",
       "      <td>0</td>\n",
       "    </tr>\n",
       "    <tr>\n",
       "      <th>3</th>\n",
       "      <td>0.035987</td>\n",
       "      <td>0.000000</td>\n",
       "      <td>0</td>\n",
       "      <td>1</td>\n",
       "      <td>1</td>\n",
       "    </tr>\n",
       "    <tr>\n",
       "      <th>4</th>\n",
       "      <td>-0.013222</td>\n",
       "      <td>0.013989</td>\n",
       "      <td>1</td>\n",
       "      <td>1</td>\n",
       "      <td>1</td>\n",
       "    </tr>\n",
       "    <tr>\n",
       "      <th>...</th>\n",
       "      <td>...</td>\n",
       "      <td>...</td>\n",
       "      <td>...</td>\n",
       "      <td>...</td>\n",
       "      <td>...</td>\n",
       "    </tr>\n",
       "    <tr>\n",
       "      <th>9751</th>\n",
       "      <td>0.000037</td>\n",
       "      <td>0.000091</td>\n",
       "      <td>1</td>\n",
       "      <td>1</td>\n",
       "      <td>3250</td>\n",
       "    </tr>\n",
       "    <tr>\n",
       "      <th>9752</th>\n",
       "      <td>0.000758</td>\n",
       "      <td>0.005172</td>\n",
       "      <td>2</td>\n",
       "      <td>1</td>\n",
       "      <td>3250</td>\n",
       "    </tr>\n",
       "    <tr>\n",
       "      <th>9753</th>\n",
       "      <td>-0.071758</td>\n",
       "      <td>0.000000</td>\n",
       "      <td>0</td>\n",
       "      <td>2</td>\n",
       "      <td>3251</td>\n",
       "    </tr>\n",
       "    <tr>\n",
       "      <th>9754</th>\n",
       "      <td>-0.000674</td>\n",
       "      <td>0.000713</td>\n",
       "      <td>1</td>\n",
       "      <td>2</td>\n",
       "      <td>3251</td>\n",
       "    </tr>\n",
       "    <tr>\n",
       "      <th>9755</th>\n",
       "      <td>0.235996</td>\n",
       "      <td>0.007433</td>\n",
       "      <td>2</td>\n",
       "      <td>2</td>\n",
       "      <td>3251</td>\n",
       "    </tr>\n",
       "  </tbody>\n",
       "</table>\n",
       "<p>9756 rows × 5 columns</p>\n",
       "</div>"
      ],
      "text/plain": [
       "           avg       std  id  step  steps_global\n",
       "0     0.062836  0.000000   0     0             0\n",
       "1    -0.012332  0.014946   1     0             0\n",
       "2     0.083097  0.095201   2     0             0\n",
       "3     0.035987  0.000000   0     1             1\n",
       "4    -0.013222  0.013989   1     1             1\n",
       "...        ...       ...  ..   ...           ...\n",
       "9751  0.000037  0.000091   1     1          3250\n",
       "9752  0.000758  0.005172   2     1          3250\n",
       "9753 -0.071758  0.000000   0     2          3251\n",
       "9754 -0.000674  0.000713   1     2          3251\n",
       "9755  0.235996  0.007433   2     2          3251\n",
       "\n",
       "[9756 rows x 5 columns]"
      ]
     },
     "execution_count": 15,
     "metadata": {},
     "output_type": "execute_result"
    }
   ],
   "source": [
    "grads_metrics"
   ]
  },
  {
   "cell_type": "code",
   "execution_count": 16,
   "metadata": {},
   "outputs": [
    {
     "data": {
      "text/html": [
       "<div>\n",
       "<style scoped>\n",
       "    .dataframe tbody tr th:only-of-type {\n",
       "        vertical-align: middle;\n",
       "    }\n",
       "\n",
       "    .dataframe tbody tr th {\n",
       "        vertical-align: top;\n",
       "    }\n",
       "\n",
       "    .dataframe thead th {\n",
       "        text-align: right;\n",
       "    }\n",
       "</style>\n",
       "<table border=\"1\" class=\"dataframe\">\n",
       "  <thead>\n",
       "    <tr style=\"text-align: right;\">\n",
       "      <th></th>\n",
       "      <th>avg</th>\n",
       "      <th>std</th>\n",
       "      <th>id</th>\n",
       "      <th>step</th>\n",
       "      <th>steps_global</th>\n",
       "      <th>avg_rolling</th>\n",
       "      <th>std_rolling</th>\n",
       "    </tr>\n",
       "  </thead>\n",
       "  <tbody>\n",
       "    <tr>\n",
       "      <th>0</th>\n",
       "      <td>0.062836</td>\n",
       "      <td>0.000000</td>\n",
       "      <td>0</td>\n",
       "      <td>0</td>\n",
       "      <td>0</td>\n",
       "      <td>NaN</td>\n",
       "      <td>NaN</td>\n",
       "    </tr>\n",
       "    <tr>\n",
       "      <th>1</th>\n",
       "      <td>-0.012332</td>\n",
       "      <td>0.014946</td>\n",
       "      <td>1</td>\n",
       "      <td>0</td>\n",
       "      <td>0</td>\n",
       "      <td>NaN</td>\n",
       "      <td>NaN</td>\n",
       "    </tr>\n",
       "    <tr>\n",
       "      <th>2</th>\n",
       "      <td>0.083097</td>\n",
       "      <td>0.095201</td>\n",
       "      <td>2</td>\n",
       "      <td>0</td>\n",
       "      <td>0</td>\n",
       "      <td>NaN</td>\n",
       "      <td>NaN</td>\n",
       "    </tr>\n",
       "    <tr>\n",
       "      <th>3</th>\n",
       "      <td>0.035987</td>\n",
       "      <td>0.000000</td>\n",
       "      <td>0</td>\n",
       "      <td>1</td>\n",
       "      <td>1</td>\n",
       "      <td>NaN</td>\n",
       "      <td>NaN</td>\n",
       "    </tr>\n",
       "    <tr>\n",
       "      <th>4</th>\n",
       "      <td>-0.013222</td>\n",
       "      <td>0.013989</td>\n",
       "      <td>1</td>\n",
       "      <td>1</td>\n",
       "      <td>1</td>\n",
       "      <td>NaN</td>\n",
       "      <td>NaN</td>\n",
       "    </tr>\n",
       "    <tr>\n",
       "      <th>...</th>\n",
       "      <td>...</td>\n",
       "      <td>...</td>\n",
       "      <td>...</td>\n",
       "      <td>...</td>\n",
       "      <td>...</td>\n",
       "      <td>...</td>\n",
       "      <td>...</td>\n",
       "    </tr>\n",
       "    <tr>\n",
       "      <th>9751</th>\n",
       "      <td>0.000037</td>\n",
       "      <td>0.000091</td>\n",
       "      <td>1</td>\n",
       "      <td>1</td>\n",
       "      <td>3250</td>\n",
       "      <td>0.000866</td>\n",
       "      <td>0.001415</td>\n",
       "    </tr>\n",
       "    <tr>\n",
       "      <th>9752</th>\n",
       "      <td>0.000758</td>\n",
       "      <td>0.005172</td>\n",
       "      <td>2</td>\n",
       "      <td>1</td>\n",
       "      <td>3250</td>\n",
       "      <td>0.049386</td>\n",
       "      <td>0.005378</td>\n",
       "    </tr>\n",
       "    <tr>\n",
       "      <th>9753</th>\n",
       "      <td>-0.071758</td>\n",
       "      <td>0.000000</td>\n",
       "      <td>0</td>\n",
       "      <td>2</td>\n",
       "      <td>3251</td>\n",
       "      <td>-0.016470</td>\n",
       "      <td>0.000000</td>\n",
       "    </tr>\n",
       "    <tr>\n",
       "      <th>9754</th>\n",
       "      <td>-0.000674</td>\n",
       "      <td>0.000713</td>\n",
       "      <td>1</td>\n",
       "      <td>2</td>\n",
       "      <td>3251</td>\n",
       "      <td>0.000866</td>\n",
       "      <td>0.001415</td>\n",
       "    </tr>\n",
       "    <tr>\n",
       "      <th>9755</th>\n",
       "      <td>0.235996</td>\n",
       "      <td>0.007433</td>\n",
       "      <td>2</td>\n",
       "      <td>2</td>\n",
       "      <td>3251</td>\n",
       "      <td>0.049386</td>\n",
       "      <td>0.005377</td>\n",
       "    </tr>\n",
       "  </tbody>\n",
       "</table>\n",
       "<p>9756 rows × 7 columns</p>\n",
       "</div>"
      ],
      "text/plain": [
       "           avg       std  id  step  steps_global  avg_rolling  std_rolling\n",
       "0     0.062836  0.000000   0     0             0          NaN          NaN\n",
       "1    -0.012332  0.014946   1     0             0          NaN          NaN\n",
       "2     0.083097  0.095201   2     0             0          NaN          NaN\n",
       "3     0.035987  0.000000   0     1             1          NaN          NaN\n",
       "4    -0.013222  0.013989   1     1             1          NaN          NaN\n",
       "...        ...       ...  ..   ...           ...          ...          ...\n",
       "9751  0.000037  0.000091   1     1          3250     0.000866     0.001415\n",
       "9752  0.000758  0.005172   2     1          3250     0.049386     0.005378\n",
       "9753 -0.071758  0.000000   0     2          3251    -0.016470     0.000000\n",
       "9754 -0.000674  0.000713   1     2          3251     0.000866     0.001415\n",
       "9755  0.235996  0.007433   2     2          3251     0.049386     0.005377\n",
       "\n",
       "[9756 rows x 7 columns]"
      ]
     },
     "execution_count": 16,
     "metadata": {},
     "output_type": "execute_result"
    }
   ],
   "source": [
    "grads_metrics[\"avg_rolling\"] = np.nan\n",
    "grads_metrics[\"std_rolling\"] = np.nan\n",
    "for id in grads_metrics.id.unique():\n",
    "    grads_metrics.loc[grads_metrics[grads_metrics[\"id\"] == id].index, \"avg_rolling\"] = (\n",
    "        grads_metrics.loc[grads_metrics[grads_metrics[\"id\"] == id].index, \"avg\"]\n",
    "        .rolling(20)\n",
    "        .mean()\n",
    "    )\n",
    "    grads_metrics.loc[grads_metrics[grads_metrics[\"id\"] == id].index, \"std_rolling\"] = (\n",
    "        grads_metrics.loc[grads_metrics[grads_metrics[\"id\"] == id].index, \"std\"]\n",
    "        .rolling(20)\n",
    "        .mean()\n",
    "    )\n",
    "grads_metrics"
   ]
  },
  {
   "cell_type": "markdown",
   "metadata": {
    "colab": {
     "base_uri": "https://localhost:8080/"
    },
    "id": "uyEdi0gGiV1z",
    "outputId": "b644224d-13ff-4806-d751-0088efc24f85",
    "tags": []
   },
   "source": [
    "## Visualization"
   ]
  },
  {
   "cell_type": "code",
   "execution_count": 17,
   "metadata": {},
   "outputs": [
    {
     "data": {
      "image/png": "[encoded data removed]",
      "text/plain": [
       "<Figure size 576x432 with 1 Axes>"
      ]
     },
     "metadata": {
      "needs_background": "light"
     },
     "output_type": "display_data"
    }
   ],
   "source": [
    "fig, ax = plt.subplots(figsize=(8, 6))\n",
    "ax.plot(meanErrors)\n",
    "ax.set_ylabel(\"Loss\")\n",
    "ax.set_xlabel(\"Steps\")\n",
    "plt.show()"
   ]
  },
  {
   "cell_type": "code",
   "execution_count": 18,
   "metadata": {},
   "outputs": [],
   "source": [
    "def plot_weights(weights_metrics):\n",
    "    \"\"\"Plot the weights.\"\"\"\n",
    "    fig, ax = plt.subplots(nrows=1, ncols=2, figsize=(15, 5))\n",
    "\n",
    "    sns.lineplot(x=\"steps_global\", y=\"avg\", hue=\"id\", data=weights_metrics, ax=ax[0])\n",
    "    ax[0].set(ylabel=\"Weights (avg)\")\n",
    "    ax[0].set(xlabel=\"Steps\")\n",
    "\n",
    "    sns.lineplot(x=\"steps_global\", y=\"std\", hue=\"id\", data=weights_metrics, ax=ax[1])\n",
    "    ax[1].set(ylabel=\"Weights (std)\")\n",
    "    ax[1].set(xlabel=\"Steps\")\n",
    "\n",
    "    fig.tight_layout()\n",
    "    plt.show()"
   ]
  },
  {
   "cell_type": "code",
   "execution_count": 19,
   "metadata": {},
   "outputs": [
    {
     "data": {
      "image/png": "[encoded data removed]",
      "text/plain": [
       "<Figure size 1080x360 with 2 Axes>"
      ]
     },
     "metadata": {
      "needs_background": "light"
     },
     "output_type": "display_data"
    }
   ],
   "source": [
    "plot_weights(weights_metrics)"
   ]
  },
  {
   "cell_type": "code",
   "execution_count": 20,
   "metadata": {},
   "outputs": [],
   "source": [
    "def plot_gradients(grads_metrics):\n",
    "    \"\"\"Plot the gradienta.\"\"\"\n",
    "    fig, ax = plt.subplots(nrows=1, ncols=2, figsize=(15, 5))\n",
    "\n",
    "    sns.lineplot(\n",
    "        x=\"steps_global\",\n",
    "        y=\"avg_rolling\",\n",
    "        hue=\"id\",\n",
    "        data=grads_metrics,\n",
    "        ax=ax[0],\n",
    "        palette=sns.color_palette()[0 : len(grads_metrics.id.unique())],\n",
    "    )\n",
    "    ax[0].set(ylabel=\"Gradients (avg)\")\n",
    "    ax[0].set(xlabel=\"Steps\")\n",
    "\n",
    "    sns.lineplot(\n",
    "        x=\"steps_global\",\n",
    "        y=\"std_rolling\",\n",
    "        hue=\"id\",\n",
    "        data=grads_metrics,\n",
    "        ax=ax[1],\n",
    "        palette=sns.color_palette()[0 : len(grads_metrics.id.unique())],\n",
    "    )\n",
    "    ax[1].set(ylabel=\"Gradients (std)\")\n",
    "    ax[1].set(xlabel=\"Steps\")\n",
    "\n",
    "    fig.tight_layout()\n",
    "    plt.show()"
   ]
  },
  {
   "cell_type": "code",
   "execution_count": 21,
   "metadata": {},
   "outputs": [
    {
     "data": {
      "image/png": "[encoded data removed]",
      "text/plain": [
       "<Figure size 1080x360 with 2 Axes>"
      ]
     },
     "metadata": {
      "needs_background": "light"
     },
     "output_type": "display_data"
    }
   ],
   "source": [
    "plot_gradients(grads_metrics)"
   ]
  },
  {
   "cell_type": "code",
   "execution_count": 22,
   "metadata": {},
   "outputs": [
    {
     "data": {
      "text/plain": [
       "0       False\n",
       "1       False\n",
       "2       False\n",
       "3       False\n",
       "4       False\n",
       "        ...  \n",
       "9751    False\n",
       "9752    False\n",
       "9753    False\n",
       "9754    False\n",
       "9755    False\n",
       "Length: 9756, dtype: bool"
      ]
     },
     "execution_count": 22,
     "metadata": {},
     "output_type": "execute_result"
    }
   ],
   "source": [
    "grads_metrics.duplicated()"
   ]
  },
  {
   "cell_type": "code",
   "execution_count": 23,
   "metadata": {},
   "outputs": [],
   "source": [
    "def postprocess(episodes, p, rewards, steps):\n",
    "    \"\"\"Convert the results of the simulation in dataframes.\"\"\"\n",
    "    res = pd.DataFrame(\n",
    "        data={\n",
    "            \"Episodes\": np.tile(episodes, reps=p.n_runs),\n",
    "            \"Rewards\": rewards.flatten(order=\"F\"),\n",
    "            \"Steps\": steps.flatten(order=\"F\"),\n",
    "        }\n",
    "    )\n",
    "    # res[\"cum_rewards\"] = rewards.cumsum(axis=0).flatten(order=\"F\")\n",
    "    return res"
   ]
  },
  {
   "cell_type": "code",
   "execution_count": 24,
   "metadata": {
    "tags": []
   },
   "outputs": [
    {
     "data": {
      "text/html": [
       "<div>\n",
       "<style scoped>\n",
       "    .dataframe tbody tr th:only-of-type {\n",
       "        vertical-align: middle;\n",
       "    }\n",
       "\n",
       "    .dataframe tbody tr th {\n",
       "        vertical-align: top;\n",
       "    }\n",
       "\n",
       "    .dataframe thead th {\n",
       "        text-align: right;\n",
       "    }\n",
       "</style>\n",
       "<table border=\"1\" class=\"dataframe\">\n",
       "  <thead>\n",
       "    <tr style=\"text-align: right;\">\n",
       "      <th></th>\n",
       "      <th>Episodes</th>\n",
       "      <th>Rewards</th>\n",
       "      <th>Steps</th>\n",
       "    </tr>\n",
       "  </thead>\n",
       "  <tbody>\n",
       "    <tr>\n",
       "      <th>0</th>\n",
       "      <td>0</td>\n",
       "      <td>-1.0</td>\n",
       "      <td>3.0</td>\n",
       "    </tr>\n",
       "    <tr>\n",
       "      <th>1</th>\n",
       "      <td>1</td>\n",
       "      <td>-1.0</td>\n",
       "      <td>3.0</td>\n",
       "    </tr>\n",
       "    <tr>\n",
       "      <th>2</th>\n",
       "      <td>2</td>\n",
       "      <td>-1.0</td>\n",
       "      <td>3.0</td>\n",
       "    </tr>\n",
       "    <tr>\n",
       "      <th>3</th>\n",
       "      <td>3</td>\n",
       "      <td>-1.0</td>\n",
       "      <td>3.0</td>\n",
       "    </tr>\n",
       "    <tr>\n",
       "      <th>4</th>\n",
       "      <td>4</td>\n",
       "      <td>-1.0</td>\n",
       "      <td>3.0</td>\n",
       "    </tr>\n",
       "    <tr>\n",
       "      <th>...</th>\n",
       "      <td>...</td>\n",
       "      <td>...</td>\n",
       "      <td>...</td>\n",
       "    </tr>\n",
       "    <tr>\n",
       "      <th>995</th>\n",
       "      <td>995</td>\n",
       "      <td>1.0</td>\n",
       "      <td>3.0</td>\n",
       "    </tr>\n",
       "    <tr>\n",
       "      <th>996</th>\n",
       "      <td>996</td>\n",
       "      <td>1.0</td>\n",
       "      <td>3.0</td>\n",
       "    </tr>\n",
       "    <tr>\n",
       "      <th>997</th>\n",
       "      <td>997</td>\n",
       "      <td>1.0</td>\n",
       "      <td>3.0</td>\n",
       "    </tr>\n",
       "    <tr>\n",
       "      <th>998</th>\n",
       "      <td>998</td>\n",
       "      <td>1.0</td>\n",
       "      <td>3.0</td>\n",
       "    </tr>\n",
       "    <tr>\n",
       "      <th>999</th>\n",
       "      <td>999</td>\n",
       "      <td>1.0</td>\n",
       "      <td>3.0</td>\n",
       "    </tr>\n",
       "  </tbody>\n",
       "</table>\n",
       "<p>1000 rows × 3 columns</p>\n",
       "</div>"
      ],
      "text/plain": [
       "     Episodes  Rewards  Steps\n",
       "0           0     -1.0    3.0\n",
       "1           1     -1.0    3.0\n",
       "2           2     -1.0    3.0\n",
       "3           3     -1.0    3.0\n",
       "4           4     -1.0    3.0\n",
       "..        ...      ...    ...\n",
       "995       995      1.0    3.0\n",
       "996       996      1.0    3.0\n",
       "997       997      1.0    3.0\n",
       "998       998      1.0    3.0\n",
       "999       999      1.0    3.0\n",
       "\n",
       "[1000 rows x 3 columns]"
      ]
     },
     "execution_count": 24,
     "metadata": {},
     "output_type": "execute_result"
    }
   ],
   "source": [
    "res = postprocess(episodes, p, rewards, steps)\n",
    "res"
   ]
  },
  {
   "cell_type": "markdown",
   "metadata": {},
   "source": [
    "As a sanity check, we will plot the distributions of states and actions\n",
    "with the following function:"
   ]
  },
  {
   "cell_type": "code",
   "execution_count": 25,
   "metadata": {},
   "outputs": [],
   "source": [
    "def plot_states_actions_distribution(states, actions):\n",
    "    \"\"\"Plot the distributions of states and actions.\"\"\"\n",
    "    fig, ax = plt.subplots(nrows=1, ncols=2, figsize=(13, 5))\n",
    "    sns.histplot(data=states, ax=ax[0])\n",
    "    ax[0].set_title(\"States\")\n",
    "    sns.histplot(data=actions, ax=ax[1])\n",
    "    ax[1].set_xticks(\n",
    "        [item.value for item in Actions], labels=[item.name for item in Actions]\n",
    "    )\n",
    "    ax[1].set_title(\"Actions\")\n",
    "    fig.tight_layout()\n",
    "    plt.show()"
   ]
  },
  {
   "cell_type": "code",
   "execution_count": 26,
   "metadata": {
    "tags": []
   },
   "outputs": [
    {
     "data": {
      "image/png": "[encoded data removed]",
      "text/plain": [
       "<Figure size 936x360 with 2 Axes>"
      ]
     },
     "metadata": {
      "needs_background": "light"
     },
     "output_type": "display_data"
    }
   ],
   "source": [
    "plot_states_actions_distribution(all_states, all_actions)"
   ]
  },
  {
   "cell_type": "code",
   "execution_count": 27,
   "metadata": {
    "colab": {
     "base_uri": "https://localhost:8080/",
     "height": 317
    },
    "id": "pk8lHOjiL7fa",
    "outputId": "0474335e-bf29-4be1-d877-e6adc5a13afc"
   },
   "outputs": [],
   "source": [
    "def plot_steps_and_rewards(df):\n",
    "    \"\"\"Plot the steps and rewards from dataframes.\"\"\"\n",
    "    fig, ax = plt.subplots(nrows=1, ncols=2, figsize=(15, 5))\n",
    "    sns.lineplot(data=df, x=\"Episodes\", y=\"Rewards\", ax=ax[0])\n",
    "    ax[0].set(\n",
    "        ylabel=f\"Rewards\\naveraged over {p.n_runs} runs\"\n",
    "        if p.n_runs > 1\n",
    "        else \"Steps number\"\n",
    "    )\n",
    "\n",
    "    sns.lineplot(data=df, x=\"Episodes\", y=\"Steps\", ax=ax[1])\n",
    "    ax[1].set(\n",
    "        ylabel=f\"Steps number\\naveraged over {p.n_runs} runs\"\n",
    "        if p.n_runs > 1\n",
    "        else \"Steps number\"\n",
    "    )\n",
    "\n",
    "    fig.tight_layout()\n",
    "    plt.show()"
   ]
  },
  {
   "cell_type": "code",
   "execution_count": 28,
   "metadata": {
    "id": "Xj1z5ob10ltw"
   },
   "outputs": [
    {
     "data": {
      "image/png": "[encoded data removed]",
      "text/plain": [
       "<Figure size 1080x360 with 2 Axes>"
      ]
     },
     "metadata": {
      "needs_background": "light"
     },
     "output_type": "display_data"
    }
   ],
   "source": [
    "plot_steps_and_rewards(res)"
   ]
  },
  {
   "cell_type": "code",
   "execution_count": 29,
   "metadata": {
    "tags": []
   },
   "outputs": [
    {
     "data": {
      "text/plain": [
       "array([[       nan,        nan],\n",
       "       [0.47994658, 0.3200573 ],\n",
       "       [0.46779741, 0.43630791],\n",
       "       [0.46562735, 0.48918824],\n",
       "       [0.46520125, 0.50904874],\n",
       "       [0.46516057, 0.51602469],\n",
       "       [       nan,        nan]])"
      ]
     },
     "execution_count": 29,
     "metadata": {},
     "output_type": "execute_result"
    }
   ],
   "source": [
    "q_values = np.nan * np.empty((p.state_size, p.action_size))\n",
    "for state_i, state_v in enumerate(np.arange(p.state_size)):\n",
    "    if state_i in [0, len(q_values) - 1]:\n",
    "        # q_values[state_i,] = 0\n",
    "        continue\n",
    "    q_values[state_i,] = net.forward_pass(x_obs=[state_v])[-1]\n",
    "q_values"
   ]
  },
  {
   "cell_type": "code",
   "execution_count": 30,
   "metadata": {},
   "outputs": [
    {
     "data": {
      "text/plain": [
       "array([[       nan,        nan, 0.47994658, 0.3200573 , 0.46779741,\n",
       "        0.43630791, 0.46562735, 0.48918824, 0.46520125, 0.50904874,\n",
       "        0.46516057, 0.51602469,        nan,        nan]])"
      ]
     },
     "execution_count": 30,
     "metadata": {},
     "output_type": "execute_result"
    }
   ],
   "source": [
    "q_values.flatten()[np.newaxis, :]"
   ]
  },
  {
   "cell_type": "code",
   "execution_count": 31,
   "metadata": {
    "tags": []
   },
   "outputs": [],
   "source": [
    "def plot_q_values(q_values):\n",
    "    fig, ax = plt.subplots(figsize=(15, 1.5))\n",
    "    cmap = sns.color_palette(\"vlag\", as_cmap=True)\n",
    "    chart = sns.heatmap(\n",
    "        q_values.flatten()[np.newaxis, :],\n",
    "        annot=True,\n",
    "        ax=ax,\n",
    "        cmap=cmap,\n",
    "        yticklabels=False,  # linewidth=0.5\n",
    "        center=0,\n",
    "    )\n",
    "    states_nodes = np.arange(1, 14, 2)\n",
    "    chart.set_xticks(states_nodes)\n",
    "    chart.set_xticklabels([str(item) for item in np.arange(1, 8, 1)])\n",
    "    chart.set_title(\"Q values\")\n",
    "    ax.tick_params(bottom=True)\n",
    "\n",
    "    # Add actions arrows\n",
    "    for node in states_nodes:\n",
    "        y_height = 1.7\n",
    "        if node in [1, 13]:\n",
    "            continue\n",
    "        arrows_left = {\n",
    "            \"x_tail\": node,\n",
    "            \"y_tail\": y_height,\n",
    "            \"x_head\": node - 1,\n",
    "            \"y_head\": y_height,\n",
    "        }\n",
    "        arrow = mpatches.FancyArrowPatch(\n",
    "            (arrows_left[\"x_tail\"], arrows_left[\"y_tail\"]),\n",
    "            (arrows_left[\"x_head\"], arrows_left[\"y_head\"]),\n",
    "            mutation_scale=10,\n",
    "            clip_on=False,\n",
    "            color=\"k\",\n",
    "        )\n",
    "        ax.add_patch(arrow)\n",
    "        arrows_right = {\n",
    "            \"x_tail\": node,\n",
    "            \"y_tail\": y_height,\n",
    "            \"x_head\": node + 1,\n",
    "            \"y_head\": y_height,\n",
    "        }\n",
    "        arrow = mpatches.FancyArrowPatch(\n",
    "            (arrows_right[\"x_tail\"], arrows_right[\"y_tail\"]),\n",
    "            (arrows_right[\"x_head\"], arrows_right[\"y_head\"]),\n",
    "            mutation_scale=10,\n",
    "            clip_on=False,\n",
    "            color=\"k\",\n",
    "        )\n",
    "        ax.add_patch(arrow)\n",
    "\n",
    "        # Add rectangle to separate each state pair\n",
    "        rect = mpatches.Rectangle(\n",
    "            (node - 1, 0),\n",
    "            2,\n",
    "            1,\n",
    "            linewidth=2,\n",
    "            edgecolor=\"k\",\n",
    "            facecolor=\"none\",\n",
    "            clip_on=False,\n",
    "        )\n",
    "        ax.add_patch(rect)\n",
    "\n",
    "    def add_emoji(coords, emoji, ax):\n",
    "        \"\"\"Add emoji as image at absolute coordinates.\"\"\"\n",
    "        img = plt.imread(imojify.get_img_path(emoji))\n",
    "        im = OffsetImage(img, zoom=0.08)\n",
    "        im.image.axes = ax\n",
    "        ab = AnnotationBbox(\n",
    "            im, (coords[0], coords[1]), frameon=False, pad=0, annotation_clip=False\n",
    "        )\n",
    "        ax.add_artist(ab)\n",
    "\n",
    "    emoji = [\n",
    "        {\"emoji\": \"🪨\", \"coords\": [1, y_height]},\n",
    "        {\"emoji\": \"💎\", \"coords\": [13, y_height]},\n",
    "    ]\n",
    "    for _, emo in enumerate(emoji):\n",
    "        add_emoji(emo[\"coords\"], emo[\"emoji\"], ax)\n",
    "\n",
    "    plt.show()"
   ]
  },
  {
   "cell_type": "code",
   "execution_count": 32,
   "metadata": {
    "tags": []
   },
   "outputs": [
    {
     "data": {
      "image/png": "[encoded data removed]",
      "text/plain": [
       "<Figure size 1080x108 with 2 Axes>"
      ]
     },
     "metadata": {
      "needs_background": "light"
     },
     "output_type": "display_data"
    }
   ],
   "source": [
    "plot_q_values(q_values)"
   ]
  },
  {
   "cell_type": "code",
   "execution_count": null,
   "metadata": {},
   "outputs": [],
   "source": []
  }
 ],
 "metadata": {
  "accelerator": "GPU",
  "colab": {
   "provenance": []
  },
  "kernelspec": {
   "display_name": "Python 3 (ipykernel)",
   "language": "python",
   "name": "python3"
  },
  "language_info": {
   "codemirror_mode": {
    "name": "ipython",
    "version": 3
   },
   "file_extension": ".py",
   "mimetype": "text/x-python",
   "name": "python",
   "nbconvert_exporter": "python",
   "pygments_lexer": "ipython3",
   "version": "3.11.6"
  }
 },
 "nbformat": 4,
 "nbformat_minor": 4
}
