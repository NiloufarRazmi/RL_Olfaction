{
 "cells": [
  {
   "cell_type": "markdown",
   "metadata": {},
   "source": [
    "# Deep RL"
   ]
  },
  {
   "cell_type": "markdown",
   "metadata": {},
   "source": [
    "1. inputs need to reflect position in arena and odor (NOT CONJUNCTIONS)\n",
    "2. outputs need to reflect action values\n",
    "3. actions are selected via softmax on output neuron activity. \n",
    "4. RPE requires knowing value of new state\n",
    "   -- so this will require a forward pass using \"new state\" inputs."
   ]
  },
  {
   "cell_type": "code",
   "execution_count": 1,
   "metadata": {},
   "outputs": [],
   "source": [
    "# Import packages\n",
    "import numpy as np\n",
    "from tqdm import tqdm\n",
    "\n",
    "# # Replace `%matplotlib ipympl` by `%matplotlib inline` in case you get javascript issues\n",
    "# %matplotlib ipympl\n",
    "import matplotlib.pyplot as plt"
   ]
  },
  {
   "cell_type": "code",
   "execution_count": 2,
   "metadata": {},
   "outputs": [],
   "source": [
    "# Load custom functions\n",
    "from utils import Params, Sigmoid\n",
    "from deep_learning import Network"
   ]
  },
  {
   "cell_type": "code",
   "execution_count": 3,
   "metadata": {},
   "outputs": [],
   "source": [
    "# Formatting & autoreload stuff\n",
    "%load_ext lab_black\n",
    "%load_ext autoreload\n",
    "%autoreload 2"
   ]
  },
  {
   "cell_type": "markdown",
   "metadata": {},
   "source": [
    "## Main options"
   ]
  },
  {
   "cell_type": "code",
   "execution_count": 4,
   "metadata": {},
   "outputs": [],
   "source": [
    "nTrain = 1000000\n",
    "nTest = 100\n",
    "problem = 2"
   ]
  },
  {
   "cell_type": "code",
   "execution_count": 5,
   "metadata": {},
   "outputs": [
    {
     "data": {
      "text/plain": [
       "(1000100, 2)"
      ]
     },
     "execution_count": 5,
     "metadata": {},
     "output_type": "execute_result"
    }
   ],
   "source": [
    "nTot = nTrain + nTest\n",
    "# create two normal input channels\n",
    "X = np.random.multivariate_normal([0, 0], 10 * np.eye(2), size=nTot)\n",
    "# X = pd.read_csv(\"X.csv\", header=None).to_numpy()\n",
    "# Y is positive if X(1) & X(2) are positive, OR if X(1) and X(2) are negative.\n",
    "X.shape"
   ]
  },
  {
   "cell_type": "code",
   "execution_count": 6,
   "metadata": {},
   "outputs": [],
   "source": [
    "Y = np.sign(X[:, 0] * X[:, 1]) / 2.0 + 0.5"
   ]
  },
  {
   "cell_type": "markdown",
   "metadata": {},
   "source": [
    "## Choose the task parameters"
   ]
  },
  {
   "cell_type": "code",
   "execution_count": 7,
   "metadata": {},
   "outputs": [
    {
     "data": {
      "text/plain": [
       "Params(learning_rate=0.001, nLayers=5, nHiddenUnits=20)"
      ]
     },
     "execution_count": 7,
     "metadata": {},
     "output_type": "execute_result"
    }
   ],
   "source": [
    "# Choose the parameters for the task\n",
    "p = Params(learning_rate=0.001, nLayers=5, nHiddenUnits=20)\n",
    "p"
   ]
  },
  {
   "cell_type": "markdown",
   "metadata": {},
   "source": [
    "## Step 2: Build network"
   ]
  },
  {
   "cell_type": "code",
   "execution_count": 8,
   "metadata": {},
   "outputs": [],
   "source": [
    "nn = Network(\n",
    "    nInputUnits=X.shape[1],\n",
    "    nLayers=p.nLayers,\n",
    "    nOutputUnits=1,\n",
    "    nHiddenUnits=p.nHiddenUnits,\n",
    "    initVar=1,\n",
    ")"
   ]
  },
  {
   "cell_type": "markdown",
   "metadata": {},
   "source": [
    "## Step 3: Train network"
   ]
  },
  {
   "cell_type": "code",
   "execution_count": 9,
   "metadata": {},
   "outputs": [
    {
     "name": "stderr",
     "output_type": "stream",
     "text": [
      "100%|█████████████████████████████████████████████████████| 1000000/1000000 [01:43<00:00, 9627.28it/s]\n"
     ]
    }
   ],
   "source": [
    "sigmoid = Sigmoid()\n",
    "\n",
    "\n",
    "allError = np.nan * np.ones(nTot)\n",
    "catPredict = np.nan * np.ones(nTot)\n",
    "\n",
    "for i in tqdm(range(nTrain)):\n",
    "\n",
    "    # Generate model prediction (forward pass of activity through units):\n",
    "    activity = [np.array([]) for _ in range(p.nLayers)]\n",
    "    for j in range(p.nLayers):\n",
    "        # Determine layer input:\n",
    "        if j == 0:\n",
    "            input = X[i, :]  # THIS WILL BE YOUR POSITION/ODOR!!!!!\n",
    "        else:\n",
    "            if activity[j].shape == ():  # Convert to a vector in case it is scalar\n",
    "                activity[j] = activity[j, np.newaxis]\n",
    "            input = activity[j - 1] @ nn.wtMatrix[j - 1]\n",
    "\n",
    "        # Apply non-linearity\n",
    "        if nn.nonLin[j]:\n",
    "            activity[j] = sigmoid(input)\n",
    "        else:\n",
    "            activity[j] = input\n",
    "\n",
    "        # Take an action! softmax over actions or similar\n",
    "\n",
    "        # incorporate your model of the task, to determine where agent actually goes.\n",
    "\n",
    "        # Now you need to do another forward pass, to see how good the new\n",
    "        # state is so that you can compute the RPE below.\n",
    "\n",
    "        # your cost function will differ from the one below, should look something like this:\n",
    "        # C =  R - X(S)*W+ DISCOUNT*max(X(S')*W)\n",
    "\n",
    "    # Backpropagate errors to compute gradients for all layers:\n",
    "    delta = [np.array([]) for _ in range(p.nLayers)]\n",
    "    for j in reversed(range(p.nLayers)):\n",
    "        # Determine layer input:\n",
    "        if j == p.nLayers - 1:\n",
    "            # IF there is nonlinearity, should multiply by derivative of\n",
    "            # activation with respect to input (activity.*(1-activity)) here.\n",
    "            delta[j] = (Y[i] - activity[j]) * (\n",
    "                sigmoid.gradient(activity[j])\n",
    "            ).T  # THIS SHOULD BE REPLACED WITH YOUR COST FUNCTION!\n",
    "\n",
    "            # doing this in RL framework means that you'll need one RPE for\n",
    "            # each output neuron -- so RPE computed above should be\n",
    "            # associated with the action agent took... all other RPEs\n",
    "            # should be zero.\n",
    "\n",
    "        else:\n",
    "            # OK, here is the magic -- neurons in layer j share the\n",
    "            # gradient (ie. prediction errors) from the next layer\n",
    "            # according to their responsibility... that is to say, if I\n",
    "            # project to a unit in next layer with a strong weight,\n",
    "            # then i inherit the gradient (PE) of that unit.\n",
    "            if delta[j + 1].shape == ():  # Convert to a vector in case it is scalar\n",
    "                delta[j + 1] = delta[j + 1, np.newaxis]\n",
    "            delta[j] = (\n",
    "                nn.wtMatrix[j] @ delta[j + 1] * (activity[j] * (1.0 - activity[j])).T\n",
    "            )\n",
    "\n",
    "    # Update weight matrices according to gradients and activities:\n",
    "    for j in range(len(nn.wtMatrix) - 1):\n",
    "        nn.wtMatrix[j] = (\n",
    "            nn.wtMatrix[j]\n",
    "            + p.learning_rate * np.expand_dims(activity[j], axis=1) * delta[j + 1].T\n",
    "        )\n",
    "\n",
    "    # store error:\n",
    "    allError[i] = delta[-1]\n",
    "    catPredict[i] = activity[-1] > 0.5"
   ]
  },
  {
   "cell_type": "code",
   "execution_count": 10,
   "metadata": {},
   "outputs": [
    {
     "data": {
      "text/plain": [
       "[array([-2.49434973,  2.64674577]),\n",
       " array([5.94709825e-03, 1.75932084e-01, 1.37951348e-02, 2.37811446e-03,\n",
       "        9.98783174e-01, 4.22982139e-02, 1.11225773e-02, 8.75047581e-03,\n",
       "        9.85279182e-01, 9.85317890e-01, 9.96122697e-01, 3.90908451e-04,\n",
       "        1.12717688e-02, 2.81103358e-02, 9.74697168e-01, 9.88625725e-01,\n",
       "        2.15348572e-02, 6.33342866e-04, 9.42596088e-01, 1.71125216e-02]),\n",
       " array([5.90334221e-02, 1.23155521e-01, 2.04484272e-04, 9.76186018e-01,\n",
       "        1.51270888e-01, 9.21634481e-01, 9.55514398e-01, 2.99826348e-03,\n",
       "        7.96713234e-01, 9.61367141e-01, 9.51627901e-01, 9.62284079e-01,\n",
       "        9.39726078e-01, 7.52235320e-02, 5.33750927e-01, 9.92833604e-01,\n",
       "        1.85279948e-01, 8.53151011e-01, 3.42010616e-02, 1.00280778e-01]),\n",
       " array([0.11306207, 0.00125101, 0.96170884, 0.00622573, 0.91250225,\n",
       "        0.18874343, 0.02590809, 0.0059873 , 0.67746148, 0.77460885,\n",
       "        0.09379118, 0.89705248, 0.24186817, 0.12169349, 0.80143564,\n",
       "        0.26146386, 0.78140215, 0.65863962, 0.22049559, 0.99763975]),\n",
       " array([0.03307437])]"
      ]
     },
     "execution_count": 10,
     "metadata": {},
     "output_type": "execute_result"
    }
   ],
   "source": [
    "activity"
   ]
  },
  {
   "cell_type": "code",
   "execution_count": 11,
   "metadata": {},
   "outputs": [
    {
     "data": {
      "text/plain": [
       "[array([0.00131264, 0.00051256]),\n",
       " array([ 9.47551052e-06,  1.58418621e-04, -6.47872164e-06,  3.91056145e-06,\n",
       "        -5.93169061e-07,  1.02159975e-05,  8.91645255e-06, -1.10014558e-05,\n",
       "         2.61183901e-05,  6.97580223e-06,  1.37226464e-05,  1.30499008e-08,\n",
       "         9.36254801e-06,  7.09778396e-05,  1.03360529e-05,  6.34321139e-06,\n",
       "        -2.62536310e-05, -5.83211316e-07,  1.10984956e-04,  6.33125512e-06]),\n",
       " array([-3.47884716e-04, -8.91150256e-04,  1.34380704e-06,  2.26906584e-05,\n",
       "        -6.08279351e-04, -7.15119184e-05,  1.02240460e-04,  1.32601495e-05,\n",
       "         1.59533863e-04,  3.40975253e-04,  8.78142053e-05,  1.70430733e-04,\n",
       "        -1.74170774e-04,  3.34095450e-05,  2.75206623e-04,  1.25000608e-05,\n",
       "        -4.91779160e-04,  6.27187942e-05, -1.01342551e-04, -7.90222094e-04]),\n",
       " array([-2.30651101e-04,  6.07198297e-06,  7.51642119e-05,  3.05063485e-05,\n",
       "         9.16404092e-04, -6.07011542e-04, -3.94589127e-04, -3.38796593e-06,\n",
       "         1.43324499e-03,  9.39136200e-04, -2.64324612e-05,  6.68380828e-04,\n",
       "        -4.12073526e-04, -1.26266852e-03,  1.51040330e-03, -1.49523914e-04,\n",
       "         6.77505344e-04, -5.16344748e-04, -8.15194937e-05, -1.21158932e-05]),\n",
       " array([-0.00826633])]"
      ]
     },
     "execution_count": 11,
     "metadata": {},
     "output_type": "execute_result"
    }
   ],
   "source": [
    "delta"
   ]
  },
  {
   "cell_type": "code",
   "execution_count": 12,
   "metadata": {},
   "outputs": [
    {
     "data": {
      "text/plain": [
       "array([-0.10430231,  0.10506354,  0.13766761, ...,         nan,\n",
       "               nan,         nan])"
      ]
     },
     "execution_count": 12,
     "metadata": {},
     "output_type": "execute_result"
    }
   ],
   "source": [
    "allError"
   ]
  },
  {
   "cell_type": "code",
   "execution_count": 13,
   "metadata": {},
   "outputs": [
    {
     "data": {
      "text/plain": [
       "array([ 0.,  1.,  0., ..., nan, nan, nan])"
      ]
     },
     "execution_count": 13,
     "metadata": {},
     "output_type": "execute_result"
    }
   ],
   "source": [
    "catPredict"
   ]
  },
  {
   "cell_type": "code",
   "execution_count": 14,
   "metadata": {},
   "outputs": [
    {
     "data": {
      "text/plain": [
       "array([0.11893808, 0.11471634, 0.11127525, 0.10833737, 0.10562374,\n",
       "       0.10299526, 0.10046747, 0.09789971, 0.09521947, 0.09276584,\n",
       "       0.09042597, 0.08792664, 0.08564318, 0.08311717, 0.08062542,\n",
       "       0.07840148, 0.07605802, 0.07404804, 0.0719261 , 0.07005348,\n",
       "       0.06820087, 0.06600171, 0.06442733, 0.06286766, 0.06101701,\n",
       "       0.05958701, 0.05818915, 0.05661884, 0.05547537, 0.05438028,\n",
       "       0.05329556, 0.05241336, 0.05098709, 0.0497184 , 0.04850778,\n",
       "       0.047871  , 0.04706279, 0.04573437, 0.04552577, 0.0442934 ,\n",
       "       0.04369298, 0.04309464, 0.04215058, 0.04146016, 0.04087063,\n",
       "       0.04023445, 0.03956305, 0.0395683 , 0.03893947, 0.03844621,\n",
       "       0.03771687, 0.03703016, 0.03665319, 0.03630506, 0.03553412,\n",
       "       0.03501328, 0.03477809, 0.03441805, 0.03389006, 0.03366038,\n",
       "       0.03313165, 0.0325872 , 0.03283644, 0.03269492, 0.03231402,\n",
       "       0.03146054, 0.03127918, 0.0313731 , 0.03098955, 0.03003361,\n",
       "       0.03038822, 0.02992437, 0.03007376, 0.02947901, 0.0293284 ,\n",
       "       0.02886271, 0.02898913, 0.02806508, 0.02835205, 0.02781281,\n",
       "       0.02826948, 0.02743829, 0.02757134, 0.0272624 , 0.0266994 ,\n",
       "       0.02718563, 0.02680839, 0.0268287 , 0.02627601, 0.0265304 ,\n",
       "       0.02570574, 0.0256444 , 0.02612148, 0.02567368, 0.02541773,\n",
       "       0.02522381, 0.02524497, 0.02490325, 0.02461412,        nan])"
      ]
     },
     "execution_count": 14,
     "metadata": {},
     "output_type": "execute_result"
    }
   ],
   "source": [
    "Bins = np.round(np.linspace(0, len(allError), num=100)).astype(int)\n",
    "\n",
    "meanError = np.zeros_like(Bins) * np.nan\n",
    "for i in range(len(Bins) - 1):\n",
    "    meanError[i] = np.nanmean(abs(allError[Bins[i] : Bins[i + 1]]))\n",
    "meanError"
   ]
  },
  {
   "cell_type": "code",
   "execution_count": 15,
   "metadata": {},
   "outputs": [
    {
     "data": {
      "image/png": "[encoded data removed]",
      "text/plain": [
       "<Figure size 432x288 with 1 Axes>"
      ]
     },
     "metadata": {
      "needs_background": "light"
     },
     "output_type": "display_data"
    }
   ],
   "source": [
    "fig2 = plt.figure(2)\n",
    "fig2.clear(True)\n",
    "plt.plot(meanError)\n",
    "plt.ylabel(\"Error\")\n",
    "plt.xlabel(\"Batches\")\n",
    "plt.show()"
   ]
  },
  {
   "cell_type": "markdown",
   "metadata": {},
   "source": [
    "## Step 4: Test Network"
   ]
  },
  {
   "cell_type": "code",
   "execution_count": 17,
   "metadata": {},
   "outputs": [],
   "source": [
    "for i in range((nTrain + 1), nTot):\n",
    "    # Generate model prediction (forward pass of activity through units):\n",
    "    activity = [np.array([]) for _ in range(p.nLayers)]\n",
    "    for j in range(p.nLayers):\n",
    "        # Determine layer input:\n",
    "        if j == 0:\n",
    "            input = X[i, :]  # initial layer is activated according to input\n",
    "        else:\n",
    "            input = activity[j - 1] @ nn.wtMatrix[j - 1]\n",
    "\n",
    "        # Apply non-linearity\n",
    "        if nn.nonLin[j]:\n",
    "            activity[j] = sigmoid(input)\n",
    "        else:\n",
    "            activity[j] = input\n",
    "\n",
    "    # store error\n",
    "    allError[i] = delta[-1]\n",
    "    catPredict[i] = activity[-1] > 0.5\n",
    "\n",
    "isTest = np.zeros(nTot, dtype=bool)\n",
    "isTest[nTrain + 1 :] = True"
   ]
  },
  {
   "cell_type": "code",
   "execution_count": 18,
   "metadata": {},
   "outputs": [
    {
     "data": {
      "text/plain": [
       "[array([-3.81385633, -2.68831208]),\n",
       " array([9.95828101e-01, 9.87468481e-01, 9.19897536e-01, 9.97749037e-01,\n",
       "        1.25831526e-03, 4.92489784e-03, 9.13974901e-04, 1.43472519e-03,\n",
       "        2.38210902e-02, 1.14234231e-02, 9.99785060e-01, 5.85509777e-06,\n",
       "        9.82188405e-01, 5.19939420e-03, 9.96926227e-01, 9.77749804e-03,\n",
       "        2.67951618e-03, 9.99107274e-01, 9.69537883e-01, 2.23721037e-03]),\n",
       " array([9.88916486e-01, 9.28840005e-04, 6.32533180e-02, 1.25359898e-01,\n",
       "        9.34940709e-01, 6.67054546e-01, 9.80231991e-01, 2.04584356e-02,\n",
       "        7.40367960e-01, 7.61563178e-02, 9.87143871e-01, 5.78114042e-02,\n",
       "        2.68961512e-03, 9.21452234e-02, 9.37216988e-01, 9.89233380e-01,\n",
       "        8.44103026e-01, 9.09098299e-02, 5.61202520e-04, 6.80563850e-04]),\n",
       " array([9.16138102e-01, 3.41489511e-02, 9.68120323e-01, 6.73041750e-02,\n",
       "        3.41927880e-02, 3.53950783e-02, 9.78283876e-01, 4.92652308e-02,\n",
       "        7.70348152e-02, 8.21302227e-02, 4.69743569e-01, 3.09872969e-02,\n",
       "        2.74353086e-01, 6.92008441e-04, 5.83453140e-02, 6.22644583e-01,\n",
       "        9.64572847e-01, 8.31906821e-01, 9.54731967e-01, 9.31139443e-01]),\n",
       " array([0.89325894])]"
      ]
     },
     "execution_count": 18,
     "metadata": {},
     "output_type": "execute_result"
    }
   ],
   "source": [
    "activity"
   ]
  },
  {
   "cell_type": "code",
   "execution_count": 19,
   "metadata": {},
   "outputs": [
    {
     "data": {
      "text/plain": [
       "array([-0.10430231,  0.10506354,  0.13766761, ..., -0.00826633,\n",
       "       -0.00826633, -0.00826633])"
      ]
     },
     "execution_count": 19,
     "metadata": {},
     "output_type": "execute_result"
    }
   ],
   "source": [
    "allError"
   ]
  },
  {
   "cell_type": "code",
   "execution_count": 20,
   "metadata": {},
   "outputs": [
    {
     "data": {
      "image/png": "[encoded data removed]",
      "text/plain": [
       "<Figure size 432x288 with 2 Axes>"
      ]
     },
     "metadata": {
      "needs_background": "light"
     },
     "output_type": "display_data"
    }
   ],
   "source": [
    "fig3 = plt.figure(3)\n",
    "fig3.clear(True)\n",
    "plt.subplot(1, 2, 1)\n",
    "plt.title(\"Ground Truth\")\n",
    "# plt.plot([-2, 2], [0, 0], \"--k\")\n",
    "# plt.plot([0, 0], [-2, 2], \"--k\")\n",
    "plt.plot(\n",
    "    X[(Y == 1) & isTest, 0],\n",
    "    X[(Y == 1) & isTest, 1],\n",
    "    \"o\",\n",
    "    markerfacecolor=\"r\",\n",
    "    linewidth=1,\n",
    "    markeredgecolor=\"k\",\n",
    "    markersize=14,\n",
    ")\n",
    "plt.plot(\n",
    "    X[(Y == 0) & isTest, 0],\n",
    "    X[(Y == 0) & isTest, 1],\n",
    "    \"o\",\n",
    "    markerfacecolor=\"b\",\n",
    "    linewidth=1,\n",
    "    markeredgecolor=\"k\",\n",
    "    markersize=14,\n",
    ")\n",
    "plt.ylabel(\"Feature 1\")\n",
    "plt.xlabel(\"Feature 2\")\n",
    "\n",
    "\n",
    "plt.subplot(1, 2, 2)\n",
    "plt.title(\"Model Classification\")\n",
    "# plt.plot([-2, 2], [0, 0], \"--k\")\n",
    "# plt.plot([0, 0], [-2, 2], \"--k\")\n",
    "plt.plot(\n",
    "    X[(catPredict == 1) & isTest, 0],\n",
    "    X[(catPredict == 1) & isTest, 1],\n",
    "    \"o\",\n",
    "    markerfacecolor=\"r\",\n",
    "    linewidth=1,\n",
    "    markeredgecolor=\"k\",\n",
    "    markersize=14,\n",
    ")\n",
    "plt.plot(\n",
    "    X[(catPredict == 0) & isTest, 0],\n",
    "    X[(catPredict == 0) & isTest, 1],\n",
    "    \"o\",\n",
    "    markerfacecolor=\"b\",\n",
    "    linewidth=1,\n",
    "    markeredgecolor=\"k\",\n",
    "    markersize=14,\n",
    ")\n",
    "plt.ylabel(\"Feature 1\")\n",
    "plt.xlabel(\"Feature 2\")\n",
    "\n",
    "plt.show()"
   ]
  }
 ],
 "metadata": {
  "kernelspec": {
   "display_name": "Python 3 (ipykernel)",
   "language": "python",
   "name": "python3"
  },
  "language_info": {
   "codemirror_mode": {
    "name": "ipython",
    "version": 3
   },
   "file_extension": ".py",
   "mimetype": "text/x-python",
   "name": "python",
   "nbconvert_exporter": "python",
   "pygments_lexer": "ipython3",
   "version": "3.11.0"
  }
 },
 "nbformat": 4,
 "nbformat_minor": 4
}
