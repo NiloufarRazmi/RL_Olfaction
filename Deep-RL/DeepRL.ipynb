{
 "cells": [
  {
   "cell_type": "markdown",
   "metadata": {},
   "source": [
    "# Deep RL"
   ]
  },
  {
   "cell_type": "markdown",
   "metadata": {
    "id": "54AIvDov_7aa"
   },
   "source": [
    "## Dependencies"
   ]
  },
  {
   "cell_type": "code",
   "execution_count": 1,
   "metadata": {
    "colab": {
     "base_uri": "https://localhost:8080/"
    },
    "id": "gxxpHDIs_lvg",
    "outputId": "412c65c1-7c24-4b9a-f5cf-8f98dd648fe4",
    "tags": []
   },
   "outputs": [],
   "source": [
    "import numpy as np\n",
    "# from numpy.random import default_rng\n",
    "from tqdm import tqdm\n",
    "import matplotlib.pyplot as plt\n",
    "import matplotlib as mpl\n",
    "import matplotlib.patches as mpatches\n",
    "import pandas as pd\n",
    "import seaborn as sns"
   ]
  },
  {
   "cell_type": "code",
   "execution_count": 2,
   "metadata": {
    "tags": []
   },
   "outputs": [],
   "source": [
    "from utils import Params\n",
    "from env.RandomWalk1D import RandomWalk1D, Actions\n",
    "from agent import QLearningFuncApprox, EpsilonGreedy"
   ]
  },
  {
   "cell_type": "code",
   "execution_count": 3,
   "metadata": {
    "colab": {
     "base_uri": "https://localhost:8080/"
    },
    "id": "gxxpHDIs_lvg",
    "outputId": "412c65c1-7c24-4b9a-f5cf-8f98dd648fe4",
    "tags": []
   },
   "outputs": [],
   "source": [
    "# Formatting & autoreload stuff\n",
    "%load_ext lab_black\n",
    "%load_ext autoreload\n",
    "%autoreload 2"
   ]
  },
  {
   "cell_type": "code",
   "execution_count": 4,
   "metadata": {
    "colab": {
     "base_uri": "https://localhost:8080/"
    },
    "id": "gxxpHDIs_lvg",
    "outputId": "412c65c1-7c24-4b9a-f5cf-8f98dd648fe4",
    "tags": []
   },
   "outputs": [],
   "source": [
    "sns.set_theme(font_scale=1.5)\n",
    "mpl.rcParams[\"font.family\"] = [\"Fira Sans\", \"sans-serif\"]"
   ]
  },
  {
   "cell_type": "markdown",
   "metadata": {},
   "source": [
    "## Parameters"
   ]
  },
  {
   "cell_type": "code",
   "execution_count": 5,
   "metadata": {
    "id": "NP28hCqLiVSy"
   },
   "outputs": [
    {
     "data": {
      "text/plain": [
       "Params(seed=42, rng=None, n_runs=3, total_episodes=50, epsilon=0.1, gamma=0.95, alpha=0.3, jointRep=True, learning_rate=0.001, nLayers=5, nHiddenUnits=20, action_size=None, state_size=None)"
      ]
     },
     "execution_count": 5,
     "metadata": {},
     "output_type": "execute_result"
    }
   ],
   "source": [
    "p = Params(\n",
    "    seed=42,\n",
    "    n_runs=3,\n",
    "    total_episodes=50,\n",
    "    epsilon=0.1,\n",
    "    alpha=0.3,\n",
    "    gamma=0.95,\n",
    "    learning_rate=0.001,\n",
    "    nLayers=5,\n",
    "    nHiddenUnits=20,\n",
    ")\n",
    "p"
   ]
  },
  {
   "cell_type": "code",
   "execution_count": 6,
   "metadata": {
    "id": "NP28hCqLiVSy"
   },
   "outputs": [],
   "source": [
    "# # Set the seed\n",
    "# p.rng = np.random.default_rng(p.seed)"
   ]
  },
  {
   "cell_type": "markdown",
   "metadata": {
    "id": "0fz-X3HTQueX"
   },
   "source": [
    "## The environment"
   ]
  },
  {
   "cell_type": "code",
   "execution_count": 7,
   "metadata": {
    "tags": []
   },
   "outputs": [],
   "source": [
    "env = RandomWalk1D()"
   ]
  },
  {
   "cell_type": "code",
   "execution_count": 8,
   "metadata": {
    "colab": {
     "base_uri": "https://localhost:8080/"
    },
    "id": "Uc0xDVd_Q-C8",
    "outputId": "927b86ea-5a41-401a-d81a-99dd183cea55"
   },
   "outputs": [
    {
     "name": "stdout",
     "output_type": "stream",
     "text": [
      "Action size: 2\n",
      "State size: 7\n"
     ]
    }
   ],
   "source": [
    "p.action_size = len(env.action_space)\n",
    "p.state_size = len(env.observation_space)\n",
    "print(f\"Action size: {p.action_size}\")\n",
    "print(f\"State size: {p.state_size}\")"
   ]
  },
  {
   "cell_type": "markdown",
   "metadata": {},
   "source": [
    "## Running the environment"
   ]
  },
  {
   "cell_type": "code",
   "execution_count": 9,
   "metadata": {
    "colab": {
     "base_uri": "https://localhost:8080/"
    },
    "id": "uyEdi0gGiV1z",
    "outputId": "b644224d-13ff-4806-d751-0088efc24f85"
   },
   "outputs": [],
   "source": [
    "learner = QLearningFuncApprox(\n",
    "    learning_rate=p.alpha,\n",
    "    gamma=p.gamma,\n",
    "    state_size=p.state_size,\n",
    "    action_size=p.action_size,\n",
    ")"
   ]
  },
  {
   "cell_type": "code",
   "execution_count": 10,
   "metadata": {
    "colab": {
     "base_uri": "https://localhost:8080/"
    },
    "id": "uyEdi0gGiV1z",
    "outputId": "b644224d-13ff-4806-d751-0088efc24f85"
   },
   "outputs": [],
   "source": [
    "explorer = EpsilonGreedy(epsilon=p.epsilon, rng=p.rng)"
   ]
  },
  {
   "cell_type": "code",
   "execution_count": 11,
   "metadata": {
    "colab": {
     "base_uri": "https://localhost:8080/"
    },
    "id": "uyEdi0gGiV1z",
    "outputId": "b644224d-13ff-4806-d751-0088efc24f85"
   },
   "outputs": [
    {
     "name": "stderr",
     "output_type": "stream",
     "text": [
      "                                                                                                      \r"
     ]
    }
   ],
   "source": [
    "rewards = np.zeros((p.total_episodes, p.n_runs))\n",
    "steps = np.zeros((p.total_episodes, p.n_runs))\n",
    "episodes = np.arange(p.total_episodes)\n",
    "qtables = np.zeros((p.n_runs, p.state_size, p.action_size))\n",
    "all_states = []\n",
    "all_actions = []\n",
    "\n",
    "for run in range(p.n_runs):  # Run several times to account for stochasticity\n",
    "    learner.reset(\n",
    "        action_size=env.numActions\n",
    "    )  # Reset the Q-table and the weights between runs\n",
    "\n",
    "    for episode in tqdm(episodes, desc=f\"Run {run}/{p.n_runs} - Episodes\", leave=False):\n",
    "        state = env.reset()  # Reset the environment\n",
    "        step = 0\n",
    "        done = False\n",
    "        total_rewards = 0\n",
    "\n",
    "        while not done:\n",
    "            learner.Q_hat_table = learner.Q_hat(learner.weights, learner.features)\n",
    "\n",
    "            action = explorer.choose_action(\n",
    "                action_space=env.action_space, state=state, qtable=learner.Q_hat_table\n",
    "            )\n",
    "\n",
    "            # Log all states and actions\n",
    "            all_states.append(state)\n",
    "            all_actions.append(action)\n",
    "\n",
    "            # Take the action (a) and observe the outcome state(s') and reward (r)\n",
    "            new_state, reward, done = env.step(action)\n",
    "\n",
    "            learner.weights[:, action] = learner.update_weights(\n",
    "                state, action, reward, new_state\n",
    "            )\n",
    "\n",
    "            total_rewards += reward\n",
    "            step += 1\n",
    "\n",
    "            # Our new state is state\n",
    "            state = new_state\n",
    "\n",
    "        # Log all rewards and steps\n",
    "        rewards[episode, run] = total_rewards\n",
    "        steps[episode, run] = step\n",
    "    qtables[run, :, :] = learner.Q_hat_table"
   ]
  },
  {
   "cell_type": "markdown",
   "metadata": {
    "colab": {
     "base_uri": "https://localhost:8080/"
    },
    "id": "uyEdi0gGiV1z",
    "outputId": "b644224d-13ff-4806-d751-0088efc24f85",
    "tags": []
   },
   "source": [
    "## Visualization"
   ]
  },
  {
   "cell_type": "code",
   "execution_count": 12,
   "metadata": {},
   "outputs": [],
   "source": [
    "def postprocess(episodes, p, rewards, steps, qtables):\n",
    "    \"\"\"Convert the results of the simulation in dataframes.\"\"\"\n",
    "    res = pd.DataFrame(\n",
    "        data={\n",
    "            \"Episodes\": np.tile(episodes, reps=p.n_runs),\n",
    "            \"Rewards\": rewards.flatten(order=\"F\"),\n",
    "            \"Steps\": steps.flatten(order=\"F\"),\n",
    "        }\n",
    "    )\n",
    "    # res[\"cum_rewards\"] = rewards.cumsum(axis=0).flatten(order=\"F\")\n",
    "    qtable = qtables.mean(axis=0)  # Average the Q-table between runs\n",
    "    return res, qtable"
   ]
  },
  {
   "cell_type": "code",
   "execution_count": 13,
   "metadata": {
    "tags": []
   },
   "outputs": [],
   "source": [
    "res, qtable = postprocess(episodes, p, rewards, steps, qtables)"
   ]
  },
  {
   "cell_type": "code",
   "execution_count": 14,
   "metadata": {
    "tags": []
   },
   "outputs": [
    {
     "data": {
      "text/html": [
       "<div>\n",
       "<style scoped>\n",
       "    .dataframe tbody tr th:only-of-type {\n",
       "        vertical-align: middle;\n",
       "    }\n",
       "\n",
       "    .dataframe tbody tr th {\n",
       "        vertical-align: top;\n",
       "    }\n",
       "\n",
       "    .dataframe thead th {\n",
       "        text-align: right;\n",
       "    }\n",
       "</style>\n",
       "<table border=\"1\" class=\"dataframe\">\n",
       "  <thead>\n",
       "    <tr style=\"text-align: right;\">\n",
       "      <th></th>\n",
       "      <th>Episodes</th>\n",
       "      <th>Rewards</th>\n",
       "      <th>Steps</th>\n",
       "    </tr>\n",
       "  </thead>\n",
       "  <tbody>\n",
       "    <tr>\n",
       "      <th>0</th>\n",
       "      <td>0</td>\n",
       "      <td>1.0</td>\n",
       "      <td>5.0</td>\n",
       "    </tr>\n",
       "    <tr>\n",
       "      <th>1</th>\n",
       "      <td>1</td>\n",
       "      <td>1.0</td>\n",
       "      <td>17.0</td>\n",
       "    </tr>\n",
       "    <tr>\n",
       "      <th>2</th>\n",
       "      <td>2</td>\n",
       "      <td>-1.0</td>\n",
       "      <td>11.0</td>\n",
       "    </tr>\n",
       "    <tr>\n",
       "      <th>3</th>\n",
       "      <td>3</td>\n",
       "      <td>1.0</td>\n",
       "      <td>9.0</td>\n",
       "    </tr>\n",
       "    <tr>\n",
       "      <th>4</th>\n",
       "      <td>4</td>\n",
       "      <td>1.0</td>\n",
       "      <td>9.0</td>\n",
       "    </tr>\n",
       "    <tr>\n",
       "      <th>...</th>\n",
       "      <td>...</td>\n",
       "      <td>...</td>\n",
       "      <td>...</td>\n",
       "    </tr>\n",
       "    <tr>\n",
       "      <th>145</th>\n",
       "      <td>45</td>\n",
       "      <td>1.0</td>\n",
       "      <td>3.0</td>\n",
       "    </tr>\n",
       "    <tr>\n",
       "      <th>146</th>\n",
       "      <td>46</td>\n",
       "      <td>1.0</td>\n",
       "      <td>3.0</td>\n",
       "    </tr>\n",
       "    <tr>\n",
       "      <th>147</th>\n",
       "      <td>47</td>\n",
       "      <td>1.0</td>\n",
       "      <td>3.0</td>\n",
       "    </tr>\n",
       "    <tr>\n",
       "      <th>148</th>\n",
       "      <td>48</td>\n",
       "      <td>1.0</td>\n",
       "      <td>3.0</td>\n",
       "    </tr>\n",
       "    <tr>\n",
       "      <th>149</th>\n",
       "      <td>49</td>\n",
       "      <td>1.0</td>\n",
       "      <td>9.0</td>\n",
       "    </tr>\n",
       "  </tbody>\n",
       "</table>\n",
       "<p>150 rows × 3 columns</p>\n",
       "</div>"
      ],
      "text/plain": [
       "     Episodes  Rewards  Steps\n",
       "0           0      1.0    5.0\n",
       "1           1      1.0   17.0\n",
       "2           2     -1.0   11.0\n",
       "3           3      1.0    9.0\n",
       "4           4      1.0    9.0\n",
       "..        ...      ...    ...\n",
       "145        45      1.0    3.0\n",
       "146        46      1.0    3.0\n",
       "147        47      1.0    3.0\n",
       "148        48      1.0    3.0\n",
       "149        49      1.0    9.0\n",
       "\n",
       "[150 rows x 3 columns]"
      ]
     },
     "execution_count": 14,
     "metadata": {},
     "output_type": "execute_result"
    }
   ],
   "source": [
    "res"
   ]
  },
  {
   "cell_type": "code",
   "execution_count": 15,
   "metadata": {
    "tags": []
   },
   "outputs": [
    {
     "data": {
      "text/plain": [
       "array([[ 0.        ,  0.        ],\n",
       "       [-0.37      ,  0.1073023 ],\n",
       "       [ 0.01798892,  0.51627833],\n",
       "       [ 0.1842929 ,  0.90249457],\n",
       "       [ 0.18742287,  0.9499995 ],\n",
       "       [ 0.21630925,  0.99999996],\n",
       "       [ 0.        ,  0.        ]])"
      ]
     },
     "execution_count": 15,
     "metadata": {},
     "output_type": "execute_result"
    }
   ],
   "source": [
    "qtable"
   ]
  },
  {
   "cell_type": "markdown",
   "metadata": {},
   "source": [
    "As a sanity check, we will plot the distributions of states and actions\n",
    "with the following function:"
   ]
  },
  {
   "cell_type": "code",
   "execution_count": 16,
   "metadata": {},
   "outputs": [],
   "source": [
    "def plot_states_actions_distribution(states, actions):\n",
    "    \"\"\"Plot the distributions of states and actions.\"\"\"\n",
    "    fig, ax = plt.subplots(nrows=1, ncols=2, figsize=(13, 5))\n",
    "    sns.histplot(data=states, ax=ax[0])\n",
    "    ax[0].set_title(\"States\")\n",
    "    sns.histplot(data=actions, ax=ax[1])\n",
    "    ax[1].set_xticks(\n",
    "        [item.value for item in Actions], labels=[item.name for item in Actions]\n",
    "    )\n",
    "    ax[1].set_title(\"Actions\")\n",
    "    fig.tight_layout()\n",
    "    plt.show()"
   ]
  },
  {
   "cell_type": "code",
   "execution_count": 17,
   "metadata": {
    "tags": []
   },
   "outputs": [
    {
     "data": {
      "image/png": "[encoded data removed]",
      "text/plain": [
       "<Figure size 936x360 with 2 Axes>"
      ]
     },
     "metadata": {
      "needs_background": "light"
     },
     "output_type": "display_data"
    }
   ],
   "source": [
    "plot_states_actions_distribution(all_states, all_actions)"
   ]
  },
  {
   "cell_type": "code",
   "execution_count": 18,
   "metadata": {
    "colab": {
     "base_uri": "https://localhost:8080/",
     "height": 317
    },
    "id": "pk8lHOjiL7fa",
    "outputId": "0474335e-bf29-4be1-d877-e6adc5a13afc"
   },
   "outputs": [],
   "source": [
    "def plot_steps_and_rewards(df):\n",
    "    \"\"\"Plot the steps and rewards from dataframes.\"\"\"\n",
    "    fig, ax = plt.subplots(nrows=1, ncols=2, figsize=(15, 5))\n",
    "    sns.lineplot(data=df, x=\"Episodes\", y=\"Rewards\", ax=ax[0])\n",
    "    ax[0].set(ylabel=f\"Rewards\\naveraged over {p.n_runs} runs\")\n",
    "\n",
    "    sns.lineplot(data=df, x=\"Episodes\", y=\"Steps\", ax=ax[1])\n",
    "    ax[1].set(ylabel=f\"Steps number\\naveraged over {p.n_runs} runs\")\n",
    "\n",
    "    fig.tight_layout()\n",
    "    plt.show()"
   ]
  },
  {
   "cell_type": "code",
   "execution_count": 19,
   "metadata": {
    "id": "Xj1z5ob10ltw"
   },
   "outputs": [
    {
     "data": {
      "image/png": "[encoded data removed]",
      "text/plain": [
       "<Figure size 1080x360 with 2 Axes>"
      ]
     },
     "metadata": {
      "needs_background": "light"
     },
     "output_type": "display_data"
    }
   ],
   "source": [
    "plot_steps_and_rewards(res)"
   ]
  },
  {
   "cell_type": "code",
   "execution_count": 20,
   "metadata": {
    "tags": []
   },
   "outputs": [
    {
     "data": {
      "text/plain": [
       "array([[ 0.        ,  0.        ],\n",
       "       [-0.37      ,  0.1073023 ],\n",
       "       [ 0.01798892,  0.51627833],\n",
       "       [ 0.1842929 ,  0.90249457],\n",
       "       [ 0.18742287,  0.9499995 ],\n",
       "       [ 0.21630925,  0.99999996],\n",
       "       [ 0.        ,  0.        ]])"
      ]
     },
     "execution_count": 20,
     "metadata": {},
     "output_type": "execute_result"
    }
   ],
   "source": [
    "qtable"
   ]
  },
  {
   "cell_type": "code",
   "execution_count": 21,
   "metadata": {
    "tags": []
   },
   "outputs": [
    {
     "data": {
      "text/plain": [
       "array([[ 0.        ,  0.        , -0.37      ,  0.1073023 ,  0.01798892,\n",
       "         0.51627833,  0.1842929 ,  0.90249457,  0.18742287,  0.9499995 ,\n",
       "         0.21630925,  0.99999996,  0.        ,  0.        ]])"
      ]
     },
     "execution_count": 21,
     "metadata": {},
     "output_type": "execute_result"
    }
   ],
   "source": [
    "qtable_flat = qtable.flatten()[np.newaxis, :]\n",
    "qtable_flat"
   ]
  },
  {
   "cell_type": "code",
   "execution_count": 22,
   "metadata": {
    "tags": []
   },
   "outputs": [],
   "source": [
    "def plot_q_values():\n",
    "    fig, ax = plt.subplots(figsize=(15, 1.5))\n",
    "    cmap = sns.color_palette(\"vlag\", as_cmap=True)\n",
    "    chart = sns.heatmap(\n",
    "        qtable.flatten()[np.newaxis, :],\n",
    "        annot=True,\n",
    "        ax=ax,\n",
    "        cmap=cmap,\n",
    "        yticklabels=False,  # linewidth=0.5\n",
    "        center=0,\n",
    "    )\n",
    "    states_nodes = np.arange(1, 14, 2)\n",
    "    chart.set_xticks(states_nodes)\n",
    "    chart.set_xticklabels([str(item) for item in np.arange(0, 7, 1)])\n",
    "    chart.set_title(\"Q values\")\n",
    "    ax.tick_params(bottom=True)\n",
    "\n",
    "    # Add actions arrows\n",
    "    for node in states_nodes:\n",
    "        arrows_left = {\"x_tail\": node, \"y_tail\": 1.4, \"x_head\": node - 1, \"y_head\": 1.4}\n",
    "        arrow = mpatches.FancyArrowPatch(\n",
    "            (arrows_left[\"x_tail\"], arrows_left[\"y_tail\"]),\n",
    "            (arrows_left[\"x_head\"], arrows_left[\"y_head\"]),\n",
    "            mutation_scale=10,\n",
    "            clip_on=False,\n",
    "            color=\"k\",\n",
    "        )\n",
    "        ax.add_patch(arrow)\n",
    "        arrows_right = {\n",
    "            \"x_tail\": node,\n",
    "            \"y_tail\": 1.4,\n",
    "            \"x_head\": node + 1,\n",
    "            \"y_head\": 1.4,\n",
    "        }\n",
    "        arrow = mpatches.FancyArrowPatch(\n",
    "            (arrows_right[\"x_tail\"], arrows_right[\"y_tail\"]),\n",
    "            (arrows_right[\"x_head\"], arrows_right[\"y_head\"]),\n",
    "            mutation_scale=10,\n",
    "            clip_on=False,\n",
    "            color=\"k\",\n",
    "        )\n",
    "        ax.add_patch(arrow)\n",
    "\n",
    "        # Add rectangle to separate each state pair\n",
    "        rect = mpatches.Rectangle(\n",
    "            (node - 1, 0),\n",
    "            2,\n",
    "            1,\n",
    "            linewidth=2,\n",
    "            edgecolor=\"k\",\n",
    "            facecolor=\"none\",\n",
    "            clip_on=False,\n",
    "        )\n",
    "        ax.add_patch(rect)\n",
    "\n",
    "    plt.show()"
   ]
  },
  {
   "cell_type": "code",
   "execution_count": 23,
   "metadata": {
    "tags": []
   },
   "outputs": [
    {
     "data": {
      "image/png": "[encoded data removed]",
      "text/plain": [
       "<Figure size 1080x108 with 2 Axes>"
      ]
     },
     "metadata": {
      "needs_background": "light"
     },
     "output_type": "display_data"
    }
   ],
   "source": [
    "plot_q_values()"
   ]
  },
  {
   "cell_type": "code",
   "execution_count": null,
   "metadata": {},
   "outputs": [],
   "source": []
  }
 ],
 "metadata": {
  "accelerator": "GPU",
  "colab": {
   "provenance": []
  },
  "kernelspec": {
   "display_name": "Python 3 (ipykernel)",
   "language": "python",
   "name": "python3"
  },
  "language_info": {
   "codemirror_mode": {
    "name": "ipython",
    "version": 3
   },
   "file_extension": ".py",
   "mimetype": "text/x-python",
   "name": "python",
   "nbconvert_exporter": "python",
   "pygments_lexer": "ipython3",
   "version": "3.11.2"
  }
 },
 "nbformat": 4,
 "nbformat_minor": 4
}
