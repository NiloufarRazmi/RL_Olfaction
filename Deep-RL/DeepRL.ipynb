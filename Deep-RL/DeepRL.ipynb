{
 "cells": [
  {
   "cell_type": "markdown",
   "metadata": {},
   "source": [
    "# Deep RL"
   ]
  },
  {
   "cell_type": "markdown",
   "metadata": {},
   "source": [
    "1. inputs need to reflect position in arena and odor (NOT CONJUNCTIONS)\n",
    "2. outputs need to reflect action values\n",
    "3. actions are selected via softmax on output neuron activity. \n",
    "4. RPE requires knowing value of new state\n",
    "   -- so this will require a forward pass using \"new state\" inputs."
   ]
  },
  {
   "cell_type": "code",
   "execution_count": 1,
   "metadata": {},
   "outputs": [],
   "source": [
    "# Import packages\n",
    "import numpy as np\n",
    "from tqdm import tqdm\n",
    "\n",
    "# %matplotlib ipympl\n",
    "import matplotlib.pyplot as plt\n",
    "import matplotlib as mpl\n",
    "import seaborn as sns"
   ]
  },
  {
   "cell_type": "code",
   "execution_count": 2,
   "metadata": {},
   "outputs": [],
   "source": [
    "# Load custom functions\n",
    "from utils import Params\n",
    "from deep_learning import Network"
   ]
  },
  {
   "cell_type": "code",
   "execution_count": 3,
   "metadata": {},
   "outputs": [],
   "source": [
    "# Formatting & autoreload stuff\n",
    "%load_ext lab_black\n",
    "%load_ext autoreload\n",
    "%autoreload 2\n",
    "sns.set_theme(font_scale=1.5)\n",
    "mpl.rcParams[\"font.family\"] = [\"Fira Sans\", \"sans-serif\"]"
   ]
  },
  {
   "cell_type": "markdown",
   "metadata": {},
   "source": [
    "## Main options"
   ]
  },
  {
   "cell_type": "code",
   "execution_count": 4,
   "metadata": {},
   "outputs": [],
   "source": [
    "nTrain = 1000000\n",
    "nTest = 100\n",
    "problem = 2"
   ]
  },
  {
   "cell_type": "code",
   "execution_count": 5,
   "metadata": {},
   "outputs": [
    {
     "data": {
      "text/plain": [
       "(1000100, 2)"
      ]
     },
     "execution_count": 5,
     "metadata": {},
     "output_type": "execute_result"
    }
   ],
   "source": [
    "nTot = nTrain + nTest\n",
    "# create two normal input channels\n",
    "X = np.random.multivariate_normal([0, 0], 10 * np.eye(2), size=nTot)\n",
    "# X = pd.read_csv(\"X.csv\", header=None).to_numpy()\n",
    "# Y is positive if X(1) & X(2) are positive, OR if X(1) and X(2) are negative.\n",
    "X.shape"
   ]
  },
  {
   "cell_type": "code",
   "execution_count": 6,
   "metadata": {},
   "outputs": [
    {
     "data": {
      "text/plain": [
       "array([0., 0., 1., ..., 1., 1., 1.])"
      ]
     },
     "execution_count": 6,
     "metadata": {},
     "output_type": "execute_result"
    }
   ],
   "source": [
    "Y = np.sign(X[:, 0] * X[:, 1]) / 2.0 + 0.5\n",
    "Y"
   ]
  },
  {
   "cell_type": "markdown",
   "metadata": {},
   "source": [
    "## Choose the task parameters"
   ]
  },
  {
   "cell_type": "code",
   "execution_count": 7,
   "metadata": {},
   "outputs": [
    {
     "data": {
      "text/plain": [
       "Params(learning_rate=0.001, nLayers=5, nHiddenUnits=20)"
      ]
     },
     "execution_count": 7,
     "metadata": {},
     "output_type": "execute_result"
    }
   ],
   "source": [
    "# Choose the parameters for the task\n",
    "p = Params(learning_rate=0.001, nLayers=5, nHiddenUnits=20)\n",
    "p"
   ]
  },
  {
   "cell_type": "markdown",
   "metadata": {},
   "source": [
    "## Step 2: Build network"
   ]
  },
  {
   "cell_type": "code",
   "execution_count": 8,
   "metadata": {},
   "outputs": [],
   "source": [
    "nn = Network(\n",
    "    nInputUnits=X.shape[1],\n",
    "    nLayers=p.nLayers,\n",
    "    nOutputUnits=1,\n",
    "    nHiddenUnits=p.nHiddenUnits,\n",
    "    initVar=1,\n",
    ")"
   ]
  },
  {
   "cell_type": "markdown",
   "metadata": {},
   "source": [
    "## Step 3: Train network"
   ]
  },
  {
   "cell_type": "code",
   "execution_count": 9,
   "metadata": {},
   "outputs": [
    {
     "name": "stderr",
     "output_type": "stream",
     "text": [
      "100%|█████████████████████████████████████████████████████| 1000000/1000000 [02:25<00:00, 6892.59it/s]\n"
     ]
    }
   ],
   "source": [
    "allError = np.nan * np.ones(nTot)\n",
    "catPredict = np.nan * np.ones(nTot)\n",
    "\n",
    "for i in tqdm(range(nTrain)):\n",
    "    activity = nn.forward_pass(p.nLayers, X, i)\n",
    "\n",
    "    # Take an action! softmax over actions or similar\n",
    "\n",
    "    # incorporate your model of the task, to determine where agent actually goes.\n",
    "\n",
    "    # Now you need to do another forward pass, to see how good the new\n",
    "    # state is so that you can compute the RPE below.\n",
    "\n",
    "    # your cost function will differ from the one below,\n",
    "    # should look something like this:\n",
    "    # C =  R - X(S)*W+ DISCOUNT*max(X(S')*W)\n",
    "\n",
    "    delta = nn.backward_pass(p.nLayers, Y, activity, i)\n",
    "\n",
    "    # Update weight matrices according to gradients and activities:\n",
    "    for j in range(len(nn.wtMatrix) - 1):\n",
    "        nn.wtMatrix[j] = (\n",
    "            nn.wtMatrix[j]\n",
    "            + p.learning_rate * np.expand_dims(activity[j], axis=1) * delta[j + 1].T\n",
    "        )\n",
    "\n",
    "    # store error:\n",
    "    allError[i] = delta[-1]\n",
    "    catPredict[i] = activity[-1] > 0.5"
   ]
  },
  {
   "cell_type": "code",
   "execution_count": 10,
   "metadata": {},
   "outputs": [
    {
     "data": {
      "text/plain": [
       "[array([-1.50699491,  1.47165891]),\n",
       " array([0.05883477, 0.1961154 , 0.0774169 , 0.03000719, 0.09615324,\n",
       "        0.95986509, 0.12619416, 0.89117487, 0.11732376, 0.10974569,\n",
       "        0.05940264, 0.00787978, 0.89011743, 0.88933653, 0.05883529,\n",
       "        0.90736833, 0.84773633, 0.02730249, 0.97571691, 0.056729  ]),\n",
       " array([0.70720337, 0.0805315 , 0.17332843, 0.96741128, 0.16555343,\n",
       "        0.55899916, 0.64123637, 0.00248855, 0.18240166, 0.92760217,\n",
       "        0.37015455, 0.82540474, 0.123081  , 0.95919875, 0.94349161,\n",
       "        0.14441443, 0.93063967, 0.54209505, 0.0365584 , 0.04205483]),\n",
       " array([0.99231948, 0.84061463, 0.00331538, 0.99630684, 0.95495666,\n",
       "        0.04405931, 0.01144361, 0.00656638, 0.10297836, 0.07928234,\n",
       "        0.0873479 , 0.95064572, 0.18924749, 0.0098424 , 0.99639678,\n",
       "        0.10987401, 0.00592439, 0.96432079, 0.49124149, 0.98400654]),\n",
       " array([0.12938512])]"
      ]
     },
     "execution_count": 10,
     "metadata": {},
     "output_type": "execute_result"
    }
   ],
   "source": [
    "activity"
   ]
  },
  {
   "cell_type": "code",
   "execution_count": 11,
   "metadata": {},
   "outputs": [
    {
     "data": {
      "text/plain": [
       "[array([0.00528025, 0.00023134]),\n",
       " array([ 1.49727170e-04,  4.69729872e-04,  9.74319096e-05,  7.42510750e-05,\n",
       "         4.22075397e-04,  1.64842058e-04,  1.96053720e-04,  2.63958741e-04,\n",
       "        -2.55549254e-04, -5.86014242e-04, -6.20206104e-05, -1.47271769e-05,\n",
       "         2.08227823e-04,  3.08277101e-05,  1.26559076e-04,  1.02538909e-04,\n",
       "         6.48326607e-04, -3.14836397e-05,  1.30851364e-04,  2.26626554e-04]),\n",
       " array([ 9.46204342e-04, -2.00773513e-04, -1.76775966e-03,  6.48878201e-04,\n",
       "        -2.04781124e-03,  1.19551558e-03,  6.27674999e-04,  1.56434529e-05,\n",
       "        -1.38438593e-03,  1.29774382e-04, -8.69723699e-04,  1.57899729e-03,\n",
       "        -1.13363106e-03,  3.67933852e-04,  3.24860191e-04,  1.20617827e-04,\n",
       "        -9.35654981e-05, -1.63795453e-04, -1.61850036e-04, -1.82181403e-04]),\n",
       " array([ 1.18626853e-04, -8.19138622e-04, -3.90631686e-05, -7.72803524e-05,\n",
       "         6.66412245e-04, -2.05498142e-03, -5.46690287e-04, -6.14474491e-05,\n",
       "        -2.55658128e-03, -1.48463538e-03, -3.28014142e-03,  5.74174286e-04,\n",
       "        -1.81145885e-03, -8.68735925e-05,  6.62572904e-05, -2.45281006e-03,\n",
       "        -2.45754326e-04,  3.39513042e-04, -1.76586868e-03,  5.97366291e-04]),\n",
       " array([-0.03221128])]"
      ]
     },
     "execution_count": 11,
     "metadata": {},
     "output_type": "execute_result"
    }
   ],
   "source": [
    "delta"
   ]
  },
  {
   "cell_type": "code",
   "execution_count": 12,
   "metadata": {},
   "outputs": [
    {
     "data": {
      "text/plain": [
       "array([-0.19313913, -0.19394939,  0.00529407, ...,         nan,\n",
       "               nan,         nan])"
      ]
     },
     "execution_count": 12,
     "metadata": {},
     "output_type": "execute_result"
    }
   ],
   "source": [
    "allError"
   ]
  },
  {
   "cell_type": "code",
   "execution_count": 13,
   "metadata": {},
   "outputs": [
    {
     "data": {
      "text/plain": [
       "array([ 1.,  1.,  1., ..., nan, nan, nan])"
      ]
     },
     "execution_count": 13,
     "metadata": {},
     "output_type": "execute_result"
    }
   ],
   "source": [
    "catPredict"
   ]
  },
  {
   "cell_type": "code",
   "execution_count": 14,
   "metadata": {},
   "outputs": [
    {
     "data": {
      "text/plain": [
       "array([0.10085488, 0.10515501, 0.10717093, 0.11025688, 0.11215016,\n",
       "       0.11321342, 0.11295569, 0.11266895, 0.11161336, 0.11072202,\n",
       "       0.10926565, 0.10806482, 0.10623626, 0.10518542, 0.10380543,\n",
       "       0.10258413, 0.10139419, 0.09992573, 0.0989195 , 0.09755125,\n",
       "       0.09660378, 0.09565331, 0.09416239, 0.0931968 , 0.09278734,\n",
       "       0.09189343, 0.09052679, 0.08975877, 0.08838634, 0.08764792,\n",
       "       0.08654969, 0.08558066, 0.08466092, 0.08397771, 0.08274407,\n",
       "       0.08183089, 0.08111123, 0.07966458, 0.07847685, 0.07776454,\n",
       "       0.07654752, 0.07573166, 0.07500079, 0.0737277 , 0.07325204,\n",
       "       0.07223615, 0.0714454 , 0.07047538, 0.06992041, 0.0677625 ,\n",
       "       0.06744911, 0.06568658, 0.06533882, 0.06390524, 0.06341114,\n",
       "       0.06226727, 0.0617468 , 0.06066121, 0.05917065, 0.0588255 ,\n",
       "       0.05831818, 0.05720002, 0.05594812, 0.05516475, 0.05378524,\n",
       "       0.05306129, 0.05245549, 0.05213069, 0.05165209, 0.05049116,\n",
       "       0.04981757, 0.04888967, 0.0484184 , 0.04833855, 0.04734615,\n",
       "       0.04694146, 0.04621074, 0.04665299, 0.04571881, 0.04571318,\n",
       "       0.04481941, 0.04445303, 0.04384303, 0.04346969, 0.04350425,\n",
       "       0.04299621, 0.04245082, 0.04233711, 0.04198446, 0.04139502,\n",
       "       0.04165386, 0.04052605, 0.04101316, 0.04041674, 0.04005688,\n",
       "       0.03968697, 0.0391212 , 0.03956251, 0.03886987,        nan])"
      ]
     },
     "execution_count": 14,
     "metadata": {},
     "output_type": "execute_result"
    }
   ],
   "source": [
    "Bins = np.round(np.linspace(0, len(allError), num=100)).astype(int)\n",
    "\n",
    "meanError = np.zeros_like(Bins) * np.nan\n",
    "for i in range(len(Bins) - 1):\n",
    "    meanError[i] = np.nanmean(abs(allError[Bins[i] : Bins[i + 1]]))\n",
    "meanError"
   ]
  },
  {
   "cell_type": "code",
   "execution_count": 15,
   "metadata": {},
   "outputs": [
    {
     "data": {
      "image/png": "[encoded data removed]",
      "text/plain": [
       "<Figure size 576x432 with 1 Axes>"
      ]
     },
     "metadata": {
      "needs_background": "light"
     },
     "output_type": "display_data"
    }
   ],
   "source": [
    "fig, ax = plt.subplots(figsize=(8, 6))\n",
    "chart = sns.lineplot(meanError, ax=ax)\n",
    "ax.set_ylabel(\"Error\")\n",
    "ax.set_xlabel(\"Batches\")\n",
    "plt.show()"
   ]
  },
  {
   "cell_type": "markdown",
   "metadata": {},
   "source": [
    "## Step 4: Test Network"
   ]
  },
  {
   "cell_type": "code",
   "execution_count": 16,
   "metadata": {},
   "outputs": [],
   "source": [
    "for i in range((nTrain + 1), nTot):\n",
    "    activity = nn.forward_pass(p.nLayers, X, i)\n",
    "\n",
    "    # store error\n",
    "    allError[i] = delta[-1]\n",
    "    catPredict[i] = activity[-1] > 0.5\n",
    "\n",
    "isTest = np.zeros(nTot, dtype=bool)\n",
    "isTest[nTrain + 1 :] = True"
   ]
  },
  {
   "cell_type": "code",
   "execution_count": 17,
   "metadata": {},
   "outputs": [
    {
     "data": {
      "text/plain": [
       "[array([0.55207371, 0.11697632]),\n",
       " array([0.45907116, 0.62604129, 0.7144875 , 0.44274218, 0.45389642,\n",
       "        0.4363493 , 0.47812196, 0.55390275, 0.67104279, 0.63612016,\n",
       "        0.719648  , 0.4146179 , 0.55028062, 0.53268647, 0.45044264,\n",
       "        0.31039143, 0.33464342, 0.78462543, 0.25454336, 0.73456892]),\n",
       " array([0.96441726, 0.84941787, 0.28769223, 0.7075087 , 0.29881608,\n",
       "        0.80250532, 0.54558078, 0.19689754, 0.99013934, 0.97302508,\n",
       "        0.10649909, 0.96058621, 0.40282965, 0.87250409, 0.97989924,\n",
       "        0.04799413, 0.28301993, 0.40543082, 0.05311713, 0.06436982]),\n",
       " array([0.99459984, 0.53740316, 0.00402476, 0.98805721, 0.95507867,\n",
       "        0.18016832, 0.01260673, 0.00379362, 0.27168109, 0.13223276,\n",
       "        0.31195322, 0.80238268, 0.08505709, 0.00555701, 0.99588849,\n",
       "        0.16365618, 0.00579882, 0.72126885, 0.8607884 , 0.98376633]),\n",
       " array([0.25292352])]"
      ]
     },
     "execution_count": 17,
     "metadata": {},
     "output_type": "execute_result"
    }
   ],
   "source": [
    "activity"
   ]
  },
  {
   "cell_type": "code",
   "execution_count": 18,
   "metadata": {},
   "outputs": [
    {
     "data": {
      "text/plain": [
       "array([-0.19313913, -0.19394939,  0.00529407, ..., -0.03221128,\n",
       "       -0.03221128, -0.03221128])"
      ]
     },
     "execution_count": 18,
     "metadata": {},
     "output_type": "execute_result"
    }
   ],
   "source": [
    "allError"
   ]
  },
  {
   "cell_type": "code",
   "execution_count": 19,
   "metadata": {},
   "outputs": [
    {
     "data": {
      "image/png": "[encoded data removed]",
      "text/plain": [
       "<Figure size 864x432 with 2 Axes>"
      ]
     },
     "metadata": {
      "needs_background": "light"
     },
     "output_type": "display_data"
    }
   ],
   "source": [
    "fig, ax = plt.subplots(1, 2, figsize=(12, 6))\n",
    "ax[0].set_title(\"Ground Truth\")\n",
    "sns.scatterplot(\n",
    "    x=X[(Y == 1) & isTest, 0],\n",
    "    y=X[(Y == 1) & isTest, 1],\n",
    "    s=200,\n",
    "    ax=ax[0],\n",
    ")\n",
    "sns.scatterplot(\n",
    "    x=X[(Y == 0) & isTest, 0],\n",
    "    y=X[(Y == 0) & isTest, 1],\n",
    "    s=200,\n",
    "    ax=ax[0],\n",
    ")\n",
    "ax[0].set_xlabel(\"Feature 1\")\n",
    "ax[0].set_ylabel(\"Feature 2\")\n",
    "\n",
    "\n",
    "ax[1].set_title(\"Model Classification\")\n",
    "sns.scatterplot(\n",
    "    x=X[(catPredict == 1) & isTest, 0],\n",
    "    y=X[(catPredict == 1) & isTest, 1],\n",
    "    s=200,\n",
    "    ax=ax[1],\n",
    ")\n",
    "sns.scatterplot(\n",
    "    x=X[(catPredict == 0) & isTest, 0],\n",
    "    y=X[(catPredict == 0) & isTest, 1],\n",
    "    s=200,\n",
    "    ax=ax[1],\n",
    ")\n",
    "ax[1].set_xlabel(\"Feature 1\")\n",
    "ax[1].set_ylabel(\"Feature 2\")\n",
    "\n",
    "fig.tight_layout()\n",
    "plt.show()"
   ]
  },
  {
   "cell_type": "code",
   "execution_count": null,
   "metadata": {},
   "outputs": [],
   "source": []
  }
 ],
 "metadata": {
  "kernelspec": {
   "display_name": "Python 3 (ipykernel)",
   "language": "python",
   "name": "python3"
  },
  "language_info": {
   "codemirror_mode": {
    "name": "ipython",
    "version": 3
   },
   "file_extension": ".py",
   "mimetype": "text/x-python",
   "name": "python",
   "nbconvert_exporter": "python",
   "pygments_lexer": "ipython3",
   "version": "3.11.2"
  }
 },
 "nbformat": 4,
 "nbformat_minor": 4
}
