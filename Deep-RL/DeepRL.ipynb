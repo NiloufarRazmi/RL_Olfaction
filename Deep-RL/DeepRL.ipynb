{
 "cells": [
  {
   "cell_type": "markdown",
   "metadata": {},
   "source": [
    "# Deep RL"
   ]
  },
  {
   "cell_type": "markdown",
   "metadata": {},
   "source": [
    "1. inputs need to reflect position in arena and odor (NOT CONJUNCTIONS)\n",
    "2. outputs need to reflect action values\n",
    "3. actions are selected via softmax on output neuron activity. \n",
    "4. RPE requires knowing value of new state\n",
    "   -- so this will require a forward pass using \"new state\" inputs."
   ]
  },
  {
   "cell_type": "code",
   "execution_count": 1,
   "metadata": {},
   "outputs": [],
   "source": [
    "# Import packages\n",
    "import numpy as np\n",
    "from tqdm import tqdm\n",
    "\n",
    "# %matplotlib ipympl\n",
    "import matplotlib.pyplot as plt\n",
    "import matplotlib as mpl\n",
    "import seaborn as sns"
   ]
  },
  {
   "cell_type": "code",
   "execution_count": 2,
   "metadata": {},
   "outputs": [],
   "source": [
    "# Load custom functions\n",
    "from utils import Params\n",
    "from deep_learning import Network"
   ]
  },
  {
   "cell_type": "code",
   "execution_count": 3,
   "metadata": {},
   "outputs": [],
   "source": [
    "# Formatting & autoreload stuff\n",
    "%load_ext lab_black\n",
    "%load_ext autoreload\n",
    "%autoreload 2\n",
    "sns.set_theme(font_scale=1.5)\n",
    "mpl.rcParams[\"font.family\"] = [\"Fira Sans\", \"sans-serif\"]"
   ]
  },
  {
   "cell_type": "markdown",
   "metadata": {},
   "source": [
    "## Main options"
   ]
  },
  {
   "cell_type": "code",
   "execution_count": 4,
   "metadata": {},
   "outputs": [],
   "source": [
    "nTrain = 1000000\n",
    "nTest = 100\n",
    "problem = 2"
   ]
  },
  {
   "cell_type": "code",
   "execution_count": 5,
   "metadata": {},
   "outputs": [
    {
     "data": {
      "text/plain": [
       "(1000100, 2)"
      ]
     },
     "execution_count": 5,
     "metadata": {},
     "output_type": "execute_result"
    }
   ],
   "source": [
    "nTot = nTrain + nTest\n",
    "# create two normal input channels\n",
    "X = np.random.multivariate_normal([0, 0], 10 * np.eye(2), size=nTot)\n",
    "# X = pd.read_csv(\"X.csv\", header=None).to_numpy()\n",
    "# Y is positive if X(1) & X(2) are positive, OR if X(1) and X(2) are negative.\n",
    "X.shape"
   ]
  },
  {
   "cell_type": "code",
   "execution_count": 6,
   "metadata": {},
   "outputs": [
    {
     "data": {
      "text/plain": [
       "array([1., 1., 1., ..., 1., 1., 0.])"
      ]
     },
     "execution_count": 6,
     "metadata": {},
     "output_type": "execute_result"
    }
   ],
   "source": [
    "Y = np.sign(X[:, 0] * X[:, 1]) / 2.0 + 0.5\n",
    "Y"
   ]
  },
  {
   "cell_type": "markdown",
   "metadata": {},
   "source": [
    "## Choose the task parameters"
   ]
  },
  {
   "cell_type": "code",
   "execution_count": 7,
   "metadata": {},
   "outputs": [
    {
     "data": {
      "text/plain": [
       "Params(learning_rate=0.001, nLayers=5, nHiddenUnits=20)"
      ]
     },
     "execution_count": 7,
     "metadata": {},
     "output_type": "execute_result"
    }
   ],
   "source": [
    "# Choose the parameters for the task\n",
    "p = Params(learning_rate=0.001, nLayers=5, nHiddenUnits=20)\n",
    "p"
   ]
  },
  {
   "cell_type": "markdown",
   "metadata": {},
   "source": [
    "## Step 2: Build network"
   ]
  },
  {
   "cell_type": "code",
   "execution_count": 8,
   "metadata": {},
   "outputs": [],
   "source": [
    "nn = Network(\n",
    "    nInputUnits=X.shape[1],\n",
    "    nLayers=p.nLayers,\n",
    "    nOutputUnits=1,\n",
    "    nHiddenUnits=p.nHiddenUnits,\n",
    "    initVar=1,\n",
    ")"
   ]
  },
  {
   "cell_type": "markdown",
   "metadata": {},
   "source": [
    "## Step 3: Train network"
   ]
  },
  {
   "cell_type": "code",
   "execution_count": 9,
   "metadata": {},
   "outputs": [
    {
     "name": "stderr",
     "output_type": "stream",
     "text": [
      "100%|█████████████████████████████████████████████████████| 1000000/1000000 [02:35<00:00, 6431.57it/s]\n"
     ]
    }
   ],
   "source": [
    "allError = np.nan * np.ones(nTot)\n",
    "catPredict = np.nan * np.ones(nTot)\n",
    "\n",
    "for i in tqdm(range(nTrain)):\n",
    "    activity = nn.forward_pass(p.nLayers, X, i)\n",
    "\n",
    "    # Take an action! softmax over actions or similar\n",
    "\n",
    "    # incorporate your model of the task, to determine where agent actually goes.\n",
    "\n",
    "    # Now you need to do another forward pass, to see how good the new\n",
    "    # state is so that you can compute the RPE below.\n",
    "\n",
    "    # your cost function will differ from the one below,\n",
    "    # should look something like this:\n",
    "    # C =  R - X(S)*W+ DISCOUNT*max(X(S')*W)\n",
    "\n",
    "    delta = nn.backward_pass(p.nLayers, Y, activity, i)\n",
    "\n",
    "    # Update weight matrices according to gradients and activities:\n",
    "    for j in range(len(nn.wtMatrix) - 1):\n",
    "        nn.wtMatrix[j] = (\n",
    "            nn.wtMatrix[j]\n",
    "            + p.learning_rate * np.expand_dims(activity[j], axis=1) * delta[j + 1].T\n",
    "        )\n",
    "\n",
    "    # store error:\n",
    "    allError[i] = delta[-1]\n",
    "    catPredict[i] = activity[-1] > 0.5"
   ]
  },
  {
   "cell_type": "code",
   "execution_count": 10,
   "metadata": {},
   "outputs": [
    {
     "data": {
      "text/plain": [
       "[array([ 1.5391838, -1.2191806]),\n",
       " array([0.00564694, 0.53031987, 0.86817303, 0.78071846, 0.8844966 ,\n",
       "        0.03382812, 0.17645833, 0.97923101, 0.9099401 , 0.95143647,\n",
       "        0.10652865, 0.87621698, 0.96034733, 0.89048916, 0.87980364,\n",
       "        0.06614648, 0.12383562, 0.94517853, 0.9687722 , 0.12671029]),\n",
       " array([0.18840912, 0.19275494, 0.9565992 , 0.04644726, 0.05405701,\n",
       "        0.05981788, 0.92670412, 0.92372743, 0.87690487, 0.01029322,\n",
       "        0.03625363, 0.00867703, 0.00122846, 0.72959449, 0.00197683,\n",
       "        0.95025487, 0.8741633 , 0.00839944, 0.15705056, 0.99997231]),\n",
       " array([0.7943868 , 0.94400601, 0.95163807, 0.84921464, 0.26028699,\n",
       "        0.78482777, 0.52630892, 0.02960486, 0.92255912, 0.94245755,\n",
       "        0.95958928, 0.80184211, 0.11497201, 0.09523   , 0.23518107,\n",
       "        0.98113494, 0.03022475, 0.39554471, 0.06886082, 0.9976282 ]),\n",
       " array([0.04566272])]"
      ]
     },
     "execution_count": 10,
     "metadata": {},
     "output_type": "execute_result"
    }
   ],
   "source": [
    "activity"
   ]
  },
  {
   "cell_type": "code",
   "execution_count": 11,
   "metadata": {},
   "outputs": [
    {
     "data": {
      "text/plain": [
       "[array([-0.00053448,  0.00787498]),\n",
       " array([-9.07707176e-06, -2.52060416e-04,  1.61245825e-04, -2.20037002e-05,\n",
       "         2.92708758e-04, -1.22125563e-04, -3.38684497e-04, -2.96682758e-07,\n",
       "         2.09596164e-04,  9.54979548e-05, -1.10304808e-04, -2.07241131e-04,\n",
       "         8.50143546e-05,  2.40834576e-04,  2.18808064e-04, -1.12351690e-04,\n",
       "        -1.22160181e-04, -6.92984783e-05, -1.68798480e-05, -3.27089051e-04]),\n",
       " array([-2.09129450e-04,  9.06195356e-05,  1.74195588e-04, -1.12187405e-04,\n",
       "         9.28849338e-05,  6.12930689e-05,  5.62218542e-04,  1.03309846e-03,\n",
       "         3.40393785e-04, -2.32136699e-05, -7.00719641e-05, -3.09274319e-05,\n",
       "         9.38385716e-07, -9.64477784e-05,  1.54987529e-05, -4.46296053e-05,\n",
       "         8.57944778e-04,  1.46565348e-05, -1.04010210e-03, -2.94208284e-07]),\n",
       " array([ 9.98812661e-04,  9.41882632e-04,  6.16302448e-04,  9.51531874e-04,\n",
       "        -1.56829298e-03,  6.53563468e-04,  4.94624802e-04,  2.25031384e-04,\n",
       "        -6.78594562e-04,  5.46547201e-04,  5.47505818e-04,  1.44337160e-03,\n",
       "        -1.42383342e-03, -1.09071956e-04, -6.17977172e-04, -2.10629599e-04,\n",
       "        -4.15670627e-04,  9.46710351e-04, -1.84040408e-03, -3.62180083e-05]),\n",
       " array([-0.01140973])]"
      ]
     },
     "execution_count": 11,
     "metadata": {},
     "output_type": "execute_result"
    }
   ],
   "source": [
    "delta"
   ]
  },
  {
   "cell_type": "code",
   "execution_count": 12,
   "metadata": {},
   "outputs": [
    {
     "data": {
      "text/plain": [
       "array([0.0908734 , 0.13388429, 0.06943548, ...,        nan,        nan,\n",
       "              nan])"
      ]
     },
     "execution_count": 12,
     "metadata": {},
     "output_type": "execute_result"
    }
   ],
   "source": [
    "allError"
   ]
  },
  {
   "cell_type": "code",
   "execution_count": 13,
   "metadata": {},
   "outputs": [
    {
     "data": {
      "text/plain": [
       "array([ 1.,  0.,  1., ..., nan, nan, nan])"
      ]
     },
     "execution_count": 13,
     "metadata": {},
     "output_type": "execute_result"
    }
   ],
   "source": [
    "catPredict"
   ]
  },
  {
   "cell_type": "code",
   "execution_count": 14,
   "metadata": {},
   "outputs": [
    {
     "data": {
      "text/plain": [
       "array([0.11756318, 0.11227219, 0.10764229, 0.10225381, 0.09811531,\n",
       "       0.09455875, 0.09087104, 0.08849328, 0.08540702, 0.08256475,\n",
       "       0.0802994 , 0.0781301 , 0.07538831, 0.07281642, 0.07056943,\n",
       "       0.06891404, 0.06681082, 0.06477369, 0.06278929, 0.0602161 ,\n",
       "       0.05849151, 0.05707719, 0.05571594, 0.05374835, 0.0523576 ,\n",
       "       0.05081147, 0.04927882, 0.04770446, 0.04638614, 0.04508072,\n",
       "       0.04421598, 0.04279049, 0.04164357, 0.04076836, 0.04012169,\n",
       "       0.03860411, 0.03777736, 0.03774676, 0.03683321, 0.03618847,\n",
       "       0.03538828, 0.03439151, 0.03346176, 0.03286886, 0.03229777,\n",
       "       0.03160864, 0.0310425 , 0.03072117, 0.02989561, 0.02969394,\n",
       "       0.02984574, 0.02882327, 0.02878097, 0.02801851, 0.02753496,\n",
       "       0.02705475, 0.02697063, 0.02602055, 0.02669154, 0.02574412,\n",
       "       0.02559901, 0.02480888, 0.02500636, 0.02439153, 0.02473566,\n",
       "       0.02397441, 0.02393638, 0.02406136, 0.02355288, 0.022857  ,\n",
       "       0.02318117, 0.02258499, 0.02220715, 0.02173192, 0.02210428,\n",
       "       0.02147505, 0.02233422, 0.02136706, 0.02096554, 0.02048176,\n",
       "       0.02053243, 0.0205006 , 0.02002534, 0.02020388, 0.02016131,\n",
       "       0.02003189, 0.01980379, 0.01992023, 0.0196217 , 0.01910745,\n",
       "       0.01892822, 0.01909696, 0.01886644, 0.01890702, 0.01878001,\n",
       "       0.01839463, 0.01811958, 0.0184022 , 0.01785183,        nan])"
      ]
     },
     "execution_count": 14,
     "metadata": {},
     "output_type": "execute_result"
    }
   ],
   "source": [
    "Bins = np.round(np.linspace(0, len(allError), num=100)).astype(int)\n",
    "\n",
    "meanError = np.zeros_like(Bins) * np.nan\n",
    "for i in range(len(Bins) - 1):\n",
    "    meanError[i] = np.nanmean(abs(allError[Bins[i] : Bins[i + 1]]))\n",
    "meanError"
   ]
  },
  {
   "cell_type": "code",
   "execution_count": 15,
   "metadata": {},
   "outputs": [
    {
     "data": {
      "image/png": "[encoded data removed]",
      "text/plain": [
       "<Figure size 576x432 with 1 Axes>"
      ]
     },
     "metadata": {
      "needs_background": "light"
     },
     "output_type": "display_data"
    }
   ],
   "source": [
    "fig, ax = plt.subplots(figsize=(8, 6))\n",
    "chart = sns.lineplot(meanError, ax=ax)\n",
    "ax.set_ylabel(\"Error\")\n",
    "ax.set_xlabel(\"Batches\")\n",
    "plt.show()"
   ]
  },
  {
   "cell_type": "markdown",
   "metadata": {},
   "source": [
    "## Step 4: Test Network"
   ]
  },
  {
   "cell_type": "code",
   "execution_count": 16,
   "metadata": {},
   "outputs": [],
   "source": [
    "for i in range((nTrain + 1), nTot):\n",
    "    activity = nn.forward_pass(p.nLayers, X, i)\n",
    "\n",
    "    # store error\n",
    "    allError[i] = delta[-1]\n",
    "    catPredict[i] = activity[-1] > 0.5\n",
    "\n",
    "isTest = np.zeros(nTot, dtype=bool)\n",
    "isTest[nTrain + 1 :] = True"
   ]
  },
  {
   "cell_type": "code",
   "execution_count": 17,
   "metadata": {},
   "outputs": [
    {
     "data": {
      "text/plain": [
       "[array([-1.88443559,  3.66039558]),\n",
       " array([9.98374979e-01, 2.48733873e-01, 9.50589877e-02, 4.69711323e-01,\n",
       "        2.09208431e-03, 9.99962337e-01, 9.85364295e-01, 5.94575635e-04,\n",
       "        5.47862229e-02, 1.10952996e-04, 9.34433606e-01, 2.35130560e-01,\n",
       "        2.09065455e-02, 1.63871437e-03, 2.22251211e-03, 9.68056855e-01,\n",
       "        9.97510976e-01, 1.91907251e-03, 1.55726464e-02, 9.97183280e-01]),\n",
       " array([2.40055465e-01, 5.22011753e-01, 7.76015699e-01, 9.77535225e-01,\n",
       "        9.71551179e-01, 3.18004675e-01, 7.84909739e-01, 1.37703418e-04,\n",
       "        2.25476328e-02, 4.14349570e-01, 6.25438363e-02, 9.67346713e-01,\n",
       "        9.74507452e-01, 7.39010859e-01, 7.81556345e-01, 4.03180383e-01,\n",
       "        7.28339024e-01, 9.03089116e-01, 9.98062630e-01, 2.86867283e-02]),\n",
       " array([8.61717535e-01, 9.24288264e-01, 9.49070771e-01, 2.93495161e-02,\n",
       "        4.42120245e-01, 6.77882032e-01, 1.92512440e-02, 8.72094117e-01,\n",
       "        9.99845259e-01, 2.32575717e-04, 9.59715073e-01, 9.49274509e-01,\n",
       "        1.22036351e-01, 6.22366877e-01, 1.22163078e-01, 9.83986014e-01,\n",
       "        9.99806335e-03, 8.77852339e-01, 4.34370556e-02, 1.68341464e-02]),\n",
       " array([0.02687252])]"
      ]
     },
     "execution_count": 17,
     "metadata": {},
     "output_type": "execute_result"
    }
   ],
   "source": [
    "activity"
   ]
  },
  {
   "cell_type": "code",
   "execution_count": 18,
   "metadata": {},
   "outputs": [
    {
     "data": {
      "text/plain": [
       "array([ 0.0908734 ,  0.13388429,  0.06943548, ..., -0.01140973,\n",
       "       -0.01140973, -0.01140973])"
      ]
     },
     "execution_count": 18,
     "metadata": {},
     "output_type": "execute_result"
    }
   ],
   "source": [
    "allError"
   ]
  },
  {
   "cell_type": "code",
   "execution_count": 19,
   "metadata": {},
   "outputs": [
    {
     "data": {
      "image/png": "[encoded data removed]",
      "text/plain": [
       "<Figure size 864x432 with 2 Axes>"
      ]
     },
     "metadata": {
      "needs_background": "light"
     },
     "output_type": "display_data"
    }
   ],
   "source": [
    "fig, ax = plt.subplots(1, 2, figsize=(12, 6))\n",
    "ax[0].set_title(\"Ground Truth\")\n",
    "sns.scatterplot(\n",
    "    x=X[(Y == 1) & isTest, 0],\n",
    "    y=X[(Y == 1) & isTest, 1],\n",
    "    s=200,\n",
    "    ax=ax[0],\n",
    ")\n",
    "sns.scatterplot(\n",
    "    x=X[(Y == 0) & isTest, 0],\n",
    "    y=X[(Y == 0) & isTest, 1],\n",
    "    s=200,\n",
    "    ax=ax[0],\n",
    ")\n",
    "ax[0].set_xlabel(\"Feature 1\")\n",
    "ax[0].set_ylabel(\"Feature 2\")\n",
    "\n",
    "\n",
    "ax[1].set_title(\"Model Classification\")\n",
    "sns.scatterplot(\n",
    "    x=X[(catPredict == 1) & isTest, 0],\n",
    "    y=X[(catPredict == 1) & isTest, 1],\n",
    "    s=200,\n",
    "    ax=ax[1],\n",
    ")\n",
    "sns.scatterplot(\n",
    "    x=X[(catPredict == 0) & isTest, 0],\n",
    "    y=X[(catPredict == 0) & isTest, 1],\n",
    "    s=200,\n",
    "    ax=ax[1],\n",
    ")\n",
    "ax[1].set_xlabel(\"Feature 1\")\n",
    "ax[1].set_ylabel(\"Feature 2\")\n",
    "\n",
    "fig.tight_layout()\n",
    "plt.show()"
   ]
  },
  {
   "cell_type": "code",
   "execution_count": null,
   "metadata": {},
   "outputs": [],
   "source": []
  }
 ],
 "metadata": {
  "kernelspec": {
   "display_name": "Python 3 (ipykernel)",
   "language": "python",
   "name": "python3"
  },
  "language_info": {
   "codemirror_mode": {
    "name": "ipython",
    "version": 3
   },
   "file_extension": ".py",
   "mimetype": "text/x-python",
   "name": "python",
   "nbconvert_exporter": "python",
   "pygments_lexer": "ipython3",
   "version": "3.11.2"
  }
 },
 "nbformat": 4,
 "nbformat_minor": 4
}
