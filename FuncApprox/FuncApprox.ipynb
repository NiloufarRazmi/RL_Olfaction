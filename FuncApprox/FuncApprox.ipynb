{
 "cells": [
  {
   "cell_type": "code",
   "execution_count": 1,
   "id": "f52c5527-938b-48c2-b990-bf4bce0353c4",
   "metadata": {},
   "outputs": [],
   "source": [
    "import numpy as np\n",
    "from tqdm import tqdm\n",
    "import matplotlib.pyplot as plt\n",
    "\n",
    "%load_ext lab_black\n",
    "%run utils.py"
   ]
  },
  {
   "cell_type": "code",
   "execution_count": 2,
   "id": "223c5f4c-74f1-4170-8a5f-10f3e318128d",
   "metadata": {},
   "outputs": [
    {
     "data": {
      "text/plain": [
       "Params()"
      ]
     },
     "execution_count": 2,
     "metadata": {},
     "output_type": "execute_result"
    }
   ],
   "source": [
    "params = Params()\n",
    "params"
   ]
  },
  {
   "cell_type": "code",
   "execution_count": 3,
   "id": "396fba7a-9d38-4ba6-af1c-90ceec43fe06",
   "metadata": {},
   "outputs": [],
   "source": [
    "env = Environment(params)"
   ]
  },
  {
   "cell_type": "code",
   "execution_count": 4,
   "id": "3ce9fbdc-6e34-4d40-9f84-6f622c2b39c8",
   "metadata": {},
   "outputs": [],
   "source": [
    "learner = Qlearning(\n",
    "    learning_rate=params.alpha,\n",
    "    gamma=params.gamma,\n",
    "    state_size=env.numStates,\n",
    "    action_size=env.numActions,\n",
    ")\n",
    "explorer = EpsilonGreedy(epsilon=params.epsilon)"
   ]
  },
  {
   "cell_type": "code",
   "execution_count": 5,
   "id": "cdccf73b-8a52-43b5-96bf-4b68c79ea602",
   "metadata": {},
   "outputs": [
    {
     "name": "stderr",
     "output_type": "stream",
     "text": [
      "                                                                                                     \r"
     ]
    }
   ],
   "source": [
    "rewards = np.zeros((params.numEpisodes, params.n_runs))\n",
    "steps = np.zeros((params.numEpisodes, params.n_runs))\n",
    "episodes = np.arange(params.numEpisodes)\n",
    "\n",
    "for run in range(params.n_runs):  # Run several times to account for stochasticity\n",
    "    for episode in tqdm(\n",
    "        episodes, desc=f\"Run {run+1}/{params.n_runs} - Episodes\", leave=False\n",
    "    ):\n",
    "        state = env.reset()  # Reset the environment\n",
    "        step_count = 0\n",
    "        done = False\n",
    "        total_rewards = 0\n",
    "\n",
    "        while not done:\n",
    "\n",
    "            action = explorer.choose_action(\n",
    "                action_space=env.action_space, state=state, qtable=learner.qtable\n",
    "            )\n",
    "\n",
    "            # Take the action (a) and observe the outcome state(s') and reward (r)\n",
    "            new_state, reward, done = env.step(action, state)\n",
    "\n",
    "            learner.qtable[state, action] = learner.update(\n",
    "                state, action, reward, new_state\n",
    "            )\n",
    "\n",
    "            total_rewards += reward\n",
    "            step_count += 1\n",
    "\n",
    "            # Our new state is state\n",
    "            state = new_state\n",
    "\n",
    "        # explorer.epsilon = explorer.update_epsilon(episode)\n",
    "\n",
    "        rewards[episode, run] = total_rewards\n",
    "        steps[episode, run] = step_count"
   ]
  },
  {
   "cell_type": "code",
   "execution_count": 7,
   "id": "20a54b24-cfe3-4973-a4e1-be80740a40b1",
   "metadata": {},
   "outputs": [
    {
     "data": {
      "text/plain": [
       "array([[ 0,  1,  2,  3,  4],\n",
       "       [ 5,  6,  7,  8,  9],\n",
       "       [10, 11, 12, 13, 14],\n",
       "       [15, 16, 17, 18, 19],\n",
       "       [20, 21, 22, 23, 24]])"
      ]
     },
     "execution_count": 7,
     "metadata": {},
     "output_type": "execute_result"
    }
   ],
   "source": [
    "np.reshape(list(env.state_space), (env.rows, env.cols))"
   ]
  },
  {
   "cell_type": "code",
   "execution_count": null,
   "id": "ff30c2de-caca-48cb-8d42-8cb4f5d6433d",
   "metadata": {},
   "outputs": [],
   "source": [
    "state = env.reset()\n",
    "state"
   ]
  },
  {
   "cell_type": "code",
   "execution_count": null,
   "id": "e247b6da-7a1a-4b42-9aff-16f8773bc2a3",
   "metadata": {},
   "outputs": [],
   "source": [
    "env.odor_condition"
   ]
  },
  {
   "cell_type": "code",
   "execution_count": null,
   "id": "ba83b2e3-0205-4c3c-bfd6-e0e0214f5d4c",
   "metadata": {},
   "outputs": [],
   "source": [
    "env.cue_port"
   ]
  },
  {
   "cell_type": "code",
   "execution_count": null,
   "id": "3447370d-175c-4c3a-87cd-e4d0166397f5",
   "metadata": {},
   "outputs": [],
   "source": [
    "action = explorer.choose_action(\n",
    "    action_space=env.action_space.values(), state=state, qtable=learner.qtable\n",
    ")\n",
    "action"
   ]
  },
  {
   "cell_type": "code",
   "execution_count": null,
   "id": "2fe88a19-389b-478c-96a2-e72b824420e5",
   "metadata": {},
   "outputs": [],
   "source": [
    "state, reward, done = env.step(action, state)\n",
    "state, reward, done"
   ]
  }
 ],
 "metadata": {
  "kernelspec": {
   "display_name": "Python 3 (ipykernel)",
   "language": "python",
   "name": "python3"
  },
  "language_info": {
   "codemirror_mode": {
    "name": "ipython",
    "version": 3
   },
   "file_extension": ".py",
   "mimetype": "text/x-python",
   "name": "python",
   "nbconvert_exporter": "python",
   "pygments_lexer": "ipython3",
   "version": "3.11.0"
  }
 },
 "nbformat": 4,
 "nbformat_minor": 5
}
