{
 "cells": [
  {
   "cell_type": "markdown",
   "id": "a45dad76-9c43-4cca-bc52-93f3270345a3",
   "metadata": {},
   "source": [
    "# Q-learning with function approximation - allocentric environment"
   ]
  },
  {
   "cell_type": "markdown",
   "id": "c7edee04-1032-4876-99e5-6626e4da6c07",
   "metadata": {},
   "source": [
    "[![Binder](https://mybinder.org/badge_logo.svg)](https://mybinder.org/v2/gh/NiloufarRazmi/RL_Olfaction/HEAD?labpath=FuncApprox%2FFuncApprox_allo.ipynb)"
   ]
  },
  {
   "cell_type": "markdown",
   "id": "0778da3c-637c-43c7-8360-c1393a14bddc",
   "metadata": {},
   "source": [
    "## The task"
   ]
  },
  {
   "cell_type": "markdown",
   "id": "7fc8352c-abcd-43f6-82db-d2ec39bf32f4",
   "metadata": {},
   "source": [
    "<img src='./img/task.png' width=\"400\">"
   ]
  },
  {
   "cell_type": "markdown",
   "id": "ad86da24-e075-42a5-8a5b-9c4f05ea4080",
   "metadata": {},
   "source": [
    "## Initialization"
   ]
  },
  {
   "cell_type": "code",
   "execution_count": 1,
   "id": "4604aedf-e80c-4e28-acb0-b0959429fbb3",
   "metadata": {},
   "outputs": [],
   "source": [
    "# Import packages\n",
    "import numpy as np\n",
    "from tqdm import tqdm\n",
    "import pandas as pd\n",
    "import re"
   ]
  },
  {
   "cell_type": "code",
   "execution_count": 2,
   "id": "c5b4bcf5-1713-43a6-ba1a-c4b5f301cbf8",
   "metadata": {},
   "outputs": [],
   "source": [
    "# Load custom functions\n",
    "from utils import Params\n",
    "from environment_allo import (\n",
    "    WrappedEnvironment,\n",
    "    Actions,\n",
    "    CONTEXTS_LABELS,\n",
    "    LightCues,\n",
    "    OdorID,\n",
    ")\n",
    "from agent import QLearningFuncApprox, EpsilonGreedy\n",
    "import plotting\n",
    "from plotting_ego import plot_location_count"
   ]
  },
  {
   "cell_type": "code",
   "execution_count": 3,
   "id": "8f82e6c4-d7fa-48ec-94e8-55ee140bed2a",
   "metadata": {},
   "outputs": [],
   "source": [
    "# Formatting & autoreload stuff\n",
    "%load_ext lab_black\n",
    "%load_ext autoreload\n",
    "%autoreload 2"
   ]
  },
  {
   "cell_type": "markdown",
   "id": "9f6cbc8b-630f-4a4e-bcb5-adfd5a18bb0c",
   "metadata": {},
   "source": [
    "## Choose the task parameters"
   ]
  },
  {
   "cell_type": "code",
   "execution_count": 4,
   "id": "223c5f4c-74f1-4170-8a5f-10f3e318128d",
   "metadata": {},
   "outputs": [
    {
     "data": {
      "text/plain": [
       "Params(epsilon=0.1, gamma=0.8, alpha=0.025, jointRep=True, n_runs=30, numEpisodes=300)"
      ]
     },
     "execution_count": 4,
     "metadata": {},
     "output_type": "execute_result"
    }
   ],
   "source": [
    "# Choose the parameters for the task\n",
    "params = Params(epsilon=0.1, n_runs=30, numEpisodes=300, alpha=0.025)\n",
    "params"
   ]
  },
  {
   "cell_type": "markdown",
   "id": "843aedeb-b03c-450f-825d-e4fdef96e1d2",
   "metadata": {},
   "source": [
    "## Load the environment and the agent algorithms"
   ]
  },
  {
   "cell_type": "code",
   "execution_count": 5,
   "id": "396fba7a-9d38-4ba6-af1c-90ceec43fe06",
   "metadata": {},
   "outputs": [],
   "source": [
    "# Load the environment\n",
    "env = WrappedEnvironment(params)"
   ]
  },
  {
   "cell_type": "markdown",
   "id": "4fae3c99-e9ab-4e10-ab9a-2f94a4f89116",
   "metadata": {},
   "source": [
    "Manually engineered features, optional.\n",
    "If `None`, a diagonal matrix of features will be created automatically"
   ]
  },
  {
   "cell_type": "code",
   "execution_count": 6,
   "id": "b54e2671-d415-4700-8d92-a71b68eedab7",
   "metadata": {},
   "outputs": [],
   "source": [
    "# features = np.matlib.repmat(\n",
    "#     np.eye(len(env.tiles_locations), len(env.tiles_locations)),\n",
    "#     len(env.cues),\n",
    "#     len(env.cues),\n",
    "# )\n",
    "# features.shape"
   ]
  },
  {
   "cell_type": "code",
   "execution_count": 7,
   "id": "16b8e2e1-e808-4165-af71-e59cb988b5a6",
   "metadata": {
    "tags": []
   },
   "outputs": [
    {
     "data": {
      "text/plain": [
       "(100, 25)"
      ]
     },
     "execution_count": 7,
     "metadata": {},
     "output_type": "execute_result"
    }
   ],
   "source": [
    "tmp1 = np.matlib.repmat(\n",
    "    np.eye(len(env.tiles_locations), len(env.tiles_locations)), len(env.cues), 1\n",
    ")\n",
    "tmp1.shape"
   ]
  },
  {
   "cell_type": "code",
   "execution_count": 8,
   "id": "1b5eb850-d1a2-48dd-88b7-2e0bd2a452f5",
   "metadata": {
    "tags": []
   },
   "outputs": [
    {
     "data": {
      "text/plain": [
       "(100, 4)"
      ]
     },
     "execution_count": 8,
     "metadata": {},
     "output_type": "execute_result"
    }
   ],
   "source": [
    "tmp2 = np.vstack(\n",
    "    (\n",
    "        np.hstack(\n",
    "            (\n",
    "                np.ones((len(env.tiles_locations), 1)),\n",
    "                np.zeros((len(env.tiles_locations), len(env.cues) - 1)),\n",
    "            )\n",
    "        ),\n",
    "        np.hstack(\n",
    "            (\n",
    "                np.zeros((len(env.tiles_locations), 1)),\n",
    "                np.ones((len(env.tiles_locations), 1)),\n",
    "                np.zeros((len(env.tiles_locations), len(env.cues) - 2)),\n",
    "            )\n",
    "        ),\n",
    "        np.hstack(\n",
    "            (\n",
    "                np.zeros((len(env.tiles_locations), 2)),\n",
    "                np.ones((len(env.tiles_locations), 1)),\n",
    "                np.zeros((len(env.tiles_locations), len(env.cues) - 3)),\n",
    "            )\n",
    "        ),\n",
    "        np.hstack(\n",
    "            (\n",
    "                np.zeros((len(env.tiles_locations), len(env.cues) - 1)),\n",
    "                np.ones((len(env.tiles_locations), 1)),\n",
    "            )\n",
    "        ),\n",
    "    )\n",
    ")\n",
    "\n",
    "tmp2.shape"
   ]
  },
  {
   "cell_type": "code",
   "execution_count": 9,
   "id": "751ae85e-fc34-4ca1-99b3-db3313ad9fae",
   "metadata": {
    "tags": []
   },
   "outputs": [
    {
     "data": {
      "text/plain": [
       "(100, 2)"
      ]
     },
     "execution_count": 9,
     "metadata": {},
     "output_type": "execute_result"
    }
   ],
   "source": [
    "tmp2 = np.vstack(\n",
    "    (\n",
    "        np.hstack(\n",
    "            (\n",
    "                np.ones((len(env.tiles_locations) * len(OdorID), 1)),\n",
    "                np.zeros((len(env.tiles_locations) * len(OdorID), 1)),\n",
    "            )\n",
    "        ),\n",
    "        np.hstack(\n",
    "            (\n",
    "                np.zeros((len(env.tiles_locations) * len(LightCues), 1)),\n",
    "                np.ones((len(env.tiles_locations) * len(LightCues), 1)),\n",
    "            )\n",
    "        ),\n",
    "    )\n",
    ")\n",
    "\n",
    "tmp2.shape"
   ]
  },
  {
   "cell_type": "code",
   "execution_count": 10,
   "id": "85137893-8728-4bd9-b2c3-54b1ac2761c9",
   "metadata": {
    "tags": []
   },
   "outputs": [
    {
     "data": {
      "text/plain": [
       "(100, 27)"
      ]
     },
     "execution_count": 10,
     "metadata": {},
     "output_type": "execute_result"
    }
   ],
   "source": [
    "features = np.hstack((tmp1, tmp2))\n",
    "features.shape"
   ]
  },
  {
   "cell_type": "code",
   "execution_count": 11,
   "id": "19cfcb77-b046-446e-ba8d-f4b339648cb3",
   "metadata": {},
   "outputs": [],
   "source": [
    "# features = None"
   ]
  },
  {
   "cell_type": "code",
   "execution_count": 12,
   "id": "05fc6423-2658-4e98-b37a-c72c09a362e8",
   "metadata": {},
   "outputs": [],
   "source": [
    "# Load the agent algorithms\n",
    "learner = QLearningFuncApprox(\n",
    "    learning_rate=params.alpha,\n",
    "    gamma=params.gamma,\n",
    "    state_size=env.numStates,\n",
    "    action_size=env.numActions,\n",
    "    features_matrix=features,\n",
    ")\n",
    "explorer = EpsilonGreedy(epsilon=params.epsilon)"
   ]
  },
  {
   "cell_type": "code",
   "execution_count": 13,
   "id": "de849b8c-7a73-4ba7-819c-444e3cdb5b34",
   "metadata": {
    "tags": []
   },
   "outputs": [
    {
     "data": {
      "text/plain": [
       "[{'p1': [-5, 0], 'p2': [-5, 25], 'str_text': 'North light'},\n",
       " {'p1': [-5, 25], 'p2': [-5, 50], 'str_text': 'South light'},\n",
       " {'p1': [-5, 50], 'p2': [-5, 75], 'str_text': 'Odor A'},\n",
       " {'p1': [-5, 75], 'p2': [-5, 100], 'str_text': 'Odor B'}]"
      ]
     },
     "execution_count": 13,
     "metadata": {},
     "output_type": "execute_result"
    }
   ],
   "source": [
    "braces = []\n",
    "for idx, cue in enumerate(CONTEXTS_LABELS):\n",
    "    braces.append(\n",
    "        {\n",
    "            \"p1\": [-5, idx * len(env.tiles_locations)],\n",
    "            \"p2\": [-5, (idx + 1) * len(env.tiles_locations)],\n",
    "            \"str_text\": re.sub(r\"^P.*?odor - \", \"\", CONTEXTS_LABELS[cue]),\n",
    "        }\n",
    "    )\n",
    "braces"
   ]
  },
  {
   "cell_type": "code",
   "execution_count": 14,
   "id": "2b29a3d3-dadb-495f-ba9c-e884ed708033",
   "metadata": {},
   "outputs": [
    {
     "data": {
      "image/png": "[encoded data removed]",
      "text/plain": [
       "<Figure size 648x648 with 2 Axes>"
      ]
     },
     "metadata": {
      "needs_background": "light"
     },
     "output_type": "display_data"
    }
   ],
   "source": [
    "plotting.plot_heatmap(\n",
    "    matrix=learner.features, title=\"Features\", ylabel=\"States\", braces=braces\n",
    ")"
   ]
  },
  {
   "cell_type": "code",
   "execution_count": 15,
   "id": "027fc9e9-6683-474d-b076-34a3ce5f88a6",
   "metadata": {
    "tags": []
   },
   "outputs": [
    {
     "data": {
      "text/plain": [
       "((100, 4), (27, 4), (100, 27))"
      ]
     },
     "execution_count": 15,
     "metadata": {},
     "output_type": "execute_result"
    }
   ],
   "source": [
    "learner.Q_hat_table.shape, learner.weights.shape, learner.features.shape"
   ]
  },
  {
   "cell_type": "markdown",
   "id": "a32a2f64-d8ee-452e-8060-aaed25a516af",
   "metadata": {},
   "source": [
    "## States and actions meaning"
   ]
  },
  {
   "cell_type": "code",
   "execution_count": 16,
   "id": "8b91a933-e5f3-4644-8673-383f1dc67ca8",
   "metadata": {
    "tags": []
   },
   "outputs": [
    {
     "data": {
      "image/png": "[encoded data removed]",
      "text/plain": [
       "<Figure size 432x288 with 1 Axes>"
      ]
     },
     "metadata": {},
     "output_type": "display_data"
    },
    {
     "data": {
      "image/png": "[encoded data removed]",
      "text/plain": [
       "<Figure size 432x288 with 1 Axes>"
      ]
     },
     "metadata": {},
     "output_type": "display_data"
    },
    {
     "data": {
      "image/png": "[encoded data removed]",
      "text/plain": [
       "<Figure size 432x288 with 1 Axes>"
      ]
     },
     "metadata": {},
     "output_type": "display_data"
    },
    {
     "data": {
      "image/png": "[encoded data removed]",
      "text/plain": [
       "<Figure size 432x288 with 1 Axes>"
      ]
     },
     "metadata": {},
     "output_type": "display_data"
    }
   ],
   "source": [
    "# State space\n",
    "for idx, cue in enumerate(CONTEXTS_LABELS):\n",
    "    plotting.plot_tiles_locations(\n",
    "        np.array(list(env.tiles_locations)) + idx * len(env.tiles_locations),\n",
    "        env.rows,\n",
    "        env.cols,\n",
    "        title=CONTEXTS_LABELS[cue],\n",
    "    )"
   ]
  },
  {
   "cell_type": "markdown",
   "id": "582fb97e-cc07-42b6-ba23-fb63f1f0333a",
   "metadata": {},
   "source": [
    "### Correspondance between flat states and (internal) composite states"
   ]
  },
  {
   "cell_type": "code",
   "execution_count": 17,
   "id": "73bf9612-294d-485b-aad2-61184c901147",
   "metadata": {},
   "outputs": [
    {
     "data": {
      "text/plain": [
       "{'location': 13, 'cue': <OdorID.A: 1>}"
      ]
     },
     "execution_count": 17,
     "metadata": {},
     "output_type": "execute_result"
    }
   ],
   "source": [
    "state = 63\n",
    "env.convert_flat_state_to_composite(state)"
   ]
  },
  {
   "cell_type": "code",
   "execution_count": 18,
   "id": "093dba08-0d89-4a93-959a-cd955d9fe3a5",
   "metadata": {},
   "outputs": [
    {
     "data": {
      "text/plain": [
       "13"
      ]
     },
     "execution_count": 18,
     "metadata": {},
     "output_type": "execute_result"
    }
   ],
   "source": [
    "env.convert_composite_to_flat_state({\"location\": 13, \"cue\": LightCues.North})"
   ]
  },
  {
   "cell_type": "markdown",
   "id": "7a427f0d-69a9-478b-9c29-75d093a6dd51",
   "metadata": {},
   "source": [
    "### Action meaning"
   ]
  },
  {
   "cell_type": "code",
   "execution_count": 19,
   "id": "f55c7e08-c393-46d1-8a41-a2289bbe6a0f",
   "metadata": {},
   "outputs": [
    {
     "data": {
      "text/plain": [
       "<Actions.UP: 0>"
      ]
     },
     "execution_count": 19,
     "metadata": {},
     "output_type": "execute_result"
    }
   ],
   "source": [
    "action = 0\n",
    "Actions(action)"
   ]
  },
  {
   "cell_type": "markdown",
   "id": "e1d03735-2cc7-4f85-a5fc-e9d6a2522737",
   "metadata": {},
   "source": [
    "## Main loop"
   ]
  },
  {
   "cell_type": "code",
   "execution_count": null,
   "id": "cdccf73b-8a52-43b5-96bf-4b68c79ea602",
   "metadata": {},
   "outputs": [
    {
     "name": "stderr",
     "output_type": "stream",
     "text": [
      "Run 5/30 - Episodes:  28%|████████████▏                              | 85/300 [00:47<01:18,  2.75it/s]"
     ]
    }
   ],
   "source": [
    "rewards = np.zeros((params.numEpisodes, params.n_runs))\n",
    "steps = np.zeros((params.numEpisodes, params.n_runs))\n",
    "episodes = np.arange(params.numEpisodes)\n",
    "qtables = np.zeros((params.n_runs, *learner.Q_hat_table.shape))\n",
    "all_states = []\n",
    "all_actions = []\n",
    "\n",
    "for run in range(params.n_runs):  # Run several times to account for stochasticity\n",
    "    learner.reset(\n",
    "        action_size=env.numActions\n",
    "    )  # Reset the Q-table and the weights between runs\n",
    "\n",
    "    for episode in tqdm(\n",
    "        episodes, desc=f\"Run {run+1}/{params.n_runs} - Episodes\", leave=False\n",
    "    ):\n",
    "        state = env.reset()  # Reset the environment\n",
    "        step_count = 0\n",
    "        done = False\n",
    "        total_rewards = 0\n",
    "\n",
    "        while not done:\n",
    "            learner.Q_hat_table = learner.Q_hat(learner.weights, learner.features)\n",
    "\n",
    "            action = explorer.choose_action(\n",
    "                action_space=env.action_space,\n",
    "                state=state,\n",
    "                qtable=learner.Q_hat_table,\n",
    "            )\n",
    "\n",
    "            # Record states and actions\n",
    "            all_states.append(state)\n",
    "            all_actions.append(Actions(action).name)\n",
    "\n",
    "            # Take the action (a) and observe the outcome state(s') and reward (r)\n",
    "            new_state, reward, done = env.step(action, state)\n",
    "\n",
    "            learner.weights[:, action] = learner.update_weights(\n",
    "                state, action, reward, new_state\n",
    "            )\n",
    "\n",
    "            total_rewards += reward\n",
    "            step_count += 1\n",
    "\n",
    "            # Our new state is state\n",
    "            state = new_state\n",
    "\n",
    "        # explorer.epsilon = explorer.update_epsilon(episode)\n",
    "\n",
    "        rewards[episode, run] = total_rewards\n",
    "        steps[episode, run] = step_count\n",
    "    qtables[run, :, :] = learner.Q_hat_table"
   ]
  },
  {
   "cell_type": "markdown",
   "id": "8826e838-8642-4485-b582-44e851b0086d",
   "metadata": {},
   "source": [
    "## Postprocessing"
   ]
  },
  {
   "cell_type": "code",
   "execution_count": null,
   "id": "6b85d882-14d5-4889-aecc-7fda9fbb1df4",
   "metadata": {},
   "outputs": [],
   "source": [
    "res = pd.DataFrame(\n",
    "    data={\n",
    "        \"Episodes\": np.tile(episodes, reps=params.n_runs),\n",
    "        \"Rewards\": rewards.flatten(order=\"F\"),\n",
    "        \"Steps\": steps.flatten(order=\"F\"),\n",
    "    }\n",
    ")\n",
    "res[\"cum_rewards\"] = rewards.cumsum(axis=0).flatten(order=\"F\")\n",
    "# st = pd.DataFrame(data={\"Episodes\": episodes, \"Steps\": steps.mean(axis=1)})\n",
    "qtable = qtables.mean(axis=0)  # Average the Q-table between runs"
   ]
  },
  {
   "cell_type": "code",
   "execution_count": null,
   "id": "aff2cdad-68dc-44a6-9265-5d429315161c",
   "metadata": {},
   "outputs": [],
   "source": [
    "res"
   ]
  },
  {
   "cell_type": "code",
   "execution_count": null,
   "id": "bff604fd-6dcb-43cc-9f77-9dadbee41bb6",
   "metadata": {},
   "outputs": [],
   "source": [
    "tmp = []\n",
    "for idx, st in enumerate(tqdm(all_states)):\n",
    "    tmp.append(env.convert_flat_state_to_composite(st))\n",
    "all_state_composite = pd.DataFrame(tmp)\n",
    "all_state_composite"
   ]
  },
  {
   "cell_type": "markdown",
   "id": "afab5a52-455a-4359-a2e9-62dbeeeac79d",
   "metadata": {},
   "source": [
    "## Visualization"
   ]
  },
  {
   "cell_type": "code",
   "execution_count": null,
   "id": "2e6d9a49-1220-4a2f-b990-bcc99360b851",
   "metadata": {},
   "outputs": [],
   "source": [
    "plotting.plot_heatmap(matrix=learner.weights, title=\"Weights\")"
   ]
  },
  {
   "cell_type": "code",
   "execution_count": null,
   "id": "c52a7fc2-b907-4302-b533-bf02d153b7f5",
   "metadata": {},
   "outputs": [],
   "source": [
    "plotting.plot_heatmap(matrix=qtable, title=\"Q-table\")"
   ]
  },
  {
   "cell_type": "code",
   "execution_count": null,
   "id": "7c9dadcc-47f0-496b-bbb2-f13270239ff1",
   "metadata": {},
   "outputs": [],
   "source": [
    "plotting.plot_states_actions_distribution(all_states, all_actions)"
   ]
  },
  {
   "cell_type": "code",
   "execution_count": null,
   "id": "313f5290-b1c9-42a9-8099-023d01db7442",
   "metadata": {},
   "outputs": [],
   "source": [
    "plotting.plot_steps_and_rewards(res)"
   ]
  },
  {
   "cell_type": "code",
   "execution_count": null,
   "id": "c5c1cd91-fb82-4e04-b37c-944a8d0f5e54",
   "metadata": {},
   "outputs": [],
   "source": [
    "plotting.plot_q_values_maps(qtable, env.rows, env.cols, CONTEXTS_LABELS)"
   ]
  },
  {
   "cell_type": "code",
   "execution_count": null,
   "id": "631a5ba2-6342-462f-8e78-1c23053b48ad",
   "metadata": {},
   "outputs": [],
   "source": [
    "plotting.plot_rotated_q_values_maps(qtable, env.rows, env.cols, CONTEXTS_LABELS)"
   ]
  },
  {
   "cell_type": "code",
   "execution_count": null,
   "id": "0bde0e0c-cb45-481c-8f03-7db7088d9da5",
   "metadata": {
    "tags": []
   },
   "outputs": [],
   "source": [
    "plot_location_count(\n",
    "    all_state_composite,\n",
    "    tiles_locations=env.tiles_locations,\n",
    "    cols=env.cols,\n",
    "    rows=env.rows,\n",
    "    cues=None,\n",
    "    contexts_labels=None,\n",
    ")"
   ]
  },
  {
   "cell_type": "code",
   "execution_count": null,
   "id": "6cd75a6d-bc60-42ed-82f0-f078c7bfcf05",
   "metadata": {
    "tags": []
   },
   "outputs": [],
   "source": [
    "plot_location_count(\n",
    "    all_state_composite,\n",
    "    tiles_locations=env.tiles_locations,\n",
    "    cols=env.cols,\n",
    "    rows=env.rows,\n",
    "    cues=env.cues,\n",
    "    contexts_labels=CONTEXTS_LABELS,\n",
    ")"
   ]
  },
  {
   "cell_type": "markdown",
   "id": "17268d7f-0f67-464a-b405-b78d776810b2",
   "metadata": {},
   "source": [
    "## Presentations figures"
   ]
  },
  {
   "cell_type": "code",
   "execution_count": null,
   "id": "9a3da2bd-546a-475b-b21a-31cb3b93672e",
   "metadata": {
    "tags": []
   },
   "outputs": [],
   "source": [
    "import seaborn as sns\n",
    "import matplotlib.pyplot as plt\n",
    "\n",
    "sns.set(font_scale=2)"
   ]
  },
  {
   "cell_type": "code",
   "execution_count": null,
   "id": "3272e9e2-f003-4e79-9168-a33bacd1d213",
   "metadata": {
    "tags": []
   },
   "outputs": [],
   "source": [
    "fig, ax = plt.subplots(figsize=(12, 8))\n",
    "sns.lineplot(data=res, x=\"Episodes\", y=\"Steps\", ax=ax)\n",
    "sns.regplot(\n",
    "    x=\"Episodes\",\n",
    "    y=\"Steps\",\n",
    "    data=res,\n",
    "    ax=ax,\n",
    "    order=5,\n",
    "    scatter=False,\n",
    "    # ci=None,\n",
    "    # scatter_kws={\"s\": 80},\n",
    "    line_kws={\"color\": \"C1\"},\n",
    ")\n",
    "ax.set(xlabel=\"Trial\")\n",
    "fig.tight_layout()\n",
    "fig.patch.set_alpha(0)\n",
    "fig.patch.set_facecolor(\"white\")\n",
    "plt.show()"
   ]
  },
  {
   "cell_type": "code",
   "execution_count": null,
   "id": "e17eb0e7-8a80-4c48-a50c-b8bf46638edb",
   "metadata": {},
   "outputs": [],
   "source": [
    "fig, ax = plt.subplots(figsize=(12, 8))\n",
    "sns.lineplot(data=res, x=\"Episodes\", y=\"Rewards\", ax=ax)\n",
    "sns.regplot(\n",
    "    x=\"Episodes\",\n",
    "    y=\"Rewards\",\n",
    "    data=res,\n",
    "    ax=ax,\n",
    "    order=6,\n",
    "    # ci=None,\n",
    "    # scatter_kws={\"s\": 80},\n",
    "    scatter=False,\n",
    "    line_kws={\"color\": \"C1\"},\n",
    ")\n",
    "ax.set_ylim(bottom=-0.5)\n",
    "fig.tight_layout()\n",
    "fig.patch.set_alpha(0)\n",
    "fig.patch.set_facecolor(\"white\")\n",
    "ax.set(xlabel=\"Trial\")\n",
    "plt.show()"
   ]
  },
  {
   "cell_type": "code",
   "execution_count": null,
   "id": "561246a4-4580-41ca-8458-313bb04f593d",
   "metadata": {
    "tags": []
   },
   "outputs": [],
   "source": [
    "emoji = [\n",
    "    [{\"emoji\": \"💡\", \"coords\": [4.5, 0.5]}],\n",
    "    [{\"emoji\": \"💡\", \"coords\": [0.5, 4.5]}],\n",
    "    [{\"emoji\": \"💧\", \"coords\": [0.5, 0.5]}, {\"emoji\": \"🍌\", \"coords\": [4, -0.25]}],\n",
    "    [{\"emoji\": \"💧\", \"coords\": [4.5, 4.5]}, {\"emoji\": \"🍋\", \"coords\": [4, -0.25]}],\n",
    "]"
   ]
  },
  {
   "cell_type": "code",
   "execution_count": null,
   "id": "e6fcc0c2-4c04-49c1-a6d8-d18e737038bc",
   "metadata": {
    "tags": []
   },
   "outputs": [],
   "source": [
    "from collections import OrderedDict\n",
    "\n",
    "trunc_labels = OrderedDict(\n",
    "    [\n",
    "        (LightCues.North, \"Pre odor - North light\"),\n",
    "        (LightCues.South, \"Pre odor - South light\"),\n",
    "        (OdorID.A, \"Post odor - \"),\n",
    "        (OdorID.B, \"Post odor - \"),\n",
    "    ]\n",
    ")"
   ]
  },
  {
   "cell_type": "code",
   "execution_count": null,
   "id": "ccdc0628-3d1a-4962-b126-7f2115d2b9c4",
   "metadata": {
    "tags": []
   },
   "outputs": [],
   "source": [
    "for idx, cue in enumerate(trunc_labels):\n",
    "    current_map = np.array(list(env.tiles_locations)) + idx * len(env.tiles_locations)\n",
    "    current_q_table = qtable[current_map, :]\n",
    "    plotting.plot_policy_emoji(\n",
    "        qtable=current_q_table,\n",
    "        rows=env.rows,\n",
    "        cols=env.cols,\n",
    "        label=trunc_labels[cue],\n",
    "        emoji=emoji[idx],\n",
    "    )"
   ]
  },
  {
   "cell_type": "code",
   "execution_count": null,
   "id": "6b074304-8aaa-413c-aa49-d444a2dd5996",
   "metadata": {
    "tags": []
   },
   "outputs": [],
   "source": [
    "import matplotlib.pyplot as plt\n",
    "import seaborn as sns\n",
    "\n",
    "fig, ax = plt.subplots(figsize=(9, 9))\n",
    "# cmap = sns.light_palette(\"seagreen\", as_cmap=True)\n",
    "cmap = sns.color_palette(\"light:b\", as_cmap=True)\n",
    "chart = sns.heatmap(qtable, cmap=cmap, ax=ax, cbar=False)\n",
    "chart.set_title(\"Actions\", fontsize=40)\n",
    "chart.set_ylabel(\"States\", fontsize=40)\n",
    "ax.tick_params(\n",
    "    left=False, right=False, labelleft=False, labelbottom=False, bottom=False\n",
    ")\n",
    "fig.patch.set_alpha(0)\n",
    "fig.patch.set_facecolor(\"white\")\n",
    "plt.show()"
   ]
  },
  {
   "cell_type": "code",
   "execution_count": null,
   "id": "6129fb4f-be72-4f96-833e-d62c21a45849",
   "metadata": {
    "tags": []
   },
   "outputs": [],
   "source": [
    "plt.plot(res.Steps.rolling(window=3).mean())"
   ]
  },
  {
   "cell_type": "code",
   "execution_count": null,
   "id": "3494b1bd-f895-44cd-9759-827b2a64848c",
   "metadata": {
    "tags": []
   },
   "outputs": [],
   "source": [
    "plt.plot(res.Rewards.rolling(window=3).mean())"
   ]
  }
 ],
 "metadata": {
  "kernelspec": {
   "display_name": "Python 3 (ipykernel)",
   "language": "python",
   "name": "python3"
  },
  "language_info": {
   "codemirror_mode": {
    "name": "ipython",
    "version": 3
   },
   "file_extension": ".py",
   "mimetype": "text/x-python",
   "name": "python",
   "nbconvert_exporter": "python",
   "pygments_lexer": "ipython3",
   "version": "3.11.2"
  }
 },
 "nbformat": 4,
 "nbformat_minor": 5
}
