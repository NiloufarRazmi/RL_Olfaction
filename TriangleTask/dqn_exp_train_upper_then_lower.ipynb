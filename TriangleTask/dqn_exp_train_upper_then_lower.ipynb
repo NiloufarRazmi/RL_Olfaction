{
 "cells": [
  {
   "cell_type": "markdown",
   "metadata": {},
   "source": [
    "# DQN"
   ]
  },
  {
   "cell_type": "markdown",
   "metadata": {},
   "source": [
    "## Setup"
   ]
  },
  {
   "cell_type": "markdown",
   "metadata": {
    "id": "54AIvDov_7aa"
   },
   "source": [
    "### Initialization"
   ]
  },
  {
   "cell_type": "code",
   "execution_count": 1,
   "metadata": {
    "colab": {
     "base_uri": "https://localhost:8080/"
    },
    "id": "gxxpHDIs_lvg",
    "outputId": "412c65c1-7c24-4b9a-f5cf-8f98dd648fe4",
    "tags": []
   },
   "outputs": [],
   "source": [
    "from pathlib import Path\n",
    "import os\n",
    "import datetime\n",
    "import logging\n",
    "import shutil\n",
    "\n",
    "import ipdb\n",
    "\n",
    "import numpy as np\n",
    "from tqdm import tqdm\n",
    "import matplotlib.pyplot as plt\n",
    "import matplotlib as mpl\n",
    "import matplotlib.patches as mpatches\n",
    "from matplotlib.offsetbox import AnnotationBbox, OffsetImage\n",
    "import pandas as pd\n",
    "import seaborn as sns\n",
    "from imojify import imojify\n",
    "from collections import namedtuple, deque"
   ]
  },
  {
   "cell_type": "code",
   "execution_count": 2,
   "metadata": {
    "colab": {
     "base_uri": "https://localhost:8080/"
    },
    "id": "gxxpHDIs_lvg",
    "outputId": "412c65c1-7c24-4b9a-f5cf-8f98dd648fe4",
    "tags": []
   },
   "outputs": [
    {
     "data": {
      "text/plain": [
       "device(type='cuda')"
      ]
     },
     "execution_count": 2,
     "metadata": {},
     "output_type": "execute_result"
    }
   ],
   "source": [
    "import torch\n",
    "import torch.nn as nn\n",
    "import torch.optim as optim\n",
    "import torch.nn.functional as F\n",
    "\n",
    "# from torchinfo import summary\n",
    "\n",
    "# if GPU is to be used\n",
    "DEVICE = torch.device(\"cuda\" if torch.cuda.is_available() else \"cpu\")\n",
    "DEVICE"
   ]
  },
  {
   "cell_type": "code",
   "execution_count": 3,
   "metadata": {
    "tags": []
   },
   "outputs": [],
   "source": [
    "from utils import Params, random_choice, make_deterministic\n",
    "\n",
    "from env_tensor_exp_train_upper_only_then_lower import (\n",
    "    WrappedEnvironment,\n",
    "    Actions,\n",
    "    CONTEXTS_LABELS,\n",
    "    Cues,\n",
    "    TriangleState,\n",
    ")\n",
    "from agent_tensor import EpsilonGreedy\n",
    "import plotting"
   ]
  },
  {
   "cell_type": "code",
   "execution_count": 4,
   "metadata": {
    "colab": {
     "base_uri": "https://localhost:8080/"
    },
    "id": "gxxpHDIs_lvg",
    "outputId": "412c65c1-7c24-4b9a-f5cf-8f98dd648fe4",
    "tags": []
   },
   "outputs": [],
   "source": [
    "# Formatting & autoreload stuff\n",
    "# %load_ext lab_black\n",
    "%load_ext autoreload\n",
    "%autoreload 2\n",
    "# %matplotlib ipympl"
   ]
  },
  {
   "cell_type": "code",
   "execution_count": 5,
   "metadata": {
    "colab": {
     "base_uri": "https://localhost:8080/"
    },
    "id": "gxxpHDIs_lvg",
    "outputId": "412c65c1-7c24-4b9a-f5cf-8f98dd648fe4",
    "tags": []
   },
   "outputs": [
    {
     "name": "stdout",
     "output_type": "stream",
     "text": [
      "/oscar/rt/9.2/software/0.20-generic/0.20.1/opt/spack/linux-rhel9-x86_64_v3/gcc-11.3.1/texlive-20220321-pocclovccpqvkoafn6hjn6vyy754jy6j/bin/x86_64-linux/latex\n"
     ]
    }
   ],
   "source": [
    "sns.set_theme(font_scale=1.5)\n",
    "# plt.style.use(\"ggplot\")\n",
    "print(shutil.which(\"latex\"))\n",
    "USETEX = True if shutil.which(\"latex\") else False\n",
    "mpl.rcParams[\"text.usetex\"] = USETEX\n",
    "if USETEX:\n",
    "    mpl.rcParams[\"font.family\"] = [\"serif\"]\n",
    "else:\n",
    "    mpl.rcParams[\"font.family\"] = [\"sans-serif\"]\n",
    "    mpl.rcParams[\"font.sans-serif\"] = [\n",
    "        \"Fira Sans\",\n",
    "        \"Computer Modern Sans Serif\",\n",
    "        \"DejaVu Sans\",\n",
    "        \"Verdana\",\n",
    "        \"Arial\",\n",
    "        \"Helvetica\",\n",
    "    ]"
   ]
  },
  {
   "cell_type": "markdown",
   "metadata": {
    "id": "54AIvDov_7aa"
   },
   "source": [
    "### Save directory"
   ]
  },
  {
   "cell_type": "code",
   "execution_count": 6,
   "metadata": {},
   "outputs": [
    {
     "data": {
      "text/plain": [
       "'2024-03-04_01-14-33'"
      ]
     },
     "execution_count": 6,
     "metadata": {},
     "output_type": "execute_result"
    }
   ],
   "source": [
    "now = datetime.datetime.now().strftime(\"%Y-%m-%d_%H-%M-%S\")\n",
    "now"
   ]
  },
  {
   "cell_type": "code",
   "execution_count": 7,
   "metadata": {},
   "outputs": [
    {
     "name": "stdout",
     "output_type": "stream",
     "text": [
      "Save path: `/oscar/home/apierre3/RL_Olfaction/TriangleTask/save/2024-03-04_01-14-33`\n"
     ]
    }
   ],
   "source": [
    "ROOT_PATH = Path(\"env\").parent\n",
    "SAVE_PATH = ROOT_PATH / \"save\"\n",
    "CURRENT_PATH = SAVE_PATH / now\n",
    "CURRENT_PATH.mkdir(parents=True, exist_ok=True)  # Create the tree of directories\n",
    "print(f\"Save path: `{CURRENT_PATH.absolute()}`\")"
   ]
  },
  {
   "cell_type": "code",
   "execution_count": 8,
   "metadata": {},
   "outputs": [],
   "source": [
    "# Configure logging\n",
    "logfile = CURRENT_PATH / \"training.log\"\n",
    "logger = logging.getLogger(__name__)\n",
    "logger.setLevel(logging.DEBUG)\n",
    "handler = logging.FileHandler(logfile)\n",
    "formatter = logging.Formatter(\n",
    "    \"%(asctime)s : %(name)s  : %(funcName)s : %(levelname)s : %(message)s\"\n",
    ")\n",
    "handler.setFormatter(formatter)\n",
    "logger.addHandler(handler)"
   ]
  },
  {
   "cell_type": "markdown",
   "metadata": {},
   "source": [
    "### Parameters"
   ]
  },
  {
   "cell_type": "code",
   "execution_count": 9,
   "metadata": {
    "id": "NP28hCqLiVSy"
   },
   "outputs": [
    {
     "data": {
      "text/plain": [
       "Params(seed=42, n_runs=20, total_episodes=600, epsilon=0.5, epsilon_min=0.2, epsilon_max=1.0, decay_rate=0.01, epsilon_warmup=100, gamma=0.99, alpha=0.0001, nLayers=5, nHiddenUnits=128, n_observations=None, n_actions=None, replay_buffer_max_size=5000, batch_size=32, target_net_update=100, tau=0.005)"
      ]
     },
     "execution_count": 9,
     "metadata": {},
     "output_type": "execute_result"
    }
   ],
   "source": [
    "p = Params(\n",
    "    seed=42,\n",
    "    # seed=123,\n",
    "    n_runs=1,\n",
    "    total_episodes=600,\n",
    "    epsilon=0.5,\n",
    "    alpha=1e-4,\n",
    "    gamma=0.99,\n",
    "    # nHiddenUnits=(5 * 5 + 3) * 5,\n",
    "    nHiddenUnits=128,\n",
    "    replay_buffer_max_size=5000,\n",
    "    epsilon_min=0.2,\n",
    "    epsilon_max=1.0,\n",
    "    decay_rate=0.01,\n",
    "    epsilon_warmup=100,\n",
    "    batch_size=32,\n",
    "    # target_net_update=200,\n",
    "    tau=0.005,\n",
    ")\n",
    "p"
   ]
  },
  {
   "cell_type": "code",
   "execution_count": 10,
   "metadata": {},
   "outputs": [],
   "source": [
    "if p.batch_size < 2:\n",
    "    raise ValueError(\"The batch size needs to be more that one data point\")"
   ]
  },
  {
   "cell_type": "code",
   "execution_count": 11,
   "metadata": {
    "id": "NP28hCqLiVSy"
   },
   "outputs": [],
   "source": [
    "# Set the seed\n",
    "GENERATOR = make_deterministic(seed=p.seed)"
   ]
  },
  {
   "cell_type": "markdown",
   "metadata": {
    "id": "0fz-X3HTQueX"
   },
   "source": [
    "### Environment definition"
   ]
  },
  {
   "cell_type": "code",
   "execution_count": 12,
   "metadata": {
    "tags": []
   },
   "outputs": [],
   "source": [
    "# Load the environment\n",
    "env = WrappedEnvironment(one_hot_state=True, seed=p.seed)"
   ]
  },
  {
   "cell_type": "code",
   "execution_count": 13,
   "metadata": {},
   "outputs": [
    {
     "name": "stdout",
     "output_type": "stream",
     "text": [
      "Number of actions: 4\n",
      "Number of observations: 28\n"
     ]
    }
   ],
   "source": [
    "# Get number of actions\n",
    "# n_actions = env.action_space.n\n",
    "p.n_actions = env.numActions\n",
    "\n",
    "# Get the number of state observations\n",
    "# state, info = env.reset()\n",
    "state = env.reset(triangle_state=TriangleState.lower)\n",
    "p.n_observations = len(state)\n",
    "\n",
    "print(f\"Number of actions: {p.n_actions}\")\n",
    "print(f\"Number of observations: {p.n_observations}\")"
   ]
  },
  {
   "cell_type": "markdown",
   "metadata": {},
   "source": [
    "### Network definition"
   ]
  },
  {
   "cell_type": "code",
   "execution_count": 14,
   "metadata": {
    "tags": []
   },
   "outputs": [],
   "source": [
    "class DQN(nn.Module):\n",
    "    def __init__(self, n_observations, n_actions, n_units=16):\n",
    "        super(DQN, self).__init__()\n",
    "        self.mlp = nn.Sequential(\n",
    "            nn.Linear(n_observations, n_units),\n",
    "            nn.ReLU(),\n",
    "            nn.Linear(n_units, n_units),\n",
    "            nn.ReLU(),\n",
    "            nn.Linear(n_units, n_units),\n",
    "            nn.ReLU(),\n",
    "            nn.Linear(n_units, n_actions),\n",
    "            # nn.ReLU(),\n",
    "        )\n",
    "\n",
    "    def forward(self, x):\n",
    "        return self.mlp(x)"
   ]
  },
  {
   "cell_type": "code",
   "execution_count": 15,
   "metadata": {
    "tags": []
   },
   "outputs": [],
   "source": [
    "def neural_network():\n",
    "    # if env.one_hot_state:\n",
    "    #     net = DQN(\n",
    "    #         n_observations=p.n_observations,\n",
    "    #         n_actions=p.n_actions,\n",
    "    #         n_units=4 * p.n_observations,\n",
    "    #     ).to(DEVICE)\n",
    "    # else:\n",
    "    #     net = DQN(\n",
    "    #         n_observations=p.n_observations,\n",
    "    #         n_actions=p.n_actions,\n",
    "    #         n_units=p.nHiddenUnits,\n",
    "    #     ).to(DEVICE)\n",
    "    # net\n",
    "\n",
    "    net = DQN(\n",
    "        n_observations=p.n_observations,\n",
    "        n_actions=p.n_actions,\n",
    "        n_units=p.nHiddenUnits,\n",
    "    ).to(DEVICE)\n",
    "\n",
    "    target_net = DQN(\n",
    "        n_observations=p.n_observations,\n",
    "        n_actions=p.n_actions,\n",
    "        n_units=p.nHiddenUnits,\n",
    "    ).to(DEVICE)\n",
    "\n",
    "    target_net.load_state_dict(net.state_dict())\n",
    "\n",
    "    return net, target_net"
   ]
  },
  {
   "cell_type": "code",
   "execution_count": 16,
   "metadata": {
    "tags": []
   },
   "outputs": [
    {
     "data": {
      "text/plain": [
       "(DQN(\n",
       "   (mlp): Sequential(\n",
       "     (0): Linear(in_features=28, out_features=128, bias=True)\n",
       "     (1): ReLU()\n",
       "     (2): Linear(in_features=128, out_features=128, bias=True)\n",
       "     (3): ReLU()\n",
       "     (4): Linear(in_features=128, out_features=128, bias=True)\n",
       "     (5): ReLU()\n",
       "     (6): Linear(in_features=128, out_features=4, bias=True)\n",
       "   )\n",
       " ),\n",
       " DQN(\n",
       "   (mlp): Sequential(\n",
       "     (0): Linear(in_features=28, out_features=128, bias=True)\n",
       "     (1): ReLU()\n",
       "     (2): Linear(in_features=128, out_features=128, bias=True)\n",
       "     (3): ReLU()\n",
       "     (4): Linear(in_features=128, out_features=128, bias=True)\n",
       "     (5): ReLU()\n",
       "     (6): Linear(in_features=128, out_features=4, bias=True)\n",
       "   )\n",
       " ))"
      ]
     },
     "execution_count": 16,
     "metadata": {},
     "output_type": "execute_result"
    }
   ],
   "source": [
    "net, target_net = neural_network()\n",
    "net, target_net"
   ]
  },
  {
   "cell_type": "code",
   "execution_count": 17,
   "metadata": {},
   "outputs": [
    {
     "name": "stdout",
     "output_type": "stream",
     "text": [
      "\n",
      "\n",
      "Parameters sizes summary:\n",
      "[torch.Size([128, 28]), torch.Size([128]), torch.Size([128, 128]), torch.Size([128]), torch.Size([128, 128]), torch.Size([128]), torch.Size([4, 128]), torch.Size([4])]\n"
     ]
    }
   ],
   "source": [
    "# print(\"Model parameters:\")\n",
    "# print(list(net.parameters()))\n",
    "print(\"\\n\\nParameters sizes summary:\")\n",
    "print([item.shape for item in net.parameters()])"
   ]
  },
  {
   "cell_type": "code",
   "execution_count": 18,
   "metadata": {},
   "outputs": [],
   "source": [
    "# summary(net, input_size=[state.shape], verbose=0)"
   ]
  },
  {
   "cell_type": "markdown",
   "metadata": {},
   "source": [
    "### Optimizer"
   ]
  },
  {
   "cell_type": "code",
   "execution_count": 19,
   "metadata": {},
   "outputs": [
    {
     "data": {
      "text/plain": [
       "AdamW (\n",
       "Parameter Group 0\n",
       "    amsgrad: True\n",
       "    betas: (0.9, 0.999)\n",
       "    capturable: False\n",
       "    differentiable: False\n",
       "    eps: 1e-08\n",
       "    foreach: None\n",
       "    fused: None\n",
       "    lr: 0.0001\n",
       "    maximize: False\n",
       "    weight_decay: 0.01\n",
       ")"
      ]
     },
     "execution_count": 19,
     "metadata": {},
     "output_type": "execute_result"
    }
   ],
   "source": [
    "optimizer = optim.AdamW(net.parameters(), lr=p.alpha, amsgrad=True)\n",
    "optimizer"
   ]
  },
  {
   "cell_type": "markdown",
   "metadata": {},
   "source": [
    "### Explorer"
   ]
  },
  {
   "cell_type": "code",
   "execution_count": 20,
   "metadata": {},
   "outputs": [],
   "source": [
    "explorer = EpsilonGreedy(\n",
    "    epsilon=p.epsilon_max,\n",
    "    epsilon_min=p.epsilon_min,\n",
    "    epsilon_max=p.epsilon_max,\n",
    "    decay_rate=p.decay_rate,\n",
    "    epsilon_warmup=p.epsilon_warmup,\n",
    "    seed=p.seed,\n",
    ")\n",
    "episodes = torch.arange(p.total_episodes, device=DEVICE)\n",
    "epsilons = torch.empty_like(episodes, device=DEVICE) * torch.nan\n",
    "for eps_i, epsi in enumerate(epsilons):\n",
    "    epsilons[eps_i] = explorer.epsilon\n",
    "    explorer.epsilon = explorer.update_epsilon(episodes[eps_i])"
   ]
  },
  {
   "cell_type": "code",
   "execution_count": 21,
   "metadata": {},
   "outputs": [
    {
     "data": {
      "image/png": "[encoded data removed]",
      "text/plain": [
       "<Figure size 640x480 with 1 Axes>"
      ]
     },
     "metadata": {},
     "output_type": "display_data"
    }
   ],
   "source": [
    "fig, ax = plt.subplots()\n",
    "sns.lineplot(epsilons.cpu())\n",
    "ax.set(ylabel=\"Epsilon\")\n",
    "ax.set(xlabel=\"Episodes\")\n",
    "fig.tight_layout()\n",
    "plt.show()"
   ]
  },
  {
   "cell_type": "code",
   "execution_count": 22,
   "metadata": {},
   "outputs": [],
   "source": [
    "def collect_weights_biases(net):\n",
    "    biases = {\"val\": [], \"grad\": []}\n",
    "    weights = {\"val\": [], \"grad\": []}\n",
    "    for layer in net.mlp.children():\n",
    "        layer_params = layer.parameters()\n",
    "        for idx, subparams in enumerate(layer_params):\n",
    "            if idx > 2:\n",
    "                raise ValueError(\n",
    "                    \"There should be max 2 sets of parameters: weights and biases\"\n",
    "                )\n",
    "            if len(subparams.shape) > 2:\n",
    "                raise ValueError(\"The weights have more dimensions than expected\")\n",
    "\n",
    "            if len(subparams.shape) == 1:\n",
    "                biases[\"val\"].append(subparams)\n",
    "                biases[\"grad\"].append(subparams.grad)\n",
    "            elif len(subparams.shape) == 2:\n",
    "                weights[\"val\"].append(subparams)\n",
    "                weights[\"grad\"].append(subparams.grad)\n",
    "    return weights, biases"
   ]
  },
  {
   "cell_type": "code",
   "execution_count": 23,
   "metadata": {},
   "outputs": [],
   "source": [
    "def params_df_stats(weights, key, current_df=None):\n",
    "    if not current_df is None:\n",
    "        last_idx = current_df.index[-1] + 1\n",
    "        df = current_df\n",
    "    else:\n",
    "        last_idx = 0\n",
    "        df = None\n",
    "\n",
    "    for idx, val in enumerate(weights[key]):\n",
    "        tmp_df = pd.DataFrame(\n",
    "            data={\n",
    "                \"Std\": val.detach().cpu().std().item(),\n",
    "                \"Avg\": val.detach().cpu().mean().item(),\n",
    "                \"Layer\": idx,\n",
    "                \"Index\": [last_idx + idx],\n",
    "            },\n",
    "            index=[last_idx + idx],\n",
    "        )\n",
    "\n",
    "        if df is None:\n",
    "            df = tmp_df\n",
    "        else:\n",
    "            df = pd.concat((df, tmp_df))\n",
    "    return df"
   ]
  },
  {
   "cell_type": "markdown",
   "metadata": {},
   "source": [
    "## Training"
   ]
  },
  {
   "cell_type": "code",
   "execution_count": 24,
   "metadata": {},
   "outputs": [],
   "source": [
    "Transition = namedtuple(\n",
    "    \"Transition\", (\"state\", \"action\", \"reward\", \"next_state\", \"done\")\n",
    ")"
   ]
  },
  {
   "cell_type": "code",
   "execution_count": 25,
   "metadata": {},
   "outputs": [],
   "source": [
    "def train(\n",
    "    triangle_state,\n",
    "):\n",
    "    state = env.reset(triangle_state=triangle_state)  # Reset the environment\n",
    "    state = state.clone().float().detach().to(DEVICE)\n",
    "    step_count = 0\n",
    "    done = False\n",
    "    total_rewards = 0\n",
    "    loss = torch.ones(1, device=DEVICE) * torch.nan\n",
    "\n",
    "    while not done:\n",
    "        state_action_values = net(state).to(DEVICE)  # Q(s_t)\n",
    "        action = explorer.choose_action(\n",
    "            action_space=env.action_space,\n",
    "            state=state,\n",
    "            state_action_values=state_action_values,\n",
    "        ).item()\n",
    "\n",
    "        # Record states and actions\n",
    "        # all_states.append(state)\n",
    "        # all_actions.append(Actions(action.item()).name)\n",
    "        all_actions.append(Actions(action).name)\n",
    "\n",
    "        next_state, reward, done = env.step(action=action, current_state=state)\n",
    "\n",
    "        # Store transition in replay buffer\n",
    "        # [current_state (2 or 28 x1), action (1x1), next_state (2 or 28 x1), reward (1x1), done (1x1 bool)]\n",
    "        done = torch.tensor(done, device=DEVICE).unsqueeze(-1)\n",
    "        replay_buffer.append(\n",
    "            Transition(\n",
    "                state,\n",
    "                action,\n",
    "                reward,\n",
    "                next_state,\n",
    "                done,\n",
    "            )\n",
    "        )\n",
    "        if len(replay_buffer) == p.replay_buffer_max_size:\n",
    "            transitions = random_choice(\n",
    "                replay_buffer,\n",
    "                length=len(replay_buffer),\n",
    "                num_samples=p.batch_size,\n",
    "                generator=GENERATOR,\n",
    "            )\n",
    "            batch = Transition(*zip(*transitions, strict=True))\n",
    "            state_batch = torch.stack(batch.state)\n",
    "            action_batch = torch.tensor(batch.action, device=DEVICE)\n",
    "            reward_batch = torch.cat(batch.reward)\n",
    "            next_state_batch = torch.stack(batch.next_state)\n",
    "            done_batch = torch.cat(batch.done)\n",
    "\n",
    "            # See DQN paper for equations: https://doi.org/10.1038/nature14236\n",
    "            state_action_values_sampled = net(state_batch).to(DEVICE)  # Q(s_t)\n",
    "            state_action_values = torch.gather(\n",
    "                input=state_action_values_sampled,\n",
    "                dim=1,\n",
    "                index=action_batch.unsqueeze(-1),\n",
    "            ).squeeze()  # Q(s_t, a)\n",
    "\n",
    "            # Compute a mask of non-final states and concatenate the batch elements\n",
    "            # (a final state would've been the one after which simulation ended)\n",
    "            non_final_mask = torch.tensor(\n",
    "                tuple(map(lambda s: s == False, batch.done)),\n",
    "                device=DEVICE,\n",
    "                dtype=torch.bool,\n",
    "            )\n",
    "            non_final_next_states = torch.stack(\n",
    "                [s[1] for s in zip(batch.done, batch.next_state) if s[0] == False]\n",
    "            )\n",
    "\n",
    "            # Compute V(s_{t+1}) for all next states.\n",
    "            # Expected values of actions for non_final_next_states are computed based\n",
    "            # on the \"older\" target_net; selecting their best reward with max(1).values\n",
    "            # This is merged based on the mask, such that we'll have either the expected\n",
    "            # state value or 0 in case the state was final.\n",
    "            next_state_values = torch.zeros(p.batch_size, device=DEVICE)\n",
    "            if non_final_next_states.numel() > 0 and non_final_mask.numel() > 0:\n",
    "                with torch.no_grad():\n",
    "                    next_state_values[non_final_mask] = (\n",
    "                        target_net(non_final_next_states).max(1).values\n",
    "                    )\n",
    "            # Compute the expected Q values\n",
    "            expected_state_action_values = reward_batch + (next_state_values * p.gamma)\n",
    "\n",
    "            # Compute loss\n",
    "            # criterion = nn.MSELoss()\n",
    "            criterion = nn.SmoothL1Loss()\n",
    "            loss = criterion(\n",
    "                input=state_action_values,  # prediction\n",
    "                target=expected_state_action_values,  # target/\"truth\" value\n",
    "            )  # TD update\n",
    "\n",
    "            # Optimize the model\n",
    "            optimizer.zero_grad()\n",
    "            loss.backward()\n",
    "            torch.nn.utils.clip_grad_value_(\n",
    "                net.parameters(), 100\n",
    "            )  # In-place gradient clipping\n",
    "            optimizer.step()\n",
    "\n",
    "            # Soft update of the target network's weights\n",
    "            # θ′ ← τ θ + (1 −τ )θ′\n",
    "            target_net_state_dict = target_net.state_dict()\n",
    "            net_state_dict = net.state_dict()\n",
    "            for key in net_state_dict:\n",
    "                target_net_state_dict[key] = net_state_dict[\n",
    "                    key\n",
    "                ] * p.tau + target_net_state_dict[key] * (1 - p.tau)\n",
    "            target_net.load_state_dict(target_net_state_dict)\n",
    "\n",
    "            losses[run].append(loss.item())\n",
    "\n",
    "        total_rewards += reward\n",
    "        step_count += 1\n",
    "\n",
    "        # Move to the next state\n",
    "        state = next_state\n",
    "\n",
    "        if episode > p.total_episodes:\n",
    "            explorer.epsilon = explorer.update_epsilon(episode - p.total_episodes)\n",
    "        else:\n",
    "            explorer.epsilon = explorer.update_epsilon(episode)\n",
    "        epsilons.append(explorer.epsilon)\n",
    "\n",
    "    return (\n",
    "        total_rewards,\n",
    "        step_count,\n",
    "        loss,\n",
    "    )"
   ]
  },
  {
   "cell_type": "markdown",
   "metadata": {},
   "source": [
    "### Main loop"
   ]
  },
  {
   "cell_type": "code",
   "execution_count": 26,
   "metadata": {
    "colab": {
     "base_uri": "https://localhost:8080/"
    },
    "id": "uyEdi0gGiV1z",
    "outputId": "b644224d-13ff-4806-d751-0088efc24f85",
    "scrolled": true
   },
   "outputs": [
    {
     "name": "stderr",
     "output_type": "stream",
     "text": [
      "                                                                        \r"
     ]
    }
   ],
   "source": [
    "rewards = torch.zeros((2 * p.total_episodes, p.n_runs), device=DEVICE)\n",
    "steps = torch.zeros((2 * p.total_episodes, p.n_runs), device=DEVICE)\n",
    "episodes = torch.arange(2 * p.total_episodes, device=DEVICE)\n",
    "# all_states = []\n",
    "all_actions = []\n",
    "losses = [[] for _ in range(p.n_runs)]\n",
    "\n",
    "for run in range(p.n_runs):  # Run several times to account for stochasticity\n",
    "    # Reset everything\n",
    "    net, target_net = neural_network()  # reset weights\n",
    "    optimizer = optim.AdamW(net.parameters(), lr=p.alpha, amsgrad=True)\n",
    "    explorer = EpsilonGreedy(\n",
    "        epsilon=p.epsilon_max,\n",
    "        epsilon_min=p.epsilon_min,\n",
    "        epsilon_max=p.epsilon_max,\n",
    "        decay_rate=p.decay_rate,\n",
    "        epsilon_warmup=p.epsilon_warmup,\n",
    "    )\n",
    "    replay_buffer = deque([], maxlen=p.replay_buffer_max_size)\n",
    "    epsilons = []\n",
    "\n",
    "    # Train in lower triangle only\n",
    "    for episode in tqdm(\n",
    "        episodes[0 : p.total_episodes],\n",
    "        desc=f\"Run {run+1}/{p.n_runs} - Episodes\",\n",
    "        leave=False,\n",
    "    ):\n",
    "        (\n",
    "            total_rewards,\n",
    "            step_count,\n",
    "            loss,\n",
    "        ) = train(\n",
    "            triangle_state=TriangleState.upper,\n",
    "        )\n",
    "\n",
    "        rewards[episode, run] = total_rewards\n",
    "        steps[episode, run] = step_count\n",
    "        logger.info(\n",
    "            f\"Run: {run+1}/{p.n_runs} - Episode: {episode+1}/{p.total_episodes} - Steps: {step_count} - Loss: {loss.item()}\"\n",
    "        )\n",
    "\n",
    "    # Then switch to lower triangle\n",
    "    for episode in tqdm(\n",
    "        episodes[p.total_episodes :],\n",
    "        desc=f\"Run {run+1}/{p.n_runs} - Episodes\",\n",
    "        leave=False,\n",
    "    ):\n",
    "        (\n",
    "            total_rewards,\n",
    "            step_count,\n",
    "            loss,\n",
    "        ) = train(\n",
    "            triangle_state=TriangleState.lower,\n",
    "        )\n",
    "\n",
    "        rewards[episode, run] = total_rewards\n",
    "        steps[episode, run] = step_count\n",
    "        logger.info(\n",
    "            f\"Run: {run+1}/{p.n_runs} - Episode: {episode+1}/{p.total_episodes} - Steps: {step_count} - Loss: {loss.item()}\"\n",
    "        )"
   ]
  },
  {
   "cell_type": "markdown",
   "metadata": {},
   "source": [
    "### Save data to disk"
   ]
  },
  {
   "cell_type": "code",
   "execution_count": 27,
   "metadata": {},
   "outputs": [],
   "source": [
    "# data_path = CURRENT_PATH / \"data.npz\"\n",
    "# with open(data_path, \"wb\") as f:\n",
    "#     np.savez(\n",
    "#         f,\n",
    "#         rewards=rewards.cpu(),\n",
    "#         steps=steps.cpu(),\n",
    "#         episodes=episodes.cpu(),\n",
    "#         all_actions=all_actions,\n",
    "#         # losses=losses,\n",
    "#         p=p,\n",
    "#     )"
   ]
  },
  {
   "cell_type": "markdown",
   "metadata": {
    "colab": {
     "base_uri": "https://localhost:8080/"
    },
    "id": "uyEdi0gGiV1z",
    "outputId": "b644224d-13ff-4806-d751-0088efc24f85",
    "tags": []
   },
   "source": [
    "## Visualization"
   ]
  },
  {
   "cell_type": "markdown",
   "metadata": {},
   "source": [
    "### Load data from disk"
   ]
  },
  {
   "cell_type": "code",
   "execution_count": 28,
   "metadata": {},
   "outputs": [],
   "source": [
    "# with open(data_path, \"rb\") as f:\n",
    "#     # Load the arrays from the .npz file\n",
    "#     data = np.load(f, allow_pickle=True)\n",
    "\n",
    "#     # Access individual arrays by their names\n",
    "#     rewards = data[\"rewards\"]\n",
    "#     steps = data[\"steps\"]\n",
    "#     episodes = data[\"episodes\"]\n",
    "#     all_actions = data[\"all_actions\"]\n",
    "#     losses = data[\"losses\"]\n",
    "#     p = data[\"p\"][()]"
   ]
  },
  {
   "cell_type": "markdown",
   "metadata": {},
   "source": [
    "### Exploration rate"
   ]
  },
  {
   "cell_type": "code",
   "execution_count": 29,
   "metadata": {},
   "outputs": [],
   "source": [
    "def plot_exploration_rate(epsilons, figpath=None):\n",
    "    fig, ax = plt.subplots()\n",
    "    sns.lineplot(epsilons)\n",
    "    ax.set(ylabel=\"Epsilon\")\n",
    "    ax.set(xlabel=\"Steps\")\n",
    "    fig.tight_layout()\n",
    "    fig.patch.set_alpha(0)\n",
    "    fig.patch.set_facecolor(\"white\")\n",
    "    if figpath:\n",
    "        fig.savefig(figpath / \"exploration-rate.png\", bbox_inches=\"tight\")\n",
    "    plt.show()"
   ]
  },
  {
   "cell_type": "code",
   "execution_count": 30,
   "metadata": {},
   "outputs": [
    {
     "data": {
      "image/png": "[encoded data removed]",
      "text/plain": [
       "<Figure size 640x480 with 1 Axes>"
      ]
     },
     "metadata": {
      "needs_background": "light"
     },
     "output_type": "display_data"
    }
   ],
   "source": [
    "plot_exploration_rate(epsilons, figpath=CURRENT_PATH)"
   ]
  },
  {
   "cell_type": "markdown",
   "metadata": {},
   "source": [
    "### States & actions distributions"
   ]
  },
  {
   "cell_type": "code",
   "execution_count": 31,
   "metadata": {},
   "outputs": [],
   "source": [
    "def postprocess(episodes, p, rewards, steps):\n",
    "    \"\"\"Convert the results of the simulation in dataframes.\"\"\"\n",
    "    res = pd.DataFrame(\n",
    "        data={\n",
    "            \"Episodes\": episodes.tile(p.n_runs).cpu(),\n",
    "            \"Rewards\": rewards.T.flatten().cpu(),\n",
    "            \"Steps\": steps.T.flatten().cpu(),\n",
    "        }\n",
    "    )\n",
    "    # res[\"cum_rewards\"] = rewards.cumsum(axis=0).flatten(order=\"F\")\n",
    "    return res"
   ]
  },
  {
   "cell_type": "code",
   "execution_count": 32,
   "metadata": {
    "tags": []
   },
   "outputs": [
    {
     "data": {
      "text/html": [
       "<div>\n",
       "<style scoped>\n",
       "    .dataframe tbody tr th:only-of-type {\n",
       "        vertical-align: middle;\n",
       "    }\n",
       "\n",
       "    .dataframe tbody tr th {\n",
       "        vertical-align: top;\n",
       "    }\n",
       "\n",
       "    .dataframe thead th {\n",
       "        text-align: right;\n",
       "    }\n",
       "</style>\n",
       "<table border=\"1\" class=\"dataframe\">\n",
       "  <thead>\n",
       "    <tr style=\"text-align: right;\">\n",
       "      <th></th>\n",
       "      <th>Episodes</th>\n",
       "      <th>Rewards</th>\n",
       "      <th>Steps</th>\n",
       "    </tr>\n",
       "  </thead>\n",
       "  <tbody>\n",
       "    <tr>\n",
       "      <th>0</th>\n",
       "      <td>0</td>\n",
       "      <td>10.0</td>\n",
       "      <td>68.0</td>\n",
       "    </tr>\n",
       "    <tr>\n",
       "      <th>1</th>\n",
       "      <td>1</td>\n",
       "      <td>0.0</td>\n",
       "      <td>28.0</td>\n",
       "    </tr>\n",
       "    <tr>\n",
       "      <th>2</th>\n",
       "      <td>2</td>\n",
       "      <td>0.0</td>\n",
       "      <td>62.0</td>\n",
       "    </tr>\n",
       "    <tr>\n",
       "      <th>3</th>\n",
       "      <td>3</td>\n",
       "      <td>0.0</td>\n",
       "      <td>225.0</td>\n",
       "    </tr>\n",
       "    <tr>\n",
       "      <th>4</th>\n",
       "      <td>4</td>\n",
       "      <td>0.0</td>\n",
       "      <td>130.0</td>\n",
       "    </tr>\n",
       "    <tr>\n",
       "      <th>...</th>\n",
       "      <td>...</td>\n",
       "      <td>...</td>\n",
       "      <td>...</td>\n",
       "    </tr>\n",
       "    <tr>\n",
       "      <th>23995</th>\n",
       "      <td>1195</td>\n",
       "      <td>10.0</td>\n",
       "      <td>10.0</td>\n",
       "    </tr>\n",
       "    <tr>\n",
       "      <th>23996</th>\n",
       "      <td>1196</td>\n",
       "      <td>10.0</td>\n",
       "      <td>12.0</td>\n",
       "    </tr>\n",
       "    <tr>\n",
       "      <th>23997</th>\n",
       "      <td>1197</td>\n",
       "      <td>10.0</td>\n",
       "      <td>7.0</td>\n",
       "    </tr>\n",
       "    <tr>\n",
       "      <th>23998</th>\n",
       "      <td>1198</td>\n",
       "      <td>10.0</td>\n",
       "      <td>8.0</td>\n",
       "    </tr>\n",
       "    <tr>\n",
       "      <th>23999</th>\n",
       "      <td>1199</td>\n",
       "      <td>10.0</td>\n",
       "      <td>9.0</td>\n",
       "    </tr>\n",
       "  </tbody>\n",
       "</table>\n",
       "<p>24000 rows × 3 columns</p>\n",
       "</div>"
      ],
      "text/plain": [
       "       Episodes  Rewards  Steps\n",
       "0             0     10.0   68.0\n",
       "1             1      0.0   28.0\n",
       "2             2      0.0   62.0\n",
       "3             3      0.0  225.0\n",
       "4             4      0.0  130.0\n",
       "...         ...      ...    ...\n",
       "23995      1195     10.0   10.0\n",
       "23996      1196     10.0   12.0\n",
       "23997      1197     10.0    7.0\n",
       "23998      1198     10.0    8.0\n",
       "23999      1199     10.0    9.0\n",
       "\n",
       "[24000 rows x 3 columns]"
      ]
     },
     "execution_count": 32,
     "metadata": {},
     "output_type": "execute_result"
    }
   ],
   "source": [
    "res = postprocess(episodes, p, rewards, steps)\n",
    "res"
   ]
  },
  {
   "cell_type": "markdown",
   "metadata": {},
   "source": [
    "As a sanity check, we will plot the distributions of states and actions\n",
    "with the following function:"
   ]
  },
  {
   "cell_type": "code",
   "execution_count": 33,
   "metadata": {},
   "outputs": [],
   "source": [
    "def plot_actions_distribution(actions, figpath=None):\n",
    "    \"\"\"Plot the distributions of states and actions.\"\"\"\n",
    "    fig, ax = plt.subplots()\n",
    "    sns.histplot(data=actions, ax=ax)\n",
    "    ax.set_xticks(\n",
    "        [item.value for item in Actions], labels=[item.name for item in Actions]\n",
    "    )\n",
    "    ax.set_title(\"Actions\")\n",
    "    fig.tight_layout()\n",
    "    fig.patch.set_alpha(0)\n",
    "    fig.patch.set_facecolor(\"white\")\n",
    "    if figpath:\n",
    "        fig.savefig(figpath / \"actions-distribution.png\", bbox_inches=\"tight\")\n",
    "    plt.show()"
   ]
  },
  {
   "cell_type": "code",
   "execution_count": 34,
   "metadata": {
    "tags": []
   },
   "outputs": [
    {
     "data": {
      "image/png": "[encoded data removed]",
      "text/plain": [
       "<Figure size 640x480 with 1 Axes>"
      ]
     },
     "metadata": {
      "needs_background": "light"
     },
     "output_type": "display_data"
    }
   ],
   "source": [
    "plot_actions_distribution(all_actions, figpath=CURRENT_PATH)"
   ]
  },
  {
   "cell_type": "markdown",
   "metadata": {},
   "source": [
    "### Steps & rewards"
   ]
  },
  {
   "cell_type": "code",
   "execution_count": 35,
   "metadata": {
    "colab": {
     "base_uri": "https://localhost:8080/",
     "height": 317
    },
    "id": "pk8lHOjiL7fa",
    "outputId": "0474335e-bf29-4be1-d877-e6adc5a13afc"
   },
   "outputs": [],
   "source": [
    "def plot_steps_and_rewards(df, figpath=None):\n",
    "    \"\"\"Plot the steps and rewards from dataframes.\"\"\"\n",
    "    fig, ax = plt.subplots(nrows=1, ncols=2, figsize=(15, 5))\n",
    "    sns.lineplot(data=df, x=\"Episodes\", y=\"Rewards\", ax=ax[0])\n",
    "    ax[0].set(\n",
    "        ylabel=f\"Rewards\\naveraged over {p.n_runs} runs\" if p.n_runs > 1 else \"Rewards\"\n",
    "    )\n",
    "\n",
    "    sns.lineplot(data=df, x=\"Episodes\", y=\"Steps\", ax=ax[1])\n",
    "    ax[1].set(\n",
    "        ylabel=(\n",
    "            f\"Steps number\\naveraged over {p.n_runs} runs\"\n",
    "            if p.n_runs > 1\n",
    "            else \"Steps number\"\n",
    "        )\n",
    "    )\n",
    "\n",
    "    fig.tight_layout()\n",
    "    fig.patch.set_alpha(0)\n",
    "    fig.patch.set_facecolor(\"white\")\n",
    "    if figpath:\n",
    "        fig.savefig(figpath / \"steps-and-rewards.png\", bbox_inches=\"tight\")\n",
    "    plt.show()"
   ]
  },
  {
   "cell_type": "code",
   "execution_count": 36,
   "metadata": {
    "id": "Xj1z5ob10ltw"
   },
   "outputs": [
    {
     "data": {
      "image/png": "[encoded data removed]",
      "text/plain": [
       "<Figure size 1500x500 with 2 Axes>"
      ]
     },
     "metadata": {
      "needs_background": "light"
     },
     "output_type": "display_data"
    }
   ],
   "source": [
    "plot_steps_and_rewards(res, figpath=CURRENT_PATH)"
   ]
  },
  {
   "cell_type": "code",
   "execution_count": 37,
   "metadata": {},
   "outputs": [],
   "source": [
    "def plot_steps_and_rewards_dist(df, figpath=None):\n",
    "    \"\"\"Plot the steps and rewards distributions from dataframes.\"\"\"\n",
    "    fig, ax = plt.subplots(nrows=1, ncols=2, figsize=(15, 5))\n",
    "    sns.histplot(data=df, x=\"Rewards\", ax=ax[0])\n",
    "    sns.histplot(data=df, x=\"Steps\", ax=ax[1])\n",
    "    fig.tight_layout()\n",
    "    fig.patch.set_alpha(0)\n",
    "    fig.patch.set_facecolor(\"white\")\n",
    "    if figpath:\n",
    "        fig.savefig(\n",
    "            figpath / \"steps-and-rewards-distrib.png\",\n",
    "            bbox_inches=\"tight\",\n",
    "        )\n",
    "    plt.show()"
   ]
  },
  {
   "cell_type": "code",
   "execution_count": 38,
   "metadata": {},
   "outputs": [
    {
     "data": {
      "image/png": "[encoded data removed]",
      "text/plain": [
       "<Figure size 1500x500 with 2 Axes>"
      ]
     },
     "metadata": {
      "needs_background": "light"
     },
     "output_type": "display_data"
    }
   ],
   "source": [
    "plot_steps_and_rewards_dist(res, figpath=CURRENT_PATH)"
   ]
  },
  {
   "cell_type": "markdown",
   "metadata": {},
   "source": [
    "### Loss"
   ]
  },
  {
   "cell_type": "code",
   "execution_count": 39,
   "metadata": {},
   "outputs": [
    {
     "data": {
      "text/html": [
       "<div>\n",
       "<style scoped>\n",
       "    .dataframe tbody tr th:only-of-type {\n",
       "        vertical-align: middle;\n",
       "    }\n",
       "\n",
       "    .dataframe tbody tr th {\n",
       "        vertical-align: top;\n",
       "    }\n",
       "\n",
       "    .dataframe thead th {\n",
       "        text-align: right;\n",
       "    }\n",
       "</style>\n",
       "<table border=\"1\" class=\"dataframe\">\n",
       "  <thead>\n",
       "    <tr style=\"text-align: right;\">\n",
       "      <th></th>\n",
       "      <th>Run</th>\n",
       "      <th>Steps</th>\n",
       "      <th>Loss</th>\n",
       "    </tr>\n",
       "  </thead>\n",
       "  <tbody>\n",
       "    <tr>\n",
       "      <th>0</th>\n",
       "      <td>0</td>\n",
       "      <td>0</td>\n",
       "      <td>0.001057</td>\n",
       "    </tr>\n",
       "    <tr>\n",
       "      <th>1</th>\n",
       "      <td>0</td>\n",
       "      <td>1</td>\n",
       "      <td>0.000708</td>\n",
       "    </tr>\n",
       "    <tr>\n",
       "      <th>2</th>\n",
       "      <td>0</td>\n",
       "      <td>2</td>\n",
       "      <td>0.297616</td>\n",
       "    </tr>\n",
       "    <tr>\n",
       "      <th>3</th>\n",
       "      <td>0</td>\n",
       "      <td>3</td>\n",
       "      <td>0.001505</td>\n",
       "    </tr>\n",
       "    <tr>\n",
       "      <th>4</th>\n",
       "      <td>0</td>\n",
       "      <td>4</td>\n",
       "      <td>0.297337</td>\n",
       "    </tr>\n",
       "    <tr>\n",
       "      <th>...</th>\n",
       "      <td>...</td>\n",
       "      <td>...</td>\n",
       "      <td>...</td>\n",
       "    </tr>\n",
       "    <tr>\n",
       "      <th>39791</th>\n",
       "      <td>19</td>\n",
       "      <td>39791</td>\n",
       "      <td>0.000008</td>\n",
       "    </tr>\n",
       "    <tr>\n",
       "      <th>39792</th>\n",
       "      <td>19</td>\n",
       "      <td>39792</td>\n",
       "      <td>0.000006</td>\n",
       "    </tr>\n",
       "    <tr>\n",
       "      <th>39793</th>\n",
       "      <td>19</td>\n",
       "      <td>39793</td>\n",
       "      <td>0.000066</td>\n",
       "    </tr>\n",
       "    <tr>\n",
       "      <th>39794</th>\n",
       "      <td>19</td>\n",
       "      <td>39794</td>\n",
       "      <td>0.000018</td>\n",
       "    </tr>\n",
       "    <tr>\n",
       "      <th>39795</th>\n",
       "      <td>19</td>\n",
       "      <td>39795</td>\n",
       "      <td>0.000115</td>\n",
       "    </tr>\n",
       "  </tbody>\n",
       "</table>\n",
       "<p>928529 rows × 3 columns</p>\n",
       "</div>"
      ],
      "text/plain": [
       "       Run  Steps      Loss\n",
       "0        0      0  0.001057\n",
       "1        0      1  0.000708\n",
       "2        0      2  0.297616\n",
       "3        0      3  0.001505\n",
       "4        0      4  0.297337\n",
       "...    ...    ...       ...\n",
       "39791   19  39791  0.000008\n",
       "39792   19  39792  0.000006\n",
       "39793   19  39793  0.000066\n",
       "39794   19  39794  0.000018\n",
       "39795   19  39795  0.000115\n",
       "\n",
       "[928529 rows x 3 columns]"
      ]
     },
     "execution_count": 39,
     "metadata": {},
     "output_type": "execute_result"
    }
   ],
   "source": [
    "window_size = 1\n",
    "for idx, loss in enumerate(losses):\n",
    "    current_loss = torch.tensor(loss, device=DEVICE)\n",
    "    losses_rolling_avg = nn.functional.avg_pool1d(\n",
    "        current_loss.view(1, 1, -1), kernel_size=window_size\n",
    "    ).squeeze()\n",
    "    tmp_df = pd.DataFrame(\n",
    "        data={\n",
    "            \"Run\": idx * torch.ones(len(losses_rolling_avg), device=DEVICE).int().cpu(),\n",
    "            \"Steps\": torch.arange(0, len(losses_rolling_avg), device=DEVICE).cpu(),\n",
    "            \"Loss\": losses_rolling_avg.cpu(),\n",
    "        }\n",
    "    )\n",
    "    if idx == 0:\n",
    "        loss_df = tmp_df\n",
    "    else:\n",
    "        loss_df = pd.concat((loss_df, tmp_df))\n",
    "loss_df"
   ]
  },
  {
   "cell_type": "code",
   "execution_count": 40,
   "metadata": {},
   "outputs": [
    {
     "data": {
      "image/png": "[encoded data removed]",
      "text/plain": [
       "<Figure size 640x480 with 1 Axes>"
      ]
     },
     "metadata": {
      "needs_background": "light"
     },
     "output_type": "display_data"
    }
   ],
   "source": [
    "fig, ax = plt.subplots()\n",
    "sns.lineplot(data=loss_df, x=\"Steps\", y=\"Loss\", ax=ax)\n",
    "if USETEX:\n",
    "    ax.set(\n",
    "        ylabel=(\n",
    "            f\"$Log_{{10}}(\\mathrm{{Loss}})$\\naveraged over {p.n_runs} runs\"\n",
    "            if p.n_runs > 1\n",
    "            else \"$Log_{10}(\\mathrm{Loss})$\"\n",
    "        )\n",
    "    )\n",
    "else:\n",
    "    ax.set(\n",
    "        ylabel=(\n",
    "            f\"$Log_{{10}}(\\\\text{{Loss}})$\\naveraged over {p.n_runs} runs\"\n",
    "            if p.n_runs > 1\n",
    "            else \"$Log_{10}(\\\\text{Loss})$\"\n",
    "        )\n",
    "    )\n",
    "ax.set(xlabel=\"Steps\")\n",
    "ax.set(yscale=\"log\")\n",
    "fig.tight_layout()\n",
    "fig.patch.set_alpha(0)\n",
    "fig.patch.set_facecolor(\"white\")\n",
    "fig.savefig(CURRENT_PATH / \"loss.png\", bbox_inches=\"tight\")\n",
    "plt.show()"
   ]
  },
  {
   "cell_type": "markdown",
   "metadata": {},
   "source": [
    "### Policy learned"
   ]
  },
  {
   "cell_type": "code",
   "execution_count": 41,
   "metadata": {},
   "outputs": [
    {
     "data": {
      "text/plain": [
       "torch.Size([25, 3, 4])"
      ]
     },
     "execution_count": 41,
     "metadata": {},
     "output_type": "execute_result"
    }
   ],
   "source": [
    "with torch.no_grad():\n",
    "    q_values = torch.nan * torch.empty(\n",
    "        (len(env.tiles_locations), len(Cues), p.n_actions), device=DEVICE\n",
    "    )\n",
    "    for tile_i, tile_v in enumerate(env.tiles_locations):\n",
    "        for cue_i, cue_v in enumerate(Cues):\n",
    "            state = torch.tensor([tile_v, cue_v.value], device=DEVICE).float()\n",
    "            if env.one_hot_state:\n",
    "                state = env.to_one_hot(state).float()\n",
    "            q_values[tile_i, cue_i, :] = net(state).to(DEVICE)\n",
    "q_values.shape"
   ]
  },
  {
   "cell_type": "code",
   "execution_count": 42,
   "metadata": {},
   "outputs": [],
   "source": [
    "# with torch.no_grad():\n",
    "#     q_values = torch.nan * torch.empty(\n",
    "#         (len(env.tiles_locations), len(OdorCues), len(LightCues), p.n_actions),\n",
    "#         device=device,\n",
    "#     )\n",
    "#     for tile_i, tile_v in enumerate(env.tiles_locations):\n",
    "#         for o_cue_i, o_cue_v in enumerate(OdorCues):\n",
    "#             for l_cue_i, l_cue_v in enumerate(LightCues):\n",
    "#                 state = torch.tensor(\n",
    "#                     [tile_v, o_cue_v.value, l_cue_v.value], device=device\n",
    "#                 ).float()\n",
    "#                 if env.one_hot_state:\n",
    "#                     state = env.to_one_hot(state).float()\n",
    "#                 q_values[tile_i, cue_i, :] = net(state).to(device)\n",
    "# q_values.shape"
   ]
  },
  {
   "cell_type": "code",
   "execution_count": 43,
   "metadata": {},
   "outputs": [],
   "source": [
    "def qtable_directions_map(qtable, rows, cols):\n",
    "    \"\"\"Get the best learned action & map it to arrows.\"\"\"\n",
    "    qtable_val_max = qtable.max(axis=1).values.reshape(rows, cols)\n",
    "    qtable_best_action = qtable.argmax(axis=1).reshape(rows, cols)\n",
    "    directions = {\n",
    "        Actions.UP: \"↑\",\n",
    "        Actions.DOWN: \"↓\",\n",
    "        Actions.LEFT: \"←\",\n",
    "        Actions.RIGHT: \"→\",\n",
    "    }\n",
    "    qtable_directions = np.empty(qtable_best_action.flatten().shape, dtype=str)\n",
    "    eps = torch.finfo(torch.float64).eps  # Minimum float number on the machine\n",
    "    for idx, val in enumerate(qtable_best_action.flatten()):\n",
    "        if qtable_val_max.flatten()[idx] > eps:\n",
    "            # Assign an arrow only if a minimal Q-value has been learned as best action\n",
    "            # otherwise since 0 is a direction, it also gets mapped on the tiles where\n",
    "            # it didn't actually learn anything\n",
    "            qtable_directions[idx] = directions[Actions(val.item())]\n",
    "    qtable_directions = qtable_directions.reshape(rows, cols)\n",
    "    return qtable_val_max, qtable_directions"
   ]
  },
  {
   "cell_type": "code",
   "execution_count": 44,
   "metadata": {},
   "outputs": [],
   "source": [
    "def plot_policies(q_values, labels, figpath=None):\n",
    "    \"\"\"Plot the heatmap of the Q-values.\n",
    "\n",
    "    Also plot the best action's direction with arrows.\"\"\"\n",
    "\n",
    "    fig, ax = plt.subplots(1, 3, figsize=(13, 4))\n",
    "    for idx, cue in enumerate(labels):\n",
    "        qtable_val_max, qtable_directions = qtable_directions_map(\n",
    "            qtable=q_values[:, idx, :], rows=env.rows, cols=env.cols\n",
    "        )\n",
    "        sns.heatmap(\n",
    "            qtable_val_max.cpu(),\n",
    "            annot=qtable_directions,\n",
    "            fmt=\"\",\n",
    "            ax=ax.flatten()[idx],\n",
    "            cmap=sns.color_palette(\"Blues\", as_cmap=True),\n",
    "            linewidths=0.7,\n",
    "            linecolor=\"black\",\n",
    "            xticklabels=[],\n",
    "            yticklabels=[],\n",
    "            annot_kws={\"fontsize\": \"xx-large\"},\n",
    "            cbar_kws={\"label\": \"Q-value\"},\n",
    "        ).set(title=labels[cue])\n",
    "        for _, spine in ax.flatten()[idx].spines.items():\n",
    "            spine.set_visible(True)\n",
    "            spine.set_linewidth(0.7)\n",
    "            spine.set_color(\"black\")\n",
    "\n",
    "        # Annotate the ports names\n",
    "        bbox = {\n",
    "            \"facecolor\": \"black\",\n",
    "            \"edgecolor\": \"none\",\n",
    "            \"boxstyle\": \"round\",\n",
    "            \"alpha\": 0.1,\n",
    "        }\n",
    "        ax.flatten()[idx].text(\n",
    "            x=4.7,\n",
    "            y=0.3,\n",
    "            s=\"N\",\n",
    "            bbox=bbox,\n",
    "            color=\"white\",\n",
    "        )\n",
    "        ax.flatten()[idx].text(\n",
    "            x=0.05,\n",
    "            y=4.9,\n",
    "            s=\"S\",\n",
    "            bbox=bbox,\n",
    "            color=\"white\",\n",
    "        )\n",
    "        ax.flatten()[idx].text(\n",
    "            x=4.7,\n",
    "            y=4.9,\n",
    "            s=\"E\",\n",
    "            bbox=bbox,\n",
    "            color=\"white\",\n",
    "        )\n",
    "        ax.flatten()[idx].text(\n",
    "            x=0.05,\n",
    "            y=0.3,\n",
    "            s=\"W\",\n",
    "            bbox=bbox,\n",
    "            color=\"white\",\n",
    "        )\n",
    "\n",
    "    # Make background transparent\n",
    "    fig.patch.set_alpha(0)\n",
    "    fig.patch.set_facecolor(\"white\")\n",
    "    fig.tight_layout()\n",
    "    if figpath:\n",
    "        fig.savefig(figpath / \"policy.png\", bbox_inches=\"tight\")\n",
    "    plt.show()"
   ]
  },
  {
   "cell_type": "code",
   "execution_count": 45,
   "metadata": {},
   "outputs": [
    {
     "data": {
      "image/png": "[encoded data removed]",
      "text/plain": [
       "<Figure size 1300x400 with 6 Axes>"
      ]
     },
     "metadata": {
      "needs_background": "light"
     },
     "output_type": "display_data"
    }
   ],
   "source": [
    "plot_policies(q_values=q_values, labels=CONTEXTS_LABELS, figpath=CURRENT_PATH)"
   ]
  },
  {
   "cell_type": "code",
   "execution_count": 46,
   "metadata": {},
   "outputs": [],
   "source": [
    "weights, biases = collect_weights_biases(net=net)"
   ]
  },
  {
   "cell_type": "code",
   "execution_count": 47,
   "metadata": {},
   "outputs": [],
   "source": [
    "def params_df_flat(weights):\n",
    "    for idx, val in enumerate(weights):\n",
    "        tmp_df = pd.DataFrame(\n",
    "            data={\n",
    "                \"Val\": val.detach().cpu().flatten(),\n",
    "                \"Layer\": idx,\n",
    "            }\n",
    "        )\n",
    "        if idx == 0:\n",
    "            df = tmp_df\n",
    "        else:\n",
    "            df = pd.concat((df, tmp_df))\n",
    "    return df"
   ]
  },
  {
   "cell_type": "code",
   "execution_count": 48,
   "metadata": {},
   "outputs": [
    {
     "data": {
      "text/html": [
       "<div>\n",
       "<style scoped>\n",
       "    .dataframe tbody tr th:only-of-type {\n",
       "        vertical-align: middle;\n",
       "    }\n",
       "\n",
       "    .dataframe tbody tr th {\n",
       "        vertical-align: top;\n",
       "    }\n",
       "\n",
       "    .dataframe thead th {\n",
       "        text-align: right;\n",
       "    }\n",
       "</style>\n",
       "<table border=\"1\" class=\"dataframe\">\n",
       "  <thead>\n",
       "    <tr style=\"text-align: right;\">\n",
       "      <th></th>\n",
       "      <th>Val</th>\n",
       "      <th>Layer</th>\n",
       "    </tr>\n",
       "  </thead>\n",
       "  <tbody>\n",
       "    <tr>\n",
       "      <th>0</th>\n",
       "      <td>0.121270</td>\n",
       "      <td>0</td>\n",
       "    </tr>\n",
       "    <tr>\n",
       "      <th>1</th>\n",
       "      <td>0.166304</td>\n",
       "      <td>0</td>\n",
       "    </tr>\n",
       "    <tr>\n",
       "      <th>2</th>\n",
       "      <td>0.043340</td>\n",
       "      <td>0</td>\n",
       "    </tr>\n",
       "    <tr>\n",
       "      <th>3</th>\n",
       "      <td>-0.250821</td>\n",
       "      <td>0</td>\n",
       "    </tr>\n",
       "    <tr>\n",
       "      <th>4</th>\n",
       "      <td>-0.152005</td>\n",
       "      <td>0</td>\n",
       "    </tr>\n",
       "    <tr>\n",
       "      <th>...</th>\n",
       "      <td>...</td>\n",
       "      <td>...</td>\n",
       "    </tr>\n",
       "    <tr>\n",
       "      <th>507</th>\n",
       "      <td>0.004426</td>\n",
       "      <td>3</td>\n",
       "    </tr>\n",
       "    <tr>\n",
       "      <th>508</th>\n",
       "      <td>0.002584</td>\n",
       "      <td>3</td>\n",
       "    </tr>\n",
       "    <tr>\n",
       "      <th>509</th>\n",
       "      <td>-0.107015</td>\n",
       "      <td>3</td>\n",
       "    </tr>\n",
       "    <tr>\n",
       "      <th>510</th>\n",
       "      <td>-0.018007</td>\n",
       "      <td>3</td>\n",
       "    </tr>\n",
       "    <tr>\n",
       "      <th>511</th>\n",
       "      <td>0.061656</td>\n",
       "      <td>3</td>\n",
       "    </tr>\n",
       "  </tbody>\n",
       "</table>\n",
       "<p>36864 rows × 2 columns</p>\n",
       "</div>"
      ],
      "text/plain": [
       "          Val  Layer\n",
       "0    0.121270      0\n",
       "1    0.166304      0\n",
       "2    0.043340      0\n",
       "3   -0.250821      0\n",
       "4   -0.152005      0\n",
       "..        ...    ...\n",
       "507  0.004426      3\n",
       "508  0.002584      3\n",
       "509 -0.107015      3\n",
       "510 -0.018007      3\n",
       "511  0.061656      3\n",
       "\n",
       "[36864 rows x 2 columns]"
      ]
     },
     "execution_count": 48,
     "metadata": {},
     "output_type": "execute_result"
    }
   ],
   "source": [
    "weights_val_df = params_df_flat(weights[\"val\"])\n",
    "weights_val_df"
   ]
  },
  {
   "cell_type": "code",
   "execution_count": 49,
   "metadata": {},
   "outputs": [
    {
     "data": {
      "text/html": [
       "<div>\n",
       "<style scoped>\n",
       "    .dataframe tbody tr th:only-of-type {\n",
       "        vertical-align: middle;\n",
       "    }\n",
       "\n",
       "    .dataframe tbody tr th {\n",
       "        vertical-align: top;\n",
       "    }\n",
       "\n",
       "    .dataframe thead th {\n",
       "        text-align: right;\n",
       "    }\n",
       "</style>\n",
       "<table border=\"1\" class=\"dataframe\">\n",
       "  <thead>\n",
       "    <tr style=\"text-align: right;\">\n",
       "      <th></th>\n",
       "      <th>Val</th>\n",
       "      <th>Layer</th>\n",
       "    </tr>\n",
       "  </thead>\n",
       "  <tbody>\n",
       "    <tr>\n",
       "      <th>count</th>\n",
       "      <td>36864.000000</td>\n",
       "      <td>36864.000000</td>\n",
       "    </tr>\n",
       "    <tr>\n",
       "      <th>mean</th>\n",
       "      <td>0.010511</td>\n",
       "      <td>1.375000</td>\n",
       "    </tr>\n",
       "    <tr>\n",
       "      <th>std</th>\n",
       "      <td>0.084853</td>\n",
       "      <td>0.675729</td>\n",
       "    </tr>\n",
       "    <tr>\n",
       "      <th>min</th>\n",
       "      <td>-0.437303</td>\n",
       "      <td>0.000000</td>\n",
       "    </tr>\n",
       "    <tr>\n",
       "      <th>25%</th>\n",
       "      <td>-0.045823</td>\n",
       "      <td>1.000000</td>\n",
       "    </tr>\n",
       "    <tr>\n",
       "      <th>50%</th>\n",
       "      <td>0.011167</td>\n",
       "      <td>1.000000</td>\n",
       "    </tr>\n",
       "    <tr>\n",
       "      <th>75%</th>\n",
       "      <td>0.067685</td>\n",
       "      <td>2.000000</td>\n",
       "    </tr>\n",
       "    <tr>\n",
       "      <th>max</th>\n",
       "      <td>0.438314</td>\n",
       "      <td>3.000000</td>\n",
       "    </tr>\n",
       "  </tbody>\n",
       "</table>\n",
       "</div>"
      ],
      "text/plain": [
       "                Val         Layer\n",
       "count  36864.000000  36864.000000\n",
       "mean       0.010511      1.375000\n",
       "std        0.084853      0.675729\n",
       "min       -0.437303      0.000000\n",
       "25%       -0.045823      1.000000\n",
       "50%        0.011167      1.000000\n",
       "75%        0.067685      2.000000\n",
       "max        0.438314      3.000000"
      ]
     },
     "execution_count": 49,
     "metadata": {},
     "output_type": "execute_result"
    }
   ],
   "source": [
    "weights_val_df.describe()"
   ]
  },
  {
   "cell_type": "code",
   "execution_count": 50,
   "metadata": {},
   "outputs": [
    {
     "data": {
      "text/html": [
       "<div>\n",
       "<style scoped>\n",
       "    .dataframe tbody tr th:only-of-type {\n",
       "        vertical-align: middle;\n",
       "    }\n",
       "\n",
       "    .dataframe tbody tr th {\n",
       "        vertical-align: top;\n",
       "    }\n",
       "\n",
       "    .dataframe thead th {\n",
       "        text-align: right;\n",
       "    }\n",
       "</style>\n",
       "<table border=\"1\" class=\"dataframe\">\n",
       "  <thead>\n",
       "    <tr style=\"text-align: right;\">\n",
       "      <th></th>\n",
       "      <th>Val</th>\n",
       "      <th>Layer</th>\n",
       "    </tr>\n",
       "  </thead>\n",
       "  <tbody>\n",
       "    <tr>\n",
       "      <th>0</th>\n",
       "      <td>0.145185</td>\n",
       "      <td>0</td>\n",
       "    </tr>\n",
       "    <tr>\n",
       "      <th>1</th>\n",
       "      <td>-0.043643</td>\n",
       "      <td>0</td>\n",
       "    </tr>\n",
       "    <tr>\n",
       "      <th>2</th>\n",
       "      <td>0.098776</td>\n",
       "      <td>0</td>\n",
       "    </tr>\n",
       "    <tr>\n",
       "      <th>3</th>\n",
       "      <td>0.059081</td>\n",
       "      <td>0</td>\n",
       "    </tr>\n",
       "    <tr>\n",
       "      <th>4</th>\n",
       "      <td>-0.116508</td>\n",
       "      <td>0</td>\n",
       "    </tr>\n",
       "    <tr>\n",
       "      <th>...</th>\n",
       "      <td>...</td>\n",
       "      <td>...</td>\n",
       "    </tr>\n",
       "    <tr>\n",
       "      <th>127</th>\n",
       "      <td>-0.055518</td>\n",
       "      <td>2</td>\n",
       "    </tr>\n",
       "    <tr>\n",
       "      <th>0</th>\n",
       "      <td>0.087199</td>\n",
       "      <td>3</td>\n",
       "    </tr>\n",
       "    <tr>\n",
       "      <th>1</th>\n",
       "      <td>0.048213</td>\n",
       "      <td>3</td>\n",
       "    </tr>\n",
       "    <tr>\n",
       "      <th>2</th>\n",
       "      <td>0.020830</td>\n",
       "      <td>3</td>\n",
       "    </tr>\n",
       "    <tr>\n",
       "      <th>3</th>\n",
       "      <td>-0.004978</td>\n",
       "      <td>3</td>\n",
       "    </tr>\n",
       "  </tbody>\n",
       "</table>\n",
       "<p>388 rows × 2 columns</p>\n",
       "</div>"
      ],
      "text/plain": [
       "          Val  Layer\n",
       "0    0.145185      0\n",
       "1   -0.043643      0\n",
       "2    0.098776      0\n",
       "3    0.059081      0\n",
       "4   -0.116508      0\n",
       "..        ...    ...\n",
       "127 -0.055518      2\n",
       "0    0.087199      3\n",
       "1    0.048213      3\n",
       "2    0.020830      3\n",
       "3   -0.004978      3\n",
       "\n",
       "[388 rows x 2 columns]"
      ]
     },
     "execution_count": 50,
     "metadata": {},
     "output_type": "execute_result"
    }
   ],
   "source": [
    "biases_val_df = params_df_flat(biases[\"val\"])\n",
    "biases_val_df"
   ]
  },
  {
   "cell_type": "code",
   "execution_count": 51,
   "metadata": {},
   "outputs": [
    {
     "data": {
      "text/html": [
       "<div>\n",
       "<style scoped>\n",
       "    .dataframe tbody tr th:only-of-type {\n",
       "        vertical-align: middle;\n",
       "    }\n",
       "\n",
       "    .dataframe tbody tr th {\n",
       "        vertical-align: top;\n",
       "    }\n",
       "\n",
       "    .dataframe thead th {\n",
       "        text-align: right;\n",
       "    }\n",
       "</style>\n",
       "<table border=\"1\" class=\"dataframe\">\n",
       "  <thead>\n",
       "    <tr style=\"text-align: right;\">\n",
       "      <th></th>\n",
       "      <th>Val</th>\n",
       "      <th>Layer</th>\n",
       "    </tr>\n",
       "  </thead>\n",
       "  <tbody>\n",
       "    <tr>\n",
       "      <th>count</th>\n",
       "      <td>388.000000</td>\n",
       "      <td>388.000000</td>\n",
       "    </tr>\n",
       "    <tr>\n",
       "      <th>mean</th>\n",
       "      <td>0.037661</td>\n",
       "      <td>1.020619</td>\n",
       "    </tr>\n",
       "    <tr>\n",
       "      <th>std</th>\n",
       "      <td>0.088282</td>\n",
       "      <td>0.838103</td>\n",
       "    </tr>\n",
       "    <tr>\n",
       "      <th>min</th>\n",
       "      <td>-0.185147</td>\n",
       "      <td>0.000000</td>\n",
       "    </tr>\n",
       "    <tr>\n",
       "      <th>25%</th>\n",
       "      <td>-0.031466</td>\n",
       "      <td>0.000000</td>\n",
       "    </tr>\n",
       "    <tr>\n",
       "      <th>50%</th>\n",
       "      <td>0.034676</td>\n",
       "      <td>1.000000</td>\n",
       "    </tr>\n",
       "    <tr>\n",
       "      <th>75%</th>\n",
       "      <td>0.093961</td>\n",
       "      <td>2.000000</td>\n",
       "    </tr>\n",
       "    <tr>\n",
       "      <th>max</th>\n",
       "      <td>0.285103</td>\n",
       "      <td>3.000000</td>\n",
       "    </tr>\n",
       "  </tbody>\n",
       "</table>\n",
       "</div>"
      ],
      "text/plain": [
       "              Val       Layer\n",
       "count  388.000000  388.000000\n",
       "mean     0.037661    1.020619\n",
       "std      0.088282    0.838103\n",
       "min     -0.185147    0.000000\n",
       "25%     -0.031466    0.000000\n",
       "50%      0.034676    1.000000\n",
       "75%      0.093961    2.000000\n",
       "max      0.285103    3.000000"
      ]
     },
     "execution_count": 51,
     "metadata": {},
     "output_type": "execute_result"
    }
   ],
   "source": [
    "biases_val_df.describe()"
   ]
  },
  {
   "cell_type": "code",
   "execution_count": 52,
   "metadata": {},
   "outputs": [
    {
     "data": {
      "text/html": [
       "<div>\n",
       "<style scoped>\n",
       "    .dataframe tbody tr th:only-of-type {\n",
       "        vertical-align: middle;\n",
       "    }\n",
       "\n",
       "    .dataframe tbody tr th {\n",
       "        vertical-align: top;\n",
       "    }\n",
       "\n",
       "    .dataframe thead th {\n",
       "        text-align: right;\n",
       "    }\n",
       "</style>\n",
       "<table border=\"1\" class=\"dataframe\">\n",
       "  <thead>\n",
       "    <tr style=\"text-align: right;\">\n",
       "      <th></th>\n",
       "      <th>Val</th>\n",
       "      <th>Layer</th>\n",
       "    </tr>\n",
       "  </thead>\n",
       "  <tbody>\n",
       "    <tr>\n",
       "      <th>0</th>\n",
       "      <td>0.000000</td>\n",
       "      <td>0</td>\n",
       "    </tr>\n",
       "    <tr>\n",
       "      <th>1</th>\n",
       "      <td>0.000000</td>\n",
       "      <td>0</td>\n",
       "    </tr>\n",
       "    <tr>\n",
       "      <th>2</th>\n",
       "      <td>0.000000</td>\n",
       "      <td>0</td>\n",
       "    </tr>\n",
       "    <tr>\n",
       "      <th>3</th>\n",
       "      <td>0.000000</td>\n",
       "      <td>0</td>\n",
       "    </tr>\n",
       "    <tr>\n",
       "      <th>4</th>\n",
       "      <td>0.000000</td>\n",
       "      <td>0</td>\n",
       "    </tr>\n",
       "    <tr>\n",
       "      <th>...</th>\n",
       "      <td>...</td>\n",
       "      <td>...</td>\n",
       "    </tr>\n",
       "    <tr>\n",
       "      <th>507</th>\n",
       "      <td>-0.000307</td>\n",
       "      <td>3</td>\n",
       "    </tr>\n",
       "    <tr>\n",
       "      <th>508</th>\n",
       "      <td>0.000000</td>\n",
       "      <td>3</td>\n",
       "    </tr>\n",
       "    <tr>\n",
       "      <th>509</th>\n",
       "      <td>0.000000</td>\n",
       "      <td>3</td>\n",
       "    </tr>\n",
       "    <tr>\n",
       "      <th>510</th>\n",
       "      <td>-0.000172</td>\n",
       "      <td>3</td>\n",
       "    </tr>\n",
       "    <tr>\n",
       "      <th>511</th>\n",
       "      <td>0.000000</td>\n",
       "      <td>3</td>\n",
       "    </tr>\n",
       "  </tbody>\n",
       "</table>\n",
       "<p>36864 rows × 2 columns</p>\n",
       "</div>"
      ],
      "text/plain": [
       "          Val  Layer\n",
       "0    0.000000      0\n",
       "1    0.000000      0\n",
       "2    0.000000      0\n",
       "3    0.000000      0\n",
       "4    0.000000      0\n",
       "..        ...    ...\n",
       "507 -0.000307      3\n",
       "508  0.000000      3\n",
       "509  0.000000      3\n",
       "510 -0.000172      3\n",
       "511  0.000000      3\n",
       "\n",
       "[36864 rows x 2 columns]"
      ]
     },
     "execution_count": 52,
     "metadata": {},
     "output_type": "execute_result"
    }
   ],
   "source": [
    "weights_grad_df = params_df_flat(weights[\"grad\"])\n",
    "weights_grad_df"
   ]
  },
  {
   "cell_type": "code",
   "execution_count": 53,
   "metadata": {},
   "outputs": [
    {
     "data": {
      "text/html": [
       "<div>\n",
       "<style scoped>\n",
       "    .dataframe tbody tr th:only-of-type {\n",
       "        vertical-align: middle;\n",
       "    }\n",
       "\n",
       "    .dataframe tbody tr th {\n",
       "        vertical-align: top;\n",
       "    }\n",
       "\n",
       "    .dataframe thead th {\n",
       "        text-align: right;\n",
       "    }\n",
       "</style>\n",
       "<table border=\"1\" class=\"dataframe\">\n",
       "  <thead>\n",
       "    <tr style=\"text-align: right;\">\n",
       "      <th></th>\n",
       "      <th>Val</th>\n",
       "      <th>Layer</th>\n",
       "    </tr>\n",
       "  </thead>\n",
       "  <tbody>\n",
       "    <tr>\n",
       "      <th>count</th>\n",
       "      <td>36864.000000</td>\n",
       "      <td>36864.000000</td>\n",
       "    </tr>\n",
       "    <tr>\n",
       "      <th>mean</th>\n",
       "      <td>-0.000055</td>\n",
       "      <td>1.375000</td>\n",
       "    </tr>\n",
       "    <tr>\n",
       "      <th>std</th>\n",
       "      <td>0.000370</td>\n",
       "      <td>0.675729</td>\n",
       "    </tr>\n",
       "    <tr>\n",
       "      <th>min</th>\n",
       "      <td>-0.013567</td>\n",
       "      <td>0.000000</td>\n",
       "    </tr>\n",
       "    <tr>\n",
       "      <th>25%</th>\n",
       "      <td>-0.000054</td>\n",
       "      <td>1.000000</td>\n",
       "    </tr>\n",
       "    <tr>\n",
       "      <th>50%</th>\n",
       "      <td>0.000000</td>\n",
       "      <td>1.000000</td>\n",
       "    </tr>\n",
       "    <tr>\n",
       "      <th>75%</th>\n",
       "      <td>0.000000</td>\n",
       "      <td>2.000000</td>\n",
       "    </tr>\n",
       "    <tr>\n",
       "      <th>max</th>\n",
       "      <td>0.001742</td>\n",
       "      <td>3.000000</td>\n",
       "    </tr>\n",
       "  </tbody>\n",
       "</table>\n",
       "</div>"
      ],
      "text/plain": [
       "                Val         Layer\n",
       "count  36864.000000  36864.000000\n",
       "mean      -0.000055      1.375000\n",
       "std        0.000370      0.675729\n",
       "min       -0.013567      0.000000\n",
       "25%       -0.000054      1.000000\n",
       "50%        0.000000      1.000000\n",
       "75%        0.000000      2.000000\n",
       "max        0.001742      3.000000"
      ]
     },
     "execution_count": 53,
     "metadata": {},
     "output_type": "execute_result"
    }
   ],
   "source": [
    "weights_grad_df.describe()"
   ]
  },
  {
   "cell_type": "code",
   "execution_count": 54,
   "metadata": {},
   "outputs": [
    {
     "data": {
      "text/html": [
       "<div>\n",
       "<style scoped>\n",
       "    .dataframe tbody tr th:only-of-type {\n",
       "        vertical-align: middle;\n",
       "    }\n",
       "\n",
       "    .dataframe tbody tr th {\n",
       "        vertical-align: top;\n",
       "    }\n",
       "\n",
       "    .dataframe thead th {\n",
       "        text-align: right;\n",
       "    }\n",
       "</style>\n",
       "<table border=\"1\" class=\"dataframe\">\n",
       "  <thead>\n",
       "    <tr style=\"text-align: right;\">\n",
       "      <th></th>\n",
       "      <th>Val</th>\n",
       "      <th>Layer</th>\n",
       "    </tr>\n",
       "  </thead>\n",
       "  <tbody>\n",
       "    <tr>\n",
       "      <th>0</th>\n",
       "      <td>-0.000974</td>\n",
       "      <td>0</td>\n",
       "    </tr>\n",
       "    <tr>\n",
       "      <th>1</th>\n",
       "      <td>0.000233</td>\n",
       "      <td>0</td>\n",
       "    </tr>\n",
       "    <tr>\n",
       "      <th>2</th>\n",
       "      <td>-0.001043</td>\n",
       "      <td>0</td>\n",
       "    </tr>\n",
       "    <tr>\n",
       "      <th>3</th>\n",
       "      <td>-0.001236</td>\n",
       "      <td>0</td>\n",
       "    </tr>\n",
       "    <tr>\n",
       "      <th>4</th>\n",
       "      <td>-0.000109</td>\n",
       "      <td>0</td>\n",
       "    </tr>\n",
       "    <tr>\n",
       "      <th>...</th>\n",
       "      <td>...</td>\n",
       "      <td>...</td>\n",
       "    </tr>\n",
       "    <tr>\n",
       "      <th>127</th>\n",
       "      <td>0.000000</td>\n",
       "      <td>2</td>\n",
       "    </tr>\n",
       "    <tr>\n",
       "      <th>0</th>\n",
       "      <td>-0.003224</td>\n",
       "      <td>3</td>\n",
       "    </tr>\n",
       "    <tr>\n",
       "      <th>1</th>\n",
       "      <td>0.000398</td>\n",
       "      <td>3</td>\n",
       "    </tr>\n",
       "    <tr>\n",
       "      <th>2</th>\n",
       "      <td>0.000115</td>\n",
       "      <td>3</td>\n",
       "    </tr>\n",
       "    <tr>\n",
       "      <th>3</th>\n",
       "      <td>-0.001093</td>\n",
       "      <td>3</td>\n",
       "    </tr>\n",
       "  </tbody>\n",
       "</table>\n",
       "<p>388 rows × 2 columns</p>\n",
       "</div>"
      ],
      "text/plain": [
       "          Val  Layer\n",
       "0   -0.000974      0\n",
       "1    0.000233      0\n",
       "2   -0.001043      0\n",
       "3   -0.001236      0\n",
       "4   -0.000109      0\n",
       "..        ...    ...\n",
       "127  0.000000      2\n",
       "0   -0.003224      3\n",
       "1    0.000398      3\n",
       "2    0.000115      3\n",
       "3   -0.001093      3\n",
       "\n",
       "[388 rows x 2 columns]"
      ]
     },
     "execution_count": 54,
     "metadata": {},
     "output_type": "execute_result"
    }
   ],
   "source": [
    "biases_grad_df = params_df_flat(biases[\"grad\"])\n",
    "biases_grad_df"
   ]
  },
  {
   "cell_type": "code",
   "execution_count": 55,
   "metadata": {},
   "outputs": [
    {
     "data": {
      "text/html": [
       "<div>\n",
       "<style scoped>\n",
       "    .dataframe tbody tr th:only-of-type {\n",
       "        vertical-align: middle;\n",
       "    }\n",
       "\n",
       "    .dataframe tbody tr th {\n",
       "        vertical-align: top;\n",
       "    }\n",
       "\n",
       "    .dataframe thead th {\n",
       "        text-align: right;\n",
       "    }\n",
       "</style>\n",
       "<table border=\"1\" class=\"dataframe\">\n",
       "  <thead>\n",
       "    <tr style=\"text-align: right;\">\n",
       "      <th></th>\n",
       "      <th>Val</th>\n",
       "      <th>Layer</th>\n",
       "    </tr>\n",
       "  </thead>\n",
       "  <tbody>\n",
       "    <tr>\n",
       "      <th>count</th>\n",
       "      <td>388.000000</td>\n",
       "      <td>388.000000</td>\n",
       "    </tr>\n",
       "    <tr>\n",
       "      <th>mean</th>\n",
       "      <td>-0.000451</td>\n",
       "      <td>1.020619</td>\n",
       "    </tr>\n",
       "    <tr>\n",
       "      <th>std</th>\n",
       "      <td>0.000817</td>\n",
       "      <td>0.838103</td>\n",
       "    </tr>\n",
       "    <tr>\n",
       "      <th>min</th>\n",
       "      <td>-0.003941</td>\n",
       "      <td>0.000000</td>\n",
       "    </tr>\n",
       "    <tr>\n",
       "      <th>25%</th>\n",
       "      <td>-0.000786</td>\n",
       "      <td>0.000000</td>\n",
       "    </tr>\n",
       "    <tr>\n",
       "      <th>50%</th>\n",
       "      <td>-0.000184</td>\n",
       "      <td>1.000000</td>\n",
       "    </tr>\n",
       "    <tr>\n",
       "      <th>75%</th>\n",
       "      <td>0.000000</td>\n",
       "      <td>2.000000</td>\n",
       "    </tr>\n",
       "    <tr>\n",
       "      <th>max</th>\n",
       "      <td>0.002289</td>\n",
       "      <td>3.000000</td>\n",
       "    </tr>\n",
       "  </tbody>\n",
       "</table>\n",
       "</div>"
      ],
      "text/plain": [
       "              Val       Layer\n",
       "count  388.000000  388.000000\n",
       "mean    -0.000451    1.020619\n",
       "std      0.000817    0.838103\n",
       "min     -0.003941    0.000000\n",
       "25%     -0.000786    0.000000\n",
       "50%     -0.000184    1.000000\n",
       "75%      0.000000    2.000000\n",
       "max      0.002289    3.000000"
      ]
     },
     "execution_count": 55,
     "metadata": {},
     "output_type": "execute_result"
    }
   ],
   "source": [
    "biases_grad_df.describe()"
   ]
  },
  {
   "cell_type": "code",
   "execution_count": 56,
   "metadata": {},
   "outputs": [],
   "source": [
    "def check_grad_stats(grad_df):\n",
    "    grad_stats = torch.tensor(\n",
    "        [\n",
    "            grad_df.Val.mean(),\n",
    "            grad_df.Val.std(),\n",
    "            grad_df.Val.min(),\n",
    "            grad_df.Val.max(),\n",
    "        ],\n",
    "        device=DEVICE,\n",
    "    )\n",
    "    assert not torch.equal(\n",
    "        torch.zeros_like(grad_stats, device=DEVICE),\n",
    "        grad_stats,\n",
    "    ), \"Gradients are zero\""
   ]
  },
  {
   "cell_type": "code",
   "execution_count": 57,
   "metadata": {},
   "outputs": [
    {
     "data": {
      "image/png": "[encoded data removed]",
      "text/plain": [
       "<Figure size 1300x500 with 2 Axes>"
      ]
     },
     "metadata": {
      "needs_background": "light"
     },
     "output_type": "display_data"
    }
   ],
   "source": [
    "plotting.plot_weights_biases_distributions(\n",
    "    weights_val_df, biases_val_df, label=\"Values\", figpath=CURRENT_PATH\n",
    ")"
   ]
  },
  {
   "cell_type": "code",
   "execution_count": 58,
   "metadata": {},
   "outputs": [],
   "source": [
    "check_grad_stats(weights_grad_df)"
   ]
  },
  {
   "cell_type": "code",
   "execution_count": 59,
   "metadata": {},
   "outputs": [],
   "source": [
    "check_grad_stats(biases_grad_df)"
   ]
  },
  {
   "cell_type": "code",
   "execution_count": 60,
   "metadata": {},
   "outputs": [
    {
     "data": {
      "image/png": "[encoded data removed]",
      "text/plain": [
       "<Figure size 1300x500 with 2 Axes>"
      ]
     },
     "metadata": {
      "needs_background": "light"
     },
     "output_type": "display_data"
    }
   ],
   "source": [
    "plotting.plot_weights_biases_distributions(\n",
    "    weights_grad_df, biases_grad_df, label=\"Gradients\", figpath=CURRENT_PATH\n",
    ")"
   ]
  },
  {
   "cell_type": "code",
   "execution_count": 61,
   "metadata": {},
   "outputs": [
    {
     "ename": "NameError",
     "evalue": "name 'weights_val_stats' is not defined",
     "output_type": "error",
     "traceback": [
      "\u001b[0;31m---------------------------------------------------------------------------\u001b[0m",
      "\u001b[0;31mNameError\u001b[0m                                 Traceback (most recent call last)",
      "Cell \u001b[0;32mIn[61], line 1\u001b[0m\n\u001b[0;32m----> 1\u001b[0m \u001b[43mweights_val_stats\u001b[49m\n",
      "\u001b[0;31mNameError\u001b[0m: name 'weights_val_stats' is not defined"
     ]
    }
   ],
   "source": [
    "weights_val_stats"
   ]
  },
  {
   "cell_type": "code",
   "execution_count": null,
   "metadata": {},
   "outputs": [],
   "source": [
    "biases_val_stats"
   ]
  },
  {
   "cell_type": "code",
   "execution_count": null,
   "metadata": {},
   "outputs": [],
   "source": [
    "weights_grad_stats"
   ]
  },
  {
   "cell_type": "code",
   "execution_count": null,
   "metadata": {},
   "outputs": [],
   "source": [
    "biases_grad_stats"
   ]
  },
  {
   "cell_type": "code",
   "execution_count": null,
   "metadata": {},
   "outputs": [],
   "source": [
    "def plot_weights_biases_stats(weights_stats, biases_stats, label=None, figpath=None):\n",
    "    fig, ax = plt.subplots(nrows=2, ncols=2, figsize=(13, 8))\n",
    "\n",
    "    if label:\n",
    "        ax[0, 0].set_title(\"Weights \" + label)\n",
    "    else:\n",
    "        ax[0, 0].set_title(\"Weights\")\n",
    "    ax[0, 0].set_xlabel(\"Episodes\")\n",
    "    palette = sns.color_palette()[0 : len(weights_stats.Layer.unique())]\n",
    "    sns.lineplot(\n",
    "        data=weights_stats,\n",
    "        x=\"Index\",\n",
    "        y=\"Std\",\n",
    "        hue=\"Layer\",\n",
    "        palette=palette,\n",
    "        ax=ax[0, 0],\n",
    "    )\n",
    "    ax[0, 0].set(yscale=\"log\")\n",
    "\n",
    "    if label:\n",
    "        ax[0, 1].set_title(\"Weights \" + label)\n",
    "    else:\n",
    "        ax[0, 1].set_title(\"Weights\")\n",
    "    ax[0, 1].set_xlabel(\"Episodes\")\n",
    "    palette = sns.color_palette()[0 : len(weights_stats.Layer.unique())]\n",
    "    sns.lineplot(\n",
    "        data=weights_stats,\n",
    "        x=\"Index\",\n",
    "        y=\"Avg\",\n",
    "        hue=\"Layer\",\n",
    "        palette=palette,\n",
    "        ax=ax[0, 1],\n",
    "    )\n",
    "    ax[0, 1].set(yscale=\"log\")\n",
    "\n",
    "    if label:\n",
    "        ax[1, 0].set_title(\"Biases \" + label)\n",
    "    else:\n",
    "        ax[1, 0].set_title(\"Biases\")\n",
    "    ax[1, 0].set_xlabel(\"Steps\")\n",
    "    palette = sns.color_palette()[0 : len(biases_stats.Layer.unique())]\n",
    "    sns.lineplot(\n",
    "        data=biases_stats,\n",
    "        x=\"Index\",\n",
    "        y=\"Std\",\n",
    "        hue=\"Layer\",\n",
    "        palette=palette,\n",
    "        ax=ax[1, 0],\n",
    "    )\n",
    "    ax[1, 0].set(yscale=\"log\")\n",
    "\n",
    "    if label:\n",
    "        ax[1, 1].set_title(\"Biases \" + label)\n",
    "    else:\n",
    "        ax[1, 1].set_title(\"Biases\")\n",
    "    ax[1, 1].set_xlabel(\"Steps\")\n",
    "    palette = sns.color_palette()[0 : len(biases_stats.Layer.unique())]\n",
    "    sns.lineplot(\n",
    "        data=biases_stats,\n",
    "        x=\"Index\",\n",
    "        y=\"Avg\",\n",
    "        hue=\"Layer\",\n",
    "        palette=palette,\n",
    "        ax=ax[1, 1],\n",
    "    )\n",
    "    ax[1, 1].set(yscale=\"log\")\n",
    "\n",
    "    fig.tight_layout()\n",
    "    fig.patch.set_alpha(0)\n",
    "    fig.patch.set_facecolor(\"white\")\n",
    "    if figpath:\n",
    "        fig.savefig(\n",
    "            figpath / f\"weights-biases-stats-{label}.png\",\n",
    "            bbox_inches=\"tight\",\n",
    "        )\n",
    "    plt.show()"
   ]
  },
  {
   "cell_type": "code",
   "execution_count": null,
   "metadata": {},
   "outputs": [],
   "source": [
    "plot_weights_biases_stats(\n",
    "    weights_val_stats, biases_val_stats, label=\"values\", figpath=CURRENT_PATH\n",
    ")"
   ]
  },
  {
   "cell_type": "code",
   "execution_count": null,
   "metadata": {},
   "outputs": [],
   "source": [
    "plot_weights_biases_stats(\n",
    "    weights_grad_stats, biases_grad_stats, label=\"gradients\", figpath=CURRENT_PATH\n",
    ")"
   ]
  },
  {
   "cell_type": "code",
   "execution_count": null,
   "metadata": {},
   "outputs": [],
   "source": [
    "# weights_val_stats.rolling(10, center=True).mean().dropna()"
   ]
  },
  {
   "cell_type": "code",
   "execution_count": null,
   "metadata": {},
   "outputs": [],
   "source": [
    "# rolling_win = 100\n",
    "# plot_weights_biases_stats(\n",
    "#     weights_val_stats.rolling(rolling_win, center=True).mean().dropna(),\n",
    "#     biases_val_stats.rolling(rolling_win, center=True).mean().dropna(),\n",
    "#     label=\"values\",\n",
    "# )"
   ]
  },
  {
   "cell_type": "code",
   "execution_count": null,
   "metadata": {},
   "outputs": [],
   "source": [
    "# rolling_win = 100\n",
    "# plot_weights_biases_stats(\n",
    "#     weights_grad_stats.rolling(rolling_win, center=True).mean().dropna(),\n",
    "#     biases_grad_stats.rolling(rolling_win, center=True).mean().dropna(),\n",
    "#     label=\"values\",\n",
    "# )"
   ]
  }
 ],
 "metadata": {
  "accelerator": "GPU",
  "colab": {
   "provenance": []
  },
  "kernelspec": {
   "display_name": "Python 3 (ipykernel)",
   "language": "python",
   "name": "python3"
  },
  "language_info": {
   "codemirror_mode": {
    "name": "ipython",
    "version": 3
   },
   "file_extension": ".py",
   "mimetype": "text/x-python",
   "name": "python",
   "nbconvert_exporter": "python",
   "pygments_lexer": "ipython3",
   "version": "3.11.8"
  }
 },
 "nbformat": 4,
 "nbformat_minor": 4
}
