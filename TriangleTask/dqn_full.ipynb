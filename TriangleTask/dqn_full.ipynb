{
 "cells": [
  {
   "cell_type": "markdown",
   "metadata": {},
   "source": [
    "# DQN"
   ]
  },
  {
   "cell_type": "markdown",
   "metadata": {},
   "source": [
    "## Setup"
   ]
  },
  {
   "cell_type": "markdown",
   "metadata": {
    "id": "54AIvDov_7aa"
   },
   "source": [
    "### Initialization"
   ]
  },
  {
   "cell_type": "code",
   "execution_count": 1,
   "metadata": {
    "colab": {
     "base_uri": "https://localhost:8080/"
    },
    "id": "gxxpHDIs_lvg",
    "outputId": "412c65c1-7c24-4b9a-f5cf-8f98dd648fe4",
    "tags": []
   },
   "outputs": [],
   "source": [
    "from pathlib import Path\n",
    "import os\n",
    "\n",
    "import ipdb\n",
    "\n",
    "import numpy as np\n",
    "from tqdm import tqdm\n",
    "import matplotlib.pyplot as plt\n",
    "import matplotlib as mpl\n",
    "import matplotlib.patches as mpatches\n",
    "from matplotlib.offsetbox import AnnotationBbox, OffsetImage\n",
    "import pandas as pd\n",
    "import seaborn as sns\n",
    "from imojify import imojify"
   ]
  },
  {
   "cell_type": "code",
   "execution_count": 2,
   "metadata": {
    "colab": {
     "base_uri": "https://localhost:8080/"
    },
    "id": "gxxpHDIs_lvg",
    "outputId": "412c65c1-7c24-4b9a-f5cf-8f98dd648fe4",
    "tags": []
   },
   "outputs": [
    {
     "data": {
      "text/plain": [
       "device(type='cpu')"
      ]
     },
     "execution_count": 2,
     "metadata": {},
     "output_type": "execute_result"
    }
   ],
   "source": [
    "import torch\n",
    "import torch.nn as nn\n",
    "import torch.optim as optim\n",
    "import torch.nn.functional as F\n",
    "\n",
    "# from torchinfo import summary\n",
    "\n",
    "# if GPU is to be used\n",
    "device = torch.device(\"cuda\" if torch.cuda.is_available() else \"cpu\")\n",
    "device"
   ]
  },
  {
   "cell_type": "code",
   "execution_count": 3,
   "metadata": {
    "tags": []
   },
   "outputs": [],
   "source": [
    "from utils import Params, random_choice\n",
    "from environment_tensor import WrappedEnvironment, Actions, CONTEXTS_LABELS, Cues\n",
    "import plotting"
   ]
  },
  {
   "cell_type": "code",
   "execution_count": 4,
   "metadata": {
    "colab": {
     "base_uri": "https://localhost:8080/"
    },
    "id": "gxxpHDIs_lvg",
    "outputId": "412c65c1-7c24-4b9a-f5cf-8f98dd648fe4",
    "tags": []
   },
   "outputs": [],
   "source": [
    "# Formatting & autoreload stuff\n",
    "%load_ext lab_black\n",
    "%load_ext autoreload\n",
    "%autoreload 2\n",
    "# %matplotlib ipympl"
   ]
  },
  {
   "cell_type": "code",
   "execution_count": 5,
   "metadata": {
    "colab": {
     "base_uri": "https://localhost:8080/"
    },
    "id": "gxxpHDIs_lvg",
    "outputId": "412c65c1-7c24-4b9a-f5cf-8f98dd648fe4",
    "tags": []
   },
   "outputs": [],
   "source": [
    "sns.set_theme(font_scale=1.5)\n",
    "mpl.rcParams[\"font.family\"] = [\"sans-serif\"]\n",
    "mpl.rcParams[\"font.sans-serif\"] = [\n",
    "    \"Fira Sans\",\n",
    "    \"Computer Modern Sans Serif\",\n",
    "    \"DejaVu Sans\",\n",
    "    \"Verdana\",\n",
    "    \"Arial\",\n",
    "    \"Helvetica\",\n",
    "]\n",
    "# plt.style.use(\"ggplot\")"
   ]
  },
  {
   "cell_type": "code",
   "execution_count": 6,
   "metadata": {},
   "outputs": [
    {
     "name": "stdout",
     "output_type": "stream",
     "text": [
      "Plots path: `/home/kir0ul/Projects/RL_Olfaction/TriangleTask/plots`\n"
     ]
    }
   ],
   "source": [
    "ROOT_PATH = Path(\"env\").parent\n",
    "PLOTS_PATH = ROOT_PATH / \"plots\"\n",
    "print(f\"Plots path: `{PLOTS_PATH.absolute()}`\")"
   ]
  },
  {
   "cell_type": "code",
   "execution_count": 7,
   "metadata": {},
   "outputs": [],
   "source": [
    "def check_plots():\n",
    "    if not PLOTS_PATH.exists():\n",
    "        os.mkdir(PLOTS_PATH)"
   ]
  },
  {
   "cell_type": "markdown",
   "metadata": {},
   "source": [
    "### Parameters"
   ]
  },
  {
   "cell_type": "code",
   "execution_count": 8,
   "metadata": {
    "id": "NP28hCqLiVSy"
   },
   "outputs": [
    {
     "data": {
      "text/plain": [
       "Params(seed=42, rng=None, n_runs=1, total_episodes=600, epsilon=0.2, epsilon_min=0.1, epsilon_max=1.0, decay_rate=0.01, epsilon_warmup=100, gamma=0.9, alpha=0.001, nLayers=5, nHiddenUnits=54, n_observations=None, n_actions=None, replay_buffer_max_size=1000)"
      ]
     },
     "execution_count": 8,
     "metadata": {},
     "output_type": "execute_result"
    }
   ],
   "source": [
    "p = Params(\n",
    "    seed=42,\n",
    "    n_runs=1,\n",
    "    total_episodes=600,\n",
    "    # epsilon=0.2,\n",
    "    alpha=0.001,\n",
    "    gamma=0.9,\n",
    "    nHiddenUnits=(5 * 5 + 2) * 2,\n",
    "    replay_buffer_max_size=1000,\n",
    "    epsilon_min=0.1,\n",
    "    epsilon_max=1.0,\n",
    "    decay_rate=0.01,\n",
    "    epsilon_warmup=100,\n",
    ")\n",
    "p"
   ]
  },
  {
   "cell_type": "code",
   "execution_count": 9,
   "metadata": {
    "id": "NP28hCqLiVSy"
   },
   "outputs": [],
   "source": [
    "# # Set the seed\n",
    "# p.rng = np.random.default_rng(p.seed)"
   ]
  },
  {
   "cell_type": "markdown",
   "metadata": {
    "id": "0fz-X3HTQueX"
   },
   "source": [
    "### Environment definition"
   ]
  },
  {
   "cell_type": "code",
   "execution_count": 10,
   "metadata": {
    "tags": []
   },
   "outputs": [],
   "source": [
    "# Load the environment\n",
    "env = WrappedEnvironment(one_hot_state=True)"
   ]
  },
  {
   "cell_type": "code",
   "execution_count": 11,
   "metadata": {},
   "outputs": [
    {
     "name": "stdout",
     "output_type": "stream",
     "text": [
      "Number of actions: 4\n",
      "Number of observations: 28\n"
     ]
    }
   ],
   "source": [
    "# Get number of actions\n",
    "# n_actions = env.action_space.n\n",
    "p.n_actions = env.numActions\n",
    "\n",
    "# Get the number of state observations\n",
    "# state, info = env.reset()\n",
    "state = env.reset()\n",
    "p.n_observations = len(state)\n",
    "\n",
    "print(f\"Number of actions: {p.n_actions}\")\n",
    "print(f\"Number of observations: {p.n_observations}\")"
   ]
  },
  {
   "cell_type": "markdown",
   "metadata": {},
   "source": [
    "### Network definition"
   ]
  },
  {
   "cell_type": "code",
   "execution_count": 12,
   "metadata": {
    "tags": []
   },
   "outputs": [],
   "source": [
    "class DQN(nn.Module):\n",
    "    def __init__(self, n_observations, n_actions, n_units=16):\n",
    "        super(DQN, self).__init__()\n",
    "        self.mlp = nn.Sequential(\n",
    "            nn.Linear(n_observations, n_units),\n",
    "            nn.ReLU(),\n",
    "            nn.Linear(n_units, n_units),\n",
    "            nn.ReLU(),\n",
    "            nn.Linear(n_units, n_units),\n",
    "            nn.ReLU(),\n",
    "            nn.Linear(n_units, n_actions),\n",
    "            nn.ReLU(),\n",
    "        )\n",
    "\n",
    "    def forward(self, x):\n",
    "        return self.mlp(x)"
   ]
  },
  {
   "cell_type": "code",
   "execution_count": 13,
   "metadata": {
    "tags": []
   },
   "outputs": [
    {
     "data": {
      "text/plain": [
       "DQN(\n",
       "  (mlp): Sequential(\n",
       "    (0): Linear(in_features=28, out_features=84, bias=True)\n",
       "    (1): ReLU()\n",
       "    (2): Linear(in_features=84, out_features=84, bias=True)\n",
       "    (3): ReLU()\n",
       "    (4): Linear(in_features=84, out_features=84, bias=True)\n",
       "    (5): ReLU()\n",
       "    (6): Linear(in_features=84, out_features=4, bias=True)\n",
       "    (7): ReLU()\n",
       "  )\n",
       ")"
      ]
     },
     "execution_count": 13,
     "metadata": {},
     "output_type": "execute_result"
    }
   ],
   "source": [
    "if env.one_hot_state:\n",
    "    net = DQN(\n",
    "        n_observations=p.n_observations,\n",
    "        n_actions=p.n_actions,\n",
    "        n_units=3 * p.n_observations,\n",
    "    ).to(device)\n",
    "else:\n",
    "    net = DQN(\n",
    "        n_observations=p.n_observations,\n",
    "        n_actions=p.n_actions,\n",
    "        n_units=p.nHiddenUnits,\n",
    "    ).to(device)\n",
    "net"
   ]
  },
  {
   "cell_type": "code",
   "execution_count": 14,
   "metadata": {},
   "outputs": [
    {
     "name": "stdout",
     "output_type": "stream",
     "text": [
      "\n",
      "\n",
      "Parameters sizes summary:\n",
      "[torch.Size([84, 28]), torch.Size([84]), torch.Size([84, 84]), torch.Size([84]), torch.Size([84, 84]), torch.Size([84]), torch.Size([4, 84]), torch.Size([4])]\n"
     ]
    }
   ],
   "source": [
    "# print(\"Model parameters:\")\n",
    "# print(list(net.parameters()))\n",
    "print(\"\\n\\nParameters sizes summary:\")\n",
    "print([item.shape for item in net.parameters()])"
   ]
  },
  {
   "cell_type": "code",
   "execution_count": 15,
   "metadata": {},
   "outputs": [],
   "source": [
    "# summary(net, input_size=[state.shape], verbose=0)"
   ]
  },
  {
   "cell_type": "markdown",
   "metadata": {},
   "source": [
    "### Optimizer"
   ]
  },
  {
   "cell_type": "code",
   "execution_count": 16,
   "metadata": {},
   "outputs": [
    {
     "data": {
      "text/plain": [
       "AdamW (\n",
       "Parameter Group 0\n",
       "    amsgrad: True\n",
       "    betas: (0.9, 0.999)\n",
       "    capturable: False\n",
       "    differentiable: False\n",
       "    eps: 1e-08\n",
       "    foreach: None\n",
       "    fused: None\n",
       "    lr: 0.001\n",
       "    maximize: False\n",
       "    weight_decay: 0.01\n",
       ")"
      ]
     },
     "execution_count": 16,
     "metadata": {},
     "output_type": "execute_result"
    }
   ],
   "source": [
    "optimizer = optim.AdamW(net.parameters(), lr=p.alpha, amsgrad=True)\n",
    "optimizer"
   ]
  },
  {
   "cell_type": "markdown",
   "metadata": {},
   "source": [
    "### Explorer"
   ]
  },
  {
   "cell_type": "code",
   "execution_count": 17,
   "metadata": {
    "colab": {
     "base_uri": "https://localhost:8080/"
    },
    "id": "uyEdi0gGiV1z",
    "outputId": "b644224d-13ff-4806-d751-0088efc24f85"
   },
   "outputs": [],
   "source": [
    "class EpsilonGreedy:\n",
    "    def __init__(\n",
    "        self,\n",
    "        epsilon,\n",
    "        epsilon_min=0.1,\n",
    "        epsilon_max=1.0,\n",
    "        decay_rate=0.05,\n",
    "        epsilon_warmup=25,\n",
    "        rng=None,\n",
    "    ):\n",
    "        self.epsilon = epsilon\n",
    "        self.epsilon_min = epsilon_min\n",
    "        self.epsilon_max = epsilon_max\n",
    "        self.decay_rate = decay_rate\n",
    "        self.epsilon_warmup = epsilon_warmup\n",
    "        if rng:\n",
    "            self.rng = rng\n",
    "\n",
    "    def choose_action(self, action_space, state, state_action_values):\n",
    "        \"\"\"Choose an action a in the current world state (s)\"\"\"\n",
    "\n",
    "        def sample(action_space):\n",
    "            return random_choice(action_space)\n",
    "\n",
    "        # # First we randomize a number\n",
    "        # if hasattr(self, \"rng\"):\n",
    "        #     explor_exploit_tradeoff = self.rng.uniform(0, 1)\n",
    "        # else:\n",
    "        #     explor_exploit_tradeoff = np.random.uniform(0, 1)\n",
    "        explor_exploit_tradeoff = torch.rand(1)\n",
    "\n",
    "        # Exploration\n",
    "        if explor_exploit_tradeoff.item() < self.epsilon:\n",
    "            # action = action_space.sample()\n",
    "            action = sample(action_space)\n",
    "\n",
    "        # Exploitation (taking the biggest Q-value for this state)\n",
    "        else:\n",
    "            # Break ties randomly\n",
    "            # If all actions are the same for this state we choose a random one\n",
    "            # (otherwise `argmax()` would always take the first one)\n",
    "            if torch.all(state_action_values == state_action_values[0]):\n",
    "                action = sample(action_space)\n",
    "            else:\n",
    "                action = torch.argmax(state_action_values)\n",
    "        return action\n",
    "\n",
    "    def update_epsilon(self, ep):\n",
    "        if ep > self.epsilon_warmup:\n",
    "            \"\"\"Reduce epsilon (because we need less and less exploration)\"\"\"\n",
    "            epsilon = (\n",
    "                self.epsilon_min\n",
    "                + (self.epsilon_max - self.epsilon_min)\n",
    "                * torch.exp(-self.decay_rate * (ep - self.epsilon_warmup)).item()\n",
    "            )\n",
    "        else:\n",
    "            epsilon = self.epsilon\n",
    "        return epsilon"
   ]
  },
  {
   "cell_type": "code",
   "execution_count": 18,
   "metadata": {},
   "outputs": [],
   "source": [
    "explorer = EpsilonGreedy(\n",
    "    epsilon=p.epsilon_max,\n",
    "    epsilon_min=p.epsilon_min,\n",
    "    epsilon_max=p.epsilon_max,\n",
    "    decay_rate=p.decay_rate,\n",
    "    epsilon_warmup=p.epsilon_warmup,\n",
    ")\n",
    "episodes = torch.arange(p.total_episodes, device=device)\n",
    "epsilons = torch.empty_like(episodes) * torch.nan\n",
    "for eps_i, epsi in enumerate(epsilons):\n",
    "    epsilons[eps_i] = explorer.epsilon\n",
    "    explorer.epsilon = explorer.update_epsilon(episodes[eps_i])"
   ]
  },
  {
   "cell_type": "code",
   "execution_count": 19,
   "metadata": {},
   "outputs": [
    {
     "data": {
      "image/png": "[encoded data removed]",
      "text/plain": [
       "<Figure size 640x480 with 1 Axes>"
      ]
     },
     "metadata": {},
     "output_type": "display_data"
    }
   ],
   "source": [
    "fig, ax = plt.subplots()\n",
    "sns.lineplot(epsilons)\n",
    "ax.set(ylabel=\"Epsilon\")\n",
    "ax.set(xlabel=\"Episodes\")\n",
    "fig.tight_layout()\n",
    "plt.show()"
   ]
  },
  {
   "cell_type": "code",
   "execution_count": 20,
   "metadata": {
    "colab": {
     "base_uri": "https://localhost:8080/"
    },
    "id": "uyEdi0gGiV1z",
    "outputId": "b644224d-13ff-4806-d751-0088efc24f85"
   },
   "outputs": [],
   "source": [
    "explorer = EpsilonGreedy(\n",
    "    epsilon=p.epsilon_max,\n",
    "    epsilon_min=p.epsilon_min,\n",
    "    epsilon_max=p.epsilon_max,\n",
    "    decay_rate=p.decay_rate,\n",
    "    epsilon_warmup=p.epsilon_warmup,\n",
    ")"
   ]
  },
  {
   "cell_type": "code",
   "execution_count": 21,
   "metadata": {},
   "outputs": [],
   "source": [
    "def collect_weights_biases(net):\n",
    "    biases = {\"val\": [], \"grad\": []}\n",
    "    weights = {\"val\": [], \"grad\": []}\n",
    "    for layer in net.mlp.children():\n",
    "        layer_params = layer.parameters()\n",
    "        for idx, subparams in enumerate(layer_params):\n",
    "            if idx > 2:\n",
    "                raise ValueError(\n",
    "                    \"There should be max 2 sets of parameters: weights and biases\"\n",
    "                )\n",
    "            if len(subparams.shape) > 2:\n",
    "                raise ValueError(\"The weights have more dimensions than expected\")\n",
    "\n",
    "            if len(subparams.shape) == 1:\n",
    "                biases[\"val\"].append(subparams)\n",
    "                biases[\"grad\"].append(subparams.grad)\n",
    "            elif len(subparams.shape) == 2:\n",
    "                weights[\"val\"].append(subparams)\n",
    "                weights[\"grad\"].append(subparams.grad)\n",
    "    return weights, biases"
   ]
  },
  {
   "cell_type": "code",
   "execution_count": 22,
   "metadata": {},
   "outputs": [],
   "source": [
    "def params_df_stats(weights, key, current_df=None):\n",
    "    if not current_df is None:\n",
    "        last_idx = current_df.index[-1] + 1\n",
    "        df = current_df\n",
    "    else:\n",
    "        last_idx = 0\n",
    "        df = None\n",
    "\n",
    "    for idx, val in enumerate(weights[key]):\n",
    "        tmp_df = pd.DataFrame(\n",
    "            data={\n",
    "                \"Std\": val.detach().cpu().std().item(),\n",
    "                \"Avg\": val.detach().cpu().mean().item(),\n",
    "                \"Layer\": idx,\n",
    "                \"Index\": [last_idx + idx],\n",
    "            },\n",
    "            index=[last_idx + idx],\n",
    "        )\n",
    "\n",
    "        if df is None:\n",
    "            df = tmp_df\n",
    "        else:\n",
    "            df = pd.concat((df, tmp_df))\n",
    "    return df"
   ]
  },
  {
   "cell_type": "markdown",
   "metadata": {},
   "source": [
    "## Main loop"
   ]
  },
  {
   "cell_type": "code",
   "execution_count": 23,
   "metadata": {
    "colab": {
     "base_uri": "https://localhost:8080/"
    },
    "id": "uyEdi0gGiV1z",
    "outputId": "b644224d-13ff-4806-d751-0088efc24f85"
   },
   "outputs": [
    {
     "name": "stderr",
     "output_type": "stream",
     "text": [
      "                                                                                \r"
     ]
    }
   ],
   "source": [
    "rewards = torch.zeros((p.total_episodes, p.n_runs), device=device)\n",
    "steps = torch.zeros((p.total_episodes, p.n_runs), device=device)\n",
    "episodes = torch.arange(p.total_episodes, device=device)\n",
    "all_states = []\n",
    "all_actions = []\n",
    "losses = [[] for _ in range(p.n_runs)]\n",
    "\n",
    "for run in range(p.n_runs):  # Run several times to account for stochasticity\n",
    "    # # Reset model\n",
    "    # net = DQN(\n",
    "    #     n_observations=p.n_observations, n_actions=p.n_actions, n_units=p.nHiddenUnits\n",
    "    # ).to(device)\n",
    "    # optimizer = optim.AdamW(net.parameters(), lr=p.alpha, amsgrad=True)\n",
    "    weights_val_stats = None\n",
    "    biases_val_stats = None\n",
    "    weights_grad_stats = None\n",
    "    biases_grad_stats = None\n",
    "    replay_buffer = []\n",
    "\n",
    "    for episode in tqdm(\n",
    "        episodes, desc=f\"Run {run+1}/{p.n_runs} - Episodes\", leave=False\n",
    "    ):\n",
    "        state = env.reset()  # Reset the environment\n",
    "        state = state.clone().float().detach().to(device)\n",
    "        step_count = 0\n",
    "        done = False\n",
    "        total_rewards = 0\n",
    "\n",
    "        while not done:\n",
    "            state_action_values = net(state).to(device)  # Q(s_t)\n",
    "            action = explorer.choose_action(\n",
    "                action_space=env.action_space,\n",
    "                state=state,\n",
    "                state_action_values=state_action_values,\n",
    "            )\n",
    "\n",
    "            # Record states and actions\n",
    "            all_states.append(state)\n",
    "            all_actions.append(Actions(action.item()).name)\n",
    "\n",
    "            next_state, reward, done = env.step(\n",
    "                action=action.item(), current_state=state\n",
    "            )\n",
    "\n",
    "            # Store transition in replay buffer\n",
    "            if len(replay_buffer) >= p.replay_buffer_max_size:\n",
    "                replay_buffer = replay_buffer[1:]\n",
    "            # [current_state (2 or 28 x1), action (1x1), next_state (2 or 28 x1), reward (1x1), done (1x1 bool)]\n",
    "            replay_buffer.append([state, action, reward, next_state, done])\n",
    "            (\n",
    "                state_sampled,\n",
    "                action_sampled,\n",
    "                reward_sampled,\n",
    "                next_state_sampled,\n",
    "                done_sampled,\n",
    "            ) = random_choice(replay_buffer, length=len(replay_buffer))\n",
    "\n",
    "            # See DQN paper for equations: https://doi.org/10.1038/nature14236\n",
    "            state_action_values_sampled = net(state_sampled).to(device)  # Q(s_t)\n",
    "            state_action_value = state_action_values_sampled[action_sampled].unsqueeze(\n",
    "                -1\n",
    "            )  # Q(s_t, a)\n",
    "            if done_sampled:\n",
    "                expected_state_action_value = reward_sampled\n",
    "            else:\n",
    "                with torch.no_grad():\n",
    "                    next_state_values = (\n",
    "                        net(next_state_sampled).to(device).max().unsqueeze(-1)\n",
    "                    )  # Q(s_t+1, a)\n",
    "                expected_state_action_value = (\n",
    "                    reward_sampled + p.gamma * next_state_values\n",
    "                )  # y_j (Bellman optimality equation)\n",
    "\n",
    "            # Compute loss\n",
    "            criterion = nn.MSELoss()\n",
    "            loss = criterion(\n",
    "                input=state_action_value, target=expected_state_action_value\n",
    "            )  # TD update\n",
    "\n",
    "            # Optimize the model\n",
    "            optimizer.zero_grad()\n",
    "            loss.backward()\n",
    "\n",
    "            # In-place gradient clipping\n",
    "            torch.nn.utils.clip_grad_value_(net.parameters(), 100)\n",
    "            optimizer.step()\n",
    "\n",
    "            total_rewards += reward\n",
    "            step_count += 1\n",
    "            losses[run].append(loss.item())\n",
    "\n",
    "            # Move to the next state\n",
    "            state = next_state\n",
    "\n",
    "        explorer.epsilon = explorer.update_epsilon(episode)\n",
    "\n",
    "        rewards[episode, run] = total_rewards\n",
    "        steps[episode, run] = step_count\n",
    "        weights, biases = collect_weights_biases(net=net)\n",
    "        weights_val_stats = params_df_stats(\n",
    "            weights, key=\"val\", current_df=weights_grad_stats\n",
    "        )\n",
    "        biases_val_stats = params_df_stats(\n",
    "            biases, key=\"val\", current_df=biases_val_stats\n",
    "        )\n",
    "        biases_grad_stats = params_df_stats(\n",
    "            biases, key=\"grad\", current_df=biases_grad_stats\n",
    "        )\n",
    "        weights_grad_stats = params_df_stats(\n",
    "            weights, key=\"grad\", current_df=weights_val_stats\n",
    "        )\n",
    "    weights_val_stats.set_index(\"Index\", inplace=True)\n",
    "    biases_val_stats.set_index(\"Index\", inplace=True)\n",
    "    biases_grad_stats.set_index(\"Index\", inplace=True)\n",
    "    weights_grad_stats.set_index(\"Index\", inplace=True)"
   ]
  },
  {
   "cell_type": "markdown",
   "metadata": {
    "colab": {
     "base_uri": "https://localhost:8080/"
    },
    "id": "uyEdi0gGiV1z",
    "outputId": "b644224d-13ff-4806-d751-0088efc24f85",
    "tags": []
   },
   "source": [
    "## Visualization"
   ]
  },
  {
   "cell_type": "markdown",
   "metadata": {},
   "source": [
    "### States & actions distributions"
   ]
  },
  {
   "cell_type": "code",
   "execution_count": 29,
   "metadata": {},
   "outputs": [],
   "source": [
    "def postprocess(episodes, p, rewards, steps):\n",
    "    \"\"\"Convert the results of the simulation in dataframes.\"\"\"\n",
    "    res = pd.DataFrame(\n",
    "        data={\n",
    "            \"Episodes\": episodes.tile(p.n_runs).cpu(),\n",
    "            \"Rewards\": rewards.T.flatten().cpu(),\n",
    "            \"Steps\": steps.T.flatten().cpu(),\n",
    "        }\n",
    "    )\n",
    "    # res[\"cum_rewards\"] = rewards.cumsum(axis=0).flatten(order=\"F\")\n",
    "    return res"
   ]
  },
  {
   "cell_type": "code",
   "execution_count": 30,
   "metadata": {
    "tags": []
   },
   "outputs": [
    {
     "data": {
      "text/html": [
       "<div>\n",
       "<style scoped>\n",
       "    .dataframe tbody tr th:only-of-type {\n",
       "        vertical-align: middle;\n",
       "    }\n",
       "\n",
       "    .dataframe tbody tr th {\n",
       "        vertical-align: top;\n",
       "    }\n",
       "\n",
       "    .dataframe thead th {\n",
       "        text-align: right;\n",
       "    }\n",
       "</style>\n",
       "<table border=\"1\" class=\"dataframe\">\n",
       "  <thead>\n",
       "    <tr style=\"text-align: right;\">\n",
       "      <th></th>\n",
       "      <th>Episodes</th>\n",
       "      <th>Rewards</th>\n",
       "      <th>Steps</th>\n",
       "    </tr>\n",
       "  </thead>\n",
       "  <tbody>\n",
       "    <tr>\n",
       "      <th>0</th>\n",
       "      <td>0</td>\n",
       "      <td>10.0</td>\n",
       "      <td>110.0</td>\n",
       "    </tr>\n",
       "    <tr>\n",
       "      <th>1</th>\n",
       "      <td>1</td>\n",
       "      <td>10.0</td>\n",
       "      <td>22.0</td>\n",
       "    </tr>\n",
       "    <tr>\n",
       "      <th>2</th>\n",
       "      <td>2</td>\n",
       "      <td>0.0</td>\n",
       "      <td>45.0</td>\n",
       "    </tr>\n",
       "    <tr>\n",
       "      <th>3</th>\n",
       "      <td>3</td>\n",
       "      <td>10.0</td>\n",
       "      <td>41.0</td>\n",
       "    </tr>\n",
       "    <tr>\n",
       "      <th>4</th>\n",
       "      <td>4</td>\n",
       "      <td>10.0</td>\n",
       "      <td>105.0</td>\n",
       "    </tr>\n",
       "    <tr>\n",
       "      <th>...</th>\n",
       "      <td>...</td>\n",
       "      <td>...</td>\n",
       "      <td>...</td>\n",
       "    </tr>\n",
       "    <tr>\n",
       "      <th>595</th>\n",
       "      <td>595</td>\n",
       "      <td>0.0</td>\n",
       "      <td>26.0</td>\n",
       "    </tr>\n",
       "    <tr>\n",
       "      <th>596</th>\n",
       "      <td>596</td>\n",
       "      <td>10.0</td>\n",
       "      <td>86.0</td>\n",
       "    </tr>\n",
       "    <tr>\n",
       "      <th>597</th>\n",
       "      <td>597</td>\n",
       "      <td>0.0</td>\n",
       "      <td>28.0</td>\n",
       "    </tr>\n",
       "    <tr>\n",
       "      <th>598</th>\n",
       "      <td>598</td>\n",
       "      <td>0.0</td>\n",
       "      <td>168.0</td>\n",
       "    </tr>\n",
       "    <tr>\n",
       "      <th>599</th>\n",
       "      <td>599</td>\n",
       "      <td>10.0</td>\n",
       "      <td>186.0</td>\n",
       "    </tr>\n",
       "  </tbody>\n",
       "</table>\n",
       "<p>600 rows × 3 columns</p>\n",
       "</div>"
      ],
      "text/plain": [
       "     Episodes  Rewards  Steps\n",
       "0           0     10.0  110.0\n",
       "1           1     10.0   22.0\n",
       "2           2      0.0   45.0\n",
       "3           3     10.0   41.0\n",
       "4           4     10.0  105.0\n",
       "..        ...      ...    ...\n",
       "595       595      0.0   26.0\n",
       "596       596     10.0   86.0\n",
       "597       597      0.0   28.0\n",
       "598       598      0.0  168.0\n",
       "599       599     10.0  186.0\n",
       "\n",
       "[600 rows x 3 columns]"
      ]
     },
     "execution_count": 30,
     "metadata": {},
     "output_type": "execute_result"
    }
   ],
   "source": [
    "res = postprocess(episodes, p, rewards, steps)\n",
    "res"
   ]
  },
  {
   "cell_type": "markdown",
   "metadata": {},
   "source": [
    "As a sanity check, we will plot the distributions of states and actions\n",
    "with the following function:"
   ]
  },
  {
   "cell_type": "code",
   "execution_count": 31,
   "metadata": {},
   "outputs": [],
   "source": [
    "def plot_states_actions_distribution(states, actions):\n",
    "    \"\"\"Plot the distributions of states and actions.\"\"\"\n",
    "    fig, ax = plt.subplots(nrows=1, ncols=2, figsize=(13, 5))\n",
    "    # sns.histplot(data=states, ax=ax[0])\n",
    "    ax[0].set_title(\"States\")\n",
    "    sns.histplot(data=actions, ax=ax[1])\n",
    "    ax[1].set_xticks(\n",
    "        [item.value for item in Actions], labels=[item.name for item in Actions]\n",
    "    )\n",
    "    ax[1].set_title(\"Actions\")\n",
    "    fig.tight_layout()\n",
    "    plt.show()"
   ]
  },
  {
   "cell_type": "code",
   "execution_count": 32,
   "metadata": {
    "tags": []
   },
   "outputs": [
    {
     "data": {
      "image/png": "[encoded data removed]",
      "text/plain": [
       "<Figure size 1300x500 with 2 Axes>"
      ]
     },
     "metadata": {},
     "output_type": "display_data"
    }
   ],
   "source": [
    "plot_states_actions_distribution(all_states, all_actions)"
   ]
  },
  {
   "cell_type": "markdown",
   "metadata": {},
   "source": [
    "### Steps & rewards"
   ]
  },
  {
   "cell_type": "code",
   "execution_count": 33,
   "metadata": {
    "colab": {
     "base_uri": "https://localhost:8080/",
     "height": 317
    },
    "id": "pk8lHOjiL7fa",
    "outputId": "0474335e-bf29-4be1-d877-e6adc5a13afc"
   },
   "outputs": [],
   "source": [
    "def plot_steps_and_rewards(df):\n",
    "    \"\"\"Plot the steps and rewards from dataframes.\"\"\"\n",
    "    fig, ax = plt.subplots(nrows=1, ncols=2, figsize=(15, 5))\n",
    "    sns.lineplot(data=df, x=\"Episodes\", y=\"Rewards\", ax=ax[0])\n",
    "    ax[0].set(\n",
    "        ylabel=f\"Rewards\\naveraged over {p.n_runs} runs\" if p.n_runs > 1 else \"Rewards\"\n",
    "    )\n",
    "\n",
    "    sns.lineplot(data=df, x=\"Episodes\", y=\"Steps\", ax=ax[1])\n",
    "    ax[1].set(\n",
    "        ylabel=f\"Steps number\\naveraged over {p.n_runs} runs\"\n",
    "        if p.n_runs > 1\n",
    "        else \"Steps number\"\n",
    "    )\n",
    "\n",
    "    fig.tight_layout()\n",
    "    plt.show()"
   ]
  },
  {
   "cell_type": "code",
   "execution_count": 34,
   "metadata": {
    "id": "Xj1z5ob10ltw"
   },
   "outputs": [
    {
     "data": {
      "image/png": "[encoded data removed]",
      "text/plain": [
       "<Figure size 1500x500 with 2 Axes>"
      ]
     },
     "metadata": {},
     "output_type": "display_data"
    }
   ],
   "source": [
    "plot_steps_and_rewards(res)"
   ]
  },
  {
   "cell_type": "markdown",
   "metadata": {},
   "source": [
    "### Loss"
   ]
  },
  {
   "cell_type": "code",
   "execution_count": 35,
   "metadata": {},
   "outputs": [
    {
     "data": {
      "text/html": [
       "<div>\n",
       "<style scoped>\n",
       "    .dataframe tbody tr th:only-of-type {\n",
       "        vertical-align: middle;\n",
       "    }\n",
       "\n",
       "    .dataframe tbody tr th {\n",
       "        vertical-align: top;\n",
       "    }\n",
       "\n",
       "    .dataframe thead th {\n",
       "        text-align: right;\n",
       "    }\n",
       "</style>\n",
       "<table border=\"1\" class=\"dataframe\">\n",
       "  <thead>\n",
       "    <tr style=\"text-align: right;\">\n",
       "      <th></th>\n",
       "      <th>Run</th>\n",
       "      <th>Steps</th>\n",
       "      <th>Loss</th>\n",
       "    </tr>\n",
       "  </thead>\n",
       "  <tbody>\n",
       "    <tr>\n",
       "      <th>0</th>\n",
       "      <td>0</td>\n",
       "      <td>0</td>\n",
       "      <td>0.001043</td>\n",
       "    </tr>\n",
       "    <tr>\n",
       "      <th>1</th>\n",
       "      <td>0</td>\n",
       "      <td>1</td>\n",
       "      <td>0.000026</td>\n",
       "    </tr>\n",
       "    <tr>\n",
       "      <th>2</th>\n",
       "      <td>0</td>\n",
       "      <td>2</td>\n",
       "      <td>0.000000</td>\n",
       "    </tr>\n",
       "    <tr>\n",
       "      <th>3</th>\n",
       "      <td>0</td>\n",
       "      <td>3</td>\n",
       "      <td>0.000000</td>\n",
       "    </tr>\n",
       "    <tr>\n",
       "      <th>4</th>\n",
       "      <td>0</td>\n",
       "      <td>4</td>\n",
       "      <td>0.000000</td>\n",
       "    </tr>\n",
       "    <tr>\n",
       "      <th>...</th>\n",
       "      <td>...</td>\n",
       "      <td>...</td>\n",
       "      <td>...</td>\n",
       "    </tr>\n",
       "    <tr>\n",
       "      <th>5476</th>\n",
       "      <td>0</td>\n",
       "      <td>5476</td>\n",
       "      <td>0.000000</td>\n",
       "    </tr>\n",
       "    <tr>\n",
       "      <th>5477</th>\n",
       "      <td>0</td>\n",
       "      <td>5477</td>\n",
       "      <td>0.000000</td>\n",
       "    </tr>\n",
       "    <tr>\n",
       "      <th>5478</th>\n",
       "      <td>0</td>\n",
       "      <td>5478</td>\n",
       "      <td>0.000000</td>\n",
       "    </tr>\n",
       "    <tr>\n",
       "      <th>5479</th>\n",
       "      <td>0</td>\n",
       "      <td>5479</td>\n",
       "      <td>0.000000</td>\n",
       "    </tr>\n",
       "    <tr>\n",
       "      <th>5480</th>\n",
       "      <td>0</td>\n",
       "      <td>5480</td>\n",
       "      <td>0.000000</td>\n",
       "    </tr>\n",
       "  </tbody>\n",
       "</table>\n",
       "<p>5481 rows × 3 columns</p>\n",
       "</div>"
      ],
      "text/plain": [
       "      Run  Steps      Loss\n",
       "0       0      0  0.001043\n",
       "1       0      1  0.000026\n",
       "2       0      2  0.000000\n",
       "3       0      3  0.000000\n",
       "4       0      4  0.000000\n",
       "...   ...    ...       ...\n",
       "5476    0   5476  0.000000\n",
       "5477    0   5477  0.000000\n",
       "5478    0   5478  0.000000\n",
       "5479    0   5479  0.000000\n",
       "5480    0   5480  0.000000\n",
       "\n",
       "[5481 rows x 3 columns]"
      ]
     },
     "execution_count": 35,
     "metadata": {},
     "output_type": "execute_result"
    }
   ],
   "source": [
    "window_size = 10\n",
    "for idx, loss in enumerate(losses):\n",
    "    current_loss = torch.tensor(loss, device=device)\n",
    "    losses_rolling_avg = nn.functional.avg_pool1d(\n",
    "        current_loss.view(1, 1, -1), kernel_size=window_size\n",
    "    ).squeeze()\n",
    "    tmp_df = pd.DataFrame(\n",
    "        data={\n",
    "            \"Run\": idx * torch.ones(len(losses_rolling_avg), device=device).int().cpu(),\n",
    "            \"Steps\": torch.arange(0, len(losses_rolling_avg), device=device).cpu(),\n",
    "            \"Loss\": losses_rolling_avg.cpu(),\n",
    "        }\n",
    "    )\n",
    "    if idx == 0:\n",
    "        loss_df = tmp_df\n",
    "    else:\n",
    "        loss_df = pd.concat((loss_df, tmp_df))\n",
    "loss_df"
   ]
  },
  {
   "cell_type": "code",
   "execution_count": 36,
   "metadata": {},
   "outputs": [
    {
     "data": {
      "image/png": "[encoded data removed]",
      "text/plain": [
       "<Figure size 640x480 with 1 Axes>"
      ]
     },
     "metadata": {},
     "output_type": "display_data"
    }
   ],
   "source": [
    "fig, ax = plt.subplots()\n",
    "sns.lineplot(data=loss_df, x=\"Steps\", y=\"Loss\", ax=ax)\n",
    "ax.set(\n",
    "    ylabel=f\"$Log_{{10}}(\\\\text{{Loss}})$\\naveraged over {p.n_runs} runs\"\n",
    "    if p.n_runs > 1\n",
    "    else \"$Log_{10}(\\\\text{Loss})$\"\n",
    ")\n",
    "ax.set(xlabel=\"Steps\")\n",
    "ax.set(yscale=\"log\")\n",
    "fig.tight_layout()\n",
    "plt.show()"
   ]
  },
  {
   "cell_type": "code",
   "execution_count": 37,
   "metadata": {},
   "outputs": [
    {
     "data": {
      "text/plain": [
       "0.0"
      ]
     },
     "execution_count": 37,
     "metadata": {},
     "output_type": "execute_result"
    }
   ],
   "source": [
    "loss_df.iloc[-1].Loss"
   ]
  },
  {
   "cell_type": "markdown",
   "metadata": {},
   "source": [
    "### Policy learned"
   ]
  },
  {
   "cell_type": "code",
   "execution_count": 38,
   "metadata": {},
   "outputs": [
    {
     "data": {
      "text/plain": [
       "torch.Size([25, 3, 4])"
      ]
     },
     "execution_count": 38,
     "metadata": {},
     "output_type": "execute_result"
    }
   ],
   "source": [
    "with torch.no_grad():\n",
    "    q_values = torch.nan * torch.empty(\n",
    "        (len(env.tiles_locations), len(Cues), p.n_actions), device=device\n",
    "    )\n",
    "    for tile_i, tile_v in enumerate(env.tiles_locations):\n",
    "        for cue_i, cue_v in enumerate(Cues):\n",
    "            state = torch.tensor([tile_v, cue_v.value], device=device).float()\n",
    "            if env.one_hot_state:\n",
    "                state = env.to_one_hot(state).float()\n",
    "            q_values[tile_i, cue_i, :] = net(state).to(device)\n",
    "q_values.shape"
   ]
  },
  {
   "cell_type": "code",
   "execution_count": 39,
   "metadata": {},
   "outputs": [],
   "source": [
    "def qtable_directions_map(qtable, rows, cols):\n",
    "    \"\"\"Get the best learned action & map it to arrows.\"\"\"\n",
    "    qtable_val_max = qtable.max(axis=1).values.reshape(rows, cols)\n",
    "    qtable_best_action = qtable.argmax(axis=1).reshape(rows, cols)\n",
    "    directions = {\n",
    "        Actions.UP: \"↑\",\n",
    "        Actions.DOWN: \"↓\",\n",
    "        Actions.LEFT: \"←\",\n",
    "        Actions.RIGHT: \"→\",\n",
    "    }\n",
    "    qtable_directions = np.empty(qtable_best_action.flatten().shape, dtype=str)\n",
    "    eps = torch.finfo(torch.float64).eps  # Minimum float number on the machine\n",
    "    for idx, val in enumerate(qtable_best_action.flatten()):\n",
    "        if qtable_val_max.flatten()[idx] > eps:\n",
    "            # Assign an arrow only if a minimal Q-value has been learned as best action\n",
    "            # otherwise since 0 is a direction, it also gets mapped on the tiles where\n",
    "            # it didn't actually learn anything\n",
    "            qtable_directions[idx] = directions[Actions(val.item())]\n",
    "    qtable_directions = qtable_directions.reshape(rows, cols)\n",
    "    return qtable_val_max, qtable_directions"
   ]
  },
  {
   "cell_type": "code",
   "execution_count": 40,
   "metadata": {},
   "outputs": [],
   "source": [
    "def plot_policies(q_values, labels):\n",
    "    \"\"\"Plot the heatmap of the Q-values.\n",
    "\n",
    "    Also plot the best action's direction with arrows.\"\"\"\n",
    "\n",
    "    fig, ax = plt.subplots(1, 3, figsize=(13, 4))\n",
    "    for idx, cue in enumerate(labels):\n",
    "        qtable_val_max, qtable_directions = qtable_directions_map(\n",
    "            qtable=q_values[:, idx, :], rows=env.rows, cols=env.cols\n",
    "        )\n",
    "        sns.heatmap(\n",
    "            qtable_val_max.cpu(),\n",
    "            annot=qtable_directions,\n",
    "            fmt=\"\",\n",
    "            ax=ax.flatten()[idx],\n",
    "            cmap=sns.color_palette(\"Blues\", as_cmap=True),\n",
    "            linewidths=0.7,\n",
    "            linecolor=\"black\",\n",
    "            xticklabels=[],\n",
    "            yticklabels=[],\n",
    "            annot_kws={\"fontsize\": \"xx-large\"},\n",
    "            cbar_kws={\"label\": \"Q-value\"},\n",
    "        ).set(title=labels[cue])\n",
    "        for _, spine in ax.flatten()[idx].spines.items():\n",
    "            spine.set_visible(True)\n",
    "            spine.set_linewidth(0.7)\n",
    "            spine.set_color(\"black\")\n",
    "\n",
    "        # Annotate the ports names\n",
    "        bbox = {\n",
    "            \"facecolor\": \"black\",\n",
    "            \"edgecolor\": \"none\",\n",
    "            \"boxstyle\": \"round\",\n",
    "            \"alpha\": 0.1,\n",
    "        }\n",
    "        ax.flatten()[idx].text(\n",
    "            x=4.7,\n",
    "            y=0.3,\n",
    "            s=\"N\",\n",
    "            bbox=bbox,\n",
    "            color=\"white\",\n",
    "        )\n",
    "        ax.flatten()[idx].text(\n",
    "            x=0.05,\n",
    "            y=4.9,\n",
    "            s=\"S\",\n",
    "            bbox=bbox,\n",
    "            color=\"white\",\n",
    "        )\n",
    "        ax.flatten()[idx].text(\n",
    "            x=4.7,\n",
    "            y=4.9,\n",
    "            s=\"E\",\n",
    "            bbox=bbox,\n",
    "            color=\"white\",\n",
    "        )\n",
    "        ax.flatten()[idx].text(\n",
    "            x=0.05,\n",
    "            y=0.3,\n",
    "            s=\"W\",\n",
    "            bbox=bbox,\n",
    "            color=\"white\",\n",
    "        )\n",
    "\n",
    "    # Make background transparent\n",
    "    fig.patch.set_alpha(0)\n",
    "    fig.patch.set_facecolor(\"white\")\n",
    "    fig.tight_layout()\n",
    "    plt.show()"
   ]
  },
  {
   "cell_type": "code",
   "execution_count": 41,
   "metadata": {},
   "outputs": [
    {
     "data": {
      "image/png": "[encoded data removed]",
      "text/plain": [
       "<Figure size 1300x400 with 6 Axes>"
      ]
     },
     "metadata": {
      "needs_background": "light"
     },
     "output_type": "display_data"
    }
   ],
   "source": [
    "plot_policies(q_values=q_values, labels=CONTEXTS_LABELS)"
   ]
  },
  {
   "cell_type": "markdown",
   "metadata": {},
   "source": [
    "### Weights & gradients metrics"
   ]
  },
  {
   "cell_type": "code",
   "execution_count": 42,
   "metadata": {},
   "outputs": [],
   "source": [
    "weights, biases = collect_weights_biases(net=net)"
   ]
  },
  {
   "cell_type": "code",
   "execution_count": 43,
   "metadata": {},
   "outputs": [],
   "source": [
    "def params_df_flat(weights):\n",
    "    for idx, val in enumerate(weights):\n",
    "        tmp_df = pd.DataFrame(\n",
    "            data={\n",
    "                \"Val\": val.detach().cpu().flatten(),\n",
    "                \"Layer\": idx,\n",
    "            }\n",
    "        )\n",
    "        if idx == 0:\n",
    "            df = tmp_df\n",
    "        else:\n",
    "            df = pd.concat((df, tmp_df))\n",
    "    return df"
   ]
  },
  {
   "cell_type": "code",
   "execution_count": 44,
   "metadata": {},
   "outputs": [
    {
     "data": {
      "text/html": [
       "<div>\n",
       "<style scoped>\n",
       "    .dataframe tbody tr th:only-of-type {\n",
       "        vertical-align: middle;\n",
       "    }\n",
       "\n",
       "    .dataframe tbody tr th {\n",
       "        vertical-align: top;\n",
       "    }\n",
       "\n",
       "    .dataframe thead th {\n",
       "        text-align: right;\n",
       "    }\n",
       "</style>\n",
       "<table border=\"1\" class=\"dataframe\">\n",
       "  <thead>\n",
       "    <tr style=\"text-align: right;\">\n",
       "      <th></th>\n",
       "      <th>Val</th>\n",
       "      <th>Layer</th>\n",
       "    </tr>\n",
       "  </thead>\n",
       "  <tbody>\n",
       "    <tr>\n",
       "      <th>0</th>\n",
       "      <td>0.000941</td>\n",
       "      <td>0</td>\n",
       "    </tr>\n",
       "    <tr>\n",
       "      <th>1</th>\n",
       "      <td>-0.107583</td>\n",
       "      <td>0</td>\n",
       "    </tr>\n",
       "    <tr>\n",
       "      <th>2</th>\n",
       "      <td>-0.016338</td>\n",
       "      <td>0</td>\n",
       "    </tr>\n",
       "    <tr>\n",
       "      <th>3</th>\n",
       "      <td>0.086795</td>\n",
       "      <td>0</td>\n",
       "    </tr>\n",
       "    <tr>\n",
       "      <th>4</th>\n",
       "      <td>0.062308</td>\n",
       "      <td>0</td>\n",
       "    </tr>\n",
       "    <tr>\n",
       "      <th>...</th>\n",
       "      <td>...</td>\n",
       "      <td>...</td>\n",
       "    </tr>\n",
       "    <tr>\n",
       "      <th>331</th>\n",
       "      <td>0.021779</td>\n",
       "      <td>3</td>\n",
       "    </tr>\n",
       "    <tr>\n",
       "      <th>332</th>\n",
       "      <td>0.048297</td>\n",
       "      <td>3</td>\n",
       "    </tr>\n",
       "    <tr>\n",
       "      <th>333</th>\n",
       "      <td>0.016887</td>\n",
       "      <td>3</td>\n",
       "    </tr>\n",
       "    <tr>\n",
       "      <th>334</th>\n",
       "      <td>0.005541</td>\n",
       "      <td>3</td>\n",
       "    </tr>\n",
       "    <tr>\n",
       "      <th>335</th>\n",
       "      <td>-0.003720</td>\n",
       "      <td>3</td>\n",
       "    </tr>\n",
       "  </tbody>\n",
       "</table>\n",
       "<p>16800 rows × 2 columns</p>\n",
       "</div>"
      ],
      "text/plain": [
       "          Val  Layer\n",
       "0    0.000941      0\n",
       "1   -0.107583      0\n",
       "2   -0.016338      0\n",
       "3    0.086795      0\n",
       "4    0.062308      0\n",
       "..        ...    ...\n",
       "331  0.021779      3\n",
       "332  0.048297      3\n",
       "333  0.016887      3\n",
       "334  0.005541      3\n",
       "335 -0.003720      3\n",
       "\n",
       "[16800 rows x 2 columns]"
      ]
     },
     "execution_count": 44,
     "metadata": {},
     "output_type": "execute_result"
    }
   ],
   "source": [
    "weights_val_df = params_df_flat(weights[\"val\"])\n",
    "weights_val_df"
   ]
  },
  {
   "cell_type": "code",
   "execution_count": 45,
   "metadata": {},
   "outputs": [
    {
     "data": {
      "text/html": [
       "<div>\n",
       "<style scoped>\n",
       "    .dataframe tbody tr th:only-of-type {\n",
       "        vertical-align: middle;\n",
       "    }\n",
       "\n",
       "    .dataframe tbody tr th {\n",
       "        vertical-align: top;\n",
       "    }\n",
       "\n",
       "    .dataframe thead th {\n",
       "        text-align: right;\n",
       "    }\n",
       "</style>\n",
       "<table border=\"1\" class=\"dataframe\">\n",
       "  <thead>\n",
       "    <tr style=\"text-align: right;\">\n",
       "      <th></th>\n",
       "      <th>Val</th>\n",
       "      <th>Layer</th>\n",
       "    </tr>\n",
       "  </thead>\n",
       "  <tbody>\n",
       "    <tr>\n",
       "      <th>count</th>\n",
       "      <td>16800.000000</td>\n",
       "      <td>16800.000000</td>\n",
       "    </tr>\n",
       "    <tr>\n",
       "      <th>mean</th>\n",
       "      <td>0.000182</td>\n",
       "      <td>1.320000</td>\n",
       "    </tr>\n",
       "    <tr>\n",
       "      <th>std</th>\n",
       "      <td>0.041287</td>\n",
       "      <td>0.733234</td>\n",
       "    </tr>\n",
       "    <tr>\n",
       "      <th>min</th>\n",
       "      <td>-0.109148</td>\n",
       "      <td>0.000000</td>\n",
       "    </tr>\n",
       "    <tr>\n",
       "      <th>25%</th>\n",
       "      <td>-0.033377</td>\n",
       "      <td>1.000000</td>\n",
       "    </tr>\n",
       "    <tr>\n",
       "      <th>50%</th>\n",
       "      <td>0.000430</td>\n",
       "      <td>1.000000</td>\n",
       "    </tr>\n",
       "    <tr>\n",
       "      <th>75%</th>\n",
       "      <td>0.033326</td>\n",
       "      <td>2.000000</td>\n",
       "    </tr>\n",
       "    <tr>\n",
       "      <th>max</th>\n",
       "      <td>0.121032</td>\n",
       "      <td>3.000000</td>\n",
       "    </tr>\n",
       "  </tbody>\n",
       "</table>\n",
       "</div>"
      ],
      "text/plain": [
       "                Val         Layer\n",
       "count  16800.000000  16800.000000\n",
       "mean       0.000182      1.320000\n",
       "std        0.041287      0.733234\n",
       "min       -0.109148      0.000000\n",
       "25%       -0.033377      1.000000\n",
       "50%        0.000430      1.000000\n",
       "75%        0.033326      2.000000\n",
       "max        0.121032      3.000000"
      ]
     },
     "execution_count": 45,
     "metadata": {},
     "output_type": "execute_result"
    }
   ],
   "source": [
    "weights_val_df.describe()"
   ]
  },
  {
   "cell_type": "code",
   "execution_count": 46,
   "metadata": {},
   "outputs": [
    {
     "data": {
      "text/html": [
       "<div>\n",
       "<style scoped>\n",
       "    .dataframe tbody tr th:only-of-type {\n",
       "        vertical-align: middle;\n",
       "    }\n",
       "\n",
       "    .dataframe tbody tr th {\n",
       "        vertical-align: top;\n",
       "    }\n",
       "\n",
       "    .dataframe thead th {\n",
       "        text-align: right;\n",
       "    }\n",
       "</style>\n",
       "<table border=\"1\" class=\"dataframe\">\n",
       "  <thead>\n",
       "    <tr style=\"text-align: right;\">\n",
       "      <th></th>\n",
       "      <th>Val</th>\n",
       "      <th>Layer</th>\n",
       "    </tr>\n",
       "  </thead>\n",
       "  <tbody>\n",
       "    <tr>\n",
       "      <th>0</th>\n",
       "      <td>-0.046157</td>\n",
       "      <td>0</td>\n",
       "    </tr>\n",
       "    <tr>\n",
       "      <th>1</th>\n",
       "      <td>-0.078242</td>\n",
       "      <td>0</td>\n",
       "    </tr>\n",
       "    <tr>\n",
       "      <th>2</th>\n",
       "      <td>0.075756</td>\n",
       "      <td>0</td>\n",
       "    </tr>\n",
       "    <tr>\n",
       "      <th>3</th>\n",
       "      <td>-0.077260</td>\n",
       "      <td>0</td>\n",
       "    </tr>\n",
       "    <tr>\n",
       "      <th>4</th>\n",
       "      <td>0.077326</td>\n",
       "      <td>0</td>\n",
       "    </tr>\n",
       "    <tr>\n",
       "      <th>...</th>\n",
       "      <td>...</td>\n",
       "      <td>...</td>\n",
       "    </tr>\n",
       "    <tr>\n",
       "      <th>83</th>\n",
       "      <td>0.032703</td>\n",
       "      <td>2</td>\n",
       "    </tr>\n",
       "    <tr>\n",
       "      <th>0</th>\n",
       "      <td>-0.018949</td>\n",
       "      <td>3</td>\n",
       "    </tr>\n",
       "    <tr>\n",
       "      <th>1</th>\n",
       "      <td>0.034000</td>\n",
       "      <td>3</td>\n",
       "    </tr>\n",
       "    <tr>\n",
       "      <th>2</th>\n",
       "      <td>0.003544</td>\n",
       "      <td>3</td>\n",
       "    </tr>\n",
       "    <tr>\n",
       "      <th>3</th>\n",
       "      <td>-0.056424</td>\n",
       "      <td>3</td>\n",
       "    </tr>\n",
       "  </tbody>\n",
       "</table>\n",
       "<p>256 rows × 2 columns</p>\n",
       "</div>"
      ],
      "text/plain": [
       "         Val  Layer\n",
       "0  -0.046157      0\n",
       "1  -0.078242      0\n",
       "2   0.075756      0\n",
       "3  -0.077260      0\n",
       "4   0.077326      0\n",
       "..       ...    ...\n",
       "83  0.032703      2\n",
       "0  -0.018949      3\n",
       "1   0.034000      3\n",
       "2   0.003544      3\n",
       "3  -0.056424      3\n",
       "\n",
       "[256 rows x 2 columns]"
      ]
     },
     "execution_count": 46,
     "metadata": {},
     "output_type": "execute_result"
    }
   ],
   "source": [
    "biases_val_df = params_df_flat(biases[\"val\"])\n",
    "biases_val_df"
   ]
  },
  {
   "cell_type": "code",
   "execution_count": 47,
   "metadata": {},
   "outputs": [
    {
     "data": {
      "text/html": [
       "<div>\n",
       "<style scoped>\n",
       "    .dataframe tbody tr th:only-of-type {\n",
       "        vertical-align: middle;\n",
       "    }\n",
       "\n",
       "    .dataframe tbody tr th {\n",
       "        vertical-align: top;\n",
       "    }\n",
       "\n",
       "    .dataframe thead th {\n",
       "        text-align: right;\n",
       "    }\n",
       "</style>\n",
       "<table border=\"1\" class=\"dataframe\">\n",
       "  <thead>\n",
       "    <tr style=\"text-align: right;\">\n",
       "      <th></th>\n",
       "      <th>Val</th>\n",
       "      <th>Layer</th>\n",
       "    </tr>\n",
       "  </thead>\n",
       "  <tbody>\n",
       "    <tr>\n",
       "      <th>count</th>\n",
       "      <td>256.000000</td>\n",
       "      <td>256.000000</td>\n",
       "    </tr>\n",
       "    <tr>\n",
       "      <th>mean</th>\n",
       "      <td>0.004133</td>\n",
       "      <td>1.031250</td>\n",
       "    </tr>\n",
       "    <tr>\n",
       "      <th>std</th>\n",
       "      <td>0.048357</td>\n",
       "      <td>0.848875</td>\n",
       "    </tr>\n",
       "    <tr>\n",
       "      <th>min</th>\n",
       "      <td>-0.105134</td>\n",
       "      <td>0.000000</td>\n",
       "    </tr>\n",
       "    <tr>\n",
       "      <th>25%</th>\n",
       "      <td>-0.038450</td>\n",
       "      <td>0.000000</td>\n",
       "    </tr>\n",
       "    <tr>\n",
       "      <th>50%</th>\n",
       "      <td>0.005178</td>\n",
       "      <td>1.000000</td>\n",
       "    </tr>\n",
       "    <tr>\n",
       "      <th>75%</th>\n",
       "      <td>0.042175</td>\n",
       "      <td>2.000000</td>\n",
       "    </tr>\n",
       "    <tr>\n",
       "      <th>max</th>\n",
       "      <td>0.114981</td>\n",
       "      <td>3.000000</td>\n",
       "    </tr>\n",
       "  </tbody>\n",
       "</table>\n",
       "</div>"
      ],
      "text/plain": [
       "              Val       Layer\n",
       "count  256.000000  256.000000\n",
       "mean     0.004133    1.031250\n",
       "std      0.048357    0.848875\n",
       "min     -0.105134    0.000000\n",
       "25%     -0.038450    0.000000\n",
       "50%      0.005178    1.000000\n",
       "75%      0.042175    2.000000\n",
       "max      0.114981    3.000000"
      ]
     },
     "execution_count": 47,
     "metadata": {},
     "output_type": "execute_result"
    }
   ],
   "source": [
    "biases_val_df.describe()"
   ]
  },
  {
   "cell_type": "code",
   "execution_count": 48,
   "metadata": {},
   "outputs": [
    {
     "data": {
      "text/html": [
       "<div>\n",
       "<style scoped>\n",
       "    .dataframe tbody tr th:only-of-type {\n",
       "        vertical-align: middle;\n",
       "    }\n",
       "\n",
       "    .dataframe tbody tr th {\n",
       "        vertical-align: top;\n",
       "    }\n",
       "\n",
       "    .dataframe thead th {\n",
       "        text-align: right;\n",
       "    }\n",
       "</style>\n",
       "<table border=\"1\" class=\"dataframe\">\n",
       "  <thead>\n",
       "    <tr style=\"text-align: right;\">\n",
       "      <th></th>\n",
       "      <th>Val</th>\n",
       "      <th>Layer</th>\n",
       "    </tr>\n",
       "  </thead>\n",
       "  <tbody>\n",
       "    <tr>\n",
       "      <th>0</th>\n",
       "      <td>0.0</td>\n",
       "      <td>0</td>\n",
       "    </tr>\n",
       "    <tr>\n",
       "      <th>1</th>\n",
       "      <td>0.0</td>\n",
       "      <td>0</td>\n",
       "    </tr>\n",
       "    <tr>\n",
       "      <th>2</th>\n",
       "      <td>0.0</td>\n",
       "      <td>0</td>\n",
       "    </tr>\n",
       "    <tr>\n",
       "      <th>3</th>\n",
       "      <td>0.0</td>\n",
       "      <td>0</td>\n",
       "    </tr>\n",
       "    <tr>\n",
       "      <th>4</th>\n",
       "      <td>0.0</td>\n",
       "      <td>0</td>\n",
       "    </tr>\n",
       "    <tr>\n",
       "      <th>...</th>\n",
       "      <td>...</td>\n",
       "      <td>...</td>\n",
       "    </tr>\n",
       "    <tr>\n",
       "      <th>331</th>\n",
       "      <td>0.0</td>\n",
       "      <td>3</td>\n",
       "    </tr>\n",
       "    <tr>\n",
       "      <th>332</th>\n",
       "      <td>0.0</td>\n",
       "      <td>3</td>\n",
       "    </tr>\n",
       "    <tr>\n",
       "      <th>333</th>\n",
       "      <td>0.0</td>\n",
       "      <td>3</td>\n",
       "    </tr>\n",
       "    <tr>\n",
       "      <th>334</th>\n",
       "      <td>0.0</td>\n",
       "      <td>3</td>\n",
       "    </tr>\n",
       "    <tr>\n",
       "      <th>335</th>\n",
       "      <td>0.0</td>\n",
       "      <td>3</td>\n",
       "    </tr>\n",
       "  </tbody>\n",
       "</table>\n",
       "<p>16800 rows × 2 columns</p>\n",
       "</div>"
      ],
      "text/plain": [
       "     Val  Layer\n",
       "0    0.0      0\n",
       "1    0.0      0\n",
       "2    0.0      0\n",
       "3    0.0      0\n",
       "4    0.0      0\n",
       "..   ...    ...\n",
       "331  0.0      3\n",
       "332  0.0      3\n",
       "333  0.0      3\n",
       "334  0.0      3\n",
       "335  0.0      3\n",
       "\n",
       "[16800 rows x 2 columns]"
      ]
     },
     "execution_count": 48,
     "metadata": {},
     "output_type": "execute_result"
    }
   ],
   "source": [
    "weights_grad_df = params_df_flat(weights[\"grad\"])\n",
    "weights_grad_df"
   ]
  },
  {
   "cell_type": "code",
   "execution_count": 49,
   "metadata": {},
   "outputs": [
    {
     "data": {
      "text/html": [
       "<div>\n",
       "<style scoped>\n",
       "    .dataframe tbody tr th:only-of-type {\n",
       "        vertical-align: middle;\n",
       "    }\n",
       "\n",
       "    .dataframe tbody tr th {\n",
       "        vertical-align: top;\n",
       "    }\n",
       "\n",
       "    .dataframe thead th {\n",
       "        text-align: right;\n",
       "    }\n",
       "</style>\n",
       "<table border=\"1\" class=\"dataframe\">\n",
       "  <thead>\n",
       "    <tr style=\"text-align: right;\">\n",
       "      <th></th>\n",
       "      <th>Val</th>\n",
       "      <th>Layer</th>\n",
       "    </tr>\n",
       "  </thead>\n",
       "  <tbody>\n",
       "    <tr>\n",
       "      <th>count</th>\n",
       "      <td>16800.0</td>\n",
       "      <td>16800.000000</td>\n",
       "    </tr>\n",
       "    <tr>\n",
       "      <th>mean</th>\n",
       "      <td>0.0</td>\n",
       "      <td>1.320000</td>\n",
       "    </tr>\n",
       "    <tr>\n",
       "      <th>std</th>\n",
       "      <td>0.0</td>\n",
       "      <td>0.733234</td>\n",
       "    </tr>\n",
       "    <tr>\n",
       "      <th>min</th>\n",
       "      <td>0.0</td>\n",
       "      <td>0.000000</td>\n",
       "    </tr>\n",
       "    <tr>\n",
       "      <th>25%</th>\n",
       "      <td>0.0</td>\n",
       "      <td>1.000000</td>\n",
       "    </tr>\n",
       "    <tr>\n",
       "      <th>50%</th>\n",
       "      <td>0.0</td>\n",
       "      <td>1.000000</td>\n",
       "    </tr>\n",
       "    <tr>\n",
       "      <th>75%</th>\n",
       "      <td>0.0</td>\n",
       "      <td>2.000000</td>\n",
       "    </tr>\n",
       "    <tr>\n",
       "      <th>max</th>\n",
       "      <td>0.0</td>\n",
       "      <td>3.000000</td>\n",
       "    </tr>\n",
       "  </tbody>\n",
       "</table>\n",
       "</div>"
      ],
      "text/plain": [
       "           Val         Layer\n",
       "count  16800.0  16800.000000\n",
       "mean       0.0      1.320000\n",
       "std        0.0      0.733234\n",
       "min        0.0      0.000000\n",
       "25%        0.0      1.000000\n",
       "50%        0.0      1.000000\n",
       "75%        0.0      2.000000\n",
       "max        0.0      3.000000"
      ]
     },
     "execution_count": 49,
     "metadata": {},
     "output_type": "execute_result"
    }
   ],
   "source": [
    "weights_grad_df.describe()"
   ]
  },
  {
   "cell_type": "code",
   "execution_count": 50,
   "metadata": {},
   "outputs": [
    {
     "data": {
      "text/html": [
       "<div>\n",
       "<style scoped>\n",
       "    .dataframe tbody tr th:only-of-type {\n",
       "        vertical-align: middle;\n",
       "    }\n",
       "\n",
       "    .dataframe tbody tr th {\n",
       "        vertical-align: top;\n",
       "    }\n",
       "\n",
       "    .dataframe thead th {\n",
       "        text-align: right;\n",
       "    }\n",
       "</style>\n",
       "<table border=\"1\" class=\"dataframe\">\n",
       "  <thead>\n",
       "    <tr style=\"text-align: right;\">\n",
       "      <th></th>\n",
       "      <th>Val</th>\n",
       "      <th>Layer</th>\n",
       "    </tr>\n",
       "  </thead>\n",
       "  <tbody>\n",
       "    <tr>\n",
       "      <th>0</th>\n",
       "      <td>0.0</td>\n",
       "      <td>0</td>\n",
       "    </tr>\n",
       "    <tr>\n",
       "      <th>1</th>\n",
       "      <td>0.0</td>\n",
       "      <td>0</td>\n",
       "    </tr>\n",
       "    <tr>\n",
       "      <th>2</th>\n",
       "      <td>0.0</td>\n",
       "      <td>0</td>\n",
       "    </tr>\n",
       "    <tr>\n",
       "      <th>3</th>\n",
       "      <td>0.0</td>\n",
       "      <td>0</td>\n",
       "    </tr>\n",
       "    <tr>\n",
       "      <th>4</th>\n",
       "      <td>0.0</td>\n",
       "      <td>0</td>\n",
       "    </tr>\n",
       "    <tr>\n",
       "      <th>...</th>\n",
       "      <td>...</td>\n",
       "      <td>...</td>\n",
       "    </tr>\n",
       "    <tr>\n",
       "      <th>83</th>\n",
       "      <td>0.0</td>\n",
       "      <td>2</td>\n",
       "    </tr>\n",
       "    <tr>\n",
       "      <th>0</th>\n",
       "      <td>0.0</td>\n",
       "      <td>3</td>\n",
       "    </tr>\n",
       "    <tr>\n",
       "      <th>1</th>\n",
       "      <td>0.0</td>\n",
       "      <td>3</td>\n",
       "    </tr>\n",
       "    <tr>\n",
       "      <th>2</th>\n",
       "      <td>0.0</td>\n",
       "      <td>3</td>\n",
       "    </tr>\n",
       "    <tr>\n",
       "      <th>3</th>\n",
       "      <td>0.0</td>\n",
       "      <td>3</td>\n",
       "    </tr>\n",
       "  </tbody>\n",
       "</table>\n",
       "<p>256 rows × 2 columns</p>\n",
       "</div>"
      ],
      "text/plain": [
       "    Val  Layer\n",
       "0   0.0      0\n",
       "1   0.0      0\n",
       "2   0.0      0\n",
       "3   0.0      0\n",
       "4   0.0      0\n",
       "..  ...    ...\n",
       "83  0.0      2\n",
       "0   0.0      3\n",
       "1   0.0      3\n",
       "2   0.0      3\n",
       "3   0.0      3\n",
       "\n",
       "[256 rows x 2 columns]"
      ]
     },
     "execution_count": 50,
     "metadata": {},
     "output_type": "execute_result"
    }
   ],
   "source": [
    "biases_grad_df = params_df_flat(biases[\"grad\"])\n",
    "biases_grad_df"
   ]
  },
  {
   "cell_type": "code",
   "execution_count": 51,
   "metadata": {},
   "outputs": [
    {
     "data": {
      "text/html": [
       "<div>\n",
       "<style scoped>\n",
       "    .dataframe tbody tr th:only-of-type {\n",
       "        vertical-align: middle;\n",
       "    }\n",
       "\n",
       "    .dataframe tbody tr th {\n",
       "        vertical-align: top;\n",
       "    }\n",
       "\n",
       "    .dataframe thead th {\n",
       "        text-align: right;\n",
       "    }\n",
       "</style>\n",
       "<table border=\"1\" class=\"dataframe\">\n",
       "  <thead>\n",
       "    <tr style=\"text-align: right;\">\n",
       "      <th></th>\n",
       "      <th>Val</th>\n",
       "      <th>Layer</th>\n",
       "    </tr>\n",
       "  </thead>\n",
       "  <tbody>\n",
       "    <tr>\n",
       "      <th>count</th>\n",
       "      <td>256.0</td>\n",
       "      <td>256.000000</td>\n",
       "    </tr>\n",
       "    <tr>\n",
       "      <th>mean</th>\n",
       "      <td>0.0</td>\n",
       "      <td>1.031250</td>\n",
       "    </tr>\n",
       "    <tr>\n",
       "      <th>std</th>\n",
       "      <td>0.0</td>\n",
       "      <td>0.848875</td>\n",
       "    </tr>\n",
       "    <tr>\n",
       "      <th>min</th>\n",
       "      <td>0.0</td>\n",
       "      <td>0.000000</td>\n",
       "    </tr>\n",
       "    <tr>\n",
       "      <th>25%</th>\n",
       "      <td>0.0</td>\n",
       "      <td>0.000000</td>\n",
       "    </tr>\n",
       "    <tr>\n",
       "      <th>50%</th>\n",
       "      <td>0.0</td>\n",
       "      <td>1.000000</td>\n",
       "    </tr>\n",
       "    <tr>\n",
       "      <th>75%</th>\n",
       "      <td>0.0</td>\n",
       "      <td>2.000000</td>\n",
       "    </tr>\n",
       "    <tr>\n",
       "      <th>max</th>\n",
       "      <td>0.0</td>\n",
       "      <td>3.000000</td>\n",
       "    </tr>\n",
       "  </tbody>\n",
       "</table>\n",
       "</div>"
      ],
      "text/plain": [
       "         Val       Layer\n",
       "count  256.0  256.000000\n",
       "mean     0.0    1.031250\n",
       "std      0.0    0.848875\n",
       "min      0.0    0.000000\n",
       "25%      0.0    0.000000\n",
       "50%      0.0    1.000000\n",
       "75%      0.0    2.000000\n",
       "max      0.0    3.000000"
      ]
     },
     "execution_count": 51,
     "metadata": {},
     "output_type": "execute_result"
    }
   ],
   "source": [
    "biases_grad_df.describe()"
   ]
  },
  {
   "cell_type": "code",
   "execution_count": 52,
   "metadata": {},
   "outputs": [],
   "source": [
    "def check_grad_stats(grad_df):\n",
    "    grad_stats = torch.tensor(\n",
    "        [\n",
    "            grad_df.Val.mean(),\n",
    "            grad_df.Val.std(),\n",
    "            grad_df.Val.min(),\n",
    "            grad_df.Val.max(),\n",
    "        ],\n",
    "        device=device,\n",
    "    )\n",
    "    assert not torch.equal(\n",
    "        torch.zeros_like(grad_stats),\n",
    "        grad_stats,\n",
    "    ), \"Gradients are zero\""
   ]
  },
  {
   "cell_type": "code",
   "execution_count": 53,
   "metadata": {},
   "outputs": [
    {
     "data": {
      "image/png": "[encoded data removed]",
      "text/plain": [
       "<Figure size 1300x500 with 2 Axes>"
      ]
     },
     "metadata": {},
     "output_type": "display_data"
    }
   ],
   "source": [
    "plotting.plot_weights_biases_distributions(\n",
    "    weights_val_df, biases_val_df, label=\"Values\"\n",
    ")"
   ]
  },
  {
   "cell_type": "code",
   "execution_count": 54,
   "metadata": {},
   "outputs": [
    {
     "ename": "AssertionError",
     "evalue": "Gradients are zero",
     "output_type": "error",
     "traceback": [
      "\u001b[0;31m---------------------------------------------------------------------------\u001b[0m",
      "\u001b[0;31mAssertionError\u001b[0m                            Traceback (most recent call last)",
      "Cell \u001b[0;32mIn[54], line 1\u001b[0m\n\u001b[0;32m----> 1\u001b[0m \u001b[43mcheck_grad_stats\u001b[49m\u001b[43m(\u001b[49m\u001b[43mweights_grad_df\u001b[49m\u001b[43m)\u001b[49m\n",
      "Cell \u001b[0;32mIn[52], line 11\u001b[0m, in \u001b[0;36mcheck_grad_stats\u001b[0;34m(grad_df)\u001b[0m\n\u001b[1;32m      1\u001b[0m \u001b[38;5;28;01mdef\u001b[39;00m \u001b[38;5;21mcheck_grad_stats\u001b[39m(grad_df):\n\u001b[1;32m      2\u001b[0m     grad_stats \u001b[38;5;241m=\u001b[39m torch\u001b[38;5;241m.\u001b[39mtensor(\n\u001b[1;32m      3\u001b[0m         [\n\u001b[1;32m      4\u001b[0m             grad_df\u001b[38;5;241m.\u001b[39mVal\u001b[38;5;241m.\u001b[39mmean(),\n\u001b[0;32m   (...)\u001b[0m\n\u001b[1;32m      9\u001b[0m         device\u001b[38;5;241m=\u001b[39mdevice,\n\u001b[1;32m     10\u001b[0m     )\n\u001b[0;32m---> 11\u001b[0m     \u001b[38;5;28;01massert\u001b[39;00m \u001b[38;5;129;01mnot\u001b[39;00m torch\u001b[38;5;241m.\u001b[39mequal(\n\u001b[1;32m     12\u001b[0m         torch\u001b[38;5;241m.\u001b[39mzeros_like(grad_stats),\n\u001b[1;32m     13\u001b[0m         grad_stats,\n\u001b[1;32m     14\u001b[0m     ), \u001b[38;5;124m\"\u001b[39m\u001b[38;5;124mGradients are zero\u001b[39m\u001b[38;5;124m\"\u001b[39m\n",
      "\u001b[0;31mAssertionError\u001b[0m: Gradients are zero"
     ]
    }
   ],
   "source": [
    "check_grad_stats(weights_grad_df)"
   ]
  },
  {
   "cell_type": "code",
   "execution_count": null,
   "metadata": {},
   "outputs": [],
   "source": [
    "check_grad_stats(biases_grad_df)"
   ]
  },
  {
   "cell_type": "code",
   "execution_count": null,
   "metadata": {},
   "outputs": [],
   "source": [
    "plotting.plot_weights_biases_distributions(\n",
    "    weights_grad_df, biases_grad_df, label=\"Gradients\"\n",
    ")"
   ]
  },
  {
   "cell_type": "code",
   "execution_count": null,
   "metadata": {},
   "outputs": [],
   "source": [
    "weights_val_stats"
   ]
  },
  {
   "cell_type": "code",
   "execution_count": null,
   "metadata": {},
   "outputs": [],
   "source": [
    "biases_val_stats"
   ]
  },
  {
   "cell_type": "code",
   "execution_count": null,
   "metadata": {},
   "outputs": [],
   "source": [
    "weights_grad_stats"
   ]
  },
  {
   "cell_type": "code",
   "execution_count": null,
   "metadata": {},
   "outputs": [],
   "source": [
    "biases_grad_stats"
   ]
  },
  {
   "cell_type": "code",
   "execution_count": null,
   "metadata": {},
   "outputs": [],
   "source": [
    "def plot_weights_biases_stats(weights_stats, biases_stats, label=None):\n",
    "    fig, ax = plt.subplots(nrows=2, ncols=2, figsize=(13, 8))\n",
    "\n",
    "    if label:\n",
    "        ax[0, 0].set_title(\"Weights \" + label)\n",
    "    else:\n",
    "        ax[0, 0].set_title(\"Weights\")\n",
    "    ax[0, 0].set_xlabel(\"Episodes\")\n",
    "    palette = sns.color_palette()[0 : len(weights_stats.Layer.unique())]\n",
    "    sns.lineplot(\n",
    "        data=weights_stats,\n",
    "        x=\"Index\",\n",
    "        y=\"Std\",\n",
    "        hue=\"Layer\",\n",
    "        palette=palette,\n",
    "        ax=ax[0, 0],\n",
    "    )\n",
    "    ax[0, 0].set(yscale=\"log\")\n",
    "\n",
    "    if label:\n",
    "        ax[0, 1].set_title(\"Weights \" + label)\n",
    "    else:\n",
    "        ax[0, 1].set_title(\"Weights\")\n",
    "    ax[0, 1].set_xlabel(\"Episodes\")\n",
    "    palette = sns.color_palette()[0 : len(weights_stats.Layer.unique())]\n",
    "    sns.lineplot(\n",
    "        data=weights_stats,\n",
    "        x=\"Index\",\n",
    "        y=\"Avg\",\n",
    "        hue=\"Layer\",\n",
    "        palette=palette,\n",
    "        ax=ax[0, 1],\n",
    "    )\n",
    "    ax[0, 1].set(yscale=\"log\")\n",
    "\n",
    "    if label:\n",
    "        ax[1, 0].set_title(\"Biases \" + label)\n",
    "    else:\n",
    "        ax[1, 0].set_title(\"Biases\")\n",
    "    ax[1, 0].set_xlabel(\"Episodes\")\n",
    "    palette = sns.color_palette()[0 : len(biases_stats.Layer.unique())]\n",
    "    sns.lineplot(\n",
    "        data=biases_stats,\n",
    "        x=\"Index\",\n",
    "        y=\"Std\",\n",
    "        hue=\"Layer\",\n",
    "        palette=palette,\n",
    "        ax=ax[1, 0],\n",
    "    )\n",
    "    ax[1, 0].set(yscale=\"log\")\n",
    "\n",
    "    if label:\n",
    "        ax[1, 1].set_title(\"Biases \" + label)\n",
    "    else:\n",
    "        ax[1, 1].set_title(\"Biases\")\n",
    "    ax[1, 1].set_xlabel(\"Episodes\")\n",
    "    palette = sns.color_palette()[0 : len(biases_stats.Layer.unique())]\n",
    "    sns.lineplot(\n",
    "        data=biases_stats,\n",
    "        x=\"Index\",\n",
    "        y=\"Avg\",\n",
    "        hue=\"Layer\",\n",
    "        palette=palette,\n",
    "        ax=ax[1, 1],\n",
    "    )\n",
    "    ax[1, 1].set(yscale=\"log\")\n",
    "\n",
    "    fig.tight_layout()\n",
    "    plt.show()"
   ]
  },
  {
   "cell_type": "code",
   "execution_count": null,
   "metadata": {},
   "outputs": [],
   "source": [
    "plot_weights_biases_stats(weights_val_stats, biases_val_stats, label=\"values\")"
   ]
  },
  {
   "cell_type": "code",
   "execution_count": null,
   "metadata": {},
   "outputs": [],
   "source": [
    "plot_weights_biases_stats(weights_grad_stats, biases_grad_stats, label=\"gradients\")"
   ]
  },
  {
   "cell_type": "code",
   "execution_count": null,
   "metadata": {},
   "outputs": [],
   "source": []
  }
 ],
 "metadata": {
  "accelerator": "GPU",
  "colab": {
   "provenance": []
  },
  "kernelspec": {
   "display_name": "Python 3 (ipykernel)",
   "language": "python",
   "name": "python3"
  },
  "language_info": {
   "codemirror_mode": {
    "name": "ipython",
    "version": 3
   },
   "file_extension": ".py",
   "mimetype": "text/x-python",
   "name": "python",
   "nbconvert_exporter": "python",
   "pygments_lexer": "ipython3",
   "version": "3.11.7"
  }
 },
 "nbformat": 4,
 "nbformat_minor": 4
}
