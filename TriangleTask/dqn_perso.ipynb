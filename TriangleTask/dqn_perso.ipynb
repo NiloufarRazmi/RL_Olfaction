{
 "cells": [
  {
   "cell_type": "markdown",
   "metadata": {},
   "source": [
    "# DQN"
   ]
  },
  {
   "cell_type": "markdown",
   "metadata": {},
   "source": [
    "## Setup"
   ]
  },
  {
   "cell_type": "markdown",
   "metadata": {
    "id": "54AIvDov_7aa"
   },
   "source": [
    "### Initialization"
   ]
  },
  {
   "cell_type": "code",
   "execution_count": 1,
   "metadata": {
    "colab": {
     "base_uri": "https://localhost:8080/"
    },
    "id": "gxxpHDIs_lvg",
    "outputId": "412c65c1-7c24-4b9a-f5cf-8f98dd648fe4",
    "tags": []
   },
   "outputs": [],
   "source": [
    "import datetime\n",
    "import logging\n",
    "import shutil\n",
    "from collections import deque, namedtuple, OrderedDict\n",
    "from pathlib import Path\n",
    "\n",
    "import matplotlib as mpl\n",
    "import matplotlib.pyplot as plt\n",
    "\n",
    "# import matplotlib.ticker as ticker\n",
    "import numpy as np\n",
    "import pandas as pd\n",
    "import seaborn as sns\n",
    "import ipdb"
   ]
  },
  {
   "cell_type": "code",
   "execution_count": 2,
   "metadata": {
    "colab": {
     "base_uri": "https://localhost:8080/"
    },
    "id": "gxxpHDIs_lvg",
    "outputId": "412c65c1-7c24-4b9a-f5cf-8f98dd648fe4",
    "tags": []
   },
   "outputs": [
    {
     "data": {
      "text/plain": [
       "device(type='cpu')"
      ]
     },
     "execution_count": 2,
     "metadata": {},
     "output_type": "execute_result"
    }
   ],
   "source": [
    "import torch\n",
    "import torch.nn as nn\n",
    "import torch.optim as optim\n",
    "from tqdm import tqdm\n",
    "\n",
    "# from torchinfo import summary\n",
    "\n",
    "# if GPU is to be used\n",
    "DEVICE = torch.device(\"cuda\" if torch.cuda.is_available() else \"cpu\")\n",
    "DEVICE"
   ]
  },
  {
   "cell_type": "code",
   "execution_count": 3,
   "metadata": {
    "tags": []
   },
   "outputs": [],
   "source": [
    "import plotting\n",
    "\n",
    "# from environment_lights_tensor import (\n",
    "#     WrappedEnvironment,\n",
    "#     Actions,\n",
    "#     CONTEXTS_LABELS,\n",
    "#     OdorCues,\n",
    "#     LightCues,\n",
    "# )\n",
    "from agent_tensor import EpsilonGreedy\n",
    "from environment_tensor import (\n",
    "    CONTEXTS_LABELS,\n",
    "    Actions,\n",
    "    Cues,\n",
    "    WrappedEnvironment,\n",
    "    TriangleState,\n",
    ")\n",
    "from utils import Params, make_deterministic, random_choice"
   ]
  },
  {
   "cell_type": "code",
   "execution_count": 4,
   "metadata": {
    "colab": {
     "base_uri": "https://localhost:8080/"
    },
    "id": "gxxpHDIs_lvg",
    "outputId": "412c65c1-7c24-4b9a-f5cf-8f98dd648fe4",
    "tags": []
   },
   "outputs": [],
   "source": [
    "# Formatting & autoreload stuff\n",
    "%load_ext lab_black\n",
    "%load_ext autoreload\n",
    "%autoreload 2\n",
    "# %matplotlib ipympl"
   ]
  },
  {
   "cell_type": "code",
   "execution_count": 5,
   "metadata": {
    "colab": {
     "base_uri": "https://localhost:8080/"
    },
    "id": "gxxpHDIs_lvg",
    "outputId": "412c65c1-7c24-4b9a-f5cf-8f98dd648fe4",
    "tags": []
   },
   "outputs": [
    {
     "name": "stdout",
     "output_type": "stream",
     "text": [
      "/home/kir0ul/texlive/2023/bin/x86_64-linux/latex\n"
     ]
    }
   ],
   "source": [
    "sns.set_theme(font_scale=1.5)\n",
    "# plt.style.use(\"ggplot\")\n",
    "print(shutil.which(\"latex\"))\n",
    "USETEX = True if shutil.which(\"latex\") else False\n",
    "mpl.rcParams[\"text.usetex\"] = USETEX\n",
    "if USETEX:\n",
    "    mpl.rcParams[\"font.family\"] = [\"serif\"]\n",
    "else:\n",
    "    mpl.rcParams[\"font.family\"] = [\"sans-serif\"]\n",
    "    mpl.rcParams[\"font.sans-serif\"] = [\n",
    "        \"Fira Sans\",\n",
    "        \"Computer Modern Sans Serif\",\n",
    "        \"DejaVu Sans\",\n",
    "        \"Verdana\",\n",
    "        \"Arial\",\n",
    "        \"Helvetica\",\n",
    "    ]"
   ]
  },
  {
   "cell_type": "markdown",
   "metadata": {
    "id": "54AIvDov_7aa"
   },
   "source": [
    "### Save directory"
   ]
  },
  {
   "cell_type": "code",
   "execution_count": 6,
   "metadata": {},
   "outputs": [
    {
     "data": {
      "text/plain": [
       "'2024-04-19_16-30-46'"
      ]
     },
     "execution_count": 6,
     "metadata": {},
     "output_type": "execute_result"
    }
   ],
   "source": [
    "now = datetime.datetime.now().strftime(\"%Y-%m-%d_%H-%M-%S\")\n",
    "now"
   ]
  },
  {
   "cell_type": "code",
   "execution_count": 7,
   "metadata": {},
   "outputs": [],
   "source": [
    "EXP_TAG = \"scratch\""
   ]
  },
  {
   "cell_type": "code",
   "execution_count": 8,
   "metadata": {},
   "outputs": [
    {
     "name": "stdout",
     "output_type": "stream",
     "text": [
      "Save path: `/home/kir0ul/Projects/RL_Olfaction/TriangleTask/save/2024-04-19_16-30-46_scratch`\n"
     ]
    }
   ],
   "source": [
    "ROOT_PATH = Path(\"env\").parent\n",
    "SAVE_PATH = ROOT_PATH / \"save\"\n",
    "folder = f\"{now}_{EXP_TAG}\" if EXP_TAG else now\n",
    "CURRENT_PATH = SAVE_PATH / folder\n",
    "CURRENT_PATH.mkdir(parents=True, exist_ok=True)  # Create the tree of directories\n",
    "print(f\"Save path: `{CURRENT_PATH.absolute()}`\")"
   ]
  },
  {
   "cell_type": "code",
   "execution_count": 9,
   "metadata": {},
   "outputs": [],
   "source": [
    "# Configure logging\n",
    "logfile = CURRENT_PATH / \"training.log\"\n",
    "logger = logging.getLogger(__name__)\n",
    "logger.setLevel(logging.DEBUG)\n",
    "handler = logging.FileHandler(logfile)\n",
    "formatter = logging.Formatter(\n",
    "    \"%(asctime)s : %(name)s  : %(funcName)s : %(levelname)s : %(message)s\"\n",
    ")\n",
    "handler.setFormatter(formatter)\n",
    "logger.addHandler(handler)"
   ]
  },
  {
   "cell_type": "markdown",
   "metadata": {},
   "source": [
    "### Parameters"
   ]
  },
  {
   "cell_type": "code",
   "execution_count": 10,
   "metadata": {
    "id": "NP28hCqLiVSy"
   },
   "outputs": [
    {
     "data": {
      "text/plain": [
       "Params(seed=None, n_runs=1, total_episodes=60, epsilon=0.5, epsilon_min=0.2, epsilon_max=1.0, decay_rate=0.01, epsilon_warmup=100, gamma=0.99, alpha=0.0001, nLayers=5, nHiddenUnits=128, n_observations=None, n_actions=None, replay_buffer_max_size=5000, batch_size=32, target_net_update=100, tau=0.005)"
      ]
     },
     "execution_count": 10,
     "metadata": {},
     "output_type": "execute_result"
    }
   ],
   "source": [
    "p = Params(\n",
    "    # seed=42,\n",
    "    # seed=123,\n",
    "    n_runs=1,\n",
    "    total_episodes=60,\n",
    "    epsilon=0.5,\n",
    "    alpha=1e-4,\n",
    "    gamma=0.99,\n",
    "    # nHiddenUnits=(5 * 5 + 3) * 5,\n",
    "    nHiddenUnits=128,\n",
    "    replay_buffer_max_size=5000,\n",
    "    epsilon_min=0.2,\n",
    "    epsilon_max=1.0,\n",
    "    decay_rate=0.01,\n",
    "    epsilon_warmup=100,\n",
    "    batch_size=32,\n",
    "    # target_net_update=200,\n",
    "    tau=0.005,\n",
    ")\n",
    "p"
   ]
  },
  {
   "cell_type": "code",
   "execution_count": 11,
   "metadata": {},
   "outputs": [],
   "source": [
    "if p.batch_size < 2:\n",
    "    raise ValueError(\"The batch size needs to be more that one data point\")"
   ]
  },
  {
   "cell_type": "code",
   "execution_count": 12,
   "metadata": {
    "id": "NP28hCqLiVSy"
   },
   "outputs": [],
   "source": [
    "# Set the seed\n",
    "GENERATOR = make_deterministic(seed=p.seed)"
   ]
  },
  {
   "cell_type": "markdown",
   "metadata": {
    "id": "0fz-X3HTQueX"
   },
   "source": [
    "### Environment definition"
   ]
  },
  {
   "cell_type": "code",
   "execution_count": 13,
   "metadata": {
    "tags": []
   },
   "outputs": [],
   "source": [
    "# Load the environment\n",
    "env = WrappedEnvironment(one_hot_state=True, seed=p.seed)"
   ]
  },
  {
   "cell_type": "code",
   "execution_count": 14,
   "metadata": {},
   "outputs": [
    {
     "name": "stdout",
     "output_type": "stream",
     "text": [
      "Number of actions: 4\n",
      "Number of observations: 28\n"
     ]
    }
   ],
   "source": [
    "# Get number of actions\n",
    "# n_actions = env.action_space.n\n",
    "p.n_actions = env.numActions\n",
    "\n",
    "# Get the number of state observations\n",
    "# state, info = env.reset()\n",
    "state = env.reset()\n",
    "p.n_observations = len(state)\n",
    "\n",
    "print(f\"Number of actions: {p.n_actions}\")\n",
    "print(f\"Number of observations: {p.n_observations}\")"
   ]
  },
  {
   "cell_type": "markdown",
   "metadata": {},
   "source": [
    "### Network definition"
   ]
  },
  {
   "cell_type": "code",
   "execution_count": 15,
   "metadata": {
    "tags": []
   },
   "outputs": [],
   "source": [
    "ENCODER_NEURONS_NUM = 5\n",
    "\n",
    "\n",
    "class DQN(nn.Module):\n",
    "    def __init__(self, n_observations, n_actions, n_units=16):\n",
    "        super(DQN, self).__init__()\n",
    "        self.mlp = nn.Sequential(\n",
    "            nn.Linear(n_observations, n_units),\n",
    "            nn.ReLU(),\n",
    "            nn.Linear(n_units, n_units),\n",
    "            nn.ReLU(),\n",
    "            nn.Linear(n_units, ENCODER_NEURONS_NUM),\n",
    "            nn.ReLU(),\n",
    "            nn.Linear(ENCODER_NEURONS_NUM, n_units),\n",
    "            nn.ReLU(),\n",
    "            nn.Linear(n_units, n_units),\n",
    "            nn.ReLU(),\n",
    "            nn.Linear(n_units, n_actions),\n",
    "            # nn.ReLU(),\n",
    "        )\n",
    "\n",
    "    def forward(self, x):\n",
    "        return self.mlp(x)"
   ]
  },
  {
   "cell_type": "code",
   "execution_count": 16,
   "metadata": {
    "tags": []
   },
   "outputs": [],
   "source": [
    "def neural_network():\n",
    "    # if env.one_hot_state:\n",
    "    #     net = DQN(\n",
    "    #         n_observations=p.n_observations,\n",
    "    #         n_actions=p.n_actions,\n",
    "    #         n_units=4 * p.n_observations,\n",
    "    #     ).to(DEVICE)\n",
    "    # else:\n",
    "    #     net = DQN(\n",
    "    #         n_observations=p.n_observations,\n",
    "    #         n_actions=p.n_actions,\n",
    "    #         n_units=p.nHiddenUnits,\n",
    "    #     ).to(DEVICE)\n",
    "    # net\n",
    "\n",
    "    net = DQN(\n",
    "        n_observations=p.n_observations,\n",
    "        n_actions=p.n_actions,\n",
    "        n_units=p.nHiddenUnits,\n",
    "    ).to(DEVICE)\n",
    "\n",
    "    target_net = DQN(\n",
    "        n_observations=p.n_observations,\n",
    "        n_actions=p.n_actions,\n",
    "        n_units=p.nHiddenUnits,\n",
    "    ).to(DEVICE)\n",
    "\n",
    "    target_net.load_state_dict(net.state_dict())\n",
    "\n",
    "    return net, target_net"
   ]
  },
  {
   "cell_type": "code",
   "execution_count": 17,
   "metadata": {
    "tags": []
   },
   "outputs": [
    {
     "data": {
      "text/plain": [
       "(DQN(\n",
       "   (mlp): Sequential(\n",
       "     (0): Linear(in_features=28, out_features=128, bias=True)\n",
       "     (1): ReLU()\n",
       "     (2): Linear(in_features=128, out_features=128, bias=True)\n",
       "     (3): ReLU()\n",
       "     (4): Linear(in_features=128, out_features=5, bias=True)\n",
       "     (5): ReLU()\n",
       "     (6): Linear(in_features=5, out_features=128, bias=True)\n",
       "     (7): ReLU()\n",
       "     (8): Linear(in_features=128, out_features=128, bias=True)\n",
       "     (9): ReLU()\n",
       "     (10): Linear(in_features=128, out_features=4, bias=True)\n",
       "   )\n",
       " ),\n",
       " DQN(\n",
       "   (mlp): Sequential(\n",
       "     (0): Linear(in_features=28, out_features=128, bias=True)\n",
       "     (1): ReLU()\n",
       "     (2): Linear(in_features=128, out_features=128, bias=True)\n",
       "     (3): ReLU()\n",
       "     (4): Linear(in_features=128, out_features=5, bias=True)\n",
       "     (5): ReLU()\n",
       "     (6): Linear(in_features=5, out_features=128, bias=True)\n",
       "     (7): ReLU()\n",
       "     (8): Linear(in_features=128, out_features=128, bias=True)\n",
       "     (9): ReLU()\n",
       "     (10): Linear(in_features=128, out_features=4, bias=True)\n",
       "   )\n",
       " ))"
      ]
     },
     "execution_count": 17,
     "metadata": {},
     "output_type": "execute_result"
    }
   ],
   "source": [
    "net, target_net = neural_network()\n",
    "net, target_net"
   ]
  },
  {
   "cell_type": "code",
   "execution_count": 18,
   "metadata": {},
   "outputs": [],
   "source": [
    "weights_untrained = [layer.detach() for layer in net.parameters()]"
   ]
  },
  {
   "cell_type": "code",
   "execution_count": 19,
   "metadata": {},
   "outputs": [
    {
     "name": "stdout",
     "output_type": "stream",
     "text": [
      "\n",
      "\n",
      "Parameters sizes summary:\n",
      "[torch.Size([128, 28]), torch.Size([128]), torch.Size([128, 128]), torch.Size([128]), torch.Size([5, 128]), torch.Size([5]), torch.Size([128, 5]), torch.Size([128]), torch.Size([128, 128]), torch.Size([128]), torch.Size([4, 128]), torch.Size([4])]\n"
     ]
    }
   ],
   "source": [
    "# print(\"Model parameters:\")\n",
    "# print(list(net.parameters()))\n",
    "print(\"\\n\\nParameters sizes summary:\")\n",
    "print([item.shape for item in net.parameters()])"
   ]
  },
  {
   "cell_type": "code",
   "execution_count": 20,
   "metadata": {},
   "outputs": [],
   "source": [
    "# summary(net, input_size=[state.shape], verbose=0)"
   ]
  },
  {
   "cell_type": "markdown",
   "metadata": {},
   "source": [
    "### Optimizer"
   ]
  },
  {
   "cell_type": "code",
   "execution_count": 21,
   "metadata": {},
   "outputs": [
    {
     "data": {
      "text/plain": [
       "AdamW (\n",
       "Parameter Group 0\n",
       "    amsgrad: True\n",
       "    betas: (0.9, 0.999)\n",
       "    capturable: False\n",
       "    differentiable: False\n",
       "    eps: 1e-08\n",
       "    foreach: None\n",
       "    fused: None\n",
       "    lr: 0.0001\n",
       "    maximize: False\n",
       "    weight_decay: 0.01\n",
       ")"
      ]
     },
     "execution_count": 21,
     "metadata": {},
     "output_type": "execute_result"
    }
   ],
   "source": [
    "optimizer = optim.AdamW(net.parameters(), lr=p.alpha, amsgrad=True)\n",
    "optimizer"
   ]
  },
  {
   "cell_type": "markdown",
   "metadata": {},
   "source": [
    "### Explorer"
   ]
  },
  {
   "cell_type": "code",
   "execution_count": 22,
   "metadata": {},
   "outputs": [],
   "source": [
    "explorer = EpsilonGreedy(\n",
    "    epsilon=p.epsilon_max,\n",
    "    epsilon_min=p.epsilon_min,\n",
    "    epsilon_max=p.epsilon_max,\n",
    "    decay_rate=p.decay_rate,\n",
    "    epsilon_warmup=p.epsilon_warmup,\n",
    "    seed=p.seed,\n",
    ")\n",
    "episodes = torch.arange(p.total_episodes, device=DEVICE)\n",
    "epsilons = torch.empty_like(episodes, device=DEVICE) * torch.nan\n",
    "for eps_i, epsi in enumerate(epsilons):\n",
    "    epsilons[eps_i] = explorer.epsilon\n",
    "    explorer.epsilon = explorer.update_epsilon(episodes[eps_i])"
   ]
  },
  {
   "cell_type": "code",
   "execution_count": 23,
   "metadata": {},
   "outputs": [
    {
     "data": {
      "image/png": "[encoded data removed]",
      "text/plain": [
       "<Figure size 640x480 with 1 Axes>"
      ]
     },
     "metadata": {},
     "output_type": "display_data"
    }
   ],
   "source": [
    "fig, ax = plt.subplots()\n",
    "sns.lineplot(epsilons.cpu())\n",
    "ax.set(ylabel=\"Epsilon\")\n",
    "ax.set(xlabel=\"Episodes\")\n",
    "fig.tight_layout()\n",
    "plt.show()"
   ]
  },
  {
   "cell_type": "code",
   "execution_count": 24,
   "metadata": {},
   "outputs": [],
   "source": [
    "def collect_weights_biases(net):\n",
    "    biases = {\"val\": [], \"grad\": []}\n",
    "    weights = {\"val\": [], \"grad\": []}\n",
    "    for layer in net.mlp.children():\n",
    "        layer_params = layer.parameters()\n",
    "        for idx, subparams in enumerate(layer_params):\n",
    "            if idx > 2:\n",
    "                raise ValueError(\n",
    "                    \"There should be max 2 sets of parameters: weights and biases\"\n",
    "                )\n",
    "            if len(subparams.shape) > 2:\n",
    "                raise ValueError(\"The weights have more dimensions than expected\")\n",
    "\n",
    "            if len(subparams.shape) == 1:\n",
    "                biases[\"val\"].append(subparams)\n",
    "                biases[\"grad\"].append(subparams.grad)\n",
    "            elif len(subparams.shape) == 2:\n",
    "                weights[\"val\"].append(subparams)\n",
    "                weights[\"grad\"].append(subparams.grad)\n",
    "    return weights, biases"
   ]
  },
  {
   "cell_type": "code",
   "execution_count": 25,
   "metadata": {},
   "outputs": [],
   "source": [
    "def params_df_stats(weights, key, current_df=None):\n",
    "    if current_df is not None:\n",
    "        last_idx = current_df.index[-1] + 1\n",
    "        df = current_df\n",
    "    else:\n",
    "        last_idx = 0\n",
    "        df = None\n",
    "\n",
    "    for idx, val in enumerate(weights[key]):\n",
    "        tmp_df = pd.DataFrame(\n",
    "            data={\n",
    "                \"Std\": val.detach().cpu().std().item(),\n",
    "                \"Avg\": val.detach().cpu().mean().item(),\n",
    "                \"Layer\": idx,\n",
    "                \"Index\": [last_idx + idx],\n",
    "            },\n",
    "            index=[last_idx + idx],\n",
    "        )\n",
    "\n",
    "        if df is None:\n",
    "            df = tmp_df\n",
    "        else:\n",
    "            df = pd.concat((df, tmp_df))\n",
    "    return df"
   ]
  },
  {
   "cell_type": "markdown",
   "metadata": {},
   "source": [
    "## Training"
   ]
  },
  {
   "cell_type": "code",
   "execution_count": 26,
   "metadata": {},
   "outputs": [],
   "source": [
    "Transition = namedtuple(\n",
    "    \"Transition\", (\"state\", \"action\", \"reward\", \"next_state\", \"done\")\n",
    ")"
   ]
  },
  {
   "cell_type": "markdown",
   "metadata": {},
   "source": [
    "### Main loop"
   ]
  },
  {
   "cell_type": "code",
   "execution_count": 27,
   "metadata": {
    "colab": {
     "base_uri": "https://localhost:8080/"
    },
    "id": "uyEdi0gGiV1z",
    "outputId": "b644224d-13ff-4806-d751-0088efc24f85",
    "scrolled": true
   },
   "outputs": [
    {
     "name": "stderr",
     "output_type": "stream",
     "text": [
      "                                                                                                                      \r"
     ]
    }
   ],
   "source": [
    "rewards = torch.zeros((p.total_episodes, p.n_runs), device=DEVICE)\n",
    "steps = torch.zeros((p.total_episodes, p.n_runs), device=DEVICE)\n",
    "episodes = torch.arange(p.total_episodes, device=DEVICE)\n",
    "# all_states = []\n",
    "all_actions = []\n",
    "losses = [[] for _ in range(p.n_runs)]\n",
    "\n",
    "for run in range(p.n_runs):  # Run several times to account for stochasticity\n",
    "    # Reset everything\n",
    "    net, target_net = neural_network()  # Reset weights\n",
    "    optimizer = optim.AdamW(net.parameters(), lr=p.alpha, amsgrad=True)\n",
    "    explorer = EpsilonGreedy(\n",
    "        epsilon=p.epsilon_max,\n",
    "        epsilon_min=p.epsilon_min,\n",
    "        epsilon_max=p.epsilon_max,\n",
    "        decay_rate=p.decay_rate,\n",
    "        epsilon_warmup=p.epsilon_warmup,\n",
    "    )\n",
    "    weights_val_stats = None\n",
    "    biases_val_stats = None\n",
    "    weights_grad_stats = None\n",
    "    biases_grad_stats = None\n",
    "    replay_buffer = deque([], maxlen=p.replay_buffer_max_size)\n",
    "    epsilons = []\n",
    "\n",
    "    for episode in tqdm(\n",
    "        episodes, desc=f\"Run {run+1}/{p.n_runs} - Episodes\", leave=False\n",
    "    ):\n",
    "        state = env.reset()  # Reset the environment\n",
    "        state = state.clone().float().detach().to(DEVICE)\n",
    "        step_count = 0\n",
    "        done = False\n",
    "        total_rewards = 0\n",
    "        loss = torch.ones(1, device=DEVICE) * torch.nan\n",
    "\n",
    "        while not done:\n",
    "            state_action_values = net(state).to(DEVICE)  # Q(s_t)\n",
    "            action = explorer.choose_action(\n",
    "                action_space=env.action_space,\n",
    "                state=state,\n",
    "                state_action_values=state_action_values,\n",
    "            ).item()\n",
    "\n",
    "            # Record states and actions\n",
    "            # all_states.append(state)\n",
    "            # all_actions.append(Actions(action.item()).name)\n",
    "            all_actions.append(Actions(action).name)\n",
    "\n",
    "            next_state, reward, done = env.step(action=action, current_state=state)\n",
    "\n",
    "            # Store transition in replay buffer\n",
    "            # [current_state (2 or 28 x1), action (1x1), next_state (2 or 28 x1), reward (1x1), done (1x1 bool)]\n",
    "            done = torch.tensor(done, device=DEVICE).unsqueeze(-1)\n",
    "            replay_buffer.append(\n",
    "                Transition(\n",
    "                    state,\n",
    "                    action,\n",
    "                    reward,\n",
    "                    next_state,\n",
    "                    done,\n",
    "                )\n",
    "            )\n",
    "\n",
    "            # Start training when `replay_buffer` is full\n",
    "            if len(replay_buffer) == p.replay_buffer_max_size:\n",
    "                transitions = random_choice(\n",
    "                    replay_buffer,\n",
    "                    length=len(replay_buffer),\n",
    "                    num_samples=p.batch_size,\n",
    "                    generator=GENERATOR,\n",
    "                )\n",
    "                batch = Transition(*zip(*transitions, strict=True))\n",
    "                state_batch = torch.stack(batch.state)\n",
    "                action_batch = torch.tensor(batch.action, device=DEVICE)\n",
    "                reward_batch = torch.cat(batch.reward)\n",
    "                next_state_batch = torch.stack(batch.next_state)\n",
    "                done_batch = torch.cat(batch.done)\n",
    "\n",
    "                # See DQN paper for equations: https://doi.org/10.1038/nature14236\n",
    "                state_action_values_sampled = net(state_batch).to(DEVICE)  # Q(s_t)\n",
    "                state_action_values = torch.gather(\n",
    "                    input=state_action_values_sampled,\n",
    "                    dim=1,\n",
    "                    index=action_batch.unsqueeze(-1),\n",
    "                ).squeeze()  # Q(s_t, a)\n",
    "\n",
    "                # done_false = torch.argwhere(done_batch == False).squeeze()\n",
    "                # done_true = torch.argwhere(done_batch == True).squeeze()\n",
    "                # expected_state_action_values = (\n",
    "                #     torch.zeros_like(done_batch, device=DEVICE)\n",
    "                # ).float()\n",
    "                # with torch.no_grad():\n",
    "                #     if done_true.numel() > 0:\n",
    "                #         expected_state_action_values[done_true] = reward_batch[\n",
    "                #             done_true\n",
    "                #         ]\n",
    "                #     if done_false.numel() > 0:\n",
    "                #         next_state_values = (\n",
    "                #             target_net(next_state_batch[done_false]).to(DEVICE).max(1)\n",
    "                #         )  # Q(s_t+1, a)\n",
    "                #         expected_state_action_values[done_false] = (\n",
    "                #             reward_batch[done_false]\n",
    "                #             + p.gamma * next_state_values.values\n",
    "                #         )  # y_j (Bellman optimality equation)\n",
    "\n",
    "                # Compute a mask of non-final states and concatenate the batch elements\n",
    "                # (a final state would've been the one after which simulation ended)\n",
    "                non_final_mask = torch.tensor(\n",
    "                    tuple(map(lambda s: s == False, batch.done)),\n",
    "                    device=DEVICE,\n",
    "                    dtype=torch.bool,\n",
    "                )\n",
    "                non_final_next_states = torch.stack(\n",
    "                    [s[1] for s in zip(batch.done, batch.next_state) if s[0] == False]\n",
    "                )\n",
    "\n",
    "                # Compute V(s_{t+1}) for all next states.\n",
    "                # Expected values of actions for non_final_next_states are computed based\n",
    "                # on the \"older\" target_net; selecting their best reward with max(1).values\n",
    "                # This is merged based on the mask, such that we'll have either the expected\n",
    "                # state value or 0 in case the state was final.\n",
    "                next_state_values = torch.zeros(p.batch_size, device=DEVICE)\n",
    "                if non_final_next_states.numel() > 0 and non_final_mask.numel() > 0:\n",
    "                    with torch.no_grad():\n",
    "                        next_state_values[non_final_mask] = (\n",
    "                            target_net(non_final_next_states).max(1).values\n",
    "                        )\n",
    "                # Compute the expected Q values\n",
    "                expected_state_action_values = reward_batch + (\n",
    "                    next_state_values * p.gamma\n",
    "                )\n",
    "\n",
    "                # Compute loss\n",
    "                # criterion = nn.MSELoss()\n",
    "                criterion = nn.SmoothL1Loss()\n",
    "                loss = criterion(\n",
    "                    input=state_action_values,  # prediction\n",
    "                    target=expected_state_action_values,  # target/\"truth\" value\n",
    "                )  # TD update\n",
    "\n",
    "                # Optimize the model\n",
    "                optimizer.zero_grad()\n",
    "                loss.backward()\n",
    "                torch.nn.utils.clip_grad_value_(\n",
    "                    net.parameters(), 100\n",
    "                )  # In-place gradient clipping\n",
    "                optimizer.step()\n",
    "\n",
    "                # # Reset the target network\n",
    "                # if step_count % p.target_net_update == 0:\n",
    "                #     target_net.load_state_dict(net.state_dict())\n",
    "\n",
    "                # Soft update of the target network's weights\n",
    "                # θ′ ← τ θ + (1 −τ )θ′\n",
    "                target_net_state_dict = target_net.state_dict()\n",
    "                net_state_dict = net.state_dict()\n",
    "                for key in net_state_dict:\n",
    "                    target_net_state_dict[key] = net_state_dict[\n",
    "                        key\n",
    "                    ] * p.tau + target_net_state_dict[key] * (1 - p.tau)\n",
    "                target_net.load_state_dict(target_net_state_dict)\n",
    "\n",
    "                losses[run].append(loss.item())\n",
    "\n",
    "                weights, biases = collect_weights_biases(net=net)\n",
    "                weights_val_stats = params_df_stats(\n",
    "                    weights, key=\"val\", current_df=weights_grad_stats\n",
    "                )\n",
    "                biases_val_stats = params_df_stats(\n",
    "                    biases, key=\"val\", current_df=biases_val_stats\n",
    "                )\n",
    "                biases_grad_stats = params_df_stats(\n",
    "                    biases, key=\"grad\", current_df=biases_grad_stats\n",
    "                )\n",
    "                weights_grad_stats = params_df_stats(\n",
    "                    weights, key=\"grad\", current_df=weights_val_stats\n",
    "                )\n",
    "\n",
    "            total_rewards += reward\n",
    "            step_count += 1\n",
    "\n",
    "            # Move to the next state\n",
    "            state = next_state\n",
    "\n",
    "            explorer.epsilon = explorer.update_epsilon(episode)\n",
    "            epsilons.append(explorer.epsilon)\n",
    "\n",
    "        rewards[episode, run] = total_rewards\n",
    "        steps[episode, run] = step_count\n",
    "        logger.info(\n",
    "            f\"Run: {run+1}/{p.n_runs} - Episode: {episode+1}/{p.total_episodes} - Steps: {step_count} - Loss: {loss.item()}\"\n",
    "        )\n",
    "    weights_val_stats.set_index(\"Index\", inplace=True)\n",
    "    biases_val_stats.set_index(\"Index\", inplace=True)\n",
    "    biases_grad_stats.set_index(\"Index\", inplace=True)\n",
    "    weights_grad_stats.set_index(\"Index\", inplace=True)"
   ]
  },
  {
   "cell_type": "markdown",
   "metadata": {},
   "source": [
    "### Save data to disk"
   ]
  },
  {
   "cell_type": "code",
   "execution_count": 28,
   "metadata": {},
   "outputs": [],
   "source": [
    "data_path = CURRENT_PATH / \"data.npz\"\n",
    "with open(data_path, \"wb\") as fhd:\n",
    "    np.savez(\n",
    "        fhd,\n",
    "        rewards=rewards.cpu(),\n",
    "        steps=steps.cpu(),\n",
    "        episodes=episodes.cpu(),\n",
    "        all_actions=all_actions,\n",
    "        losses=losses,\n",
    "        p=p,\n",
    "    )"
   ]
  },
  {
   "cell_type": "code",
   "execution_count": 29,
   "metadata": {},
   "outputs": [],
   "source": [
    "# data_path = CURRENT_PATH / \"data.pkl\"\n",
    "# with open(data_path, \"wb\") as fhd:\n",
    "#     pickle.dump(\n",
    "#         [\n",
    "#             rewards,\n",
    "#             steps,\n",
    "#             episodes,\n",
    "#             all_actions,\n",
    "#             losses,\n",
    "#             p,\n",
    "#         ],\n",
    "#         fhd,\n",
    "#     )"
   ]
  },
  {
   "cell_type": "markdown",
   "metadata": {
    "colab": {
     "base_uri": "https://localhost:8080/"
    },
    "id": "uyEdi0gGiV1z",
    "outputId": "b644224d-13ff-4806-d751-0088efc24f85",
    "tags": []
   },
   "source": [
    "## Visualization"
   ]
  },
  {
   "cell_type": "markdown",
   "metadata": {},
   "source": [
    "### Load data from disk"
   ]
  },
  {
   "cell_type": "code",
   "execution_count": 30,
   "metadata": {},
   "outputs": [],
   "source": [
    "with open(data_path, \"rb\") as fhd:\n",
    "    # Load the arrays from the .npz file\n",
    "    data = np.load(fhd, allow_pickle=True)\n",
    "\n",
    "    # Access individual arrays by their names\n",
    "    rewards = data[\"rewards\"]\n",
    "    steps = data[\"steps\"]\n",
    "    episodes = data[\"episodes\"]\n",
    "    all_actions = data[\"all_actions\"]\n",
    "    losses = data[\"losses\"]\n",
    "    p = data[\"p\"][()]"
   ]
  },
  {
   "cell_type": "code",
   "execution_count": 31,
   "metadata": {},
   "outputs": [],
   "source": [
    "# with open(data_path, \"rb\") as fhd:\n",
    "#     obj = pickle.load(fhd)"
   ]
  },
  {
   "cell_type": "code",
   "execution_count": 32,
   "metadata": {},
   "outputs": [],
   "source": [
    "# obj[0]"
   ]
  },
  {
   "cell_type": "markdown",
   "metadata": {},
   "source": [
    "### Exploration rate"
   ]
  },
  {
   "cell_type": "code",
   "execution_count": 33,
   "metadata": {},
   "outputs": [],
   "source": [
    "def plot_exploration_rate(epsilons, figpath=None):\n",
    "    fig, ax = plt.subplots()\n",
    "    sns.lineplot(epsilons)\n",
    "    ax.set(ylabel=\"Epsilon\")\n",
    "    ax.set(xlabel=\"Steps\")\n",
    "    fig.tight_layout()\n",
    "    fig.patch.set_alpha(0)\n",
    "    fig.patch.set_facecolor(\"white\")\n",
    "    if figpath:\n",
    "        fig.savefig(figpath / \"exploration-rate.png\", bbox_inches=\"tight\")\n",
    "    plt.show()"
   ]
  },
  {
   "cell_type": "code",
   "execution_count": 34,
   "metadata": {},
   "outputs": [
    {
     "data": {
      "image/png": "[encoded data removed]",
      "text/plain": [
       "<Figure size 640x480 with 1 Axes>"
      ]
     },
     "metadata": {
      "needs_background": "light"
     },
     "output_type": "display_data"
    }
   ],
   "source": [
    "plot_exploration_rate(epsilons, figpath=CURRENT_PATH)"
   ]
  },
  {
   "cell_type": "markdown",
   "metadata": {},
   "source": [
    "### States & actions distributions"
   ]
  },
  {
   "cell_type": "code",
   "execution_count": 35,
   "metadata": {},
   "outputs": [],
   "source": [
    "def postprocess(episodes, p, rewards, steps):\n",
    "    \"\"\"Convert the results of the simulation in dataframes.\"\"\"\n",
    "    res = pd.DataFrame(\n",
    "        data={\n",
    "            \"Episodes\": episodes.tile(p.n_runs).cpu(),\n",
    "            \"Rewards\": rewards.T.flatten().cpu(),\n",
    "            \"Steps\": steps.T.flatten().cpu(),\n",
    "        }\n",
    "    )\n",
    "    # res[\"cum_rewards\"] = rewards.cumsum(axis=0).flatten(order=\"F\")\n",
    "    return res"
   ]
  },
  {
   "cell_type": "code",
   "execution_count": 36,
   "metadata": {
    "tags": []
   },
   "outputs": [
    {
     "ename": "AttributeError",
     "evalue": "'numpy.ndarray' object has no attribute 'tile'",
     "output_type": "error",
     "traceback": [
      "\u001b[0;31m---------------------------------------------------------------------------\u001b[0m",
      "\u001b[0;31mAttributeError\u001b[0m                            Traceback (most recent call last)",
      "Cell \u001b[0;32mIn[36], line 1\u001b[0m\n\u001b[0;32m----> 1\u001b[0m res \u001b[38;5;241m=\u001b[39m \u001b[43mpostprocess\u001b[49m\u001b[43m(\u001b[49m\u001b[43mepisodes\u001b[49m\u001b[43m,\u001b[49m\u001b[43m \u001b[49m\u001b[43mp\u001b[49m\u001b[43m,\u001b[49m\u001b[43m \u001b[49m\u001b[43mrewards\u001b[49m\u001b[43m,\u001b[49m\u001b[43m \u001b[49m\u001b[43msteps\u001b[49m\u001b[43m)\u001b[49m\n\u001b[1;32m      2\u001b[0m res\n",
      "Cell \u001b[0;32mIn[35], line 5\u001b[0m, in \u001b[0;36mpostprocess\u001b[0;34m(episodes, p, rewards, steps)\u001b[0m\n\u001b[1;32m      1\u001b[0m \u001b[38;5;28;01mdef\u001b[39;00m \u001b[38;5;21mpostprocess\u001b[39m(episodes, p, rewards, steps):\n\u001b[1;32m      2\u001b[0m \u001b[38;5;250m    \u001b[39m\u001b[38;5;124;03m\"\"\"Convert the results of the simulation in dataframes.\"\"\"\u001b[39;00m\n\u001b[1;32m      3\u001b[0m     res \u001b[38;5;241m=\u001b[39m pd\u001b[38;5;241m.\u001b[39mDataFrame(\n\u001b[1;32m      4\u001b[0m         data\u001b[38;5;241m=\u001b[39m{\n\u001b[0;32m----> 5\u001b[0m             \u001b[38;5;124m\"\u001b[39m\u001b[38;5;124mEpisodes\u001b[39m\u001b[38;5;124m\"\u001b[39m: \u001b[43mepisodes\u001b[49m\u001b[38;5;241;43m.\u001b[39;49m\u001b[43mtile\u001b[49m(p\u001b[38;5;241m.\u001b[39mn_runs)\u001b[38;5;241m.\u001b[39mcpu(),\n\u001b[1;32m      6\u001b[0m             \u001b[38;5;124m\"\u001b[39m\u001b[38;5;124mRewards\u001b[39m\u001b[38;5;124m\"\u001b[39m: rewards\u001b[38;5;241m.\u001b[39mT\u001b[38;5;241m.\u001b[39mflatten()\u001b[38;5;241m.\u001b[39mcpu(),\n\u001b[1;32m      7\u001b[0m             \u001b[38;5;124m\"\u001b[39m\u001b[38;5;124mSteps\u001b[39m\u001b[38;5;124m\"\u001b[39m: steps\u001b[38;5;241m.\u001b[39mT\u001b[38;5;241m.\u001b[39mflatten()\u001b[38;5;241m.\u001b[39mcpu(),\n\u001b[1;32m      8\u001b[0m         }\n\u001b[1;32m      9\u001b[0m     )\n\u001b[1;32m     10\u001b[0m     \u001b[38;5;66;03m# res[\"cum_rewards\"] = rewards.cumsum(axis=0).flatten(order=\"F\")\u001b[39;00m\n\u001b[1;32m     11\u001b[0m     \u001b[38;5;28;01mreturn\u001b[39;00m res\n",
      "\u001b[0;31mAttributeError\u001b[0m: 'numpy.ndarray' object has no attribute 'tile'"
     ]
    }
   ],
   "source": [
    "res = postprocess(episodes, p, rewards, steps)\n",
    "res"
   ]
  },
  {
   "cell_type": "markdown",
   "metadata": {},
   "source": [
    "As a sanity check, we will plot the distributions of states and actions\n",
    "with the following function:"
   ]
  },
  {
   "cell_type": "code",
   "execution_count": null,
   "metadata": {},
   "outputs": [],
   "source": [
    "def plot_actions_distribution(actions, figpath=None):\n",
    "    \"\"\"Plot the distributions of states and actions.\"\"\"\n",
    "    fig, ax = plt.subplots()\n",
    "    sns.histplot(data=actions, ax=ax)\n",
    "    ax.set_xticks(\n",
    "        [item.value for item in Actions], labels=[item.name for item in Actions]\n",
    "    )\n",
    "    ax.set_title(\"Actions\")\n",
    "    fig.tight_layout()\n",
    "    fig.patch.set_alpha(0)\n",
    "    fig.patch.set_facecolor(\"white\")\n",
    "    if figpath:\n",
    "        fig.savefig(figpath / \"actions-distribution.png\", bbox_inches=\"tight\")\n",
    "    plt.show()"
   ]
  },
  {
   "cell_type": "code",
   "execution_count": null,
   "metadata": {
    "tags": []
   },
   "outputs": [],
   "source": [
    "plot_actions_distribution(all_actions, figpath=CURRENT_PATH)"
   ]
  },
  {
   "cell_type": "markdown",
   "metadata": {},
   "source": [
    "### Steps & rewards"
   ]
  },
  {
   "cell_type": "code",
   "execution_count": null,
   "metadata": {
    "colab": {
     "base_uri": "https://localhost:8080/",
     "height": 317
    },
    "id": "pk8lHOjiL7fa",
    "outputId": "0474335e-bf29-4be1-d877-e6adc5a13afc"
   },
   "outputs": [],
   "source": [
    "def plot_steps_and_rewards(df, figpath=None):\n",
    "    \"\"\"Plot the steps and rewards from dataframes.\"\"\"\n",
    "    fig, ax = plt.subplots(nrows=1, ncols=2, figsize=(15, 5))\n",
    "    sns.lineplot(data=df, x=\"Episodes\", y=\"Rewards\", ax=ax[0])\n",
    "    ax[0].set(\n",
    "        ylabel=f\"Rewards\\naveraged over {p.n_runs} runs\" if p.n_runs > 1 else \"Rewards\"\n",
    "    )\n",
    "\n",
    "    sns.lineplot(data=df, x=\"Episodes\", y=\"Steps\", ax=ax[1])\n",
    "    ax[1].set(\n",
    "        ylabel=(\n",
    "            f\"Steps number\\naveraged over {p.n_runs} runs\"\n",
    "            if p.n_runs > 1\n",
    "            else \"Steps number\"\n",
    "        )\n",
    "    )\n",
    "\n",
    "    fig.tight_layout()\n",
    "    fig.patch.set_alpha(0)\n",
    "    fig.patch.set_facecolor(\"white\")\n",
    "    if figpath:\n",
    "        fig.savefig(figpath / \"steps-and-rewards.png\", bbox_inches=\"tight\")\n",
    "    plt.show()"
   ]
  },
  {
   "cell_type": "code",
   "execution_count": null,
   "metadata": {
    "id": "Xj1z5ob10ltw"
   },
   "outputs": [],
   "source": [
    "plot_steps_and_rewards(res, figpath=CURRENT_PATH)"
   ]
  },
  {
   "cell_type": "code",
   "execution_count": null,
   "metadata": {},
   "outputs": [],
   "source": [
    "def plot_steps_and_rewards_dist(df, figpath=None):\n",
    "    \"\"\"Plot the steps and rewards distributions from dataframes.\"\"\"\n",
    "    fig, ax = plt.subplots(nrows=1, ncols=2, figsize=(15, 5))\n",
    "    sns.histplot(data=df, x=\"Rewards\", ax=ax[0])\n",
    "    sns.histplot(data=df, x=\"Steps\", ax=ax[1])\n",
    "    fig.tight_layout()\n",
    "    fig.patch.set_alpha(0)\n",
    "    fig.patch.set_facecolor(\"white\")\n",
    "    if figpath:\n",
    "        fig.savefig(\n",
    "            figpath / \"steps-and-rewards-distrib.png\",\n",
    "            bbox_inches=\"tight\",\n",
    "        )\n",
    "    plt.show()"
   ]
  },
  {
   "cell_type": "code",
   "execution_count": null,
   "metadata": {},
   "outputs": [],
   "source": [
    "plot_steps_and_rewards_dist(res, figpath=CURRENT_PATH)"
   ]
  },
  {
   "cell_type": "markdown",
   "metadata": {},
   "source": [
    "### Loss"
   ]
  },
  {
   "cell_type": "code",
   "execution_count": null,
   "metadata": {},
   "outputs": [],
   "source": [
    "window_size = 1\n",
    "for idx, loss in enumerate(losses):\n",
    "    current_loss = torch.tensor(loss, device=DEVICE)\n",
    "    losses_rolling_avg = nn.functional.avg_pool1d(\n",
    "        current_loss.view(1, 1, -1), kernel_size=window_size\n",
    "    ).squeeze()\n",
    "    tmp_df = pd.DataFrame(\n",
    "        data={\n",
    "            \"Run\": idx * torch.ones(len(losses_rolling_avg), device=DEVICE).int().cpu(),\n",
    "            \"Steps\": torch.arange(0, len(losses_rolling_avg), device=DEVICE).cpu(),\n",
    "            \"Loss\": losses_rolling_avg.cpu(),\n",
    "        }\n",
    "    )\n",
    "    if idx == 0:\n",
    "        loss_df = tmp_df\n",
    "    else:\n",
    "        loss_df = pd.concat((loss_df, tmp_df))\n",
    "loss_df"
   ]
  },
  {
   "cell_type": "code",
   "execution_count": null,
   "metadata": {},
   "outputs": [],
   "source": [
    "fig, ax = plt.subplots()\n",
    "sns.lineplot(data=loss_df, x=\"Steps\", y=\"Loss\", ax=ax)\n",
    "if USETEX:\n",
    "    ax.set(\n",
    "        ylabel=(\n",
    "            f\"$Log_{{10}}(\\mathrm{{Loss}})$\\naveraged over {p.n_runs} runs\"\n",
    "            if p.n_runs > 1\n",
    "            else \"$Log_{10}(\\mathrm{Loss})$\"\n",
    "        )\n",
    "    )\n",
    "else:\n",
    "    ax.set(\n",
    "        ylabel=(\n",
    "            f\"$Log_{{10}}(\\\\text{{Loss}})$\\naveraged over {p.n_runs} runs\"\n",
    "            if p.n_runs > 1\n",
    "            else \"$Log_{10}(\\\\text{Loss})$\"\n",
    "        )\n",
    "    )\n",
    "ax.set(xlabel=\"Steps\")\n",
    "ax.set(yscale=\"log\")\n",
    "fig.tight_layout()\n",
    "fig.patch.set_alpha(0)\n",
    "fig.patch.set_facecolor(\"white\")\n",
    "fig.savefig(CURRENT_PATH / \"loss.png\", bbox_inches=\"tight\")\n",
    "plt.show()"
   ]
  },
  {
   "cell_type": "markdown",
   "metadata": {},
   "source": [
    "### Policy learned"
   ]
  },
  {
   "cell_type": "code",
   "execution_count": null,
   "metadata": {},
   "outputs": [],
   "source": [
    "with torch.no_grad():\n",
    "    q_values = torch.nan * torch.empty(\n",
    "        (len(env.tiles_locations), len(Cues), p.n_actions), device=DEVICE\n",
    "    )\n",
    "    for tile_i, tile_v in enumerate(env.tiles_locations):\n",
    "        for cue_i, cue_v in enumerate(Cues):\n",
    "            state = torch.tensor([tile_v, cue_v.value], device=DEVICE).float()\n",
    "            if env.one_hot_state:\n",
    "                state = env.to_one_hot(state).float()\n",
    "            q_values[tile_i, cue_i, :] = net(state).to(DEVICE)\n",
    "q_values.shape"
   ]
  },
  {
   "cell_type": "code",
   "execution_count": null,
   "metadata": {},
   "outputs": [],
   "source": [
    "# with torch.no_grad():\n",
    "#     q_values = torch.nan * torch.empty(\n",
    "#         (len(env.tiles_locations), len(OdorCues), len(LightCues), p.n_actions),\n",
    "#         device=DEVICE,\n",
    "#     )\n",
    "#     for tile_i, tile_v in enumerate(env.tiles_locations):\n",
    "#         for o_cue_i, o_cue_v in enumerate(OdorCues):\n",
    "#             for l_cue_i, l_cue_v in enumerate(LightCues):\n",
    "#                 state = torch.tensor(\n",
    "#                     [tile_v, o_cue_v.value, l_cue_v.value], device=DEVICE\n",
    "#                 ).float()\n",
    "#                 if env.one_hot_state:\n",
    "#                     state = env.to_one_hot(state).float()\n",
    "#                 q_values[tile_i, cue_i, :] = net(state).to(DEVICE)\n",
    "# q_values.shape"
   ]
  },
  {
   "cell_type": "code",
   "execution_count": null,
   "metadata": {},
   "outputs": [],
   "source": [
    "def qtable_directions_map(qtable, rows, cols):\n",
    "    \"\"\"Get the best learned action & map it to arrows.\"\"\"\n",
    "    qtable_val_max = qtable.max(axis=1).values.reshape(rows, cols)\n",
    "    qtable_best_action = qtable.argmax(axis=1).reshape(rows, cols)\n",
    "    directions = {\n",
    "        Actions.UP: \"↑\",\n",
    "        Actions.DOWN: \"↓\",\n",
    "        Actions.LEFT: \"←\",\n",
    "        Actions.RIGHT: \"→\",\n",
    "    }\n",
    "    qtable_directions = np.empty(qtable_best_action.flatten().shape, dtype=str)\n",
    "    eps = torch.finfo(torch.float64).eps  # Minimum float number on the machine\n",
    "    for idx, val in enumerate(qtable_best_action.flatten()):\n",
    "        if qtable_val_max.flatten()[idx] > eps:\n",
    "            # Assign an arrow only if a minimal Q-value has been learned as best action\n",
    "            # otherwise since 0 is a direction, it also gets mapped on the tiles where\n",
    "            # it didn't actually learn anything\n",
    "            qtable_directions[idx] = directions[Actions(val.item())]\n",
    "    qtable_directions = qtable_directions.reshape(rows, cols)\n",
    "    return qtable_val_max, qtable_directions"
   ]
  },
  {
   "cell_type": "code",
   "execution_count": null,
   "metadata": {},
   "outputs": [],
   "source": [
    "def plot_policies(q_values, labels, figpath=None):\n",
    "    \"\"\"\n",
    "    Plot the heatmap of the Q-values.\n",
    "\n",
    "    Also plot the best action's direction with arrows.\n",
    "    \"\"\"\n",
    "    fig, ax = plt.subplots(2, len(labels), figsize=(13, 8))\n",
    "    for tri_i, tri_v in enumerate(TriangleState):\n",
    "        for cue_i, cue_v in enumerate(labels):\n",
    "            qtable_val_max, qtable_directions = qtable_directions_map(\n",
    "                qtable=q_values[:, cue_i, :], rows=env.rows, cols=env.cols\n",
    "            )\n",
    "            if tri_v == TriangleState.upper:\n",
    "                qtable_val_max = torch.triu(qtable_val_max)\n",
    "                qtable_directions = np.triu(qtable_directions)\n",
    "            elif tri_v == TriangleState.lower:\n",
    "                qtable_val_max = torch.tril(qtable_val_max)\n",
    "                qtable_directions = np.tril(qtable_directions)\n",
    "            sns.heatmap(\n",
    "                qtable_val_max.cpu(),\n",
    "                annot=qtable_directions,\n",
    "                fmt=\"\",\n",
    "                ax=ax[tri_i, cue_i],\n",
    "                cmap=sns.color_palette(\"Blues\", as_cmap=True),\n",
    "                linewidths=0.7,\n",
    "                linecolor=\"black\",\n",
    "                xticklabels=[],\n",
    "                yticklabels=[],\n",
    "                annot_kws={\"fontsize\": \"xx-large\"},\n",
    "                cbar_kws={\"label\": \"Q-value\"},\n",
    "            ).set(title=labels[cue_v])\n",
    "            for _, spine in ax[tri_i, cue_i].spines.items():\n",
    "                spine.set_visible(True)\n",
    "                spine.set_linewidth(0.7)\n",
    "                spine.set_color(\"black\")\n",
    "\n",
    "            # Annotate the ports names\n",
    "            bbox = {\n",
    "                \"facecolor\": \"black\",\n",
    "                \"edgecolor\": \"none\",\n",
    "                \"boxstyle\": \"round\",\n",
    "                \"alpha\": 0.1,\n",
    "            }\n",
    "            ax[tri_i, cue_i].text(\n",
    "                x=4.7,\n",
    "                y=0.3,\n",
    "                s=\"N\",\n",
    "                bbox=bbox,\n",
    "                color=\"white\",\n",
    "            )\n",
    "            ax[tri_i, cue_i].text(\n",
    "                x=0.05,\n",
    "                y=4.9,\n",
    "                s=\"S\",\n",
    "                bbox=bbox,\n",
    "                color=\"white\",\n",
    "            )\n",
    "            ax[tri_i, cue_i].text(\n",
    "                x=4.7,\n",
    "                y=4.9,\n",
    "                s=\"E\",\n",
    "                bbox=bbox,\n",
    "                color=\"white\",\n",
    "            )\n",
    "            ax[tri_i, cue_i].text(\n",
    "                x=0.05,\n",
    "                y=0.3,\n",
    "                s=\"W\",\n",
    "                bbox=bbox,\n",
    "                color=\"white\",\n",
    "            )\n",
    "\n",
    "    # Make background transparent\n",
    "    fig.patch.set_alpha(0)\n",
    "    fig.patch.set_facecolor(\"white\")\n",
    "    fig.tight_layout()\n",
    "    if figpath:\n",
    "        fig.savefig(figpath / \"policy.png\", bbox_inches=\"tight\")\n",
    "    plt.show()"
   ]
  },
  {
   "cell_type": "code",
   "execution_count": null,
   "metadata": {},
   "outputs": [],
   "source": [
    "plot_policies(q_values=q_values, labels=CONTEXTS_LABELS, figpath=CURRENT_PATH)"
   ]
  },
  {
   "cell_type": "markdown",
   "metadata": {},
   "source": [
    "### Weights matrix"
   ]
  },
  {
   "cell_type": "code",
   "execution_count": null,
   "metadata": {},
   "outputs": [],
   "source": [
    "def plot_weights_matrices(weights_untrained, weights_trained, figpath=None):\n",
    "    fig = plt.figure(layout=\"constrained\", figsize=(12, 17))\n",
    "    subfigs = fig.subfigures(nrows=1, ncols=2)\n",
    "    ax = []\n",
    "    for subf in subfigs:\n",
    "        ax.append(\n",
    "            subf.subplots(\n",
    "                nrows=round(len(weights_trained) / 2),\n",
    "                ncols=2,\n",
    "                width_ratios=[10, 1],\n",
    "            )\n",
    "        )\n",
    "    subfigs[0].suptitle(\"Before training\")\n",
    "    subfigs[1].suptitle(\"After training\")\n",
    "    # subfigs[0].colorbar(pc, shrink=0.6, ax=axsLeft, location='bottom')\n",
    "    # subfigs[1].colorbar(pc, shrink=0.6, ax=axsRight)\n",
    "    # fig.suptitle('Weights')\n",
    "\n",
    "    for idx, (w_untrained, w_trained) in enumerate(\n",
    "        zip(weights_untrained, weights_trained)\n",
    "    ):\n",
    "        # cmap = \"bwr\"\n",
    "        cmap = \"coolwarm\"\n",
    "\n",
    "        plot_row = int(np.floor(idx / 2))  # Row index to lay out the plots\n",
    "\n",
    "        if len(w_trained.shape) < 2:  # Biases\n",
    "            b_untrained_current = w_untrained.unsqueeze(-1).detach().numpy()\n",
    "            b_trained_current = w_trained.unsqueeze(-1).detach().numpy()\n",
    "            sns.heatmap(b_untrained_current, ax=ax[0][plot_row, 1], cmap=cmap)\n",
    "            sns.heatmap(b_trained_current, ax=ax[1][plot_row, 1], cmap=cmap)\n",
    "            for axi in ax:\n",
    "                axi[plot_row, 1].xaxis.set_major_locator(mpl.ticker.NullLocator())\n",
    "\n",
    "        else:  # Weights\n",
    "            w_untrained_current = w_untrained.detach().numpy()\n",
    "            w_trained_current = w_trained.detach().numpy()\n",
    "            sns.heatmap(w_untrained_current, ax=ax[0][plot_row, 0], cmap=cmap)\n",
    "            sns.heatmap(w_trained_current, ax=ax[1][plot_row, 0], cmap=cmap)\n",
    "            for axi in ax:\n",
    "                axi[plot_row, 0].tick_params(labelbottom=False, labeltop=True)\n",
    "                axi[plot_row, 0].xaxis.set_major_locator(\n",
    "                    mpl.ticker.LinearLocator(numticks=3)\n",
    "                )\n",
    "                for axj in axi.flatten():\n",
    "                    axj.xaxis.set_major_formatter(mpl.ticker.FormatStrFormatter(\"%d\"))\n",
    "\n",
    "    for axlr in ax:\n",
    "        for axi in axlr:\n",
    "            for axj in axi:\n",
    "                axj.yaxis.set_major_locator(mpl.ticker.LinearLocator(numticks=3))\n",
    "                axj.yaxis.set_major_formatter(mpl.ticker.FormatStrFormatter(\"%d\"))\n",
    "\n",
    "        # fig.tight_layout()\n",
    "        fig.patch.set_alpha(0)\n",
    "        fig.patch.set_facecolor(\"white\")\n",
    "    if figpath:\n",
    "        fig.savefig(figpath / \"weights-matrices.png\", bbox_inches=\"tight\")\n",
    "    plt.show()"
   ]
  },
  {
   "cell_type": "code",
   "execution_count": null,
   "metadata": {},
   "outputs": [],
   "source": [
    "plot_weights_matrices(\n",
    "    weights_untrained=weights_untrained,\n",
    "    weights_trained=[layer for layer in net.parameters()],\n",
    "    figpath=CURRENT_PATH,\n",
    ")"
   ]
  },
  {
   "cell_type": "markdown",
   "metadata": {},
   "source": [
    "### Activations learned"
   ]
  },
  {
   "cell_type": "code",
   "execution_count": null,
   "metadata": {},
   "outputs": [],
   "source": [
    "[item for item in net.mlp.named_children()]"
   ]
  },
  {
   "cell_type": "code",
   "execution_count": null,
   "metadata": {},
   "outputs": [],
   "source": [
    "# Hook to capture the activations\n",
    "activations = {}\n",
    "\n",
    "\n",
    "def get_activation(name):\n",
    "    def hook(module, args, output):\n",
    "        activations[name] = output.detach()\n",
    "\n",
    "    return hook"
   ]
  },
  {
   "cell_type": "code",
   "execution_count": null,
   "metadata": {},
   "outputs": [],
   "source": [
    "# Register the hooks for all layers\n",
    "for name, layer in net.mlp.named_children():\n",
    "    layer.register_forward_hook(get_activation(name))"
   ]
  },
  {
   "cell_type": "code",
   "execution_count": null,
   "metadata": {},
   "outputs": [],
   "source": [
    "x = torch.randn(28)\n",
    "output = net(x)"
   ]
  },
  {
   "cell_type": "code",
   "execution_count": null,
   "metadata": {},
   "outputs": [],
   "source": [
    "[val.shape for key, val in activations.items()]"
   ]
  },
  {
   "cell_type": "code",
   "execution_count": null,
   "metadata": {},
   "outputs": [],
   "source": [
    "# Construct input dictionnary to be fed to the network\n",
    "input_cond = OrderedDict({})\n",
    "for cue_obj, cue_txt in CONTEXTS_LABELS.items():\n",
    "    for loc in env.state_space[\"location\"]:\n",
    "        current_state = torch.tensor([loc, cue_obj.value], device=DEVICE)\n",
    "        if env.one_hot_state:\n",
    "            current_state = env.to_one_hot(current_state)\n",
    "        input_cond[f\"{loc}-{cue_txt}\"] = current_state.float()"
   ]
  },
  {
   "cell_type": "code",
   "execution_count": null,
   "metadata": {},
   "outputs": [],
   "source": [
    "# Get the activations from the network\n",
    "layer_inspected = 6 - 1\n",
    "activations_layer = (\n",
    "    torch.ones((len(input_cond), ENCODER_NEURONS_NUM), device=DEVICE) * torch.nan\n",
    ")\n",
    "for idx, (cond, input_val) in enumerate(input_cond.items()):\n",
    "    net(input_val)\n",
    "    activations_layer[idx, :] = activations[str(layer_inspected)]"
   ]
  },
  {
   "cell_type": "code",
   "execution_count": null,
   "metadata": {},
   "outputs": [],
   "source": [
    "# cols = pd.MultiIndex.from_tuples(\n",
    "#     [(\"neuron\", str(item)) for item in range(1, ENCODER_NEURONS_NUM + 1)]\n",
    "# )\n",
    "activations_layer_df = pd.DataFrame(activations_layer)  # , columns=cols)\n",
    "activations_layer_df[\"Input\"] = list(input_cond.keys())\n",
    "activations_layer_df.set_index(\"Input\", inplace=True)\n",
    "activations_layer_df"
   ]
  },
  {
   "cell_type": "code",
   "execution_count": null,
   "metadata": {},
   "outputs": [],
   "source": [
    "# def plot_activations(activations_layer, figpath=None):\n",
    "#     fig, ax = plt.subplots(figsize=(10, 15))\n",
    "#     sns.heatmap(activations_layer, ax=ax)\n",
    "#     ax.set(xlabel=f\"Neurons activations in layer {layer_inspected + 1}\")\n",
    "#     ax.tick_params(top=True, labeltop=True, bottom=False, labelbottom=False)\n",
    "#     ax.xaxis.set_label_position(\"top\")\n",
    "#     ax.set_yticks(np.arange(len(input_cond)) + 0.5)\n",
    "#     ax.set_yticklabels(list(input_cond.keys()), rotation=0)\n",
    "#     fig.tight_layout()\n",
    "#     fig.patch.set_alpha(0)\n",
    "#     fig.patch.set_facecolor(\"white\")\n",
    "#     if figpath:\n",
    "#         fig.savefig(figpath / \"activations-learned.png\", bbox_inches=\"tight\")\n",
    "#     plt.show()"
   ]
  },
  {
   "cell_type": "code",
   "execution_count": null,
   "metadata": {},
   "outputs": [],
   "source": [
    "# plot_activations(activations_layer, figpath=CURRENT_PATH)"
   ]
  },
  {
   "cell_type": "code",
   "execution_count": null,
   "metadata": {},
   "outputs": [],
   "source": [
    "def plot_activations(activations_layer, input_cond, labels, figpath=None):\n",
    "    # Create a categorical palette to identify the clusters\n",
    "    # cluster_palette = sns.color_palette(\"Pastel2\")\n",
    "    cluster_palette = sns.color_palette(\"Accent\")\n",
    "    cluster_colors = dict(zip(list(labels.values()), cluster_palette))\n",
    "    row_colors = [cluster_colors[cond.split(\"-\")[1]] for cond in input_cond.keys()]\n",
    "    row_colors_serie = pd.Series(row_colors)\n",
    "    row_colors_serie = row_colors_serie.set_axis(list(input_cond.keys()))\n",
    "\n",
    "    # cmap = \"mako\"\n",
    "    # cmap = \"rocket\"\n",
    "    # cmap = \"magma\"\n",
    "    cmap = \"viridis\"\n",
    "    chart = sns.clustermap(activations_layer_df, cmap=cmap, row_colors=row_colors_serie)\n",
    "    chart.ax_heatmap.set_xlabel(f\"Neurons activations in layer {layer_inspected + 1}\")\n",
    "\n",
    "    for label, col_val in cluster_colors.items():\n",
    "        chart.ax_col_dendrogram.bar(0, 0, color=col_val, label=label, linewidth=0)\n",
    "    chart.ax_col_dendrogram.legend(loc=\"center\", bbox_to_anchor=(1.1, 0.7))  # , ncol=6)\n",
    "\n",
    "    chart.fig.patch.set_alpha(0)\n",
    "    chart.fig.patch.set_facecolor(\"white\")\n",
    "    if figpath:\n",
    "        chart.savefig(figpath / \"activations-learned.png\", bbox_inches=\"tight\")\n",
    "    plt.show()"
   ]
  },
  {
   "cell_type": "code",
   "execution_count": null,
   "metadata": {},
   "outputs": [],
   "source": [
    "plot_activations(\n",
    "    activations_layer=activations_layer,\n",
    "    input_cond=input_cond,\n",
    "    labels=CONTEXTS_LABELS,\n",
    "    figpath=CURRENT_PATH,\n",
    ")"
   ]
  },
  {
   "cell_type": "markdown",
   "metadata": {},
   "source": [
    "### Weights & gradients metrics"
   ]
  },
  {
   "cell_type": "code",
   "execution_count": null,
   "metadata": {},
   "outputs": [],
   "source": [
    "weights, biases = collect_weights_biases(net=net)"
   ]
  },
  {
   "cell_type": "code",
   "execution_count": null,
   "metadata": {},
   "outputs": [],
   "source": [
    "def params_df_flat(weights):\n",
    "    for idx, val in enumerate(weights):\n",
    "        tmp_df = pd.DataFrame(\n",
    "            data={\n",
    "                \"Val\": val.detach().cpu().flatten(),\n",
    "                \"Layer\": idx,\n",
    "            }\n",
    "        )\n",
    "        if idx == 0:\n",
    "            df = tmp_df\n",
    "        else:\n",
    "            df = pd.concat((df, tmp_df))\n",
    "    return df"
   ]
  },
  {
   "cell_type": "code",
   "execution_count": null,
   "metadata": {},
   "outputs": [],
   "source": [
    "weights_val_df = params_df_flat(weights[\"val\"])\n",
    "weights_val_df"
   ]
  },
  {
   "cell_type": "code",
   "execution_count": null,
   "metadata": {},
   "outputs": [],
   "source": [
    "weights_val_df.describe()"
   ]
  },
  {
   "cell_type": "code",
   "execution_count": null,
   "metadata": {},
   "outputs": [],
   "source": [
    "biases_val_df = params_df_flat(biases[\"val\"])\n",
    "biases_val_df"
   ]
  },
  {
   "cell_type": "code",
   "execution_count": null,
   "metadata": {},
   "outputs": [],
   "source": [
    "biases_val_df.describe()"
   ]
  },
  {
   "cell_type": "code",
   "execution_count": null,
   "metadata": {},
   "outputs": [],
   "source": [
    "weights_grad_df = params_df_flat(weights[\"grad\"])\n",
    "weights_grad_df"
   ]
  },
  {
   "cell_type": "code",
   "execution_count": null,
   "metadata": {},
   "outputs": [],
   "source": [
    "weights_grad_df.describe()"
   ]
  },
  {
   "cell_type": "code",
   "execution_count": null,
   "metadata": {},
   "outputs": [],
   "source": [
    "biases_grad_df = params_df_flat(biases[\"grad\"])\n",
    "biases_grad_df"
   ]
  },
  {
   "cell_type": "code",
   "execution_count": null,
   "metadata": {},
   "outputs": [],
   "source": [
    "biases_grad_df.describe()"
   ]
  },
  {
   "cell_type": "code",
   "execution_count": null,
   "metadata": {},
   "outputs": [],
   "source": [
    "def check_grad_stats(grad_df):\n",
    "    grad_stats = torch.tensor(\n",
    "        [\n",
    "            grad_df.Val.mean(),\n",
    "            grad_df.Val.std(),\n",
    "            grad_df.Val.min(),\n",
    "            grad_df.Val.max(),\n",
    "        ],\n",
    "        device=DEVICE,\n",
    "    )\n",
    "    assert not torch.equal(\n",
    "        torch.zeros_like(grad_stats, device=DEVICE),\n",
    "        grad_stats,\n",
    "    ), \"Gradients are zero\""
   ]
  },
  {
   "cell_type": "code",
   "execution_count": null,
   "metadata": {},
   "outputs": [],
   "source": [
    "plotting.plot_weights_biases_distributions(\n",
    "    weights_val_df, biases_val_df, label=\"Values\", figpath=CURRENT_PATH\n",
    ")"
   ]
  },
  {
   "cell_type": "code",
   "execution_count": null,
   "metadata": {},
   "outputs": [],
   "source": [
    "check_grad_stats(weights_grad_df)"
   ]
  },
  {
   "cell_type": "code",
   "execution_count": null,
   "metadata": {},
   "outputs": [],
   "source": [
    "check_grad_stats(biases_grad_df)"
   ]
  },
  {
   "cell_type": "code",
   "execution_count": null,
   "metadata": {},
   "outputs": [],
   "source": [
    "plotting.plot_weights_biases_distributions(\n",
    "    weights_grad_df, biases_grad_df, label=\"Gradients\", figpath=CURRENT_PATH\n",
    ")"
   ]
  },
  {
   "cell_type": "code",
   "execution_count": null,
   "metadata": {},
   "outputs": [],
   "source": [
    "weights_val_stats"
   ]
  },
  {
   "cell_type": "code",
   "execution_count": null,
   "metadata": {},
   "outputs": [],
   "source": [
    "biases_val_stats"
   ]
  },
  {
   "cell_type": "code",
   "execution_count": null,
   "metadata": {},
   "outputs": [],
   "source": [
    "weights_grad_stats"
   ]
  },
  {
   "cell_type": "code",
   "execution_count": null,
   "metadata": {},
   "outputs": [],
   "source": [
    "biases_grad_stats"
   ]
  },
  {
   "cell_type": "code",
   "execution_count": null,
   "metadata": {},
   "outputs": [],
   "source": [
    "def plot_weights_biases_stats(weights_stats, biases_stats, label=None, figpath=None):\n",
    "    fig, ax = plt.subplots(nrows=2, ncols=2, figsize=(13, 8))\n",
    "\n",
    "    if label:\n",
    "        ax[0, 0].set_title(\"Weights \" + label)\n",
    "    else:\n",
    "        ax[0, 0].set_title(\"Weights\")\n",
    "    ax[0, 0].set_xlabel(\"Episodes\")\n",
    "    palette = sns.color_palette()[0 : len(weights_stats.Layer.unique())]\n",
    "    sns.lineplot(\n",
    "        data=weights_stats,\n",
    "        x=\"Index\",\n",
    "        y=\"Std\",\n",
    "        hue=\"Layer\",\n",
    "        palette=palette,\n",
    "        ax=ax[0, 0],\n",
    "    )\n",
    "    ax[0, 0].set(yscale=\"log\")\n",
    "\n",
    "    if label:\n",
    "        ax[0, 1].set_title(\"Weights \" + label)\n",
    "    else:\n",
    "        ax[0, 1].set_title(\"Weights\")\n",
    "    ax[0, 1].set_xlabel(\"Episodes\")\n",
    "    palette = sns.color_palette()[0 : len(weights_stats.Layer.unique())]\n",
    "    sns.lineplot(\n",
    "        data=weights_stats,\n",
    "        x=\"Index\",\n",
    "        y=\"Avg\",\n",
    "        hue=\"Layer\",\n",
    "        palette=palette,\n",
    "        ax=ax[0, 1],\n",
    "    )\n",
    "    ax[0, 1].set(yscale=\"log\")\n",
    "\n",
    "    if label:\n",
    "        ax[1, 0].set_title(\"Biases \" + label)\n",
    "    else:\n",
    "        ax[1, 0].set_title(\"Biases\")\n",
    "    ax[1, 0].set_xlabel(\"Steps\")\n",
    "    palette = sns.color_palette()[0 : len(biases_stats.Layer.unique())]\n",
    "    sns.lineplot(\n",
    "        data=biases_stats,\n",
    "        x=\"Index\",\n",
    "        y=\"Std\",\n",
    "        hue=\"Layer\",\n",
    "        palette=palette,\n",
    "        ax=ax[1, 0],\n",
    "    )\n",
    "    ax[1, 0].set(yscale=\"log\")\n",
    "\n",
    "    if label:\n",
    "        ax[1, 1].set_title(\"Biases \" + label)\n",
    "    else:\n",
    "        ax[1, 1].set_title(\"Biases\")\n",
    "    ax[1, 1].set_xlabel(\"Steps\")\n",
    "    palette = sns.color_palette()[0 : len(biases_stats.Layer.unique())]\n",
    "    sns.lineplot(\n",
    "        data=biases_stats,\n",
    "        x=\"Index\",\n",
    "        y=\"Avg\",\n",
    "        hue=\"Layer\",\n",
    "        palette=palette,\n",
    "        ax=ax[1, 1],\n",
    "    )\n",
    "    ax[1, 1].set(yscale=\"log\")\n",
    "\n",
    "    fig.tight_layout()\n",
    "    fig.patch.set_alpha(0)\n",
    "    fig.patch.set_facecolor(\"white\")\n",
    "    if figpath:\n",
    "        fig.savefig(\n",
    "            figpath / f\"weights-biases-stats-{label}.png\",\n",
    "            bbox_inches=\"tight\",\n",
    "        )\n",
    "    plt.show()"
   ]
  },
  {
   "cell_type": "code",
   "execution_count": null,
   "metadata": {},
   "outputs": [],
   "source": [
    "plot_weights_biases_stats(\n",
    "    weights_val_stats, biases_val_stats, label=\"values\", figpath=CURRENT_PATH\n",
    ")"
   ]
  },
  {
   "cell_type": "code",
   "execution_count": null,
   "metadata": {},
   "outputs": [],
   "source": [
    "plot_weights_biases_stats(\n",
    "    weights_grad_stats, biases_grad_stats, label=\"gradients\", figpath=CURRENT_PATH\n",
    ")"
   ]
  },
  {
   "cell_type": "code",
   "execution_count": null,
   "metadata": {},
   "outputs": [],
   "source": [
    "# weights_val_stats.rolling(10, center=True).mean().dropna()"
   ]
  },
  {
   "cell_type": "code",
   "execution_count": null,
   "metadata": {},
   "outputs": [],
   "source": [
    "# rolling_win = 100\n",
    "# plot_weights_biases_stats(\n",
    "#     weights_val_stats.rolling(rolling_win, center=True).mean().dropna(),\n",
    "#     biases_val_stats.rolling(rolling_win, center=True).mean().dropna(),\n",
    "#     label=\"values\",\n",
    "# )"
   ]
  },
  {
   "cell_type": "code",
   "execution_count": null,
   "metadata": {},
   "outputs": [],
   "source": [
    "# rolling_win = 100\n",
    "# plot_weights_biases_stats(\n",
    "#     weights_grad_stats.rolling(rolling_win, center=True).mean().dropna(),\n",
    "#     biases_grad_stats.rolling(rolling_win, center=True).mean().dropna(),\n",
    "#     label=\"values\",\n",
    "# )"
   ]
  }
 ],
 "metadata": {
  "accelerator": "GPU",
  "colab": {
   "provenance": []
  },
  "kernelspec": {
   "display_name": "Python 3 (ipykernel)",
   "language": "python",
   "name": "python3"
  },
  "language_info": {
   "codemirror_mode": {
    "name": "ipython",
    "version": 3
   },
   "file_extension": ".py",
   "mimetype": "text/x-python",
   "name": "python",
   "nbconvert_exporter": "python",
   "pygments_lexer": "ipython3",
   "version": "3.11.8"
  }
 },
 "nbformat": 4,
 "nbformat_minor": 4
}
