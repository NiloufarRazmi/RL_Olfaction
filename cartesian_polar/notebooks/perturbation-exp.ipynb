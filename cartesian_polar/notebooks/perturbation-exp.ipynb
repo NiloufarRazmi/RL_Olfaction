{
 "cells": [
  {
   "cell_type": "markdown",
   "id": "6d1a9876-eccf-4a9f-9ab7-871420850917",
   "metadata": {},
   "source": [
    "# Perturbation experiment\n",
    "\n",
    "**Goal of the experiment:** silence or randomize one set of coordinates (Cartesian/polar) to see the effects\n",
    "\n",
    "Potential metrics:\n",
    "- performance histogram\n",
    "- % correct\n",
    "- shift in behavior\n",
    "- Steps number"
   ]
  },
  {
   "cell_type": "markdown",
   "id": "4d9cbf27-5034-4fff-98f8-d09ea788bc81",
   "metadata": {},
   "source": [
    "## Init"
   ]
  },
  {
   "cell_type": "code",
   "execution_count": 1,
   "id": "c36036ed-d545-4741-b3d3-0ad5fe724f76",
   "metadata": {},
   "outputs": [],
   "source": [
    "from pathlib import Path\n",
    "import torch\n",
    "import torch.optim as optim\n",
    "import torch.nn as nn\n",
    "from collections import deque, namedtuple\n",
    "from tqdm.auto import tqdm\n",
    "\n",
    "# from utils import make_deterministic, random_choice\n",
    "from cartesian_polar.agent import EpsilonGreedy, neural_network\n",
    "from cartesian_polar import utils\n",
    "from cartesian_polar.environment import CONTEXTS_LABELS, Actions, Cues, DuplicatedCoordsEnv\n",
    "import cartesian_polar.plotting as viz"
   ]
  },
  {
   "cell_type": "code",
   "execution_count": 2,
   "id": "94766291-0065-4ce4-9860-eb85065f2fff",
   "metadata": {},
   "outputs": [],
   "source": [
    "DEVICE = torch.device(\"cuda\" if torch.cuda.is_available() else \"cpu\")"
   ]
  },
  {
   "cell_type": "code",
   "execution_count": 3,
   "id": "702ee987-f5c0-4eda-82bf-ef69d1c23c7f",
   "metadata": {},
   "outputs": [],
   "source": [
    "USE_INTERNAL_STATE = True"
   ]
  },
  {
   "cell_type": "markdown",
   "id": "2abaebf9-c19c-4a2c-9b9b-43494a4c991c",
   "metadata": {},
   "source": [
    "## Experiment params"
   ]
  },
  {
   "cell_type": "code",
   "execution_count": 4,
   "id": "6accd8c4-d1ed-4774-ba3e-08eada9bca26",
   "metadata": {},
   "outputs": [],
   "source": [
    "# keep = \"cartesian\"\n",
    "keep = \"polar\"\n",
    "silence = True\n",
    "# silence = False"
   ]
  },
  {
   "cell_type": "code",
   "execution_count": 5,
   "id": "49a50beb-218e-4ea8-83fe-5acb4142e3cc",
   "metadata": {},
   "outputs": [],
   "source": [
    "total_episodes = 100"
   ]
  },
  {
   "cell_type": "markdown",
   "id": "c0f1dd3e-232d-43ed-b018-766ae287a604",
   "metadata": {},
   "source": [
    "## Load data"
   ]
  },
  {
   "cell_type": "code",
   "execution_count": 6,
   "id": "6b1e9cba-9b8f-459d-a4f5-bc68b2cb1c11",
   "metadata": {},
   "outputs": [
    {
     "data": {
      "text/plain": [
       "True"
      ]
     },
     "execution_count": 6,
     "metadata": {},
     "output_type": "execute_result"
    }
   ],
   "source": [
    "save_path = Path(\".\") / \"..\" / \"..\" / \"save\"\n",
    "save_path.exists()"
   ]
  },
  {
   "cell_type": "code",
   "execution_count": 7,
   "id": "46ac9dbd-d9e5-4622-a470-20e1a5d30766",
   "metadata": {},
   "outputs": [
    {
     "data": {
      "text/plain": [
       "True"
      ]
     },
     "execution_count": 7,
     "metadata": {},
     "output_type": "execute_result"
    }
   ],
   "source": [
    "data_dir = save_path / \"2025-06-27_01-34-00_EastWest_perturbate-inputs\"\n",
    "# data_dir = save_path / \"2025-06-27_01-34-59_LeftRight_perturbate-inputs\"\n",
    "data_dir.exists()"
   ]
  },
  {
   "cell_type": "code",
   "execution_count": 8,
   "id": "365b8e4a-f152-4b88-a196-4c2b62f7c388",
   "metadata": {},
   "outputs": [
    {
     "data": {
      "text/plain": [
       "True"
      ]
     },
     "execution_count": 8,
     "metadata": {},
     "output_type": "execute_result"
    }
   ],
   "source": [
    "data_path = data_dir / \"data.tar\"\n",
    "data_path.exists()"
   ]
  },
  {
   "cell_type": "code",
   "execution_count": 9,
   "id": "b77c9e7f-e51f-49d0-b4bf-5cbd09f65928",
   "metadata": {},
   "outputs": [
    {
     "data": {
      "text/plain": [
       "True"
      ]
     },
     "execution_count": 9,
     "metadata": {},
     "output_type": "execute_result"
    }
   ],
   "source": [
    "model_path = data_dir / \"trained-agent-state-0.pt\"\n",
    "model_path.exists()"
   ]
  },
  {
   "cell_type": "code",
   "execution_count": 10,
   "id": "35209a9f-29fe-4a7f-9557-af7dfa198d66",
   "metadata": {},
   "outputs": [
    {
     "data": {
      "text/plain": [
       "[PosixPath('../../save/2025-06-27_01-34-00_EastWest_perturbate-inputs/trained-agent-state-0.pt'),\n",
       " PosixPath('../../save/2025-06-27_01-34-00_EastWest_perturbate-inputs/trained-agent-state-1.pt'),\n",
       " PosixPath('../../save/2025-06-27_01-34-00_EastWest_perturbate-inputs/trained-agent-state-10.pt'),\n",
       " PosixPath('../../save/2025-06-27_01-34-00_EastWest_perturbate-inputs/trained-agent-state-11.pt'),\n",
       " PosixPath('../../save/2025-06-27_01-34-00_EastWest_perturbate-inputs/trained-agent-state-12.pt'),\n",
       " PosixPath('../../save/2025-06-27_01-34-00_EastWest_perturbate-inputs/trained-agent-state-13.pt'),\n",
       " PosixPath('../../save/2025-06-27_01-34-00_EastWest_perturbate-inputs/trained-agent-state-14.pt'),\n",
       " PosixPath('../../save/2025-06-27_01-34-00_EastWest_perturbate-inputs/trained-agent-state-15.pt'),\n",
       " PosixPath('../../save/2025-06-27_01-34-00_EastWest_perturbate-inputs/trained-agent-state-16.pt'),\n",
       " PosixPath('../../save/2025-06-27_01-34-00_EastWest_perturbate-inputs/trained-agent-state-17.pt'),\n",
       " PosixPath('../../save/2025-06-27_01-34-00_EastWest_perturbate-inputs/trained-agent-state-18.pt'),\n",
       " PosixPath('../../save/2025-06-27_01-34-00_EastWest_perturbate-inputs/trained-agent-state-19.pt'),\n",
       " PosixPath('../../save/2025-06-27_01-34-00_EastWest_perturbate-inputs/trained-agent-state-2.pt'),\n",
       " PosixPath('../../save/2025-06-27_01-34-00_EastWest_perturbate-inputs/trained-agent-state-20.pt'),\n",
       " PosixPath('../../save/2025-06-27_01-34-00_EastWest_perturbate-inputs/trained-agent-state-21.pt'),\n",
       " PosixPath('../../save/2025-06-27_01-34-00_EastWest_perturbate-inputs/trained-agent-state-22.pt'),\n",
       " PosixPath('../../save/2025-06-27_01-34-00_EastWest_perturbate-inputs/trained-agent-state-23.pt'),\n",
       " PosixPath('../../save/2025-06-27_01-34-00_EastWest_perturbate-inputs/trained-agent-state-24.pt'),\n",
       " PosixPath('../../save/2025-06-27_01-34-00_EastWest_perturbate-inputs/trained-agent-state-25.pt'),\n",
       " PosixPath('../../save/2025-06-27_01-34-00_EastWest_perturbate-inputs/trained-agent-state-26.pt'),\n",
       " PosixPath('../../save/2025-06-27_01-34-00_EastWest_perturbate-inputs/trained-agent-state-27.pt'),\n",
       " PosixPath('../../save/2025-06-27_01-34-00_EastWest_perturbate-inputs/trained-agent-state-28.pt'),\n",
       " PosixPath('../../save/2025-06-27_01-34-00_EastWest_perturbate-inputs/trained-agent-state-29.pt'),\n",
       " PosixPath('../../save/2025-06-27_01-34-00_EastWest_perturbate-inputs/trained-agent-state-3.pt'),\n",
       " PosixPath('../../save/2025-06-27_01-34-00_EastWest_perturbate-inputs/trained-agent-state-4.pt'),\n",
       " PosixPath('../../save/2025-06-27_01-34-00_EastWest_perturbate-inputs/trained-agent-state-5.pt'),\n",
       " PosixPath('../../save/2025-06-27_01-34-00_EastWest_perturbate-inputs/trained-agent-state-6.pt'),\n",
       " PosixPath('../../save/2025-06-27_01-34-00_EastWest_perturbate-inputs/trained-agent-state-7.pt'),\n",
       " PosixPath('../../save/2025-06-27_01-34-00_EastWest_perturbate-inputs/trained-agent-state-8.pt'),\n",
       " PosixPath('../../save/2025-06-27_01-34-00_EastWest_perturbate-inputs/trained-agent-state-9.pt')]"
      ]
     },
     "execution_count": 10,
     "metadata": {},
     "output_type": "execute_result"
    }
   ],
   "source": [
    "trained_agents_states = list(data_dir.glob(\"trained-agent-state*.pt\"))\n",
    "trained_agents_states"
   ]
  },
  {
   "cell_type": "code",
   "execution_count": 11,
   "id": "5d26f8e7-46df-4eec-8e21-c0a77997d899",
   "metadata": {},
   "outputs": [
    {
     "data": {
      "text/plain": [
       "30"
      ]
     },
     "execution_count": 11,
     "metadata": {},
     "output_type": "execute_result"
    }
   ],
   "source": [
    "len(trained_agents_states)"
   ]
  },
  {
   "cell_type": "code",
   "execution_count": 12,
   "id": "4886e019-754b-4059-b749-f49cc9840595",
   "metadata": {},
   "outputs": [],
   "source": [
    "data_dict = torch.load(data_path, weights_only=False, map_location=DEVICE)\n",
    "\n",
    "# Access individual arrays by their names\n",
    "p = data_dict[\"p\"]\n",
    "env = data_dict[\"env\"]\n",
    "net = data_dict[\"net\"]"
   ]
  },
  {
   "cell_type": "markdown",
   "id": "aad40683-a750-4804-89f9-4e3db5b4c5a8",
   "metadata": {},
   "source": [
    "## Inference loop"
   ]
  },
  {
   "cell_type": "code",
   "execution_count": 13,
   "id": "cfcf5dd4-336c-4d35-a881-b3ae94dfb113",
   "metadata": {},
   "outputs": [],
   "source": [
    "def ablate_state(state, keep, silence=True):\n",
    "    new_state = state\n",
    "    if keep == \"cartesian\":\n",
    "        idx = torch.arange(start=11, end=21, device=DEVICE)\n",
    "    elif keep == \"polar\":\n",
    "        idx = torch.arange(start=3, end=11, device=DEVICE)\n",
    "    else:\n",
    "        raise ValueError(\"The state to keep can only be either 'polar' or 'cartesian'\")\n",
    "    if silence:\n",
    "        repl_val = 0\n",
    "    else:\n",
    "        if len(state.shape) > 1:\n",
    "            repl_val = torch.rand((state.shape[0], len(idx)), device=DEVICE)\n",
    "        else:\n",
    "            repl_val = torch.rand(len(idx), device=DEVICE)\n",
    "    if len(state.shape) > 1:\n",
    "        new_state[:, idx] = repl_val\n",
    "    else:\n",
    "        new_state[idx] = repl_val\n",
    "    return new_state"
   ]
  },
  {
   "cell_type": "code",
   "execution_count": 14,
   "id": "50186a54-0dd4-4285-a7d3-8b0ea040fab6",
   "metadata": {},
   "outputs": [],
   "source": [
    "# state = env.reset()  # Reset the environment\n",
    "# state = state.clone().float().detach().to(DEVICE)\n",
    "# state"
   ]
  },
  {
   "cell_type": "code",
   "execution_count": 15,
   "id": "7c11055b-c03b-422f-b406-b7cfdf482014",
   "metadata": {},
   "outputs": [],
   "source": [
    "# ablate_state(state=state, keep=keep, silence=silence)"
   ]
  },
  {
   "cell_type": "code",
   "execution_count": 16,
   "id": "dee54451-edbf-4f5b-af84-80534081fde0",
   "metadata": {},
   "outputs": [],
   "source": [
    "# state_batch = torch.tile(state, (3,1))\n",
    "# state_batch"
   ]
  },
  {
   "cell_type": "code",
   "execution_count": 17,
   "id": "8972683b-f885-43b3-978c-5eb42285f884",
   "metadata": {},
   "outputs": [],
   "source": [
    "# ablate_state(state=state_batch, keep=keep, silence=silence)"
   ]
  },
  {
   "cell_type": "code",
   "execution_count": 18,
   "id": "c8fafa37-d491-438d-8076-b7cea16afcc2",
   "metadata": {},
   "outputs": [],
   "source": [
    "episodes = torch.arange(total_episodes, device=DEVICE).to(dtype=torch.int)\n",
    "replay_buffer = deque([], maxlen=p.replay_buffer_max_size)"
   ]
  },
  {
   "cell_type": "code",
   "execution_count": 19,
   "id": "aec1e4cd-a734-4b5c-8442-3194a78d88f3",
   "metadata": {},
   "outputs": [],
   "source": [
    "Transition = namedtuple(\n",
    "    \"Transition\", (\"state\", \"action\", \"reward\", \"next_state\", \"done\")\n",
    ")"
   ]
  },
  {
   "cell_type": "code",
   "execution_count": 20,
   "id": "fff8aa39-f4bd-4944-95cf-fc1e1eb14a13",
   "metadata": {},
   "outputs": [],
   "source": [
    "net, _ = neural_network(\n",
    "    n_observations=p.n_observations,\n",
    "    n_actions=p.n_actions,\n",
    "    nHiddenUnits=p.n_hidden_units,\n",
    ")  # Reset weights"
   ]
  },
  {
   "cell_type": "code",
   "execution_count": 21,
   "id": "f17b42f7-466d-4324-ac92-b259f6d2066d",
   "metadata": {},
   "outputs": [],
   "source": [
    "# # Load trained state from data\n",
    "# trained_state_dict = torch.load(model_path, weights_only=True, map_location=DEVICE)\n",
    "# net.load_state_dict(trained_state_dict)\n",
    "# # target_net.load_state_dict(trained_state_dict)"
   ]
  },
  {
   "cell_type": "code",
   "execution_count": 22,
   "id": "aaef8e8e-0b8d-4ee4-bf03-31d7d0cbc4ff",
   "metadata": {},
   "outputs": [],
   "source": [
    "# optimizer = optim.AdamW(net.parameters(), lr=p.alpha, amsgrad=True)\n",
    "explorer = EpsilonGreedy(\n",
    "    epsilon=p.epsilon_max,\n",
    "    epsilon_min=p.epsilon_min,\n",
    "    epsilon_max=p.epsilon_max,\n",
    "    decay_rate=p.decay_rate,\n",
    "    epsilon_warmup=p.epsilon_warmup,\n",
    ")"
   ]
  },
  {
   "cell_type": "code",
   "execution_count": 23,
   "id": "44180de2-d00e-4720-91cd-aa8150f71004",
   "metadata": {},
   "outputs": [
    {
     "data": {
      "text/plain": [
       "0.1"
      ]
     },
     "execution_count": 23,
     "metadata": {},
     "output_type": "execute_result"
    }
   ],
   "source": [
    "p.epsilon_min"
   ]
  },
  {
   "cell_type": "code",
   "execution_count": 24,
   "id": "d481527a-ec5c-46dc-b011-ecea3011a2dc",
   "metadata": {},
   "outputs": [
    {
     "data": {
      "text/plain": [
       "0.2"
      ]
     },
     "execution_count": 24,
     "metadata": {},
     "output_type": "execute_result"
    }
   ],
   "source": [
    "explorer.epsilon = 0.2\n",
    "explorer.epsilon"
   ]
  },
  {
   "cell_type": "code",
   "execution_count": 25,
   "id": "b1f14664-8c19-4d15-8b84-bc5414f3ce9c",
   "metadata": {},
   "outputs": [],
   "source": [
    "n_runs = len(trained_agents_states)\n",
    "# run = 0\n",
    "rewards = torch.zeros((total_episodes, n_runs), device=DEVICE)\n",
    "steps = torch.zeros((total_episodes, n_runs), device=DEVICE)"
   ]
  },
  {
   "cell_type": "code",
   "execution_count": 26,
   "id": "ac183488-8c04-4c37-8466-49fddccd7ca2",
   "metadata": {},
   "outputs": [
    {
     "data": {
      "application/vnd.jupyter.widget-view+json": {
       "model_id": "b88ef76643ba4824b2372a1246452b7c",
       "version_major": 2,
       "version_minor": 0
      },
      "text/plain": [
       "Run 1/30 - Episodes:   0%|          | 0/100 [00:00<?, ?it/s]"
      ]
     },
     "metadata": {},
     "output_type": "display_data"
    },
    {
     "data": {
      "application/vnd.jupyter.widget-view+json": {
       "model_id": "56e880e3cc5049d282482cc2303a2e60",
       "version_major": 2,
       "version_minor": 0
      },
      "text/plain": [
       "Run 2/30 - Episodes:   0%|          | 0/100 [00:00<?, ?it/s]"
      ]
     },
     "metadata": {},
     "output_type": "display_data"
    },
    {
     "data": {
      "application/vnd.jupyter.widget-view+json": {
       "model_id": "ba83d1fc50ba483ebc3689fa07fd025c",
       "version_major": 2,
       "version_minor": 0
      },
      "text/plain": [
       "Run 3/30 - Episodes:   0%|          | 0/100 [00:00<?, ?it/s]"
      ]
     },
     "metadata": {},
     "output_type": "display_data"
    },
    {
     "data": {
      "application/vnd.jupyter.widget-view+json": {
       "model_id": "7318592945864348b3c45e8bedf5d7b9",
       "version_major": 2,
       "version_minor": 0
      },
      "text/plain": [
       "Run 4/30 - Episodes:   0%|          | 0/100 [00:00<?, ?it/s]"
      ]
     },
     "metadata": {},
     "output_type": "display_data"
    },
    {
     "data": {
      "application/vnd.jupyter.widget-view+json": {
       "model_id": "1d52b8b9327348bd8081dcdb4cf31c3b",
       "version_major": 2,
       "version_minor": 0
      },
      "text/plain": [
       "Run 5/30 - Episodes:   0%|          | 0/100 [00:00<?, ?it/s]"
      ]
     },
     "metadata": {},
     "output_type": "display_data"
    },
    {
     "data": {
      "application/vnd.jupyter.widget-view+json": {
       "model_id": "a4169ce435184890939d762fe4cbb456",
       "version_major": 2,
       "version_minor": 0
      },
      "text/plain": [
       "Run 6/30 - Episodes:   0%|          | 0/100 [00:00<?, ?it/s]"
      ]
     },
     "metadata": {},
     "output_type": "display_data"
    },
    {
     "data": {
      "application/vnd.jupyter.widget-view+json": {
       "model_id": "770a4382f2f34e13b6b0b9bbdf42ebd8",
       "version_major": 2,
       "version_minor": 0
      },
      "text/plain": [
       "Run 7/30 - Episodes:   0%|          | 0/100 [00:00<?, ?it/s]"
      ]
     },
     "metadata": {},
     "output_type": "display_data"
    },
    {
     "data": {
      "application/vnd.jupyter.widget-view+json": {
       "model_id": "235ca736c61d4f47bb8ddf6f81205b26",
       "version_major": 2,
       "version_minor": 0
      },
      "text/plain": [
       "Run 8/30 - Episodes:   0%|          | 0/100 [00:00<?, ?it/s]"
      ]
     },
     "metadata": {},
     "output_type": "display_data"
    },
    {
     "data": {
      "application/vnd.jupyter.widget-view+json": {
       "model_id": "9e70e2013e604456b0f1cb2bcc6afe06",
       "version_major": 2,
       "version_minor": 0
      },
      "text/plain": [
       "Run 9/30 - Episodes:   0%|          | 0/100 [00:00<?, ?it/s]"
      ]
     },
     "metadata": {},
     "output_type": "display_data"
    },
    {
     "data": {
      "application/vnd.jupyter.widget-view+json": {
       "model_id": "7c42e12f60d5431cb4729a8a902a57dd",
       "version_major": 2,
       "version_minor": 0
      },
      "text/plain": [
       "Run 10/30 - Episodes:   0%|          | 0/100 [00:00<?, ?it/s]"
      ]
     },
     "metadata": {},
     "output_type": "display_data"
    },
    {
     "data": {
      "application/vnd.jupyter.widget-view+json": {
       "model_id": "1b6e0e05bbab4b8b8a0d72af2c7c2b4c",
       "version_major": 2,
       "version_minor": 0
      },
      "text/plain": [
       "Run 11/30 - Episodes:   0%|          | 0/100 [00:00<?, ?it/s]"
      ]
     },
     "metadata": {},
     "output_type": "display_data"
    },
    {
     "data": {
      "application/vnd.jupyter.widget-view+json": {
       "model_id": "3de32bfef08a47d8ba641c3d1df1b517",
       "version_major": 2,
       "version_minor": 0
      },
      "text/plain": [
       "Run 12/30 - Episodes:   0%|          | 0/100 [00:00<?, ?it/s]"
      ]
     },
     "metadata": {},
     "output_type": "display_data"
    },
    {
     "data": {
      "application/vnd.jupyter.widget-view+json": {
       "model_id": "830c41fb3b094136adc53717b6add22e",
       "version_major": 2,
       "version_minor": 0
      },
      "text/plain": [
       "Run 13/30 - Episodes:   0%|          | 0/100 [00:00<?, ?it/s]"
      ]
     },
     "metadata": {},
     "output_type": "display_data"
    },
    {
     "data": {
      "application/vnd.jupyter.widget-view+json": {
       "model_id": "c52423bd63e94dfcab867c3188599603",
       "version_major": 2,
       "version_minor": 0
      },
      "text/plain": [
       "Run 14/30 - Episodes:   0%|          | 0/100 [00:00<?, ?it/s]"
      ]
     },
     "metadata": {},
     "output_type": "display_data"
    },
    {
     "data": {
      "application/vnd.jupyter.widget-view+json": {
       "model_id": "45b29658874245e098b34c77590bb499",
       "version_major": 2,
       "version_minor": 0
      },
      "text/plain": [
       "Run 15/30 - Episodes:   0%|          | 0/100 [00:00<?, ?it/s]"
      ]
     },
     "metadata": {},
     "output_type": "display_data"
    },
    {
     "data": {
      "application/vnd.jupyter.widget-view+json": {
       "model_id": "8a5128e0a539450c838a7dfaea56ffcf",
       "version_major": 2,
       "version_minor": 0
      },
      "text/plain": [
       "Run 16/30 - Episodes:   0%|          | 0/100 [00:00<?, ?it/s]"
      ]
     },
     "metadata": {},
     "output_type": "display_data"
    },
    {
     "data": {
      "application/vnd.jupyter.widget-view+json": {
       "model_id": "f344645f2941444f8477aa64acf2742e",
       "version_major": 2,
       "version_minor": 0
      },
      "text/plain": [
       "Run 17/30 - Episodes:   0%|          | 0/100 [00:00<?, ?it/s]"
      ]
     },
     "metadata": {},
     "output_type": "display_data"
    },
    {
     "data": {
      "application/vnd.jupyter.widget-view+json": {
       "model_id": "48b63323f5984228893f4a51d7af6293",
       "version_major": 2,
       "version_minor": 0
      },
      "text/plain": [
       "Run 18/30 - Episodes:   0%|          | 0/100 [00:00<?, ?it/s]"
      ]
     },
     "metadata": {},
     "output_type": "display_data"
    },
    {
     "data": {
      "application/vnd.jupyter.widget-view+json": {
       "model_id": "a28e5c97be8247a8be5744c76434c800",
       "version_major": 2,
       "version_minor": 0
      },
      "text/plain": [
       "Run 19/30 - Episodes:   0%|          | 0/100 [00:00<?, ?it/s]"
      ]
     },
     "metadata": {},
     "output_type": "display_data"
    },
    {
     "data": {
      "application/vnd.jupyter.widget-view+json": {
       "model_id": "82b05845ac414503b8a739982d91431c",
       "version_major": 2,
       "version_minor": 0
      },
      "text/plain": [
       "Run 20/30 - Episodes:   0%|          | 0/100 [00:00<?, ?it/s]"
      ]
     },
     "metadata": {},
     "output_type": "display_data"
    },
    {
     "data": {
      "application/vnd.jupyter.widget-view+json": {
       "model_id": "33af6d3dd36e49ca8406779ec2e592f9",
       "version_major": 2,
       "version_minor": 0
      },
      "text/plain": [
       "Run 21/30 - Episodes:   0%|          | 0/100 [00:00<?, ?it/s]"
      ]
     },
     "metadata": {},
     "output_type": "display_data"
    },
    {
     "data": {
      "application/vnd.jupyter.widget-view+json": {
       "model_id": "abeb723ce2044eddab03cf76baff1358",
       "version_major": 2,
       "version_minor": 0
      },
      "text/plain": [
       "Run 22/30 - Episodes:   0%|          | 0/100 [00:00<?, ?it/s]"
      ]
     },
     "metadata": {},
     "output_type": "display_data"
    },
    {
     "data": {
      "application/vnd.jupyter.widget-view+json": {
       "model_id": "506a06702f8344efacd7fed9a17cca92",
       "version_major": 2,
       "version_minor": 0
      },
      "text/plain": [
       "Run 23/30 - Episodes:   0%|          | 0/100 [00:00<?, ?it/s]"
      ]
     },
     "metadata": {},
     "output_type": "display_data"
    },
    {
     "data": {
      "application/vnd.jupyter.widget-view+json": {
       "model_id": "5c6cc7c31f434966855ce83f8e773336",
       "version_major": 2,
       "version_minor": 0
      },
      "text/plain": [
       "Run 24/30 - Episodes:   0%|          | 0/100 [00:00<?, ?it/s]"
      ]
     },
     "metadata": {},
     "output_type": "display_data"
    },
    {
     "data": {
      "application/vnd.jupyter.widget-view+json": {
       "model_id": "566bd7b96bc44e16974eaf2f04120cce",
       "version_major": 2,
       "version_minor": 0
      },
      "text/plain": [
       "Run 25/30 - Episodes:   0%|          | 0/100 [00:00<?, ?it/s]"
      ]
     },
     "metadata": {},
     "output_type": "display_data"
    },
    {
     "data": {
      "application/vnd.jupyter.widget-view+json": {
       "model_id": "83ef021d6a0d4ae79e76735bc8ccf764",
       "version_major": 2,
       "version_minor": 0
      },
      "text/plain": [
       "Run 26/30 - Episodes:   0%|          | 0/100 [00:00<?, ?it/s]"
      ]
     },
     "metadata": {},
     "output_type": "display_data"
    },
    {
     "data": {
      "application/vnd.jupyter.widget-view+json": {
       "model_id": "610e18d12cf04c78b028612e73976d40",
       "version_major": 2,
       "version_minor": 0
      },
      "text/plain": [
       "Run 27/30 - Episodes:   0%|          | 0/100 [00:00<?, ?it/s]"
      ]
     },
     "metadata": {},
     "output_type": "display_data"
    },
    {
     "data": {
      "application/vnd.jupyter.widget-view+json": {
       "model_id": "dc6baa4c315141bebbc0ccdb5a657b3a",
       "version_major": 2,
       "version_minor": 0
      },
      "text/plain": [
       "Run 28/30 - Episodes:   0%|          | 0/100 [00:00<?, ?it/s]"
      ]
     },
     "metadata": {},
     "output_type": "display_data"
    },
    {
     "data": {
      "application/vnd.jupyter.widget-view+json": {
       "model_id": "f4ba6c2e1a4e4d81aff31551c358bc34",
       "version_major": 2,
       "version_minor": 0
      },
      "text/plain": [
       "Run 29/30 - Episodes:   0%|          | 0/100 [00:00<?, ?it/s]"
      ]
     },
     "metadata": {},
     "output_type": "display_data"
    },
    {
     "data": {
      "application/vnd.jupyter.widget-view+json": {
       "model_id": "9ed24bc87fbb4089857ef93ae77f81cc",
       "version_major": 2,
       "version_minor": 0
      },
      "text/plain": [
       "Run 30/30 - Episodes:   0%|          | 0/100 [00:00<?, ?it/s]"
      ]
     },
     "metadata": {},
     "output_type": "display_data"
    }
   ],
   "source": [
    "for run in range(n_runs):  # Run several times to account for stochasticity\n",
    "    # Load trained state from data\n",
    "    trained_state_dict = torch.load(trained_agents_states[run], weights_only=True, map_location=DEVICE)\n",
    "    net.load_state_dict(trained_state_dict)\n",
    "\n",
    "    for episode in tqdm(\n",
    "        episodes, desc=f\"Run {run + 1}/{n_runs} - Episodes\", leave=False\n",
    "    ):\n",
    "        state = env.reset()  # Reset the environment\n",
    "        state = state.clone().float().detach().to(DEVICE)\n",
    "        step_count = 0\n",
    "        done = False\n",
    "        total_rewards = 0\n",
    "        loss = torch.ones(1, device=DEVICE) * torch.nan\n",
    "        \n",
    "        while not done:\n",
    "            state_action_values = net(ablate_state(state=state, keep=keep, silence=silence)).to(DEVICE)  # Q(s_t)\n",
    "            action = explorer.choose_action(\n",
    "                action_space=env.action_space,\n",
    "                state=state,\n",
    "                state_action_values=state_action_values,\n",
    "            ).item()\n",
    "        \n",
    "            # # Record states and actions\n",
    "            # all_states[run][episode].append(state.cpu())\n",
    "            # all_actions[run][episode].append(Actions(action).name)\n",
    "        \n",
    "            next_state, reward, done = env.step(\n",
    "                action=action,\n",
    "                current_state=state,\n",
    "                use_internal_state=USE_INTERNAL_STATE,\n",
    "            )\n",
    "            if USE_INTERNAL_STATE:\n",
    "                env.current_state = env.conv_flat_duplicated_coords_to_dict(\n",
    "                    next_state\n",
    "                )\n",
    "        \n",
    "            # Store transition in replay buffer\n",
    "            # [current_state (2 or 28 x1), action (1x1), next_state (2 or 28 x1),\n",
    "            # reward (1x1), done (1x1 bool)]\n",
    "            done = torch.tensor(done, device=DEVICE).unsqueeze(-1)\n",
    "            replay_buffer.append(\n",
    "                Transition(\n",
    "                    state,\n",
    "                    action,\n",
    "                    reward,\n",
    "                    next_state,\n",
    "                    done,\n",
    "                )\n",
    "            )\n",
    "        \n",
    "            total_rewards += reward\n",
    "            step_count += 1\n",
    "        \n",
    "            # Move to the next state\n",
    "            state = next_state\n",
    "        \n",
    "            # explorer.epsilon = explorer.update_epsilon(episode)\n",
    "        #     epsilons.append(explorer.epsilon)\n",
    "        \n",
    "        # all_states[run][episode].append(state.cpu())\n",
    "        rewards[episode, run] = total_rewards\n",
    "        steps[episode, run] = step_count\n",
    "        # logger.info(\n",
    "        #     f\"Run: {run + 1}/{p.n_runs} - Episode: {episode + 1}/{p.total_episodes}\"\n",
    "        #     f\" - Steps: {step_count} - Loss: {loss.item()}\"\n",
    "        #     f\" - epsilon: {explorer.epsilon}\"\n",
    "        # )"
   ]
  },
  {
   "cell_type": "markdown",
   "id": "ce5e9fb6-073b-43e1-8fde-fc20b603314f",
   "metadata": {},
   "source": [
    "## Vizualization"
   ]
  },
  {
   "cell_type": "code",
   "execution_count": 27,
   "id": "73f67d79-75e6-4613-bd20-ce88808b7a88",
   "metadata": {},
   "outputs": [
    {
     "data": {
      "text/html": [
       "<div>\n",
       "<style scoped>\n",
       "    .dataframe tbody tr th:only-of-type {\n",
       "        vertical-align: middle;\n",
       "    }\n",
       "\n",
       "    .dataframe tbody tr th {\n",
       "        vertical-align: top;\n",
       "    }\n",
       "\n",
       "    .dataframe thead th {\n",
       "        text-align: right;\n",
       "    }\n",
       "</style>\n",
       "<table border=\"1\" class=\"dataframe\">\n",
       "  <thead>\n",
       "    <tr style=\"text-align: right;\">\n",
       "      <th></th>\n",
       "      <th>Episodes</th>\n",
       "      <th>Rewards</th>\n",
       "      <th>Steps</th>\n",
       "    </tr>\n",
       "  </thead>\n",
       "  <tbody>\n",
       "    <tr>\n",
       "      <th>0</th>\n",
       "      <td>0</td>\n",
       "      <td>1.0</td>\n",
       "      <td>63.0</td>\n",
       "    </tr>\n",
       "    <tr>\n",
       "      <th>1</th>\n",
       "      <td>1</td>\n",
       "      <td>1.0</td>\n",
       "      <td>344.0</td>\n",
       "    </tr>\n",
       "    <tr>\n",
       "      <th>2</th>\n",
       "      <td>2</td>\n",
       "      <td>1.0</td>\n",
       "      <td>22.0</td>\n",
       "    </tr>\n",
       "    <tr>\n",
       "      <th>3</th>\n",
       "      <td>3</td>\n",
       "      <td>1.0</td>\n",
       "      <td>49.0</td>\n",
       "    </tr>\n",
       "    <tr>\n",
       "      <th>4</th>\n",
       "      <td>4</td>\n",
       "      <td>1.0</td>\n",
       "      <td>36.0</td>\n",
       "    </tr>\n",
       "    <tr>\n",
       "      <th>...</th>\n",
       "      <td>...</td>\n",
       "      <td>...</td>\n",
       "      <td>...</td>\n",
       "    </tr>\n",
       "    <tr>\n",
       "      <th>2995</th>\n",
       "      <td>95</td>\n",
       "      <td>0.0</td>\n",
       "      <td>73.0</td>\n",
       "    </tr>\n",
       "    <tr>\n",
       "      <th>2996</th>\n",
       "      <td>96</td>\n",
       "      <td>0.0</td>\n",
       "      <td>67.0</td>\n",
       "    </tr>\n",
       "    <tr>\n",
       "      <th>2997</th>\n",
       "      <td>97</td>\n",
       "      <td>1.0</td>\n",
       "      <td>98.0</td>\n",
       "    </tr>\n",
       "    <tr>\n",
       "      <th>2998</th>\n",
       "      <td>98</td>\n",
       "      <td>1.0</td>\n",
       "      <td>48.0</td>\n",
       "    </tr>\n",
       "    <tr>\n",
       "      <th>2999</th>\n",
       "      <td>99</td>\n",
       "      <td>1.0</td>\n",
       "      <td>75.0</td>\n",
       "    </tr>\n",
       "  </tbody>\n",
       "</table>\n",
       "<p>3000 rows × 3 columns</p>\n",
       "</div>"
      ],
      "text/plain": [
       "      Episodes  Rewards  Steps\n",
       "0            0      1.0   63.0\n",
       "1            1      1.0  344.0\n",
       "2            2      1.0   22.0\n",
       "3            3      1.0   49.0\n",
       "4            4      1.0   36.0\n",
       "...        ...      ...    ...\n",
       "2995        95      0.0   73.0\n",
       "2996        96      0.0   67.0\n",
       "2997        97      1.0   98.0\n",
       "2998        98      1.0   48.0\n",
       "2999        99      1.0   75.0\n",
       "\n",
       "[3000 rows x 3 columns]"
      ]
     },
     "execution_count": 27,
     "metadata": {},
     "output_type": "execute_result"
    }
   ],
   "source": [
    "rew_steps_df = utils.postprocess_rewards_steps(\n",
    "    episodes=episodes, n_runs=n_runs, rewards=rewards, steps=steps\n",
    ")\n",
    "rew_steps_df"
   ]
  },
  {
   "cell_type": "code",
   "execution_count": 28,
   "id": "555cb855-ca33-4a12-a52d-1a7e31c6affe",
   "metadata": {},
   "outputs": [
    {
     "data": {
      "image/png": "[encoded data removed]",
      "text/plain": [
       "<Figure size 1500x500 with 2 Axes>"
      ]
     },
     "metadata": {
      "needs_background": "light"
     },
     "output_type": "display_data"
    }
   ],
   "source": [
    "viz.plot_steps_and_rewards(\n",
    "    rew_steps_df, n_runs=n_runs\n",
    ")"
   ]
  },
  {
   "cell_type": "markdown",
   "id": "c9e75a2f-1dc3-4f75-a0c1-bd6ecdc32d04",
   "metadata": {},
   "source": [
    "# Debug"
   ]
  },
  {
   "cell_type": "markdown",
   "id": "67553222-def2-4ad7-b199-fdd2f351048a",
   "metadata": {},
   "source": [
    "## Initial conditions"
   ]
  },
  {
   "cell_type": "code",
   "execution_count": 29,
   "id": "69585b82-9a91-4c5f-a688-c432e37e38cf",
   "metadata": {},
   "outputs": [
    {
     "data": {
      "text/plain": [
       "0.2"
      ]
     },
     "execution_count": 29,
     "metadata": {},
     "output_type": "execute_result"
    }
   ],
   "source": [
    "explorer.epsilon"
   ]
  },
  {
   "cell_type": "code",
   "execution_count": 30,
   "id": "d3120711-d1c7-4852-8dcb-4af5cea76f88",
   "metadata": {},
   "outputs": [
    {
     "data": {
      "text/plain": [
       "tensor([ 1.0000e+00,  0.0000e+00,  0.0000e+00,  3.0000e+00,  2.0000e+00,\n",
       "        -1.0000e+00,  4.3711e-08,  1.0000e+00,  2.0000e+00,  1.0000e+00,\n",
       "        -4.3711e-08,  3.6056e+00,  8.3205e-01,  5.5470e-01, -8.3205e-01,\n",
       "         5.5470e-01,  2.2361e+00,  4.4721e-01,  8.9443e-01,  4.4721e-01,\n",
       "        -8.9443e-01])"
      ]
     },
     "execution_count": 30,
     "metadata": {},
     "output_type": "execute_result"
    }
   ],
   "source": [
    "state = env.reset()  # Reset the environment\n",
    "state = state.clone().float().detach().to(DEVICE)\n",
    "state"
   ]
  },
  {
   "cell_type": "code",
   "execution_count": 31,
   "id": "bd655b21-1716-477e-a776-33c9c4f1ce82",
   "metadata": {},
   "outputs": [
    {
     "data": {
      "text/plain": [
       "<TriangleState.lower: 2>"
      ]
     },
     "execution_count": 31,
     "metadata": {},
     "output_type": "execute_result"
    }
   ],
   "source": [
    "env.TriangleState"
   ]
  },
  {
   "cell_type": "code",
   "execution_count": 32,
   "id": "a5844f7b-3b9e-468e-a45b-c0fd8d1142d8",
   "metadata": {},
   "outputs": [
    {
     "data": {
      "text/plain": [
       "<OdorCondition.pre: 1>"
      ]
     },
     "execution_count": 32,
     "metadata": {},
     "output_type": "execute_result"
    }
   ],
   "source": [
    "env.odor_condition"
   ]
  },
  {
   "cell_type": "code",
   "execution_count": 33,
   "id": "df800454-cc8c-48f7-8ba2-0325b2014e61",
   "metadata": {},
   "outputs": [
    {
     "data": {
      "text/plain": [
       "<Cues.OdorA: 1>"
      ]
     },
     "execution_count": 33,
     "metadata": {},
     "output_type": "execute_result"
    }
   ],
   "source": [
    "env.odor_ID"
   ]
  },
  {
   "cell_type": "markdown",
   "id": "c349321b-9c76-497c-9470-61f796170948",
   "metadata": {},
   "source": [
    "## Create tensor"
   ]
  },
  {
   "cell_type": "code",
   "execution_count": 34,
   "id": "5cb6e9f0-2e27-47d8-b3d3-69529771ca80",
   "metadata": {},
   "outputs": [
    {
     "data": {
      "text/plain": [
       "(<Cues.NoOdor: 0>, tensor([90.]), tensor([-1.]), tensor([0.]))"
      ]
     },
     "execution_count": 34,
     "metadata": {},
     "output_type": "execute_result"
    }
   ],
   "source": [
    "dict_state = env.conv_flat_duplicated_coords_to_dict(state)\n",
    "Cues(dict_state[\"cue\"].item()), dict_state[\"direction\"], dict_state[\"x\"], dict_state[\"y\"]"
   ]
  },
  {
   "cell_type": "code",
   "execution_count": 35,
   "id": "b6584b9d-a99e-484f-9100-e5a1b6245a97",
   "metadata": {},
   "outputs": [
    {
     "data": {
      "text/plain": [
       "(tensor([2]), tensor([1]))"
      ]
     },
     "execution_count": 35,
     "metadata": {},
     "output_type": "execute_result"
    }
   ],
   "source": [
    "dict_state[\"x\"] = torch.tensor([2])\n",
    "dict_state[\"y\"] = torch.tensor([1])\n",
    "dict_state[\"x\"], dict_state[\"y\"]"
   ]
  },
  {
   "cell_type": "code",
   "execution_count": 36,
   "id": "0bd48d4c-6658-47d3-851f-d3029594472f",
   "metadata": {},
   "outputs": [
    {
     "data": {
      "text/plain": [
       "tensor([ 1.0000e+00,  0.0000e+00,  0.0000e+00,  0.0000e+00,  1.0000e+00,\n",
       "        -1.0000e+00,  4.3711e-08,  4.0000e+00,  3.0000e+00,  1.0000e+00,\n",
       "        -4.3711e-08,  1.0000e+00, -4.3711e-08,  1.0000e+00,  1.9471e-07,\n",
       "         1.0000e+00,  5.0000e+00,  8.0000e-01,  6.0000e-01,  8.0000e-01,\n",
       "        -6.0000e-01])"
      ]
     },
     "execution_count": 36,
     "metadata": {},
     "output_type": "execute_result"
    }
   ],
   "source": [
    "conv_state = env.conv_dict_to_flat_duplicated_coords(dict_state)\n",
    "conv_state"
   ]
  },
  {
   "cell_type": "code",
   "execution_count": 37,
   "id": "70d3314f-bc00-4496-982f-53806b0ea72e",
   "metadata": {},
   "outputs": [
    {
     "data": {
      "text/plain": [
       "tensor([ 1.0000e+00,  0.0000e+00,  0.0000e+00,  0.0000e+00,  0.0000e+00,\n",
       "         0.0000e+00,  0.0000e+00,  0.0000e+00,  0.0000e+00,  0.0000e+00,\n",
       "         0.0000e+00,  1.0000e+00, -4.3711e-08,  1.0000e+00,  1.9471e-07,\n",
       "         1.0000e+00,  5.0000e+00,  8.0000e-01,  6.0000e-01,  8.0000e-01,\n",
       "        -6.0000e-01])"
      ]
     },
     "execution_count": 37,
     "metadata": {},
     "output_type": "execute_result"
    }
   ],
   "source": [
    "state_ablated = ablate_state(state=conv_state, keep=keep, silence=silence)\n",
    "state_ablated"
   ]
  },
  {
   "cell_type": "code",
   "execution_count": 38,
   "id": "8e701417-cb7e-4721-95ff-c48cfdb005fc",
   "metadata": {},
   "outputs": [],
   "source": [
    "# dict_state_ablated = env.conv_flat_duplicated_coords_to_dict(state_ablated)\n",
    "# Cues(dict_state_ablated[\"cue\"].item()), dict_state_ablated[\"direction\"], dict_state_ablated[\"x\"], dict_state_ablated[\"y\"]"
   ]
  },
  {
   "cell_type": "code",
   "execution_count": 39,
   "id": "bef4b35e-5b0a-4795-a604-b45a31ff3a5f",
   "metadata": {},
   "outputs": [
    {
     "data": {
      "text/plain": [
       "tensor([0.6151, 0.5020, 0.4834], grad_fn=<ViewBackward0>)"
      ]
     },
     "execution_count": 39,
     "metadata": {},
     "output_type": "execute_result"
    }
   ],
   "source": [
    "state_action_values = net(state_ablated).to(DEVICE)  # Q(s_t)\n",
    "state_action_values"
   ]
  },
  {
   "cell_type": "code",
   "execution_count": 40,
   "id": "fc01ff46-b876-4e5f-bcd6-17f5a342be5f",
   "metadata": {},
   "outputs": [
    {
     "data": {
      "text/plain": [
       "<Actions.forward: 0>"
      ]
     },
     "execution_count": 40,
     "metadata": {},
     "output_type": "execute_result"
    }
   ],
   "source": [
    "Actions(state_action_values.argmax().item())"
   ]
  },
  {
   "cell_type": "code",
   "execution_count": 41,
   "id": "c9b7def2-210e-4461-9e01-884011e2e798",
   "metadata": {},
   "outputs": [],
   "source": [
    "# action = explorer.choose_action(\n",
    "#     action_space=env.action_space,\n",
    "#     state=state,\n",
    "#     state_action_values=state_action_values,\n",
    "# ).item()\n",
    "# action"
   ]
  },
  {
   "cell_type": "code",
   "execution_count": 42,
   "id": "a93ea76e-dbb2-44a3-8b54-33e0b2a61fa2",
   "metadata": {},
   "outputs": [
    {
     "data": {
      "text/plain": [
       "(tensor([ 1.0000,  0.0000,  0.0000,  3.0000,  1.0000, -0.0000, -1.0000,  1.0000,\n",
       "          3.0000,  0.0000,  1.0000,  3.1623,  0.9487,  0.3162, -0.3162, -0.9487,\n",
       "          3.1623,  0.3162,  0.9487,  0.9487,  0.3162]),\n",
       " tensor([0.]),\n",
       " False)"
      ]
     },
     "execution_count": 42,
     "metadata": {},
     "output_type": "execute_result"
    }
   ],
   "source": [
    "next_state, reward, done = env.step(action=action, current_state=state)\n",
    "next_state, reward, done "
   ]
  },
  {
   "cell_type": "code",
   "execution_count": 43,
   "id": "02beb236-8937-43d4-b96c-8e7d75c1fd5d",
   "metadata": {},
   "outputs": [
    {
     "data": {
      "text/plain": [
       "(<Cues.NoOdor: 0>, tensor([0.]), tensor([-1.]), tensor([1.]))"
      ]
     },
     "execution_count": 43,
     "metadata": {},
     "output_type": "execute_result"
    }
   ],
   "source": [
    "dict_next_state = env.conv_flat_duplicated_coords_to_dict(next_state)\n",
    "Cues(dict_next_state[\"cue\"].item()), dict_next_state[\"direction\"], dict_next_state[\"x\"], dict_next_state[\"y\"]"
   ]
  },
  {
   "cell_type": "code",
   "execution_count": 44,
   "id": "7fb69fb7-4e86-421d-9337-69c8c7a3967b",
   "metadata": {},
   "outputs": [
    {
     "data": {
      "text/plain": [
       "tensor([ 1.0000,  0.0000,  0.0000,  0.0000,  0.0000,  0.0000,  0.0000,  0.0000,\n",
       "         0.0000,  0.0000,  0.0000,  3.1623,  0.9487,  0.3162, -0.3162, -0.9487,\n",
       "         3.1623,  0.3162,  0.9487,  0.9487,  0.3162])"
      ]
     },
     "execution_count": 44,
     "metadata": {},
     "output_type": "execute_result"
    }
   ],
   "source": [
    "next_state = ablate_state(state=next_state, keep=keep, silence=silence)\n",
    "next_state"
   ]
  },
  {
   "cell_type": "code",
   "execution_count": 45,
   "id": "eff8183f-f891-4911-b367-16d32c5df5f8",
   "metadata": {},
   "outputs": [],
   "source": [
    "# Move to the next state\n",
    "state = next_state"
   ]
  },
  {
   "cell_type": "markdown",
   "id": "e1643a96-be43-4083-96dd-edfefed2f453",
   "metadata": {},
   "source": [
    "## Debug loop"
   ]
  },
  {
   "cell_type": "code",
   "execution_count": 46,
   "id": "5f56da53-bb7a-446c-84d1-a34a869e0dcb",
   "metadata": {},
   "outputs": [
    {
     "name": "stdout",
     "output_type": "stream",
     "text": [
      "TriangleState.lower\n",
      "Cues.OdorB\n"
     ]
    },
    {
     "data": {
      "application/vnd.jupyter.widget-view+json": {
       "model_id": "6c152ac73081404c91872f57cfc22838",
       "version_major": 2,
       "version_minor": 0
      },
      "text/plain": [
       "  0%|          | 0/10 [00:00<?, ?it/s]"
      ]
     },
     "metadata": {},
     "output_type": "display_data"
    },
    {
     "name": "stdout",
     "output_type": "stream",
     "text": [
      "Cues.NoOdor tensor([90.]) tensor([2]) tensor([1])\n",
      "OdorCondition.pre\n",
      "Cues.NoOdor tensor([90.]) tensor([2]) tensor([1])\n",
      "OdorCondition.pre\n",
      "Cues.NoOdor tensor([90.]) tensor([2]) tensor([1])\n",
      "OdorCondition.pre\n",
      "Cues.NoOdor tensor([90.]) tensor([2]) tensor([1])\n",
      "OdorCondition.pre\n",
      "Cues.NoOdor tensor([90.]) tensor([2]) tensor([1])\n",
      "OdorCondition.pre\n",
      "Cues.NoOdor tensor([90.]) tensor([2]) tensor([1])\n",
      "OdorCondition.pre\n",
      "Cues.NoOdor tensor([90.]) tensor([2]) tensor([1])\n",
      "OdorCondition.pre\n",
      "Cues.NoOdor tensor([90.]) tensor([2]) tensor([1])\n",
      "OdorCondition.pre\n",
      "Cues.NoOdor tensor([90.]) tensor([2]) tensor([1])\n",
      "OdorCondition.pre\n",
      "Cues.NoOdor tensor([90.]) tensor([2]) tensor([1])\n",
      "OdorCondition.pre\n"
     ]
    }
   ],
   "source": [
    "explorer.epsilon = 0.5\n",
    "state = env.reset()  # Reset the environment\n",
    "state = state.clone().float().detach().to(DEVICE)\n",
    "print(env.TriangleState)\n",
    "print(env.odor_ID)\n",
    "\n",
    "for istep in tqdm(range(10)):\n",
    "    print(Cues(dict_state[\"cue\"].item()), dict_state[\"direction\"], dict_state[\"x\"], dict_state[\"y\"])\n",
    "    state_action_values = net(ablate_state(state=state, keep=keep, silence=silence)).to(DEVICE)  # Q(s_t)\n",
    "    action = explorer.choose_action(\n",
    "        action_space=env.action_space,\n",
    "        state=state,\n",
    "        state_action_values=state_action_values,\n",
    "    ).item()\n",
    "    next_state, reward, done = env.step(action=action, current_state=state)\n",
    "\n",
    "    print(env.odor_condition)\n",
    "    \n",
    "    if done:\n",
    "        print(\"Done!\")\n",
    "        break\n",
    "\n",
    "    state = next_state"
   ]
  }
 ],
 "metadata": {
  "kernelspec": {
   "display_name": "Python 3 (ipykernel)",
   "language": "python",
   "name": "python3"
  },
  "language_info": {
   "codemirror_mode": {
    "name": "ipython",
    "version": 3
   },
   "file_extension": ".py",
   "mimetype": "text/x-python",
   "name": "python",
   "nbconvert_exporter": "python",
   "pygments_lexer": "ipython3",
   "version": "3.13.3"
  }
 },
 "nbformat": 4,
 "nbformat_minor": 5
}
