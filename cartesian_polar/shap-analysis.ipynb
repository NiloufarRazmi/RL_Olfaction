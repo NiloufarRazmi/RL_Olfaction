{
 "cells": [
  {
   "cell_type": "code",
   "execution_count": 175,
   "id": "7ec941b6",
   "metadata": {},
   "outputs": [],
   "source": [
    "import shap\n",
    "import torch\n",
    "import numpy as np\n",
    "from pathlib import Path\n",
    "from agent import DQN\n",
    "import random\n",
    "import matplotlib.pyplot as plt"
   ]
  },
  {
   "cell_type": "markdown",
   "id": "1c5f18cc",
   "metadata": {},
   "source": [
    "## Setting DQN Model"
   ]
  },
  {
   "cell_type": "code",
   "execution_count": 3,
   "id": "2a735d58",
   "metadata": {},
   "outputs": [],
   "source": [
    "DEVICE = torch.device(\"cuda\" if torch.cuda.is_available() else \"cpu\")"
   ]
  },
  {
   "cell_type": "code",
   "execution_count": 6,
   "id": "9aac45d5",
   "metadata": {},
   "outputs": [
    {
     "data": {
      "text/plain": [
       "True"
      ]
     },
     "execution_count": 6,
     "metadata": {},
     "output_type": "execute_result"
    }
   ],
   "source": [
    "save_path = Path(\"save\")\n",
    "save_path.exists()"
   ]
  },
  {
   "cell_type": "code",
   "execution_count": 7,
   "id": "2580fc36",
   "metadata": {},
   "outputs": [
    {
     "data": {
      "text/plain": [
       "True"
      ]
     },
     "execution_count": 7,
     "metadata": {},
     "output_type": "execute_result"
    }
   ],
   "source": [
    "data_dir = save_path / \"7-8-LR\"\n",
    "data_dir.exists()"
   ]
  },
  {
   "cell_type": "code",
   "execution_count": 8,
   "id": "6fc42de4",
   "metadata": {},
   "outputs": [
    {
     "data": {
      "text/plain": [
       "True"
      ]
     },
     "execution_count": 8,
     "metadata": {},
     "output_type": "execute_result"
    }
   ],
   "source": [
    "data_path = data_dir / \"data.tar\"\n",
    "data_path.exists()"
   ]
  },
  {
   "cell_type": "code",
   "execution_count": 9,
   "id": "e319dc1f",
   "metadata": {},
   "outputs": [
    {
     "data": {
      "text/plain": [
       "dict_keys(['rewards', 'steps', 'episodes', 'all_states', 'all_actions', 'all_qvalues', 'losses', 'p', 'epsilons', 'weights_val_stats', 'biases_val_stats', 'weights_grad_stats', 'biases_grad_stats', 'net', 'env', 'weights', 'biases'])"
      ]
     },
     "execution_count": 9,
     "metadata": {},
     "output_type": "execute_result"
    }
   ],
   "source": [
    "data_dict = torch.load(data_path, weights_only=False, map_location=DEVICE)\n",
    "data_dict.keys()"
   ]
  },
  {
   "cell_type": "code",
   "execution_count": 10,
   "id": "57c9dbde",
   "metadata": {},
   "outputs": [],
   "source": [
    "parameters = data_dict['p']\n",
    "n_observations = parameters.n_observations\n",
    "n_actions = parameters.n_actions\n",
    "n_units = parameters.n_hidden_units"
   ]
  },
  {
   "cell_type": "code",
   "execution_count": 12,
   "id": "8050757f",
   "metadata": {},
   "outputs": [],
   "source": [
    "model = DQN(n_observations, n_actions, n_units)"
   ]
  },
  {
   "cell_type": "markdown",
   "id": "e6be7606",
   "metadata": {},
   "source": [
    "Since the SHAP explainers work with NumPy arrays, not Tensors, we need a wrapper to convert the DQN input/output tensors to NumPy arrays for the explainers."
   ]
  },
  {
   "cell_type": "code",
   "execution_count": 2,
   "id": "66cdf76f",
   "metadata": {},
   "outputs": [],
   "source": [
    "class WrappedModel:\n",
    "    def __init__(self, model, device='cuda'):\n",
    "        self.model = model.eval().to(device)  # eval mode and move to GPU\n",
    "        self.device = device\n",
    "\n",
    "    def __call__(self, inputs_numpy):\n",
    "        # Convert NumPy → PyTorch tensor and move to GPU\n",
    "        inputs_tensor = torch.tensor(inputs_numpy, dtype=torch.float32).to(self.device)\n",
    "\n",
    "        # Forward pass (no gradients needed)\n",
    "        with torch.no_grad():\n",
    "            outputs_tensor = self.model(inputs_tensor)\n",
    "\n",
    "        # Move output back to CPU and convert to NumPy\n",
    "        return outputs_tensor.cpu().numpy()\n"
   ]
  },
  {
   "cell_type": "code",
   "execution_count": 13,
   "id": "86ffcdd7",
   "metadata": {},
   "outputs": [
    {
     "data": {
      "text/plain": [
       "DQN(\n",
       "  (mlp): Sequential(\n",
       "    (0): Linear(in_features=21, out_features=512, bias=True)\n",
       "    (1): Linear(in_features=512, out_features=512, bias=True)\n",
       "    (2): ReLU()\n",
       "    (3): Linear(in_features=512, out_features=512, bias=True)\n",
       "    (4): ReLU()\n",
       "    (5): Linear(in_features=512, out_features=512, bias=True)\n",
       "    (6): ReLU()\n",
       "    (7): Linear(in_features=512, out_features=3, bias=True)\n",
       "  )\n",
       ")"
      ]
     },
     "execution_count": 13,
     "metadata": {},
     "output_type": "execute_result"
    }
   ],
   "source": [
    "# Loading Specific Agent Model\n",
    "model_path = data_dir / f'trained-agent-state-0.pt'\n",
    "model.load_state_dict(torch.load(model_path, weights_only=True, map_location=torch.device('cpu')))\n",
    "model.eval()"
   ]
  },
  {
   "cell_type": "code",
   "execution_count": 15,
   "id": "a1e46aad",
   "metadata": {},
   "outputs": [],
   "source": [
    "wrapped_model = WrappedModel(model, device='cpu')"
   ]
  },
  {
   "cell_type": "markdown",
   "id": "4b439f7f",
   "metadata": {},
   "source": [
    "Now we need to reconstruct the replay buffer of the trained agent in order to sample states to use for the SHAP explainer. We want to get representative states."
   ]
  },
  {
   "cell_type": "code",
   "execution_count": 49,
   "id": "5f086ad9",
   "metadata": {},
   "outputs": [
    {
     "name": "stdout",
     "output_type": "stream",
     "text": [
      "(100, 200)\n",
      "(200,)\n"
     ]
    }
   ],
   "source": [
    "all_states = data_dict['all_states']\n",
    "print(all_states.shape)\n",
    "agent_index = 0\n",
    "print(all_states[agent_index].shape)\n",
    "agent_eps = all_states[agent_index]"
   ]
  },
  {
   "cell_type": "markdown",
   "id": "ede71dd0",
   "metadata": {},
   "source": [
    "By manual inspection of the training log for the agent, you can see when the replay buffer ends (look for when loss stops being nan)."
   ]
  },
  {
   "cell_type": "code",
   "execution_count": 50,
   "id": "5c1752a9",
   "metadata": {},
   "outputs": [],
   "source": [
    "replay_buffer_idx = 81 # TODO: somehow manually automate this\n",
    "\n",
    "replay_buffer_ep = agent_eps[:replay_buffer_idx]\n",
    "replay_buffer_states = [state for episode in replay_buffer_ep for state in episode]\n",
    "assert len(replay_buffer_states) > 5000"
   ]
  },
  {
   "cell_type": "markdown",
   "id": "0aee2e90",
   "metadata": {},
   "source": [
    "The background data is a representative sample of states we will feed to the SHAP explainer. The explainer will use these states for masking and determining feature importance."
   ]
  },
  {
   "cell_type": "code",
   "execution_count": 51,
   "id": "11ec554d",
   "metadata": {},
   "outputs": [],
   "source": [
    "background_data = random.sample(replay_buffer_states, k=100) # CONSIDER THE SAMPLING METHOD / SIZE\n",
    "\n",
    "# Assume background_data is a list of 1D state tensors\n",
    "background_tensor = torch.stack(background_data)           # shape: (N, num_features)\n",
    "background_numpy = background_tensor.cpu().numpy()         # convert to NumPy"
   ]
  },
  {
   "cell_type": "markdown",
   "id": "d028bc95",
   "metadata": {},
   "source": [
    "## GradientExplainer"
   ]
  },
  {
   "cell_type": "code",
   "execution_count": 140,
   "id": "8213d9cf",
   "metadata": {},
   "outputs": [],
   "source": [
    "explainer = shap.GradientExplainer(model, background_tensor) # for GradientExplainer needs raw DQN model and raw Tensor data"
   ]
  },
  {
   "cell_type": "code",
   "execution_count": 194,
   "id": "f2f1bb4e",
   "metadata": {},
   "outputs": [
    {
     "name": "stdout",
     "output_type": "stream",
     "text": [
      "tensor([[ 0.0000e+00,  1.0000e+00,  0.0000e+00,  2.0000e+00,  4.0000e+00,\n",
      "         -1.0000e+00,  4.3711e-08,  2.0000e+00,  0.0000e+00,  1.0000e+00,\n",
      "         -4.3711e-08,  4.4721e+00,  4.4721e-01,  8.9443e-01, -4.4721e-01,\n",
      "          8.9443e-01,  2.0000e+00,  1.0000e+00,  0.0000e+00,  1.0000e+00,\n",
      "         -4.3711e-08]])\n"
     ]
    }
   ],
   "source": [
    "non_replay_buffer_ep = agent_eps[replay_buffer_idx:]\n",
    "non_replay_buffer_states = [state for episode in non_replay_buffer_ep for state in episode]\n",
    "\n",
    "random_state = torch.stack(random.sample(non_replay_buffer_states, k=1)) # you could explain batches of states ; increase k value\n",
    "print(random_state)"
   ]
  },
  {
   "cell_type": "code",
   "execution_count": 195,
   "id": "6a31554a",
   "metadata": {},
   "outputs": [
    {
     "name": "stdout",
     "output_type": "stream",
     "text": [
      "tensor([[ 0.0000e+00,  1.0000e+00,  0.0000e+00,  2.0000e+00,  4.0000e+00,\n",
      "         -1.0000e+00,  4.3711e-08,  2.0000e+00,  0.0000e+00,  1.0000e+00,\n",
      "         -4.3711e-08,  4.4721e+00,  4.4721e-01,  8.9443e-01, -4.4721e-01,\n",
      "          8.9443e-01,  2.0000e+00,  1.0000e+00,  0.0000e+00,  1.0000e+00,\n",
      "         -4.3711e-08]])\n",
      "[[-0.0242786  -0.03066595 -0.02499821]\n",
      " [ 0.03803494  0.03612888  0.02540218]\n",
      " [ 0.00074755  0.00080337 -0.00240597]\n",
      " [ 0.02872272  0.02480393  0.034573  ]\n",
      " [ 0.10297353  0.10906498  0.08957075]\n",
      " [-0.00510014 -0.00332221 -0.00391013]\n",
      " [-0.00599402 -0.00924968 -0.00751943]\n",
      " [-0.0012927   0.00250629 -0.00142181]\n",
      " [-0.11148958 -0.08914354 -0.10154605]\n",
      " [ 0.01562026  0.01697223  0.01944555]\n",
      " [-0.00518977 -0.00722219 -0.00567907]\n",
      " [ 0.05630665  0.06671651  0.05931212]\n",
      " [-0.00167382 -0.00281323 -0.00214728]\n",
      " [ 0.01033705  0.01149103  0.01022105]\n",
      " [ 0.0035922   0.00584737  0.0073522 ]\n",
      " [ 0.00977462 -0.00233949  0.00448129]\n",
      " [-0.04566023 -0.03838562 -0.03490454]\n",
      " [ 0.00906658  0.0069904   0.00738659]\n",
      " [-0.02628289 -0.0251311  -0.02651549]\n",
      " [ 0.00573157  0.0125012   0.00032616]\n",
      " [-0.00116019 -0.00102213 -0.00236384]]\n"
     ]
    }
   ],
   "source": [
    "shap_values = explainer.shap_values(random_state)[0] # NOT DETERMINISTIC\n",
    "print(random_state)\n",
    "print(shap_values)"
   ]
  },
  {
   "cell_type": "code",
   "execution_count": 196,
   "id": "bc3229de",
   "metadata": {},
   "outputs": [
    {
     "data": {
      "image/png": "[encoded data removed]",
      "text/plain": [
       "<Figure size 1200x600 with 1 Axes>"
      ]
     },
     "metadata": {},
     "output_type": "display_data"
    }
   ],
   "source": [
    "data = np.array(shap_values)\n",
    "num_groups = len(data)\n",
    "num_bars = data.shape[1]\n",
    "\n",
    "x = np.arange(num_groups)  # positions for groups\n",
    "bar_width = 0.25\n",
    "\n",
    "# Create figure and axes\n",
    "fig, ax = plt.subplots(figsize=(12, 6))\n",
    "\n",
    "# Plot each of the 3 bars per group\n",
    "for i in range(num_bars):\n",
    "    ax.bar(x + i * bar_width, data[:, i], width=bar_width, label=f'Value {i + 1}')\n",
    "\n",
    "# Styling\n",
    "ax.set_xlabel('Group Index')\n",
    "ax.set_ylabel('Value')\n",
    "ax.set_title('Grouped Bar Plot of 3 Values per Group')\n",
    "ax.set_xticks(x + bar_width)\n",
    "ax.set_xticklabels([str(i) for i in range(num_groups)])\n",
    "ax.legend()\n",
    "\n",
    "plt.tight_layout()\n",
    "plt.show()"
   ]
  },
  {
   "cell_type": "markdown",
   "id": "72feb45b",
   "metadata": {},
   "source": [
    "## KernelExplainer"
   ]
  },
  {
   "cell_type": "code",
   "execution_count": 197,
   "id": "13f64f5a",
   "metadata": {},
   "outputs": [],
   "source": [
    "explainer = shap.KernelExplainer(wrapped_model, background_numpy)"
   ]
  },
  {
   "cell_type": "code",
   "execution_count": 129,
   "id": "cbcb81c8",
   "metadata": {},
   "outputs": [
    {
     "name": "stdout",
     "output_type": "stream",
     "text": [
      "[[ 0.          1.          0.          1.          2.         -0.\n",
      "  -1.          3.          2.          0.          1.          2.236068\n",
      "   0.44721356  0.89442724 -0.89442724 -0.4472135   3.6055512   0.8320503\n",
      "   0.5547002   0.5547002   0.8320503 ]]\n"
     ]
    }
   ],
   "source": [
    "random_state = torch.stack(random.sample(non_replay_buffer_states, k=1)).numpy()\n",
    "print(random_state)"
   ]
  },
  {
   "cell_type": "code",
   "execution_count": 199,
   "id": "8e184b2e",
   "metadata": {},
   "outputs": [],
   "source": [
    "random_state = random_state.numpy()"
   ]
  },
  {
   "cell_type": "code",
   "execution_count": 203,
   "id": "5ce82808",
   "metadata": {},
   "outputs": [
    {
     "data": {
      "application/vnd.jupyter.widget-view+json": {
       "model_id": "436bc9d557174e80b6c54bf5b80a1798",
       "version_major": 2,
       "version_minor": 0
      },
      "text/plain": [
       "  0%|          | 0/1 [00:00<?, ?it/s]"
      ]
     },
     "metadata": {},
     "output_type": "display_data"
    }
   ],
   "source": [
    "shap_values = explainer.shap_values(random_state)[0]"
   ]
  },
  {
   "cell_type": "code",
   "execution_count": 204,
   "id": "4cf59f9a",
   "metadata": {},
   "outputs": [
    {
     "name": "stdout",
     "output_type": "stream",
     "text": [
      "[[-0.02674447 -0.02634907 -0.02859997]\n",
      " [ 0.03298224  0.03106649  0.        ]\n",
      " [ 0.          0.          0.        ]\n",
      " [ 0.03297574  0.01826375  0.03629241]\n",
      " [ 0.1012337   0.09453418  0.08848834]\n",
      " [ 0.          0.          0.        ]\n",
      " [ 0.          0.          0.        ]\n",
      " [ 0.          0.          0.        ]\n",
      " [-0.11882676 -0.10423776 -0.10388354]\n",
      " [ 0.0193686   0.01500316  0.02111525]\n",
      " [ 0.          0.          0.        ]\n",
      " [ 0.05833752  0.06078635  0.06042832]\n",
      " [ 0.          0.          0.        ]\n",
      " [ 0.          0.          0.00888523]\n",
      " [ 0.          0.          0.        ]\n",
      " [ 0.          0.          0.        ]\n",
      " [-0.0483261  -0.04053827 -0.02893325]\n",
      " [ 0.01236833  0.          0.00733397]\n",
      " [-0.02393883 -0.02374849 -0.02573726]\n",
      " [ 0.          0.01174684  0.        ]\n",
      " [ 0.          0.          0.        ]]\n"
     ]
    }
   ],
   "source": [
    "print(shap_values)"
   ]
  },
  {
   "cell_type": "code",
   "execution_count": 205,
   "id": "e37f6c02",
   "metadata": {},
   "outputs": [
    {
     "data": {
      "image/png": "[encoded data removed]",
      "text/plain": [
       "<Figure size 1200x600 with 1 Axes>"
      ]
     },
     "metadata": {},
     "output_type": "display_data"
    }
   ],
   "source": [
    "data = np.array(shap_values)\n",
    "num_groups = len(data)\n",
    "num_bars = data.shape[1]\n",
    "\n",
    "x = np.arange(num_groups)  # positions for groups\n",
    "bar_width = 0.25\n",
    "\n",
    "# Create figure and axes\n",
    "fig, ax = plt.subplots(figsize=(12, 6))\n",
    "\n",
    "# Plot each of the 3 bars per group\n",
    "for i in range(num_bars):\n",
    "    ax.bar(x + i * bar_width, data[:, i], width=bar_width, label=f'Value {i + 1}')\n",
    "\n",
    "# Styling\n",
    "ax.set_xlabel('Group Index')\n",
    "ax.set_ylabel('Value')\n",
    "ax.set_title('Grouped Bar Plot of 3 Values per Group')\n",
    "ax.set_xticks(x + bar_width)\n",
    "ax.set_xticklabels([str(i) for i in range(num_groups)])\n",
    "ax.legend()\n",
    "\n",
    "plt.tight_layout()\n",
    "plt.show()"
   ]
  },
  {
   "cell_type": "code",
   "execution_count": null,
   "id": "e5153a95",
   "metadata": {},
   "outputs": [],
   "source": []
  }
 ],
 "metadata": {
  "kernelspec": {
   "display_name": ".venv",
   "language": "python",
   "name": "python3"
  },
  "language_info": {
   "codemirror_mode": {
    "name": "ipython",
    "version": 3
   },
   "file_extension": ".py",
   "mimetype": "text/x-python",
   "name": "python",
   "nbconvert_exporter": "python",
   "pygments_lexer": "ipython3",
   "version": "3.12.2"
  }
 },
 "nbformat": 4,
 "nbformat_minor": 5
}
