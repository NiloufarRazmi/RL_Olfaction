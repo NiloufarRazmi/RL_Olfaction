{
 "cells": [
  {
   "cell_type": "markdown",
   "id": "76a561ad-a669-42b4-b4bf-b5b4cef49611",
   "metadata": {},
   "source": [
    "# Agent state occupancy & trajectories"
   ]
  },
  {
   "cell_type": "markdown",
   "id": "8cd9b2cc-0334-4919-bf1e-40655d058ea3",
   "metadata": {},
   "source": [
    "## Init"
   ]
  },
  {
   "cell_type": "code",
   "execution_count": 15,
   "id": "c59b9744-13d9-4c54-a3ea-d17f0fa303a2",
   "metadata": {},
   "outputs": [],
   "source": [
    "from pathlib import Path\n",
    "import numpy as np"
   ]
  },
  {
   "cell_type": "code",
   "execution_count": 5,
   "id": "8179e43b-6b16-4173-b2ab-0ce4ed5db692",
   "metadata": {},
   "outputs": [
    {
     "data": {
      "text/plain": [
       "PosixPath('/home/kir0ul/Projects/RL_Olfaction/cartesian_polar/../save')"
      ]
     },
     "execution_count": 5,
     "metadata": {},
     "output_type": "execute_result"
    }
   ],
   "source": [
    "save_path = Path(\"..\") / \"save\"\n",
    "save_path.absolute()"
   ]
  },
  {
   "cell_type": "code",
   "execution_count": 22,
   "id": "bd086d9f-b636-4509-89fb-29512a661a85",
   "metadata": {},
   "outputs": [
    {
     "data": {
      "text/plain": [
       "PosixPath('/home/kir0ul/Projects/RL_Olfaction/cartesian_polar/../save/2025-01-18_16-45-42_EastWest_scratch')"
      ]
     },
     "execution_count": 22,
     "metadata": {},
     "output_type": "execute_result"
    }
   ],
   "source": [
    "sessions_path = save_path / \"2025-01-18_16-45-42_EastWest_scratch\"\n",
    "sessions_path.absolute()"
   ]
  },
  {
   "cell_type": "code",
   "execution_count": 23,
   "id": "39c158f1-41bd-472d-8b63-c62a6d0f86a6",
   "metadata": {},
   "outputs": [
    {
     "data": {
      "text/plain": [
       "PosixPath('/home/kir0ul/Projects/RL_Olfaction/cartesian_polar/../save/2025-01-18_16-45-42_EastWest_scratch/data.npz')"
      ]
     },
     "execution_count": 23,
     "metadata": {},
     "output_type": "execute_result"
    }
   ],
   "source": [
    "data_path = sessions_path / \"data.npz\"\n",
    "data_path.absolute()"
   ]
  },
  {
   "cell_type": "code",
   "execution_count": 24,
   "id": "f40fd277-b6e1-4019-bb4f-1cd71130fb51",
   "metadata": {},
   "outputs": [
    {
     "data": {
      "text/plain": [
       "True"
      ]
     },
     "execution_count": 24,
     "metadata": {},
     "output_type": "execute_result"
    }
   ],
   "source": [
    "data_path.exists()"
   ]
  },
  {
   "cell_type": "code",
   "execution_count": 25,
   "id": "09889d98-b834-4860-ba23-2a3340a29ea0",
   "metadata": {},
   "outputs": [],
   "source": [
    "data = np.load(data_path)"
   ]
  },
  {
   "cell_type": "code",
   "execution_count": 26,
   "id": "0f9e95c3-428d-4cbe-a2f5-fcb45a01a845",
   "metadata": {},
   "outputs": [
    {
     "data": {
      "text/plain": [
       "['rewards',\n",
       " 'steps',\n",
       " 'episodes',\n",
       " 'all_states',\n",
       " 'all_actions',\n",
       " 'losses',\n",
       " 'p',\n",
       " 'epsilons',\n",
       " 'weights',\n",
       " 'biases',\n",
       " 'weights_val_stats',\n",
       " 'biases_val_stats',\n",
       " 'weights_grad_stats',\n",
       " 'biases_grad_stats',\n",
       " 'net',\n",
       " 'env']"
      ]
     },
     "execution_count": 26,
     "metadata": {},
     "output_type": "execute_result"
    }
   ],
   "source": [
    "[item for item in data.keys()]"
   ]
  },
  {
   "cell_type": "markdown",
   "id": "2ec5e16f-2f8f-475e-b7c7-bde2244f2f89",
   "metadata": {},
   "source": [
    "## State occupancy"
   ]
  },
  {
   "cell_type": "code",
   "execution_count": 28,
   "id": "2e4530ed-08d2-45b4-a25f-5b9fc1b20167",
   "metadata": {},
   "outputs": [
    {
     "data": {
      "text/plain": [
       "(11370, 19)"
      ]
     },
     "execution_count": 28,
     "metadata": {},
     "output_type": "execute_result"
    }
   ],
   "source": [
    "data[\"all_states\"].shape"
   ]
  },
  {
   "cell_type": "markdown",
   "id": "a3e296f5-0b87-4441-8442-2f7fb9b54179",
   "metadata": {},
   "source": [
    "## Trajectories"
   ]
  },
  {
   "cell_type": "code",
   "execution_count": null,
   "id": "b2c9bcf4-80fe-4556-9642-d3fdc651051d",
   "metadata": {},
   "outputs": [],
   "source": []
  }
 ],
 "metadata": {
  "kernelspec": {
   "display_name": "Python 3 (ipykernel)",
   "language": "python",
   "name": "python3"
  },
  "language_info": {
   "codemirror_mode": {
    "name": "ipython",
    "version": 3
   },
   "file_extension": ".py",
   "mimetype": "text/x-python",
   "name": "python",
   "nbconvert_exporter": "python",
   "pygments_lexer": "ipython3",
   "version": "3.11.11"
  }
 },
 "nbformat": 4,
 "nbformat_minor": 5
}
