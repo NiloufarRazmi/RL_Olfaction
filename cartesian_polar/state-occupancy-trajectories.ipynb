{
 "cells": [
  {
   "cell_type": "markdown",
   "id": "76a561ad-a669-42b4-b4bf-b5b4cef49611",
   "metadata": {},
   "source": [
    "# Agent state occupancy & trajectories"
   ]
  },
  {
   "cell_type": "markdown",
   "id": "8cd9b2cc-0334-4919-bf1e-40655d058ea3",
   "metadata": {},
   "source": [
    "## Init"
   ]
  },
  {
   "cell_type": "code",
   "execution_count": 1,
   "id": "c59b9744-13d9-4c54-a3ea-d17f0fa303a2",
   "metadata": {},
   "outputs": [],
   "source": [
    "from pathlib import Path\n",
    "import numpy as np"
   ]
  },
  {
   "cell_type": "code",
   "execution_count": 2,
   "id": "8179e43b-6b16-4173-b2ab-0ce4ed5db692",
   "metadata": {},
   "outputs": [
    {
     "data": {
      "text/plain": [
       "PosixPath('/home/kir0ul/Projects/RL_Olfaction/cartesian_polar/../save')"
      ]
     },
     "execution_count": 2,
     "metadata": {},
     "output_type": "execute_result"
    }
   ],
   "source": [
    "save_path = Path(\"..\") / \"save\"\n",
    "save_path.absolute()"
   ]
  },
  {
   "cell_type": "code",
   "execution_count": 3,
   "id": "bd086d9f-b636-4509-89fb-29512a661a85",
   "metadata": {},
   "outputs": [
    {
     "data": {
      "text/plain": [
       "PosixPath('/home/kir0ul/Projects/RL_Olfaction/cartesian_polar/../save/2025-01-19_10-39-52_EastWest_scratch')"
      ]
     },
     "execution_count": 3,
     "metadata": {},
     "output_type": "execute_result"
    }
   ],
   "source": [
    "sessions_path = save_path / \"2025-01-19_10-39-52_EastWest_scratch\"\n",
    "sessions_path.absolute()"
   ]
  },
  {
   "cell_type": "code",
   "execution_count": 4,
   "id": "39c158f1-41bd-472d-8b63-c62a6d0f86a6",
   "metadata": {},
   "outputs": [
    {
     "data": {
      "text/plain": [
       "PosixPath('/home/kir0ul/Projects/RL_Olfaction/cartesian_polar/../save/2025-01-19_10-39-52_EastWest_scratch/data.npz')"
      ]
     },
     "execution_count": 4,
     "metadata": {},
     "output_type": "execute_result"
    }
   ],
   "source": [
    "data_path = sessions_path / \"data.npz\"\n",
    "data_path.absolute()"
   ]
  },
  {
   "cell_type": "code",
   "execution_count": 5,
   "id": "f40fd277-b6e1-4019-bb4f-1cd71130fb51",
   "metadata": {},
   "outputs": [
    {
     "data": {
      "text/plain": [
       "True"
      ]
     },
     "execution_count": 5,
     "metadata": {},
     "output_type": "execute_result"
    }
   ],
   "source": [
    "data_path.exists()"
   ]
  },
  {
   "cell_type": "code",
   "execution_count": 14,
   "id": "09889d98-b834-4860-ba23-2a3340a29ea0",
   "metadata": {},
   "outputs": [],
   "source": [
    "data = np.load(data_path, allow_pickle=True)"
   ]
  },
  {
   "cell_type": "code",
   "execution_count": 15,
   "id": "0f9e95c3-428d-4cbe-a2f5-fcb45a01a845",
   "metadata": {},
   "outputs": [
    {
     "data": {
      "text/plain": [
       "['rewards',\n",
       " 'steps',\n",
       " 'episodes',\n",
       " 'all_states',\n",
       " 'all_actions',\n",
       " 'losses',\n",
       " 'p',\n",
       " 'epsilons',\n",
       " 'weights',\n",
       " 'biases',\n",
       " 'weights_val_stats',\n",
       " 'biases_val_stats',\n",
       " 'weights_grad_stats',\n",
       " 'biases_grad_stats',\n",
       " 'net',\n",
       " 'env']"
      ]
     },
     "execution_count": 15,
     "metadata": {},
     "output_type": "execute_result"
    }
   ],
   "source": [
    "[item for item in data.keys()]"
   ]
  },
  {
   "cell_type": "markdown",
   "id": "2ec5e16f-2f8f-475e-b7c7-bde2244f2f89",
   "metadata": {},
   "source": [
    "## State occupancy"
   ]
  },
  {
   "cell_type": "code",
   "execution_count": 16,
   "id": "2e4530ed-08d2-45b4-a25f-5b9fc1b20167",
   "metadata": {},
   "outputs": [
    {
     "data": {
      "text/plain": [
       "(20550, 19)"
      ]
     },
     "execution_count": 16,
     "metadata": {},
     "output_type": "execute_result"
    }
   ],
   "source": [
    "data[\"all_states\"].shape"
   ]
  },
  {
   "cell_type": "code",
   "execution_count": 17,
   "id": "f99e5f6d-7af7-4c1e-af18-df342b17d5b5",
   "metadata": {},
   "outputs": [
    {
     "data": {
      "text/plain": [
       "(20550,)"
      ]
     },
     "execution_count": 17,
     "metadata": {},
     "output_type": "execute_result"
    }
   ],
   "source": [
    "data[\"all_actions\"].shape"
   ]
  },
  {
   "cell_type": "code",
   "execution_count": 18,
   "id": "5a217723-b0c2-4bb2-8f32-ed3a2cab88ac",
   "metadata": {},
   "outputs": [
    {
     "data": {
      "text/plain": [
       "array([ 0,  1,  2,  3,  4,  5,  6,  7,  8,  9, 10, 11, 12, 13, 14, 15, 16,\n",
       "       17, 18, 19, 20, 21, 22, 23, 24, 25, 26, 27, 28, 29, 30, 31, 32, 33,\n",
       "       34, 35, 36, 37, 38, 39, 40, 41, 42, 43, 44, 45, 46, 47, 48, 49, 50,\n",
       "       51, 52, 53, 54, 55, 56, 57, 58, 59, 60, 61, 62, 63, 64, 65, 66, 67,\n",
       "       68, 69, 70, 71, 72, 73, 74, 75, 76, 77, 78, 79, 80, 81, 82, 83, 84,\n",
       "       85, 86, 87, 88, 89, 90, 91, 92, 93, 94, 95, 96, 97, 98, 99])"
      ]
     },
     "execution_count": 18,
     "metadata": {},
     "output_type": "execute_result"
    }
   ],
   "source": [
    "data[\"episodes\"]"
   ]
  },
  {
   "cell_type": "code",
   "execution_count": 19,
   "id": "381cb08e-5e42-453b-b276-77ca41b02285",
   "metadata": {},
   "outputs": [
    {
     "data": {
      "text/plain": [
       "(100, 3)"
      ]
     },
     "execution_count": 19,
     "metadata": {},
     "output_type": "execute_result"
    }
   ],
   "source": [
    "data[\"rewards\"].shape"
   ]
  },
  {
   "cell_type": "code",
   "execution_count": 20,
   "id": "a75ad14f-f24c-4895-a077-13ca7dfe299a",
   "metadata": {},
   "outputs": [
    {
     "data": {
      "text/plain": [
       "(100, 3)"
      ]
     },
     "execution_count": 20,
     "metadata": {},
     "output_type": "execute_result"
    }
   ],
   "source": [
    "data[\"rewards\"].shape"
   ]
  },
  {
   "cell_type": "code",
   "execution_count": 84,
   "id": "54badb34-642f-4d48-9fbe-0e8fd9258980",
   "metadata": {},
   "outputs": [
    {
     "data": {
      "text/plain": [
       "1671"
      ]
     },
     "execution_count": 84,
     "metadata": {},
     "output_type": "execute_result"
    }
   ],
   "source": [
    "len(data[\"losses\"][0])"
   ]
  },
  {
   "cell_type": "markdown",
   "id": "a3e296f5-0b87-4441-8442-2f7fb9b54179",
   "metadata": {},
   "source": [
    "## Trajectories"
   ]
  },
  {
   "cell_type": "code",
   "execution_count": null,
   "id": "b2c9bcf4-80fe-4556-9642-d3fdc651051d",
   "metadata": {},
   "outputs": [],
   "source": []
  }
 ],
 "metadata": {
  "kernelspec": {
   "display_name": "Python 3 (ipykernel)",
   "language": "python",
   "name": "python3"
  },
  "language_info": {
   "codemirror_mode": {
    "name": "ipython",
    "version": 3
   },
   "file_extension": ".py",
   "mimetype": "text/x-python",
   "name": "python",
   "nbconvert_exporter": "python",
   "pygments_lexer": "ipython3",
   "version": "3.11.11"
  }
 },
 "nbformat": 4,
 "nbformat_minor": 5
}
