{
 "cells": [
  {
   "cell_type": "code",
   "execution_count": 1,
   "id": "c67f1798",
   "metadata": {},
   "outputs": [],
   "source": [
    "from pathlib import Path\n",
    "import torch\n",
    "from sklearn.manifold import TSNE\n",
    "import matplotlib.pyplot as plt\n",
    "from matplotlib.ticker import NullFormatter\n",
    "import matplotlib as mpl\n",
    "from tqdm.auto import tqdm\n",
    "from scipy.cluster.hierarchy import dendrogram, linkage\n",
    "from sklearn.preprocessing import StandardScaler\n",
    "import umap.umap_ as umap\n",
    "from sklearn.cluster import KMeans\n",
    "import utils\n",
    "import sys\n",
    "import os\n",
    "import numpy as np\n",
    "from environment import CONTEXTS_LABELS\n",
    "#from agent import neural_network\n",
    "import seaborn as sns\n",
    "import torch.nn as nn\n",
    "from agent import DQN"
   ]
  },
  {
   "cell_type": "code",
   "execution_count": 2,
   "id": "7091556b",
   "metadata": {},
   "outputs": [],
   "source": [
    "DEVICE = torch.device(\"cuda\" if torch.cuda.is_available() else \"cpu\")"
   ]
  },
  {
   "cell_type": "markdown",
   "id": "c6c92825",
   "metadata": {},
   "source": [
    "## Loading Data"
   ]
  },
  {
   "cell_type": "code",
   "execution_count": 3,
   "id": "9c502921",
   "metadata": {},
   "outputs": [
    {
     "data": {
      "text/plain": [
       "True"
      ]
     },
     "execution_count": 3,
     "metadata": {},
     "output_type": "execute_result"
    }
   ],
   "source": [
    "save_path = Path(\"save\")\n",
    "save_path.exists()"
   ]
  },
  {
   "cell_type": "code",
   "execution_count": 4,
   "id": "61adb435",
   "metadata": {},
   "outputs": [
    {
     "data": {
      "text/plain": [
       "True"
      ]
     },
     "execution_count": 4,
     "metadata": {},
     "output_type": "execute_result"
    }
   ],
   "source": [
    "data_dir = save_path / \"6-24-EW\"\n",
    "data_dir.exists()"
   ]
  },
  {
   "cell_type": "code",
   "execution_count": 5,
   "id": "c4f87774",
   "metadata": {},
   "outputs": [
    {
     "data": {
      "text/plain": [
       "True"
      ]
     },
     "execution_count": 5,
     "metadata": {},
     "output_type": "execute_result"
    }
   ],
   "source": [
    "data_path = data_dir / \"data.tar\"\n",
    "data_path.exists()"
   ]
  },
  {
   "cell_type": "code",
   "execution_count": 6,
   "id": "e902b28c",
   "metadata": {},
   "outputs": [
    {
     "data": {
      "text/plain": [
       "dict_keys(['rewards', 'steps', 'episodes', 'all_states', 'all_actions', 'all_qvalues', 'losses', 'p', 'epsilons', 'weights_val_stats', 'biases_val_stats', 'weights_grad_stats', 'biases_grad_stats', 'net', 'env', 'weights', 'biases'])"
      ]
     },
     "execution_count": 6,
     "metadata": {},
     "output_type": "execute_result"
    }
   ],
   "source": [
    "data_dict = torch.load(data_path, weights_only=False, map_location=DEVICE)\n",
    "data_dict.keys()"
   ]
  },
  {
   "cell_type": "markdown",
   "id": "721cba17",
   "metadata": {},
   "source": [
    "### Loading Model"
   ]
  },
  {
   "cell_type": "code",
   "execution_count": 18,
   "id": "b022330a",
   "metadata": {},
   "outputs": [
    {
     "data": {
      "text/plain": [
       "True"
      ]
     },
     "execution_count": 18,
     "metadata": {},
     "output_type": "execute_result"
    }
   ],
   "source": [
    "model_path = data_dir / 'trained-agent-state-7.pt'\n",
    "model_path.exists()"
   ]
  },
  {
   "cell_type": "code",
   "execution_count": 19,
   "id": "9b4249e3",
   "metadata": {},
   "outputs": [],
   "source": [
    "parameters = data_dict['p']\n",
    "n_observations = parameters.n_observations\n",
    "n_actions = parameters.n_actions\n",
    "n_units = parameters.n_hidden_units"
   ]
  },
  {
   "cell_type": "code",
   "execution_count": 20,
   "id": "fb17ebdb",
   "metadata": {},
   "outputs": [
    {
     "data": {
      "text/plain": [
       "DQN(\n",
       "  (mlp): Sequential(\n",
       "    (0): Linear(in_features=21, out_features=512, bias=True)\n",
       "    (1): Linear(in_features=512, out_features=512, bias=True)\n",
       "    (2): ReLU()\n",
       "    (3): Linear(in_features=512, out_features=512, bias=True)\n",
       "    (4): ReLU()\n",
       "    (5): Linear(in_features=512, out_features=512, bias=True)\n",
       "    (6): ReLU()\n",
       "    (7): Linear(in_features=512, out_features=3, bias=True)\n",
       "  )\n",
       ")"
      ]
     },
     "execution_count": 20,
     "metadata": {},
     "output_type": "execute_result"
    }
   ],
   "source": [
    "model = DQN(n_observations, n_actions, n_units)\n",
    "model.load_state_dict(torch.load(model_path, weights_only=True, map_location=torch.device('cpu')))\n",
    "model.eval()"
   ]
  },
  {
   "cell_type": "code",
   "execution_count": 21,
   "id": "534daf21",
   "metadata": {},
   "outputs": [
    {
     "name": "stdout",
     "output_type": "stream",
     "text": [
      "5\n"
     ]
    }
   ],
   "source": [
    "state_dict = model.state_dict()\n",
    "\n",
    "layer0_weights = state_dict['mlp.0.weight']\n",
    "layer1_weights = state_dict['mlp.1.weight']\n",
    "layer2_weights = state_dict['mlp.3.weight']\n",
    "layer3_weights = state_dict['mlp.5.weight']\n",
    "layer4_weights = state_dict['mlp.7.weight']\n",
    "\n",
    "weights = [layer0_weights,layer1_weights,layer2_weights,layer3_weights,layer4_weights]\n",
    "print(len(weights))"
   ]
  },
  {
   "cell_type": "code",
   "execution_count": 22,
   "id": "9c5dafc9",
   "metadata": {},
   "outputs": [
    {
     "name": "stdout",
     "output_type": "stream",
     "text": [
      "5\n",
      "torch.Size([512, 21])\n",
      "torch.Size([512, 512])\n",
      "torch.Size([3, 512])\n"
     ]
    }
   ],
   "source": [
    "print(len(weights))\n",
    "print(weights[0].shape)\n",
    "print(weights[1].shape)\n",
    "print(weights[4].shape)"
   ]
  },
  {
   "cell_type": "code",
   "execution_count": 23,
   "id": "164c4a27",
   "metadata": {},
   "outputs": [
    {
     "data": {
      "text/plain": [
       "array([[-0.06129713,  0.1042373 , -0.23667413, ..., -0.21718992,\n",
       "        -0.0724961 ,  0.17855798],\n",
       "       [-0.20761935, -0.11450304,  0.23524542, ...,  0.20971468,\n",
       "        -0.11361881,  0.05589928],\n",
       "       [ 0.13861041,  0.00610179,  0.16196385, ..., -0.10598647,\n",
       "         0.05638567,  0.19389659],\n",
       "       ...,\n",
       "       [-0.2346766 ,  0.19501929, -0.02208532, ..., -0.00497762,\n",
       "         0.12264702, -0.18566002],\n",
       "       [-0.17513673, -0.22842345, -0.12635069, ...,  0.15744969,\n",
       "        -0.04630079,  0.16374682],\n",
       "       [-0.19398311, -0.06367713,  0.15361938, ...,  0.0387392 ,\n",
       "         0.04802285, -0.10757945]], shape=(512, 21), dtype=float32)"
      ]
     },
     "execution_count": 23,
     "metadata": {},
     "output_type": "execute_result"
    }
   ],
   "source": [
    "weights[0].detach().numpy()"
   ]
  },
  {
   "cell_type": "markdown",
   "id": "7f540ccc",
   "metadata": {},
   "source": [
    "## Model Architecture"
   ]
  },
  {
   "cell_type": "code",
   "execution_count": 24,
   "id": "31c86ea0",
   "metadata": {},
   "outputs": [
    {
     "data": {
      "text/plain": [
       "'\\nDQN(\\n  (mlp): Sequential(\\n    (0): Linear(in_features=21, out_features=512, bias=True)\\n    (1): Linear(in_features=512, out_features=512, bias=True)\\n    (2): ReLU()\\n    (3): Linear(in_features=512, out_features=512, bias=True)\\n    (4): ReLU()\\n    (5): Linear(in_features=512, out_features=512, bias=True)\\n    (6): ReLU()\\n    (7): Linear(in_features=512, out_features=3, bias=True)\\n  )\\n)\\n'"
      ]
     },
     "execution_count": 24,
     "metadata": {},
     "output_type": "execute_result"
    }
   ],
   "source": [
    "\"\"\"\n",
    "DQN(\n",
    "  (mlp): Sequential(\n",
    "    (0): Linear(in_features=21, out_features=512, bias=True)\n",
    "    (1): Linear(in_features=512, out_features=512, bias=True)\n",
    "    (2): ReLU()\n",
    "    (3): Linear(in_features=512, out_features=512, bias=True)\n",
    "    (4): ReLU()\n",
    "    (5): Linear(in_features=512, out_features=512, bias=True)\n",
    "    (6): ReLU()\n",
    "    (7): Linear(in_features=512, out_features=3, bias=True)\n",
    "  )\n",
    ")\n",
    "\"\"\""
   ]
  },
  {
   "cell_type": "markdown",
   "id": "b54c8e26",
   "metadata": {},
   "source": [
    "## Strongest Weight Path"
   ]
  },
  {
   "cell_type": "code",
   "execution_count": 25,
   "id": "6204f132",
   "metadata": {},
   "outputs": [
    {
     "name": "stdout",
     "output_type": "stream",
     "text": [
      "[(0, np.int64(1)), (1, np.int64(172)), (2, np.int64(74)), (3, np.int64(307)), (4, np.int64(177)), (5, np.int64(2))]\n"
     ]
    }
   ],
   "source": [
    "\"\"\"\n",
    "weights: list of NumPy arrays of shape (n_l, n_{l+1}) for each layer l\n",
    "            where weights[l][i][j] is the weight from node i in layer l to node j in layer l+1\n",
    "Returns: list of (layer, node_index) representing the strongest path\n",
    "\"\"\"\n",
    "\n",
    "n_layers = len(weights) + 1 # includes input and output\n",
    "layer_sizes = [21, 512, 512, 512, 512, 3]\n",
    "\n",
    "# Initialize DP table: max log-product score for each node in each layer\n",
    "scores = [np.full(size, -np.inf) for size in layer_sizes]\n",
    "parents = [np.full(size, -1, dtype=int) for size in layer_sizes]\n",
    "\n",
    "# Start with input layer: log-product is 0 (neutral for multiplication)\n",
    "scores[0][:] = 0.0\n",
    "\n",
    "# Forward pass: DP to fill in scores and parents\n",
    "for l in range(len(weights)):\n",
    "    W = weights[l].detach().numpy().T\n",
    "    for i in range(W.shape[0]):       # node in layer l\n",
    "        for j in range(W.shape[1]):   # node in layer l+1\n",
    "            w_ij = W[i, j]\n",
    "            if w_ij == 0:\n",
    "                continue  # skip zero weights to avoid log(0)\n",
    "            log_weight = np.log(np.abs(w_ij)) # we use log space to avoid underflow and keep numerical stability\n",
    "            new_score = scores[l][i] + log_weight\n",
    "            if new_score > scores[l + 1][j]:\n",
    "                scores[l + 1][j] = new_score\n",
    "                parents[l + 1][j] = i\n",
    "\n",
    "# Backtrack from output layer\n",
    "output_layer = n_layers - 1\n",
    "end_node = np.argmax(scores[output_layer])\n",
    "path = [(output_layer, end_node)]\n",
    "current = end_node\n",
    "\n",
    "for l in range(output_layer, 0, -1):\n",
    "    current = parents[l][current]\n",
    "    path.append((l - 1, current))\n",
    "\n",
    "path.reverse()\n",
    "print(path)"
   ]
  },
  {
   "cell_type": "markdown",
   "id": "5db99566",
   "metadata": {},
   "source": [
    "## Strongest Weight Paths -- Top k"
   ]
  },
  {
   "cell_type": "code",
   "execution_count": 26,
   "id": "45ab7b08",
   "metadata": {},
   "outputs": [
    {
     "name": "stdout",
     "output_type": "stream",
     "text": [
      "[(np.float32(-11.385213), [(0, 1), (1, 172), (2, 74), (3, 307), (4, 177), (5, 2)]), (np.float32(-11.410194), [(0, 5), (1, 87), (2, 5), (3, 36), (4, 188), (5, 1)]), (np.float32(-11.423874), [(0, 4), (1, 87), (2, 5), (3, 36), (4, 188), (5, 1)]), (np.float32(-11.461575), [(0, 14), (1, 87), (2, 5), (3, 36), (4, 188), (5, 1)]), (np.float32(-11.462954), [(0, 0), (1, 120), (2, 5), (3, 36), (4, 188), (5, 1)])]\n"
     ]
    }
   ],
   "source": [
    "import numpy as np\n",
    "import heapq\n",
    "\n",
    "\n",
    "num_layers = len(weights) + 1\n",
    "layer_sizes = [21, 512, 512, 512, 512, 3]\n",
    "k = 5\n",
    "\n",
    "# Initialize: top-k paths to each node as (score, path)\n",
    "paths = [ [ [] for _ in range(size) ] for size in layer_sizes ]\n",
    "for i in range(layer_sizes[0]):\n",
    "    paths[0][i] = [(0.0, [(0, i)])]  # log-product = 0 at input\n",
    "\n",
    "# Forward pass\n",
    "for l in range(len(weights)):\n",
    "    W = weights[l].detach().numpy().T\n",
    "    next_paths = [ [] for _ in range(layer_sizes[l+1]) ]\n",
    "    \n",
    "    for i in range(layer_sizes[l]):\n",
    "        for score, path in paths[l][i]:\n",
    "            for j in range(layer_sizes[l+1]):\n",
    "                w_ij = W[i, j]\n",
    "                if w_ij == 0:\n",
    "                    continue\n",
    "                log_w = np.log(np.abs(w_ij))\n",
    "                new_score = score + log_w\n",
    "                new_path = path + [(l+1, j)]\n",
    "                next_paths[j].append((new_score, new_path))\n",
    "\n",
    "    # Keep only top-k paths per node in next layer\n",
    "    for j in range(layer_sizes[l+1]):\n",
    "        next_paths[j] = heapq.nlargest(k, next_paths[j], key=lambda x: x[0])\n",
    "    paths[l+1] = next_paths\n",
    "\n",
    "# Collect all paths in output layer and return top-k overall\n",
    "all_output_paths = []\n",
    "for j in range(layer_sizes[-1]):\n",
    "    all_output_paths.extend(paths[-1][j])\n",
    "\n",
    "top_k = heapq.nlargest(k, all_output_paths, key=lambda x: x[0])\n",
    "print(top_k)"
   ]
  },
  {
   "cell_type": "code",
   "execution_count": 27,
   "id": "2886b061",
   "metadata": {},
   "outputs": [
    {
     "data": {
      "text/plain": [
       "tensor(-0.0498)"
      ]
     },
     "execution_count": 27,
     "metadata": {},
     "output_type": "execute_result"
    }
   ],
   "source": [
    "weights[0][493][2]"
   ]
  },
  {
   "cell_type": "code",
   "execution_count": 28,
   "id": "cc6d5ef7",
   "metadata": {},
   "outputs": [
    {
     "name": "stdout",
     "output_type": "stream",
     "text": [
      "NODE: 1 to NODE: 172 WITH WEIGHT -0.2471952736377716\n",
      "NODE: 172 to NODE: 74 WITH WEIGHT -0.07884187251329422\n",
      "NODE: 74 to NODE: 307 WITH WEIGHT -0.10903805494308472\n",
      "NODE: 307 to NODE: 177 WITH WEIGHT 0.0652514398097992\n",
      "NODE: 177 to NODE: 2 WITH WEIGHT -0.0819406732916832\n",
      "\n",
      "\n",
      "--------------------------\n",
      "\n",
      "\n",
      "NODE: 5 to NODE: 87 WITH WEIGHT 0.20870856940746307\n",
      "NODE: 87 to NODE: 5 WITH WEIGHT 0.08097855001688004\n",
      "NODE: 5 to NODE: 36 WITH WEIGHT -0.07919877022504807\n",
      "NODE: 36 to NODE: 188 WITH WEIGHT -0.11058726161718369\n",
      "NODE: 188 to NODE: 1 WITH WEIGHT -0.07486546784639359\n",
      "\n",
      "\n",
      "--------------------------\n",
      "\n",
      "\n",
      "NODE: 4 to NODE: 87 WITH WEIGHT 0.20587307214736938\n",
      "NODE: 87 to NODE: 5 WITH WEIGHT 0.08097855001688004\n",
      "NODE: 5 to NODE: 36 WITH WEIGHT -0.07919877022504807\n",
      "NODE: 36 to NODE: 188 WITH WEIGHT -0.11058726161718369\n",
      "NODE: 188 to NODE: 1 WITH WEIGHT -0.07486546784639359\n",
      "\n",
      "\n",
      "--------------------------\n",
      "\n",
      "\n",
      "NODE: 14 to NODE: 87 WITH WEIGHT 0.1982559859752655\n",
      "NODE: 87 to NODE: 5 WITH WEIGHT 0.08097855001688004\n",
      "NODE: 5 to NODE: 36 WITH WEIGHT -0.07919877022504807\n",
      "NODE: 36 to NODE: 188 WITH WEIGHT -0.11058726161718369\n",
      "NODE: 188 to NODE: 1 WITH WEIGHT -0.07486546784639359\n",
      "\n",
      "\n",
      "--------------------------\n",
      "\n",
      "\n",
      "NODE: 0 to NODE: 120 WITH WEIGHT -0.2660183608531952\n",
      "NODE: 120 to NODE: 5 WITH WEIGHT -0.06026788800954819\n",
      "NODE: 5 to NODE: 36 WITH WEIGHT -0.07919877022504807\n",
      "NODE: 36 to NODE: 188 WITH WEIGHT -0.11058726161718369\n",
      "NODE: 188 to NODE: 1 WITH WEIGHT -0.07486546784639359\n",
      "\n",
      "\n",
      "--------------------------\n",
      "\n",
      "\n"
     ]
    }
   ],
   "source": [
    "for path in top_k:\n",
    "    nodes = path[1]\n",
    "    for i in range(5):\n",
    "        start_node = nodes[i][1]\n",
    "        end_node = nodes[i+1][1]\n",
    "\n",
    "        layer = nodes[i][0]\n",
    "        edge_weight = weights[layer][end_node][start_node]\n",
    "        print(f'NODE: {start_node} to NODE: {end_node} WITH WEIGHT {edge_weight}')\n",
    "    print('\\n\\n--------------------------\\n\\n')"
   ]
  },
  {
   "cell_type": "code",
   "execution_count": null,
   "id": "5b0e08f1",
   "metadata": {},
   "outputs": [],
   "source": []
  }
 ],
 "metadata": {
  "kernelspec": {
   "display_name": ".venv",
   "language": "python",
   "name": "python3"
  },
  "language_info": {
   "codemirror_mode": {
    "name": "ipython",
    "version": 3
   },
   "file_extension": ".py",
   "mimetype": "text/x-python",
   "name": "python",
   "nbconvert_exporter": "python",
   "pygments_lexer": "ipython3",
   "version": "3.12.2"
  }
 },
 "nbformat": 4,
 "nbformat_minor": 5
}
