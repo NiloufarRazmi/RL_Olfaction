{
 "cells": [
  {
   "cell_type": "code",
   "execution_count": 3,
   "id": "f1c2cbe7-041b-48fb-877f-24765dc43ab4",
   "metadata": {},
   "outputs": [],
   "source": [
    "import torch"
   ]
  },
  {
   "cell_type": "code",
   "execution_count": 14,
   "id": "1802687b-13c0-4bce-8750-dfd74f52af17",
   "metadata": {},
   "outputs": [],
   "source": [
    "data_path = \"save/2025-06-09_16-15-59_EastWest_scratch/data.tar\""
   ]
  },
  {
   "cell_type": "code",
   "execution_count": 16,
   "id": "79aed006-8280-48f8-9844-855ebb73d87d",
   "metadata": {},
   "outputs": [],
   "source": [
    "data_dict = torch.load(data_path, weights_only=False, map_location=\"cuda\")"
   ]
  },
  {
   "cell_type": "code",
   "execution_count": 17,
   "id": "f7b2a37a-c905-41d4-9a8e-41cbe91cb0cf",
   "metadata": {},
   "outputs": [
    {
     "name": "stdout",
     "output_type": "stream",
     "text": [
      "dict_keys(['rewards', 'steps', 'episodes', 'all_states', 'all_actions', 'losses', 'p', 'epsilons', 'weights_val_stats', 'biases_val_stats', 'weights_grad_stats', 'biases_grad_stats', 'net', 'env'])\n"
     ]
    }
   ],
   "source": [
    "print(data_dict.keys())"
   ]
  },
  {
   "cell_type": "code",
   "execution_count": null,
   "id": "c1aef330-2ef4-4758-b1e1-84c4bdfcf639",
   "metadata": {},
   "outputs": [],
   "source": []
  }
 ],
 "metadata": {
  "kernelspec": {
   "display_name": "Python 3 (ipykernel)",
   "language": "python",
   "name": "python3"
  },
  "language_info": {
   "codemirror_mode": {
    "name": "ipython",
    "version": 3
   },
   "file_extension": ".py",
   "mimetype": "text/x-python",
   "name": "python",
   "nbconvert_exporter": "python",
   "pygments_lexer": "ipython3",
   "version": "3.11.0"
  }
 },
 "nbformat": 4,
 "nbformat_minor": 5
}
