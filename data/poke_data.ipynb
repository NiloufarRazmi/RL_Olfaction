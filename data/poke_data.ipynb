{
 "cells": [
  {
   "cell_type": "code",
   "execution_count": 1,
   "id": "edd71897-1efe-41c8-8908-bc44d56d2f11",
   "metadata": {
    "tags": []
   },
   "outputs": [],
   "source": [
    "from pathlib import Path\n",
    "import pandas as pd\n",
    "import numpy as np\n",
    "import matplotlib.pyplot as plt\n",
    "import seaborn as sns"
   ]
  },
  {
   "cell_type": "code",
   "execution_count": 2,
   "id": "33c6b01a-61c2-4534-bbf8-2819820f383f",
   "metadata": {
    "tags": []
   },
   "outputs": [],
   "source": [
    "sns.set_theme(font_scale=1.5)\n",
    "%load_ext lab_black"
   ]
  },
  {
   "cell_type": "code",
   "execution_count": 3,
   "id": "06e6e797-3e3c-4d84-b2d3-d71928a7f7c8",
   "metadata": {
    "tags": []
   },
   "outputs": [],
   "source": [
    "path = Path(\"E02_d49p1C_18.Jul.22_15.19_PHASE1.csv\")"
   ]
  },
  {
   "cell_type": "code",
   "execution_count": 4,
   "id": "32d650ee-f88e-4e1f-aa52-c8500123a68a",
   "metadata": {
    "tags": []
   },
   "outputs": [
    {
     "data": {
      "text/html": [
       "<div>\n",
       "<style scoped>\n",
       "    .dataframe tbody tr th:only-of-type {\n",
       "        vertical-align: middle;\n",
       "    }\n",
       "\n",
       "    .dataframe tbody tr th {\n",
       "        vertical-align: top;\n",
       "    }\n",
       "\n",
       "    .dataframe thead th {\n",
       "        text-align: right;\n",
       "    }\n",
       "</style>\n",
       "<table border=\"1\" class=\"dataframe\">\n",
       "  <thead>\n",
       "    <tr style=\"text-align: right;\">\n",
       "      <th></th>\n",
       "      <th>Time</th>\n",
       "      <th>Trialnum</th>\n",
       "      <th>reN</th>\n",
       "      <th>reS</th>\n",
       "      <th>reE</th>\n",
       "      <th>reW</th>\n",
       "      <th>N</th>\n",
       "      <th>S</th>\n",
       "      <th>E</th>\n",
       "      <th>W</th>\n",
       "      <th>phase</th>\n",
       "      <th>tdelay</th>\n",
       "    </tr>\n",
       "  </thead>\n",
       "  <tbody>\n",
       "    <tr>\n",
       "      <th>0</th>\n",
       "      <td>2022-07-18 19:19:14.310713600</td>\n",
       "      <td>0</td>\n",
       "      <td>0</td>\n",
       "      <td>0</td>\n",
       "      <td>0</td>\n",
       "      <td>0</td>\n",
       "      <td>0</td>\n",
       "      <td>0</td>\n",
       "      <td>0</td>\n",
       "      <td>0</td>\n",
       "      <td>0</td>\n",
       "      <td>NaN</td>\n",
       "    </tr>\n",
       "    <tr>\n",
       "      <th>1</th>\n",
       "      <td>2022-07-18 19:19:15.619401728</td>\n",
       "      <td>0</td>\n",
       "      <td>0</td>\n",
       "      <td>0</td>\n",
       "      <td>0</td>\n",
       "      <td>0</td>\n",
       "      <td>0</td>\n",
       "      <td>0</td>\n",
       "      <td>1</td>\n",
       "      <td>0</td>\n",
       "      <td>[ True]</td>\n",
       "      <td>0.4</td>\n",
       "    </tr>\n",
       "    <tr>\n",
       "      <th>2</th>\n",
       "      <td>2022-07-18 19:19:22.572268032</td>\n",
       "      <td>0</td>\n",
       "      <td>0</td>\n",
       "      <td>0</td>\n",
       "      <td>0</td>\n",
       "      <td>0</td>\n",
       "      <td>0</td>\n",
       "      <td>0</td>\n",
       "      <td>0</td>\n",
       "      <td>1</td>\n",
       "      <td>[ True]</td>\n",
       "      <td>0.4</td>\n",
       "    </tr>\n",
       "    <tr>\n",
       "      <th>3</th>\n",
       "      <td>2022-07-18 19:19:23.226469120</td>\n",
       "      <td>0</td>\n",
       "      <td>0</td>\n",
       "      <td>0</td>\n",
       "      <td>0</td>\n",
       "      <td>0</td>\n",
       "      <td>0</td>\n",
       "      <td>0</td>\n",
       "      <td>0</td>\n",
       "      <td>1</td>\n",
       "      <td>[ True]</td>\n",
       "      <td>0.4</td>\n",
       "    </tr>\n",
       "    <tr>\n",
       "      <th>4</th>\n",
       "      <td>2022-07-18 19:19:23.237072384</td>\n",
       "      <td>0</td>\n",
       "      <td>0</td>\n",
       "      <td>0</td>\n",
       "      <td>0</td>\n",
       "      <td>0</td>\n",
       "      <td>0</td>\n",
       "      <td>0</td>\n",
       "      <td>0</td>\n",
       "      <td>1</td>\n",
       "      <td>[ True]</td>\n",
       "      <td>0.4</td>\n",
       "    </tr>\n",
       "    <tr>\n",
       "      <th>...</th>\n",
       "      <td>...</td>\n",
       "      <td>...</td>\n",
       "      <td>...</td>\n",
       "      <td>...</td>\n",
       "      <td>...</td>\n",
       "      <td>...</td>\n",
       "      <td>...</td>\n",
       "      <td>...</td>\n",
       "      <td>...</td>\n",
       "      <td>...</td>\n",
       "      <td>...</td>\n",
       "      <td>...</td>\n",
       "    </tr>\n",
       "    <tr>\n",
       "      <th>1907619</th>\n",
       "      <td>2022-07-18 20:03:39.579826176</td>\n",
       "      <td>28</td>\n",
       "      <td>0</td>\n",
       "      <td>0</td>\n",
       "      <td>0</td>\n",
       "      <td>0</td>\n",
       "      <td>0</td>\n",
       "      <td>1</td>\n",
       "      <td>0</td>\n",
       "      <td>0</td>\n",
       "      <td>[False]</td>\n",
       "      <td>0.7</td>\n",
       "    </tr>\n",
       "    <tr>\n",
       "      <th>1907620</th>\n",
       "      <td>2022-07-18 20:03:39.680763392</td>\n",
       "      <td>28</td>\n",
       "      <td>0</td>\n",
       "      <td>0</td>\n",
       "      <td>0</td>\n",
       "      <td>0</td>\n",
       "      <td>0</td>\n",
       "      <td>1</td>\n",
       "      <td>0</td>\n",
       "      <td>0</td>\n",
       "      <td>[False]</td>\n",
       "      <td>0.7</td>\n",
       "    </tr>\n",
       "    <tr>\n",
       "      <th>1907621</th>\n",
       "      <td>2022-07-18 20:03:39.782110208</td>\n",
       "      <td>28</td>\n",
       "      <td>0</td>\n",
       "      <td>0</td>\n",
       "      <td>0</td>\n",
       "      <td>0</td>\n",
       "      <td>0</td>\n",
       "      <td>1</td>\n",
       "      <td>0</td>\n",
       "      <td>0</td>\n",
       "      <td>[False]</td>\n",
       "      <td>0.7</td>\n",
       "    </tr>\n",
       "    <tr>\n",
       "      <th>1907622</th>\n",
       "      <td>2022-07-18 20:03:39.883655936</td>\n",
       "      <td>28</td>\n",
       "      <td>0</td>\n",
       "      <td>0</td>\n",
       "      <td>0</td>\n",
       "      <td>0</td>\n",
       "      <td>0</td>\n",
       "      <td>1</td>\n",
       "      <td>0</td>\n",
       "      <td>0</td>\n",
       "      <td>[False]</td>\n",
       "      <td>0.7</td>\n",
       "    </tr>\n",
       "    <tr>\n",
       "      <th>1907623</th>\n",
       "      <td>2022-07-18 20:03:42.185971456</td>\n",
       "      <td>28</td>\n",
       "      <td>0</td>\n",
       "      <td>0</td>\n",
       "      <td>0</td>\n",
       "      <td>0</td>\n",
       "      <td>0</td>\n",
       "      <td>0</td>\n",
       "      <td>1</td>\n",
       "      <td>0</td>\n",
       "      <td>[False]</td>\n",
       "      <td>0.7</td>\n",
       "    </tr>\n",
       "  </tbody>\n",
       "</table>\n",
       "<p>1907624 rows × 12 columns</p>\n",
       "</div>"
      ],
      "text/plain": [
       "                                 Time  Trialnum  reN  reS  reE  reW  N  S  E  \\\n",
       "0       2022-07-18 19:19:14.310713600         0    0    0    0    0  0  0  0   \n",
       "1       2022-07-18 19:19:15.619401728         0    0    0    0    0  0  0  1   \n",
       "2       2022-07-18 19:19:22.572268032         0    0    0    0    0  0  0  0   \n",
       "3       2022-07-18 19:19:23.226469120         0    0    0    0    0  0  0  0   \n",
       "4       2022-07-18 19:19:23.237072384         0    0    0    0    0  0  0  0   \n",
       "...                               ...       ...  ...  ...  ...  ... .. .. ..   \n",
       "1907619 2022-07-18 20:03:39.579826176        28    0    0    0    0  0  1  0   \n",
       "1907620 2022-07-18 20:03:39.680763392        28    0    0    0    0  0  1  0   \n",
       "1907621 2022-07-18 20:03:39.782110208        28    0    0    0    0  0  1  0   \n",
       "1907622 2022-07-18 20:03:39.883655936        28    0    0    0    0  0  1  0   \n",
       "1907623 2022-07-18 20:03:42.185971456        28    0    0    0    0  0  0  1   \n",
       "\n",
       "         W    phase  tdelay  \n",
       "0        0        0     NaN  \n",
       "1        0  [ True]     0.4  \n",
       "2        1  [ True]     0.4  \n",
       "3        1  [ True]     0.4  \n",
       "4        1  [ True]     0.4  \n",
       "...     ..      ...     ...  \n",
       "1907619  0  [False]     0.7  \n",
       "1907620  0  [False]     0.7  \n",
       "1907621  0  [False]     0.7  \n",
       "1907622  0  [False]     0.7  \n",
       "1907623  0  [False]     0.7  \n",
       "\n",
       "[1907624 rows x 12 columns]"
      ]
     },
     "execution_count": 4,
     "metadata": {},
     "output_type": "execute_result"
    }
   ],
   "source": [
    "data = pd.read_csv(path)\n",
    "data.Time = pd.to_datetime(data.Time, unit=\"s\")\n",
    "data"
   ]
  },
  {
   "cell_type": "code",
   "execution_count": 5,
   "id": "b46a85aa-23c9-49aa-a1b4-95cbc6435214",
   "metadata": {
    "tags": []
   },
   "outputs": [
    {
     "data": {
      "text/plain": [
       "Timedelta('0 days 00:00:01.308688128')"
      ]
     },
     "execution_count": 5,
     "metadata": {},
     "output_type": "execute_result"
    }
   ],
   "source": [
    "data.Time[1] - data.Time[0]"
   ]
  },
  {
   "cell_type": "code",
   "execution_count": 6,
   "id": "72fc65eb-8b92-40f9-89bb-2c0cc76ced20",
   "metadata": {
    "tags": []
   },
   "outputs": [
    {
     "data": {
      "text/plain": [
       "array([1.308688, 6.952866, 0.654201, ..., 0.101346, 0.101545, 2.302315])"
      ]
     },
     "execution_count": 6,
     "metadata": {},
     "output_type": "execute_result"
    }
   ],
   "source": [
    "# time_diff = np.diff(data.Time)\n",
    "time_diff = np.array([t.total_seconds() for t in data.Time.diff().dropna()])\n",
    "time_diff"
   ]
  },
  {
   "cell_type": "code",
   "execution_count": 7,
   "id": "8cd9e0af-a8ce-42e4-9db7-b4c88191e7cf",
   "metadata": {
    "tags": []
   },
   "outputs": [
    {
     "data": {
      "text/plain": [
       "(1402,)"
      ]
     },
     "execution_count": 7,
     "metadata": {},
     "output_type": "execute_result"
    }
   ],
   "source": [
    "np.unique(time_diff).shape"
   ]
  },
  {
   "cell_type": "code",
   "execution_count": 8,
   "id": "17ee752a-b60c-463b-9c8b-36aaeb9058bf",
   "metadata": {
    "tags": []
   },
   "outputs": [],
   "source": [
    "# time_diff_sel = time_diff[time_diff > pd.Timedelta(seconds=1)]\n",
    "# time_diff_sel.shape"
   ]
  },
  {
   "cell_type": "code",
   "execution_count": 9,
   "id": "c2e43a76-12d1-494e-8b7b-c4ea7be40ff4",
   "metadata": {
    "tags": []
   },
   "outputs": [
    {
     "data": {
      "text/plain": [
       "array([111.667237])"
      ]
     },
     "execution_count": 9,
     "metadata": {},
     "output_type": "execute_result"
    }
   ],
   "source": [
    "time_diff[time_diff > 100]"
   ]
  },
  {
   "cell_type": "code",
   "execution_count": 10,
   "id": "f04a4b54-f66c-4c88-8d27-848eec38093c",
   "metadata": {
    "tags": []
   },
   "outputs": [
    {
     "data": {
      "image/png": "[encoded data removed]",
      "text/plain": [
       "<Figure size 648x648 with 1 Axes>"
      ]
     },
     "metadata": {
      "needs_background": "light"
     },
     "output_type": "display_data"
    }
   ],
   "source": [
    "fig, ax = plt.subplots(figsize=(9, 9))\n",
    "# chart = sns.histplot(time_diff_round, ax=ax)\n",
    "chart = sns.scatterplot(time_diff, ax=ax)\n",
    "chart.set_title(\"Time difference between 2 consecutive data points\")\n",
    "chart.set_ylabel(\"Seconds\")\n",
    "# fig.tight_layout()\n",
    "plt.show()"
   ]
  }
 ],
 "metadata": {
  "kernelspec": {
   "display_name": "Python 3 (ipykernel)",
   "language": "python",
   "name": "python3"
  },
  "language_info": {
   "codemirror_mode": {
    "name": "ipython",
    "version": 3
   },
   "file_extension": ".py",
   "mimetype": "text/x-python",
   "name": "python",
   "nbconvert_exporter": "python",
   "pygments_lexer": "ipython3",
   "version": "3.11.0"
  }
 },
 "nbformat": 4,
 "nbformat_minor": 5
}
